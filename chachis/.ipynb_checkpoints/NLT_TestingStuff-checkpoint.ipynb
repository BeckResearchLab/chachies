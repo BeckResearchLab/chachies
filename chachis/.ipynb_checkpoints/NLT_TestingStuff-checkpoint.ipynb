{
 "cells": [
  {
   "cell_type": "code",
   "execution_count": 1,
   "metadata": {},
   "outputs": [],
   "source": [
    "import chachifuncs\n",
    "from chachifuncs import load_sep_cycles, clean_calc_sep_smooth\n",
    "from chachifuncs import calc_dv_dqdv, drop_0_dv\n",
    "import matplotlib\n",
    "import matplotlib.pyplot as plt\n",
    "import pandas as pd\n",
    "%matplotlib inline"
   ]
  },
  {
   "cell_type": "code",
   "execution_count": null,
   "metadata": {},
   "outputs": [],
   "source": [
    "load_sep_cycles('NLT_Test/NLT_TestSource/', 'NLT_Test/NLT_TestSepCycles/')\n",
    "# I had to make this first directory (source) just as a small set of the data to test this code on, and then had to make a \n",
    "#directory for where I wanted my cycles to be stored in once they were seperated out. This code takes a while to run. "
   ]
  },
  {
   "cell_type": "code",
   "execution_count": 2,
   "metadata": {},
   "outputs": [],
   "source": [
    "testdf = pd.read_excel('NLT_Test/NLT_TestSepCycles/3_4_14_1C_CycleCycle12.xlsx')\n",
    "#just picked a random one out of the separated out cycles"
   ]
  },
  {
   "cell_type": "code",
   "execution_count": 3,
   "metadata": {},
   "outputs": [
    {
     "data": {
      "text/plain": [
       "(153, 18)"
      ]
     },
     "execution_count": 3,
     "metadata": {},
     "output_type": "execute_result"
    }
   ],
   "source": [
    "testdf.shape"
   ]
  },
  {
   "cell_type": "code",
   "execution_count": 4,
   "metadata": {},
   "outputs": [],
   "source": [
    "charge, discharge = clean_calc_sep_smooth(testdf, 21, 3)"
   ]
  },
  {
   "cell_type": "code",
   "execution_count": 5,
   "metadata": {},
   "outputs": [
    {
     "data": {
      "text/html": [
       "<div>\n",
       "<style scoped>\n",
       "    .dataframe tbody tr th:only-of-type {\n",
       "        vertical-align: middle;\n",
       "    }\n",
       "\n",
       "    .dataframe tbody tr th {\n",
       "        vertical-align: top;\n",
       "    }\n",
       "\n",
       "    .dataframe thead th {\n",
       "        text-align: right;\n",
       "    }\n",
       "</style>\n",
       "<table border=\"1\" class=\"dataframe\">\n",
       "  <thead>\n",
       "    <tr style=\"text-align: right;\">\n",
       "      <th></th>\n",
       "      <th>Data_Point</th>\n",
       "      <th>Test_Time(s)</th>\n",
       "      <th>Date_Time</th>\n",
       "      <th>Step_Time(s)</th>\n",
       "      <th>Step_Index</th>\n",
       "      <th>Cycle_Index</th>\n",
       "      <th>Current(A)</th>\n",
       "      <th>Voltage(V)</th>\n",
       "      <th>Charge_Capacity(Ah)</th>\n",
       "      <th>Discharge_Capacity(Ah)</th>\n",
       "      <th>...</th>\n",
       "      <th>Internal_Resistance(Ohm)</th>\n",
       "      <th>Is_FC_Data</th>\n",
       "      <th>AC_Impedance(Ohm)</th>\n",
       "      <th>ACI_Phase_Angle(Deg)</th>\n",
       "      <th>Battery_Label</th>\n",
       "      <th>dV</th>\n",
       "      <th>dQ/dV</th>\n",
       "      <th>dv_close_to_zero</th>\n",
       "      <th>d(dq/dv)</th>\n",
       "      <th>Smoothed_dQ/dV</th>\n",
       "    </tr>\n",
       "  </thead>\n",
       "  <tbody>\n",
       "    <tr>\n",
       "      <th>0</th>\n",
       "      <td>1758</td>\n",
       "      <td>51720.705789</td>\n",
       "      <td>2014-02-27 00:06:37</td>\n",
       "      <td>60.015324</td>\n",
       "      <td>9</td>\n",
       "      <td>12</td>\n",
       "      <td>0.000000</td>\n",
       "      <td>2.619343</td>\n",
       "      <td>15.738001</td>\n",
       "      <td>17.116139</td>\n",
       "      <td>...</td>\n",
       "      <td>0.044904</td>\n",
       "      <td>0</td>\n",
       "      <td>0</td>\n",
       "      <td>0</td>\n",
       "      <td>3_4_14_1C_Cycle</td>\n",
       "      <td>0.0560293</td>\n",
       "      <td>305.485</td>\n",
       "      <td>True</td>\n",
       "      <td>267.910466</td>\n",
       "      <td>762.286921</td>\n",
       "    </tr>\n",
       "    <tr>\n",
       "      <th>1</th>\n",
       "      <td>1759</td>\n",
       "      <td>51750.720577</td>\n",
       "      <td>2014-02-27 00:07:07</td>\n",
       "      <td>90.030113</td>\n",
       "      <td>9</td>\n",
       "      <td>12</td>\n",
       "      <td>0.000000</td>\n",
       "      <td>2.649462</td>\n",
       "      <td>15.738001</td>\n",
       "      <td>17.116139</td>\n",
       "      <td>...</td>\n",
       "      <td>0.044904</td>\n",
       "      <td>0</td>\n",
       "      <td>0</td>\n",
       "      <td>0</td>\n",
       "      <td>3_4_14_1C_Cycle</td>\n",
       "      <td>0.0301197</td>\n",
       "      <td>568.271</td>\n",
       "      <td>True</td>\n",
       "      <td>262.785973</td>\n",
       "      <td>437.093896</td>\n",
       "    </tr>\n",
       "    <tr>\n",
       "      <th>2</th>\n",
       "      <td>1760</td>\n",
       "      <td>51780.704820</td>\n",
       "      <td>2014-02-27 00:07:37</td>\n",
       "      <td>120.014355</td>\n",
       "      <td>9</td>\n",
       "      <td>12</td>\n",
       "      <td>0.000000</td>\n",
       "      <td>2.669866</td>\n",
       "      <td>15.738001</td>\n",
       "      <td>17.116139</td>\n",
       "      <td>...</td>\n",
       "      <td>0.044904</td>\n",
       "      <td>0</td>\n",
       "      <td>0</td>\n",
       "      <td>0</td>\n",
       "      <td>3_4_14_1C_Cycle</td>\n",
       "      <td>0.0204036</td>\n",
       "      <td>838.877</td>\n",
       "      <td>True</td>\n",
       "      <td>270.606047</td>\n",
       "      <td>227.428155</td>\n",
       "    </tr>\n",
       "    <tr>\n",
       "      <th>3</th>\n",
       "      <td>1761</td>\n",
       "      <td>51810.720954</td>\n",
       "      <td>2014-02-27 00:08:07</td>\n",
       "      <td>30.014874</td>\n",
       "      <td>10</td>\n",
       "      <td>12</td>\n",
       "      <td>2.599924</td>\n",
       "      <td>3.022396</td>\n",
       "      <td>15.759666</td>\n",
       "      <td>17.116139</td>\n",
       "      <td>...</td>\n",
       "      <td>0.044904</td>\n",
       "      <td>0</td>\n",
       "      <td>0</td>\n",
       "      <td>0</td>\n",
       "      <td>3_4_14_1C_Cycle</td>\n",
       "      <td>0.35253</td>\n",
       "      <td>48.5523</td>\n",
       "      <td>True</td>\n",
       "      <td>-790.325161</td>\n",
       "      <td>121.641880</td>\n",
       "    </tr>\n",
       "    <tr>\n",
       "      <th>4</th>\n",
       "      <td>1762</td>\n",
       "      <td>51840.736720</td>\n",
       "      <td>2014-02-27 00:08:37</td>\n",
       "      <td>60.030640</td>\n",
       "      <td>10</td>\n",
       "      <td>12</td>\n",
       "      <td>2.599744</td>\n",
       "      <td>3.114375</td>\n",
       "      <td>15.781354</td>\n",
       "      <td>17.116139</td>\n",
       "      <td>...</td>\n",
       "      <td>0.044904</td>\n",
       "      <td>0</td>\n",
       "      <td>0</td>\n",
       "      <td>0</td>\n",
       "      <td>3_4_14_1C_Cycle</td>\n",
       "      <td>0.0919785</td>\n",
       "      <td>186.088</td>\n",
       "      <td>True</td>\n",
       "      <td>137.536119</td>\n",
       "      <td>108.087250</td>\n",
       "    </tr>\n",
       "  </tbody>\n",
       "</table>\n",
       "<p>5 rows × 23 columns</p>\n",
       "</div>"
      ],
      "text/plain": [
       "   Data_Point  Test_Time(s)           Date_Time  Step_Time(s)  Step_Index  \\\n",
       "0        1758  51720.705789 2014-02-27 00:06:37     60.015324           9   \n",
       "1        1759  51750.720577 2014-02-27 00:07:07     90.030113           9   \n",
       "2        1760  51780.704820 2014-02-27 00:07:37    120.014355           9   \n",
       "3        1761  51810.720954 2014-02-27 00:08:07     30.014874          10   \n",
       "4        1762  51840.736720 2014-02-27 00:08:37     60.030640          10   \n",
       "\n",
       "   Cycle_Index  Current(A)  Voltage(V)  Charge_Capacity(Ah)  \\\n",
       "0           12    0.000000    2.619343            15.738001   \n",
       "1           12    0.000000    2.649462            15.738001   \n",
       "2           12    0.000000    2.669866            15.738001   \n",
       "3           12    2.599924    3.022396            15.759666   \n",
       "4           12    2.599744    3.114375            15.781354   \n",
       "\n",
       "   Discharge_Capacity(Ah)      ...        Internal_Resistance(Ohm)  \\\n",
       "0               17.116139      ...                        0.044904   \n",
       "1               17.116139      ...                        0.044904   \n",
       "2               17.116139      ...                        0.044904   \n",
       "3               17.116139      ...                        0.044904   \n",
       "4               17.116139      ...                        0.044904   \n",
       "\n",
       "   Is_FC_Data  AC_Impedance(Ohm)  ACI_Phase_Angle(Deg)    Battery_Label  \\\n",
       "0           0                  0                     0  3_4_14_1C_Cycle   \n",
       "1           0                  0                     0  3_4_14_1C_Cycle   \n",
       "2           0                  0                     0  3_4_14_1C_Cycle   \n",
       "3           0                  0                     0  3_4_14_1C_Cycle   \n",
       "4           0                  0                     0  3_4_14_1C_Cycle   \n",
       "\n",
       "          dV    dQ/dV dv_close_to_zero    d(dq/dv) Smoothed_dQ/dV  \n",
       "0  0.0560293  305.485             True  267.910466     762.286921  \n",
       "1  0.0301197  568.271             True  262.785973     437.093896  \n",
       "2  0.0204036  838.877             True  270.606047     227.428155  \n",
       "3    0.35253  48.5523             True -790.325161     121.641880  \n",
       "4  0.0919785  186.088             True  137.536119     108.087250  \n",
       "\n",
       "[5 rows x 23 columns]"
      ]
     },
     "execution_count": 5,
     "metadata": {},
     "output_type": "execute_result"
    }
   ],
   "source": [
    "discharge.head()"
   ]
  },
  {
   "cell_type": "code",
   "execution_count": 6,
   "metadata": {},
   "outputs": [
    {
     "data": {
      "image/png": "[encoded data removed]",
      "text/plain": [
       "<matplotlib.figure.Figure at 0x1eef3f5fa20>"
      ]
     },
     "metadata": {},
     "output_type": "display_data"
    }
   ],
   "source": [
    "fig = plt.figure(figsize=(10, 10), facecolor='w', edgecolor='k')\n",
    "myplot = plt.plot(discharge['Voltage(V)'], discharge['Smoothed_dQ/dV'])"
   ]
  },
  {
   "cell_type": "code",
   "execution_count": null,
   "metadata": {},
   "outputs": [],
   "source": []
  },
  {
   "cell_type": "code",
   "execution_count": null,
   "metadata": {},
   "outputs": [],
   "source": []
  }
 ],
 "metadata": {
  "kernelspec": {
   "display_name": "Python 3",
   "language": "python",
   "name": "python3"
  },
  "language_info": {
   "codemirror_mode": {
    "name": "ipython",
    "version": 3
   },
   "file_extension": ".py",
   "mimetype": "text/x-python",
   "name": "python",
   "nbconvert_exporter": "python",
   "pygments_lexer": "ipython3",
   "version": "3.6.4"
  }
 },
 "nbformat": 4,
 "nbformat_minor": 2
}
