{
 "cells": [
  {
   "cell_type": "markdown",
   "metadata": {},
   "source": [
    "# Descriptor Function Developments\n",
    "\n",
    "### Introduction\n",
    "\n",
    "The purpose of this notebook is to discuss the principles behind the descriptor generating functions used to analyze battery data. It explains the inputs and outputs from the overall package as well as the components that make up the function.\n",
    "\n",
    "### Installation guidelines\n",
    "\n",
    "These functions require the following pip installs\n",
    "\n",
    "```\n",
    "pip install lmfit\n",
    "pip install numpy\n",
    "pip install pandas\n",
    "pip install peakutils\n",
    "pip install scipy\n",
    "```\n",
    "### Import statements"
   ]
  },
  {
   "cell_type": "code",
   "execution_count": 3,
   "metadata": {},
   "outputs": [],
   "source": [
    "import sys\n",
    "sys.path.insert(0, '../chachies')\n",
    "import descriptors"
   ]
  },
  {
   "cell_type": "markdown",
   "metadata": {},
   "source": [
    "## Data Generation\n",
    "\n",
    "Before this package can be used, the following script is used to extract clean separated cycle data from the raw battery data. This can be done using the following code from the `chachifuncs` package.\n",
    "\n",
    "```\n",
    "import chachifuncs\n",
    "chachifuncs.get_all_data(base_folder, raw_data_folder)\n",
    "```\n",
    "Where `base_folder` is the path to the folder used for data management and `raw_data_folder` is the folder in `base_folder` that contains the raw battery data. This extracts, cleans, and categorizes raw battery data. It will generate a folder named `Clean_Separated_Cycles`. The path to this folder must be used to run the main function described below."
   ]
  },
  {
   "cell_type": "markdown",
   "metadata": {},
   "source": [
    "## Running Main Function\n",
    "\n",
    "This function generates an excel sheet of descriptors from a folder containing clean cycle data. The python call for this function can be written as follows:\n",
    "\n",
    "```\n",
    "import descriptors\n",
    "descriptors.ML_generate('import_filepath')\n",
    "```\n",
    "\n",
    "`import_filepath` must be the directory that contains cleaned cycle ata. The results of the descriptor generation are outputted to an excel spreadsheet titled 'describe.xlsx' in the current directory."
   ]
  },
  {
   "cell_type": "markdown",
   "metadata": {},
   "source": [
    "# Components\n",
    "\n",
    "## Fitting Class\n",
    "\n",
    "This class contains the function that peform the actual fitting. The process of fitting is represented by the following diagram."
   ]
  },
  {
   "attachments": {},
   "cell_type": "markdown",
   "metadata": {},
   "source": [
    "![Images/Fitting_flow.jpg](Images/Fitting_flow.jpg)\n",
    "\n",
    "This process is carried out by the `lmfit` package."
   ]
  },
  {
   "cell_type": "markdown",
   "metadata": {},
   "source": [
    "### LMfit\n",
    "\n",
    "lmfit is an open-source fitting platform based on `scipy.optimize.leastsq`. It uses a Levenberg-Marquart algorithm with numerically-calculated derivatives from MINPACK's lmdif function. For our use case. We needed to fit a mixture of Pseudo-Voight distributions with a 4th degree polynomial background. The Pseudo-Voight distribution has the following form:\n",
    "\n",
    "$$f_v(x,A,\\mu,\\sigma,\\alpha)=\\frac{(1−\\alpha)A}{\\sigma_g \\sqrt{2 \\pi}}\\exp{[−{(x− \\mu)}_2/2 {\\sigma_g}^2]}+\\frac{\\alpha A}{\\pi}[\\frac{\\sigma}{{(x-\\mu)}^2 + \\sigma^2}]$$\n",
    "$$\\sigma_g = \\sigma/\\sqrt{2 \\ln{2}}$$\n",
    "\n",
    "In this model $A$ is the amplitude of the peak, $\\mu$ is the center of the distribution, $\\sigma$ and $\\alpha$ is the fraction of Lorenzian character.\n",
    "\n",
    "This function was used to develop and fit $f(x)$ to the following, not linear model:\n",
    "\n",
    "$$\\hat{f}(x) = \\sum_{i=0}^{3}\\hat{c}_i x^i + \\sum_{j=1}^{n}\\hat{f}_{vj}(x,\\hat{A}_j,\\hat{\\mu}_j,\\hat{\\sigma}_j,\\hat{\\alpha}_j)$$\n",
    "\n",
    "Where $n$ is the number of peaks determined by the peak fitting function `peak_finder`. The peak finding function uses `peakutils` package."
   ]
  },
  {
   "cell_type": "markdown",
   "metadata": {},
   "source": [
    "### Descriptors for ML\n",
    "The following descriptors were extracted from the each fit for use in the machine leaning component of this package.\n",
    "\n",
    "Polynomial coefficients:\n",
    "$$c_0, c_1, c_2, c_3$$\n",
    "\n",
    "For each peak $j$, the following parameters were used:\n",
    "\n",
    "$\\hat{\\mu}_j = $ Peak center\n",
    "\n",
    "$f(\\hat{\\mu}_j) = $ Peak height\n",
    "\n",
    "$\\hat{\\sigma}_j = $ Peak standard deviation"
   ]
  },
  {
   "cell_type": "markdown",
   "metadata": {},
   "source": [
    "### Overall Code Use"
   ]
  },
  {
   "cell_type": "markdown",
   "metadata": {},
   "source": [
    "The overall fit can be obtained using the following:\n",
    "```\n",
    "import descriptors\n",
    "\n",
    "descriptors.fitters.descriptor_func(V_series, dQdV_series, cd, 5, 'battery name')\n",
    "```\n",
    "\n",
    "In this function, `V_series` and `dQdV_series` are the pandas series objects for the $x$ and $f(x)$ inputs to the fit. They are generated and used in the function `process.imp_one_cycle`.\n",
    "\n",
    "`cd` is either 'c' for charge or 'd' for discharge, `5` is the cycle number, and `bat` will contain the battery name. the output of this fuction will be a dictionary containing the descriptors described above."
   ]
  },
  {
   "cell_type": "markdown",
   "metadata": {},
   "source": [
    "## Process Class\n",
    "\n",
    "These functions execute the lmfit peak fitting function and properly organize the pandas dataframe of descriptors. This pandas dataframe has the following form."
   ]
  },
  {
   "cell_type": "code",
   "execution_count": 2,
   "metadata": {},
   "outputs": [
    {
     "data": {
      "text/html": [
       "<div>\n",
       "<style scoped>\n",
       "    .dataframe tbody tr th:only-of-type {\n",
       "        vertical-align: middle;\n",
       "    }\n",
       "\n",
       "    .dataframe tbody tr th {\n",
       "        vertical-align: top;\n",
       "    }\n",
       "\n",
       "    .dataframe thead th {\n",
       "        text-align: right;\n",
       "    }\n",
       "</style>\n",
       "<table border=\"1\" class=\"dataframe\">\n",
       "  <thead>\n",
       "    <tr style=\"text-align: right;\">\n",
       "      <th></th>\n",
       "      <th>names</th>\n",
       "      <th>ch_0</th>\n",
       "      <th>ch_1</th>\n",
       "      <th>...</th>\n",
       "      <th>ch_18</th>\n",
       "      <th>dc_0</th>\n",
       "      <th>dc_1</th>\n",
       "      <th>...</th>\n",
       "      <th>dc_18</th>\n",
       "    </tr>\n",
       "  </thead>\n",
       "  <tbody>\n",
       "  </tbody>\n",
       "</table>\n",
       "</div>"
      ],
      "text/plain": [
       "Empty DataFrame\n",
       "Columns: [names, ch_0, ch_1, ..., ch_18, dc_0, dc_1, ..., dc_18]\n",
       "Index: []"
      ]
     },
     "execution_count": 2,
     "metadata": {},
     "output_type": "execute_result"
    }
   ],
   "source": [
    "import pandas as pd\n",
    "pd.DataFrame(columns=['names', 'ch_0', 'ch_1', '...', 'ch_18', 'dc_0', 'dc_1', '...', 'dc_18'])"
   ]
  },
  {
   "cell_type": "markdown",
   "metadata": {},
   "source": [
    "Each row of the dataframe is an individual cycle. Briefly, each battery cycle is run to develop a dataframe of either charge or discharge data. These dataframes are iteratively conocated vertically and the name of each battery is inserted into the dataset. This process is repeated for the discharge cycles and the charge/discharge dataframes are conocated along the column axis.\n",
    "\n",
    "### Process class work flow\n",
    "\n",
    "This call graph was generated on a set of two batteries with 16 cycles total. It shows the structure of the `descriptors` package when `ML_generate` is called."
   ]
  },
  {
   "attachments": {},
   "cell_type": "markdown",
   "metadata": {},
   "source": [
    "![Images/Function_flow.png](Images/Function_flow.png)"
   ]
  },
  {
   "cell_type": "markdown",
   "metadata": {},
   "source": [
    "This figure was generated using the package pycallgraph. It can be found at the following GitHub repository: https://github.com/gak/pycallgraph/#python-call-graph\n",
    "\n",
    "It is installable with the following lines in a python terminal:\n",
    "```\n",
    "pip install pycallgraph\n",
    "pip install graphviz\n",
    "```"
   ]
  },
  {
   "cell_type": "markdown",
   "metadata": {},
   "source": [
    "## Descriptor Key\n",
    "\n",
    "the 'ch_' prefix is for the charge descriptors and will be used in this table as 'pref':\n",
    "\n",
    "DataFrame Entry | Descriptors\n",
    "------|------\n",
    "pref_0 to pref_3 | polynomial coefficient in order of degree\n",
    "pref_4, 7, 10, ... | peak location (V)\n",
    "pref_5, 8, 11, ... | peak height (dQ/dV)\n",
    "pref_6, 9, 12, ... | peak $\\sigma$"
   ]
  }
 ],
 "metadata": {
  "kernelspec": {
   "display_name": "Python 3",
   "language": "python",
   "name": "python3"
  },
  "language_info": {
   "codemirror_mode": {
    "name": "ipython",
    "version": 3
   },
   "file_extension": ".py",
   "mimetype": "text/x-python",
   "name": "python",
   "nbconvert_exporter": "python",
   "pygments_lexer": "ipython3",
   "version": "3.6.3"
  }
 },
 "nbformat": 4,
 "nbformat_minor": 2
}
