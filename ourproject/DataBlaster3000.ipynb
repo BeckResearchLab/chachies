{
 "cells": [
  {
   "cell_type": "markdown",
   "metadata": {},
   "source": [
    "### This notebook's purpose is to get the CALCE data from MS Excel into a dictionary of dataframes!"
   ]
  },
  {
   "cell_type": "markdown",
   "metadata": {},
   "source": [
    "### Goals: \n",
    "1. Get files from CALCE website into dataframe(s)\n",
    "\n"
   ]
  },
  {
   "cell_type": "markdown",
   "metadata": {},
   "source": [
    "#### Imports:"
   ]
  },
  {
   "cell_type": "code",
   "execution_count": 142,
   "metadata": {
    "collapsed": true
   },
   "outputs": [],
   "source": [
    "import scipy.io\n",
    "import os \n",
    "import pandas as pd\n",
    "import zipfile\n",
    "import requests\n",
    "import xlrd\n",
    "import matplotlib\n",
    "import matplotlib.pyplot as plt\n",
    "import numpy as np \n",
    "import seaborn as sns\n",
    "import statistics as stats\n",
    "from math import isclose\n",
    "from pathlib import Path\n",
    "%matplotlib inline"
   ]
  },
  {
   "cell_type": "markdown",
   "metadata": {},
   "source": [
    "Starting with CS2_33, in Excel format"
   ]
  },
  {
   "cell_type": "markdown",
   "metadata": {},
   "source": [
    "# Robert: Added function to import all datasets in CS2_33 into dictionary"
   ]
  },
  {
   "cell_type": "code",
   "execution_count": 143,
   "metadata": {},
   "outputs": [
    {
     "name": "stdout",
     "output_type": "stream",
     "text": [
      "1 CS2_33_10_04_10\n",
      "2 CS2_33_10_05_10\n",
      "3 CS2_33_10_15_10\n",
      "4 CS2_33_10_26_10\n",
      "5 CS2_33_11_01_10\n",
      "6 CS2_33_11_10_10\n",
      "7 CS2_33_11_19_10\n",
      "8 CS2_33_11_24_10\n",
      "9 CS2_33_12_08_10\n",
      "10 CS2_33_12_16_10\n",
      "11 CS2_33_12_23_10\n",
      "12 CS2_33_1_10_11\n",
      "13 CS2_33_1_18_11\n",
      "14 CS2_33_1_24_11\n",
      "15 CS2_33_1_28_11\n",
      "16 CS2_33_2_2_11\n",
      "17 CS2_33_8_17_10\n",
      "18 CS2_33_8_18_10\n",
      "19 CS2_33_8_19_10\n",
      "20 CS2_33_8_30_10\n",
      "21 CS2_33_9_17_10\n",
      "22 CS2_33_9_27_10\n",
      "23 CS2_33_9_7_10\n"
     ]
    }
   ],
   "source": [
    "### Point this bad boy at a directory full of Excel spreadsheets. \n",
    "### For each spreadsheet in the directory, it will spit the 2nd sheet's data into a pandas dataframe. \n",
    "### These dataframes go into a dictionary, with each key named \n",
    "### after the original name of the .xlsx spreadsheet.\n",
    "\n",
    "rootdir = Path('data')\n",
    "# Return a list of regular files only, not directories\n",
    "file_list = [f for f in rootdir.glob('**/*') if f.is_file()]\n",
    "### Source: https://stackoverflow.com/questions/19587118/iterating-through-directories-with-python/19587581\n",
    "\n",
    "d = {}\n",
    "count = 0\n",
    "for file in file_list:\n",
    "    count += 1\n",
    "    name = os.path.split(file)[1].split('.')[0] \n",
    "    data = pd.read_excel(file,1)\n",
    "    new_set = {name : data}\n",
    "    d.update(new_set)\n",
    "    print(count, name)\n",
    "### There are 23 files in the CS2 directory, so we should have 23 entries in the dictionary"
   ]
  },
  {
   "cell_type": "code",
   "execution_count": 144,
   "metadata": {},
   "outputs": [
    {
     "data": {
      "text/plain": [
       "dict"
      ]
     },
     "execution_count": 144,
     "metadata": {},
     "output_type": "execute_result"
    }
   ],
   "source": [
    "type(d)\n",
    "### d is a dictionary"
   ]
  },
  {
   "cell_type": "code",
   "execution_count": 145,
   "metadata": {},
   "outputs": [
    {
     "data": {
      "text/plain": [
       "pandas.core.frame.DataFrame"
      ]
     },
     "execution_count": 145,
     "metadata": {},
     "output_type": "execute_result"
    }
   ],
   "source": [
    "type(d['CS2_33_8_19_10'])\n",
    "### but each of its entries are dataframes!"
   ]
  },
  {
   "cell_type": "code",
   "execution_count": 146,
   "metadata": {},
   "outputs": [
    {
     "data": {
      "text/plain": [
       "dict_keys(['CS2_33_10_04_10', 'CS2_33_10_05_10', 'CS2_33_10_15_10', 'CS2_33_10_26_10', 'CS2_33_11_01_10', 'CS2_33_11_10_10', 'CS2_33_11_19_10', 'CS2_33_11_24_10', 'CS2_33_12_08_10', 'CS2_33_12_16_10', 'CS2_33_12_23_10', 'CS2_33_1_10_11', 'CS2_33_1_18_11', 'CS2_33_1_24_11', 'CS2_33_1_28_11', 'CS2_33_2_2_11', 'CS2_33_8_17_10', 'CS2_33_8_18_10', 'CS2_33_8_19_10', 'CS2_33_8_30_10', 'CS2_33_9_17_10', 'CS2_33_9_27_10', 'CS2_33_9_7_10'])"
      ]
     },
     "execution_count": 146,
     "metadata": {},
     "output_type": "execute_result"
    }
   ],
   "source": [
    "d.keys()\n",
    "###This can probably be improved somehow but it is going to be annoying sorting through all the entries regardless. \n",
    "###The datasets are labeled CS2_33_MM_DD_YY"
   ]
  },
  {
   "cell_type": "code",
   "execution_count": 147,
   "metadata": {},
   "outputs": [
    {
     "name": "stdout",
     "output_type": "stream",
     "text": [
      "10759\n",
      "2849\n",
      "23212\n",
      "22908\n",
      "11025\n",
      "22553\n",
      "22174\n",
      "13053\n",
      "20451\n",
      "19561\n",
      "17142\n",
      "15575\n",
      "13595\n",
      "9354\n",
      "5441\n",
      "2717\n",
      "1476\n",
      "516\n",
      "516\n",
      "25195\n",
      "24216\n",
      "24125\n",
      "16121\n"
     ]
    }
   ],
   "source": [
    "for i in d.keys():\n",
    "    df = pd.DataFrame()\n",
    "    print(len(d[i]))\n",
    "\n",
    "### Just for fun"
   ]
  },
  {
   "cell_type": "code",
   "execution_count": 148,
   "metadata": {},
   "outputs": [
    {
     "data": {
      "text/plain": [
       "Index(['Data_Point', 'Test_Time(s)', 'Date_Time', 'Step_Time(s)', 'Step_Index',\n",
       "       'Cycle_Index', 'Current(A)', 'Voltage(V)', 'Charge_Capacity(Ah)',\n",
       "       'Discharge_Capacity(Ah)', 'Charge_Energy(Wh)', 'Discharge_Energy(Wh)',\n",
       "       'dV/dt(V/s)', 'Internal_Resistance(Ohm)', 'Is_FC_Data',\n",
       "       'AC_Impedance(Ohm)', 'ACI_Phase_Angle(Deg)'],\n",
       "      dtype='object')"
      ]
     },
     "execution_count": 148,
     "metadata": {},
     "output_type": "execute_result"
    }
   ],
   "source": [
    "d['CS2_33_8_19_10'].columns\n",
    "### Also just for fun. We could probably delete some of these if we wanted to, in order to save space."
   ]
  },
  {
   "cell_type": "code",
   "execution_count": 149,
   "metadata": {},
   "outputs": [
    {
     "data": {
      "text/plain": [
       "(516, 17)"
      ]
     },
     "execution_count": 149,
     "metadata": {},
     "output_type": "execute_result"
    }
   ],
   "source": [
    "d['CS2_33_8_19_10'].shape\n",
    "###JFF"
   ]
  },
  {
   "cell_type": "code",
   "execution_count": 150,
   "metadata": {},
   "outputs": [
    {
     "data": {
      "text/plain": [
       "516"
      ]
     },
     "execution_count": 150,
     "metadata": {},
     "output_type": "execute_result"
    }
   ],
   "source": [
    "len(d['CS2_33_8_19_10'])\n",
    "###JFF"
   ]
  },
  {
   "cell_type": "code",
   "execution_count": 151,
   "metadata": {},
   "outputs": [
    {
     "data": {
      "text/plain": [
       "29.94886665072951"
      ]
     },
     "execution_count": 151,
     "metadata": {},
     "output_type": "execute_result"
    }
   ],
   "source": [
    "d['CS2_33_8_19_10'].loc[0,('Step_Time(s)')]\n",
    "###Can I reference specific locations? Yes I can"
   ]
  },
  {
   "cell_type": "code",
   "execution_count": 152,
   "metadata": {
    "scrolled": true
   },
   "outputs": [
    {
     "data": {
      "text/html": [
       "<div>\n",
       "<style scoped>\n",
       "    .dataframe tbody tr th:only-of-type {\n",
       "        vertical-align: middle;\n",
       "    }\n",
       "\n",
       "    .dataframe tbody tr th {\n",
       "        vertical-align: top;\n",
       "    }\n",
       "\n",
       "    .dataframe thead th {\n",
       "        text-align: right;\n",
       "    }\n",
       "</style>\n",
       "<table border=\"1\" class=\"dataframe\">\n",
       "  <thead>\n",
       "    <tr style=\"text-align: right;\">\n",
       "      <th></th>\n",
       "      <th>Data_Point</th>\n",
       "      <th>Test_Time(s)</th>\n",
       "      <th>Date_Time</th>\n",
       "      <th>Step_Time(s)</th>\n",
       "      <th>Step_Index</th>\n",
       "      <th>Cycle_Index</th>\n",
       "      <th>Current(A)</th>\n",
       "      <th>Voltage(V)</th>\n",
       "      <th>Charge_Capacity(Ah)</th>\n",
       "      <th>Discharge_Capacity(Ah)</th>\n",
       "      <th>Charge_Energy(Wh)</th>\n",
       "      <th>Discharge_Energy(Wh)</th>\n",
       "      <th>dV/dt(V/s)</th>\n",
       "      <th>Internal_Resistance(Ohm)</th>\n",
       "      <th>Is_FC_Data</th>\n",
       "      <th>AC_Impedance(Ohm)</th>\n",
       "      <th>ACI_Phase_Angle(Deg)</th>\n",
       "    </tr>\n",
       "  </thead>\n",
       "  <tbody>\n",
       "    <tr>\n",
       "      <th>0</th>\n",
       "      <td>1</td>\n",
       "      <td>30.011832</td>\n",
       "      <td>2010-08-18 10:59:06</td>\n",
       "      <td>29.948867</td>\n",
       "      <td>1</td>\n",
       "      <td>1</td>\n",
       "      <td>0.0</td>\n",
       "      <td>3.257598</td>\n",
       "      <td>0.0</td>\n",
       "      <td>0.0</td>\n",
       "      <td>0.0</td>\n",
       "      <td>0.0</td>\n",
       "      <td>-0.000032</td>\n",
       "      <td>0.0</td>\n",
       "      <td>0</td>\n",
       "      <td>0</td>\n",
       "      <td>0</td>\n",
       "    </tr>\n",
       "    <tr>\n",
       "      <th>1</th>\n",
       "      <td>2</td>\n",
       "      <td>60.027007</td>\n",
       "      <td>2010-08-18 10:59:36</td>\n",
       "      <td>59.964042</td>\n",
       "      <td>1</td>\n",
       "      <td>1</td>\n",
       "      <td>0.0</td>\n",
       "      <td>3.257760</td>\n",
       "      <td>0.0</td>\n",
       "      <td>0.0</td>\n",
       "      <td>0.0</td>\n",
       "      <td>0.0</td>\n",
       "      <td>0.000000</td>\n",
       "      <td>0.0</td>\n",
       "      <td>0</td>\n",
       "      <td>0</td>\n",
       "      <td>0</td>\n",
       "    </tr>\n",
       "    <tr>\n",
       "      <th>2</th>\n",
       "      <td>3</td>\n",
       "      <td>90.042195</td>\n",
       "      <td>2010-08-18 11:00:06</td>\n",
       "      <td>89.979230</td>\n",
       "      <td>1</td>\n",
       "      <td>1</td>\n",
       "      <td>0.0</td>\n",
       "      <td>3.257760</td>\n",
       "      <td>0.0</td>\n",
       "      <td>0.0</td>\n",
       "      <td>0.0</td>\n",
       "      <td>0.0</td>\n",
       "      <td>0.000000</td>\n",
       "      <td>0.0</td>\n",
       "      <td>0</td>\n",
       "      <td>0</td>\n",
       "      <td>0</td>\n",
       "    </tr>\n",
       "    <tr>\n",
       "      <th>3</th>\n",
       "      <td>4</td>\n",
       "      <td>120.057365</td>\n",
       "      <td>2010-08-18 11:00:36</td>\n",
       "      <td>119.994400</td>\n",
       "      <td>1</td>\n",
       "      <td>1</td>\n",
       "      <td>0.0</td>\n",
       "      <td>3.257760</td>\n",
       "      <td>0.0</td>\n",
       "      <td>0.0</td>\n",
       "      <td>0.0</td>\n",
       "      <td>0.0</td>\n",
       "      <td>0.000000</td>\n",
       "      <td>0.0</td>\n",
       "      <td>0</td>\n",
       "      <td>0</td>\n",
       "      <td>0</td>\n",
       "    </tr>\n",
       "    <tr>\n",
       "      <th>4</th>\n",
       "      <td>5</td>\n",
       "      <td>120.073031</td>\n",
       "      <td>2010-08-18 11:00:36</td>\n",
       "      <td>120.010066</td>\n",
       "      <td>1</td>\n",
       "      <td>1</td>\n",
       "      <td>0.0</td>\n",
       "      <td>3.257760</td>\n",
       "      <td>0.0</td>\n",
       "      <td>0.0</td>\n",
       "      <td>0.0</td>\n",
       "      <td>0.0</td>\n",
       "      <td>0.000032</td>\n",
       "      <td>0.0</td>\n",
       "      <td>0</td>\n",
       "      <td>0</td>\n",
       "      <td>0</td>\n",
       "    </tr>\n",
       "  </tbody>\n",
       "</table>\n",
       "</div>"
      ],
      "text/plain": [
       "   Data_Point  Test_Time(s)           Date_Time  Step_Time(s)  Step_Index  \\\n",
       "0           1     30.011832 2010-08-18 10:59:06     29.948867           1   \n",
       "1           2     60.027007 2010-08-18 10:59:36     59.964042           1   \n",
       "2           3     90.042195 2010-08-18 11:00:06     89.979230           1   \n",
       "3           4    120.057365 2010-08-18 11:00:36    119.994400           1   \n",
       "4           5    120.073031 2010-08-18 11:00:36    120.010066           1   \n",
       "\n",
       "   Cycle_Index  Current(A)  Voltage(V)  Charge_Capacity(Ah)  \\\n",
       "0            1         0.0    3.257598                  0.0   \n",
       "1            1         0.0    3.257760                  0.0   \n",
       "2            1         0.0    3.257760                  0.0   \n",
       "3            1         0.0    3.257760                  0.0   \n",
       "4            1         0.0    3.257760                  0.0   \n",
       "\n",
       "   Discharge_Capacity(Ah)  Charge_Energy(Wh)  Discharge_Energy(Wh)  \\\n",
       "0                     0.0                0.0                   0.0   \n",
       "1                     0.0                0.0                   0.0   \n",
       "2                     0.0                0.0                   0.0   \n",
       "3                     0.0                0.0                   0.0   \n",
       "4                     0.0                0.0                   0.0   \n",
       "\n",
       "   dV/dt(V/s)  Internal_Resistance(Ohm)  Is_FC_Data  AC_Impedance(Ohm)  \\\n",
       "0   -0.000032                       0.0           0                  0   \n",
       "1    0.000000                       0.0           0                  0   \n",
       "2    0.000000                       0.0           0                  0   \n",
       "3    0.000000                       0.0           0                  0   \n",
       "4    0.000032                       0.0           0                  0   \n",
       "\n",
       "   ACI_Phase_Angle(Deg)  \n",
       "0                     0  \n",
       "1                     0  \n",
       "2                     0  \n",
       "3                     0  \n",
       "4                     0  "
      ]
     },
     "execution_count": 152,
     "metadata": {},
     "output_type": "execute_result"
    }
   ],
   "source": [
    "d['CS2_33_8_19_10'].head()\n",
    "###Wowee looks good"
   ]
  },
  {
   "cell_type": "code",
   "execution_count": 153,
   "metadata": {},
   "outputs": [
    {
     "data": {
      "text/plain": [
       "1"
      ]
     },
     "execution_count": 153,
     "metadata": {},
     "output_type": "execute_result"
    }
   ],
   "source": [
    "d['CS2_33_8_19_10']['Cycle_Index'].max()\n",
    "###This set only has 1 cycle"
   ]
  }
 ],
 "metadata": {
  "kernelspec": {
   "display_name": "Python 3",
   "language": "python",
   "name": "python3"
  },
  "language_info": {
   "codemirror_mode": {
    "name": "ipython",
    "version": 3
   },
   "file_extension": ".py",
   "mimetype": "text/x-python",
   "name": "python",
   "nbconvert_exporter": "python",
   "pygments_lexer": "ipython3",
   "version": "3.6.2"
  }
 },
 "nbformat": 4,
 "nbformat_minor": 2
}
