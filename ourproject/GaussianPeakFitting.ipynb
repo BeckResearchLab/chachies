{
 "cells": [
  {
   "cell_type": "markdown",
   "metadata": {},
   "source": [
    "### This notebook's purpose is to get the CALCE data in a workable format (in a dataframe, cleaned, battery type labeled etc.)"
   ]
  },
  {
   "cell_type": "markdown",
   "metadata": {},
   "source": [
    "### Goals: (Add to this)\n",
    "1. Get files from CALCE website into dataframe(s)\n",
    "2. Add label for every cycle which battery this data came from \n",
    "3. Find/Remove empty cells  (delete the whole row or should we do interpolation?) (Might not even have empty cells)\n"
   ]
  },
  {
   "cell_type": "markdown",
   "metadata": {},
   "source": [
    "All CS2 cells underwent the same charging profile which was a standard constant current/constant voltage protocol with a constant current rate of 0.5C until the voltage reached 4.2V and then 4.2V was sustained until the charging current dropped to below 0.05A. Unless specified, the discharge cut off voltage for these batteries was 2.7V. All the CS2 cells were randomly numbered and named accordingly. Name 'CS2_n' was given for the nth numbered CS2 cell. "
   ]
  },
  {
   "cell_type": "markdown",
   "metadata": {},
   "source": [
    "#### Imports:"
   ]
  },
  {
   "cell_type": "code",
   "execution_count": 1,
   "metadata": {},
   "outputs": [],
   "source": [
    "import scipy.io\n",
    "import scipy.signal\n",
    "import os \n",
    "import pandas as pd\n",
    "import zipfile\n",
    "import requests\n",
    "import xlrd\n",
    "import matplotlib\n",
    "import matplotlib.pyplot as plt\n",
    "import numpy as np \n",
    "import seaborn as sns\n",
    "import statistics as stats\n",
    "from math import isclose\n",
    "%matplotlib inline"
   ]
  },
  {
   "cell_type": "markdown",
   "metadata": {},
   "source": [
    "#### Notes:\n",
    "To import .mat files into python:  \n",
    "import scipy.io   \n",
    "mat = scipy.io.loadmat('file.mat')  \n",
    "\n",
    "To unzip files: look at SEDS HW2 (not sure if we will use this)\n"
   ]
  },
  {
   "cell_type": "markdown",
   "metadata": {},
   "source": [
    "#### CS2 data (in excel format*)  \n",
    "Look at CS2 data first. From the website, CS2_'n' was given to the nth numbered CS2 cell (identifies unique cells from eachother). Each cell was cycled multiple times. Excel files are named using the testing dates.  **Were the same cells cycled on different dates or was the continuous cycling data split into multiple excel files?**   \n",
    "\n",
    "*CS2_8 and CS2_21 are in .txt format because they were cycled using a different system."
   ]
  },
  {
   "cell_type": "markdown",
   "metadata": {},
   "source": [
    "Starting with CS2_33, in excel file format"
   ]
  },
  {
   "cell_type": "code",
   "execution_count": 2,
   "metadata": {},
   "outputs": [],
   "source": [
    "data1 = pd.read_excel(\"data/CS2_33/CS2_33_10_04_10.xlsx\", sheet_name= \"Channel_1-006\")\n",
    "#it looks like all of these have the sheet name channel_1-006, not just this specific excel file? \n",
    "#would be nice to create a function to iterate over all the files in a given file and import them, store them in variable. "
   ]
  },
  {
   "cell_type": "code",
   "execution_count": 3,
   "metadata": {},
   "outputs": [
    {
     "data": {
      "text/plain": [
       "23"
      ]
     },
     "execution_count": 3,
     "metadata": {},
     "output_type": "execute_result"
    }
   ],
   "source": [
    "data1['Cycle_Index'].max()\n",
    "#this gives the number of cycles they ran"
   ]
  },
  {
   "cell_type": "code",
   "execution_count": 4,
   "metadata": {},
   "outputs": [],
   "source": [
    "#we will need to clean the data so that dq/dv does not come back with weird data, ie we need to make sure the dq/dv isn't being \n",
    "# calculated between identical voltage values (because then dv = 0)\n",
    "# (dq/dt)/(dv/dt)= dq/dv \n",
    "# (dq/dt) = current \n",
    "\n",
    "\n",
    "# calculate dv, find values close to 0, delete those rows, reindex, calculate dv again, "
   ]
  },
  {
   "cell_type": "markdown",
   "metadata": {},
   "source": [
    "New Column- To calculate dq/dv do discharge/charge capacity/ dv. calculate dv first. Ask robert whether to use discharge or charge capacity to calculate this. or do both and compare. Maybe ask user which capacity to use between discharge and charge - depends on system (i.e. Maccor) , which anode or cathode they are looking at etc. "
   ]
  },
  {
   "cell_type": "code",
   "execution_count": 5,
   "metadata": {},
   "outputs": [],
   "source": [
    "data1['dV'] = None "
   ]
  },
  {
   "cell_type": "code",
   "execution_count": 6,
   "metadata": {},
   "outputs": [
    {
     "data": {
      "text/plain": [
       "3.4519877433776855"
      ]
     },
     "execution_count": 6,
     "metadata": {},
     "output_type": "execute_result"
    }
   ],
   "source": [
    "data1.loc[2, ('Voltage(V)')]"
   ]
  },
  {
   "cell_type": "code",
   "execution_count": 7,
   "metadata": {},
   "outputs": [
    {
     "data": {
      "text/plain": [
       "range(0, 10759)"
      ]
     },
     "execution_count": 7,
     "metadata": {},
     "output_type": "execute_result"
    }
   ],
   "source": [
    "range(len(data1))"
   ]
  },
  {
   "cell_type": "code",
   "execution_count": 8,
   "metadata": {},
   "outputs": [],
   "source": [
    "for i in range(1,len(data1)): \n",
    "    data1.loc[i, ('dV')] = data1.loc[i, ('Voltage(V)')] - data1.loc[i-1, ('Voltage(V)')]\n"
   ]
  },
  {
   "cell_type": "code",
   "execution_count": 9,
   "metadata": {},
   "outputs": [],
   "source": [
    "data1['dQ/dV'] = data1['Discharge_Capacity(Ah)']/data1['dV']"
   ]
  },
  {
   "cell_type": "code",
   "execution_count": 10,
   "metadata": {},
   "outputs": [
    {
     "data": {
      "text/html": [
       "<div>\n",
       "<style scoped>\n",
       "    .dataframe tbody tr th:only-of-type {\n",
       "        vertical-align: middle;\n",
       "    }\n",
       "\n",
       "    .dataframe tbody tr th {\n",
       "        vertical-align: top;\n",
       "    }\n",
       "\n",
       "    .dataframe thead th {\n",
       "        text-align: right;\n",
       "    }\n",
       "</style>\n",
       "<table border=\"1\" class=\"dataframe\">\n",
       "  <thead>\n",
       "    <tr style=\"text-align: right;\">\n",
       "      <th></th>\n",
       "      <th>Data_Point</th>\n",
       "      <th>Test_Time(s)</th>\n",
       "      <th>Date_Time</th>\n",
       "      <th>Step_Time(s)</th>\n",
       "      <th>Step_Index</th>\n",
       "      <th>Cycle_Index</th>\n",
       "      <th>Current(A)</th>\n",
       "      <th>Voltage(V)</th>\n",
       "      <th>Charge_Capacity(Ah)</th>\n",
       "      <th>Discharge_Capacity(Ah)</th>\n",
       "      <th>Charge_Energy(Wh)</th>\n",
       "      <th>Discharge_Energy(Wh)</th>\n",
       "      <th>dV/dt(V/s)</th>\n",
       "      <th>Internal_Resistance(Ohm)</th>\n",
       "      <th>Is_FC_Data</th>\n",
       "      <th>AC_Impedance(Ohm)</th>\n",
       "      <th>ACI_Phase_Angle(Deg)</th>\n",
       "      <th>dV</th>\n",
       "      <th>dQ/dV</th>\n",
       "    </tr>\n",
       "  </thead>\n",
       "  <tbody>\n",
       "    <tr>\n",
       "      <th>0</th>\n",
       "      <td>1</td>\n",
       "      <td>30.000116</td>\n",
       "      <td>2010-09-27 14:12:48</td>\n",
       "      <td>30.000117</td>\n",
       "      <td>1</td>\n",
       "      <td>1</td>\n",
       "      <td>0.000000</td>\n",
       "      <td>3.451826</td>\n",
       "      <td>0.000000</td>\n",
       "      <td>0.0</td>\n",
       "      <td>0.000000</td>\n",
       "      <td>0.0</td>\n",
       "      <td>-0.000032</td>\n",
       "      <td>0.0</td>\n",
       "      <td>0</td>\n",
       "      <td>0</td>\n",
       "      <td>0</td>\n",
       "      <td>None</td>\n",
       "      <td>NaN</td>\n",
       "    </tr>\n",
       "    <tr>\n",
       "      <th>1</th>\n",
       "      <td>2</td>\n",
       "      <td>60.015409</td>\n",
       "      <td>2010-09-27 14:13:18</td>\n",
       "      <td>60.015410</td>\n",
       "      <td>1</td>\n",
       "      <td>1</td>\n",
       "      <td>0.000000</td>\n",
       "      <td>3.451826</td>\n",
       "      <td>0.000000</td>\n",
       "      <td>0.0</td>\n",
       "      <td>0.000000</td>\n",
       "      <td>0.0</td>\n",
       "      <td>0.000000</td>\n",
       "      <td>0.0</td>\n",
       "      <td>0</td>\n",
       "      <td>0</td>\n",
       "      <td>0</td>\n",
       "      <td>0</td>\n",
       "      <td>NaN</td>\n",
       "    </tr>\n",
       "    <tr>\n",
       "      <th>2</th>\n",
       "      <td>3</td>\n",
       "      <td>90.030676</td>\n",
       "      <td>2010-09-27 14:13:48</td>\n",
       "      <td>90.030677</td>\n",
       "      <td>1</td>\n",
       "      <td>1</td>\n",
       "      <td>0.000000</td>\n",
       "      <td>3.451988</td>\n",
       "      <td>0.000000</td>\n",
       "      <td>0.0</td>\n",
       "      <td>0.000000</td>\n",
       "      <td>0.0</td>\n",
       "      <td>0.000000</td>\n",
       "      <td>0.0</td>\n",
       "      <td>0</td>\n",
       "      <td>0</td>\n",
       "      <td>0</td>\n",
       "      <td>0.000161886</td>\n",
       "      <td>0</td>\n",
       "    </tr>\n",
       "    <tr>\n",
       "      <th>3</th>\n",
       "      <td>4</td>\n",
       "      <td>120.014848</td>\n",
       "      <td>2010-09-27 14:14:18</td>\n",
       "      <td>120.014848</td>\n",
       "      <td>1</td>\n",
       "      <td>1</td>\n",
       "      <td>0.000000</td>\n",
       "      <td>3.451826</td>\n",
       "      <td>0.000000</td>\n",
       "      <td>0.0</td>\n",
       "      <td>0.000000</td>\n",
       "      <td>0.0</td>\n",
       "      <td>-0.000032</td>\n",
       "      <td>0.0</td>\n",
       "      <td>0</td>\n",
       "      <td>0</td>\n",
       "      <td>0</td>\n",
       "      <td>-0.000161886</td>\n",
       "      <td>-0</td>\n",
       "    </tr>\n",
       "    <tr>\n",
       "      <th>4</th>\n",
       "      <td>5</td>\n",
       "      <td>150.030659</td>\n",
       "      <td>2010-09-27 14:14:48</td>\n",
       "      <td>30.015332</td>\n",
       "      <td>2</td>\n",
       "      <td>1</td>\n",
       "      <td>0.550025</td>\n",
       "      <td>3.584821</td>\n",
       "      <td>0.004585</td>\n",
       "      <td>0.0</td>\n",
       "      <td>0.016314</td>\n",
       "      <td>0.0</td>\n",
       "      <td>0.001264</td>\n",
       "      <td>0.0</td>\n",
       "      <td>0</td>\n",
       "      <td>0</td>\n",
       "      <td>0</td>\n",
       "      <td>0.132995</td>\n",
       "      <td>0</td>\n",
       "    </tr>\n",
       "  </tbody>\n",
       "</table>\n",
       "</div>"
      ],
      "text/plain": [
       "   Data_Point  Test_Time(s)           Date_Time  Step_Time(s)  Step_Index  \\\n",
       "0           1     30.000116 2010-09-27 14:12:48     30.000117           1   \n",
       "1           2     60.015409 2010-09-27 14:13:18     60.015410           1   \n",
       "2           3     90.030676 2010-09-27 14:13:48     90.030677           1   \n",
       "3           4    120.014848 2010-09-27 14:14:18    120.014848           1   \n",
       "4           5    150.030659 2010-09-27 14:14:48     30.015332           2   \n",
       "\n",
       "   Cycle_Index  Current(A)  Voltage(V)  Charge_Capacity(Ah)  \\\n",
       "0            1    0.000000    3.451826             0.000000   \n",
       "1            1    0.000000    3.451826             0.000000   \n",
       "2            1    0.000000    3.451988             0.000000   \n",
       "3            1    0.000000    3.451826             0.000000   \n",
       "4            1    0.550025    3.584821             0.004585   \n",
       "\n",
       "   Discharge_Capacity(Ah)  Charge_Energy(Wh)  Discharge_Energy(Wh)  \\\n",
       "0                     0.0           0.000000                   0.0   \n",
       "1                     0.0           0.000000                   0.0   \n",
       "2                     0.0           0.000000                   0.0   \n",
       "3                     0.0           0.000000                   0.0   \n",
       "4                     0.0           0.016314                   0.0   \n",
       "\n",
       "   dV/dt(V/s)  Internal_Resistance(Ohm)  Is_FC_Data  AC_Impedance(Ohm)  \\\n",
       "0   -0.000032                       0.0           0                  0   \n",
       "1    0.000000                       0.0           0                  0   \n",
       "2    0.000000                       0.0           0                  0   \n",
       "3   -0.000032                       0.0           0                  0   \n",
       "4    0.001264                       0.0           0                  0   \n",
       "\n",
       "   ACI_Phase_Angle(Deg)           dV dQ/dV  \n",
       "0                     0         None   NaN  \n",
       "1                     0            0   NaN  \n",
       "2                     0  0.000161886     0  \n",
       "3                     0 -0.000161886    -0  \n",
       "4                     0     0.132995     0  "
      ]
     },
     "execution_count": 10,
     "metadata": {},
     "output_type": "execute_result"
    }
   ],
   "source": [
    "data1.head()"
   ]
  },
  {
   "cell_type": "code",
   "execution_count": 11,
   "metadata": {},
   "outputs": [],
   "source": [
    "data1 = data1.replace([np.inf, -np.inf], np.nan).dropna(subset=['dQ/dV'])"
   ]
  },
  {
   "cell_type": "code",
   "execution_count": 12,
   "metadata": {},
   "outputs": [],
   "source": [
    "data1 = data1.reset_index(drop = True)"
   ]
  },
  {
   "cell_type": "code",
   "execution_count": 13,
   "metadata": {},
   "outputs": [
    {
     "data": {
      "text/plain": [
       "113.589882961996"
      ]
     },
     "execution_count": 13,
     "metadata": {},
     "output_type": "execute_result"
    }
   ],
   "source": [
    "data1['dQ/dV'].mean()"
   ]
  },
  {
   "cell_type": "code",
   "execution_count": 14,
   "metadata": {},
   "outputs": [
    {
     "data": {
      "image/png": "[encoded data removed]",
      "text/plain": [
       "<matplotlib.figure.Figure at 0x18084138ba8>"
      ]
     },
     "metadata": {},
     "output_type": "display_data"
    }
   ],
   "source": [
    "df1 = pd.DataFrame() \n",
    "for i in range(1,len(data1)):\n",
    "    if data1.loc[i, ('Cycle_Index')] == 7:\n",
    "        df1 = df1.append(data1.loc[i])\n",
    "        \n",
    "fig = plt.figure(figsize=(10, 10), facecolor='w', edgecolor='k')\n",
    "myplot = plt.plot(df1['Voltage(V)'], df1['dQ/dV'])"
   ]
  },
  {
   "cell_type": "code",
   "execution_count": 15,
   "metadata": {},
   "outputs": [],
   "source": [
    "for i in range(1,len(data1)):\n",
    "    if isclose(data1.loc[i, ('dV')], 0, abs_tol = 10**-3):\n",
    "        data1 = data1.drop(index = i)\n",
    "#drop rows if dv is about 0, this will clean up the data points around V = 4.2V (since they are holding it at 4.2V for a while)\n",
    "#have to recalculate the dv after this I think "
   ]
  },
  {
   "cell_type": "code",
   "execution_count": 16,
   "metadata": {},
   "outputs": [
    {
     "data": {
      "text/plain": [
       "9758"
      ]
     },
     "execution_count": 16,
     "metadata": {},
     "output_type": "execute_result"
    }
   ],
   "source": [
    "len(data1)"
   ]
  },
  {
   "cell_type": "code",
   "execution_count": 17,
   "metadata": {},
   "outputs": [],
   "source": [
    "data1 = data1.reset_index(drop = True)"
   ]
  },
  {
   "cell_type": "code",
   "execution_count": 18,
   "metadata": {},
   "outputs": [],
   "source": [
    "#recalculating dv after dropping rows\n",
    "for i in range(1,len(data1)): \n",
    "    data1.loc[i, ('dV')] = data1.loc[i, ('Voltage(V)')] - data1.loc[i-1, ('Voltage(V)')]\n"
   ]
  },
  {
   "cell_type": "code",
   "execution_count": 19,
   "metadata": {},
   "outputs": [],
   "source": [
    "#recalculate dq/dv  \n",
    "data1['dQ/dV'] = data1['Discharge_Capacity(Ah)']/data1['dV']"
   ]
  },
  {
   "cell_type": "code",
   "execution_count": 20,
   "metadata": {},
   "outputs": [
    {
     "data": {
      "image/png": "[encoded data removed]",
      "text/plain": [
       "<matplotlib.figure.Figure at 0x1808418fe80>"
      ]
     },
     "metadata": {},
     "output_type": "display_data"
    }
   ],
   "source": [
    "df1 = pd.DataFrame() \n",
    "for i in range(1,len(data1)):\n",
    "    if data1.loc[i, ('Cycle_Index')] == 7:\n",
    "        df1 = df1.append(data1.loc[i])\n",
    "        \n",
    "fig = plt.figure(figsize=(10, 10), facecolor='w', edgecolor='k')\n",
    "myplot = plt.plot(df1['Voltage(V)'], df1['dQ/dV'])"
   ]
  },
  {
   "cell_type": "code",
   "execution_count": 21,
   "metadata": {},
   "outputs": [],
   "source": [
    "#data1['dQ/dV-discharge cap'] = data1['Discharge_Capacity(Ah)']/data1['dV']"
   ]
  },
  {
   "cell_type": "code",
   "execution_count": 22,
   "metadata": {},
   "outputs": [],
   "source": [
    "#data1['dQ/dV-charge cap'] = data1['Charge_Capacity(Ah)']/data1['dV']"
   ]
  },
  {
   "cell_type": "code",
   "execution_count": null,
   "metadata": {},
   "outputs": [],
   "source": []
  },
  {
   "cell_type": "markdown",
   "metadata": {},
   "source": [
    "Drop Rows With N/A or infinity in dq/dv-discharge cap row. First replace inf values for N/a values so can use dropna"
   ]
  },
  {
   "cell_type": "code",
   "execution_count": 23,
   "metadata": {},
   "outputs": [],
   "source": [
    "#data1.replace([np.inf, -np.inf], np.nan)"
   ]
  },
  {
   "cell_type": "code",
   "execution_count": 24,
   "metadata": {},
   "outputs": [],
   "source": [
    "data1 = data1.replace([np.inf, -np.inf], np.nan).dropna(subset=[\"dQ/dV\"])"
   ]
  },
  {
   "cell_type": "code",
   "execution_count": 25,
   "metadata": {},
   "outputs": [],
   "source": [
    "#data1.dropna(subset=['dQ/dV-discharge cap'], inplace= True)"
   ]
  },
  {
   "cell_type": "code",
   "execution_count": 26,
   "metadata": {},
   "outputs": [
    {
     "data": {
      "text/plain": [
       "41913.563841084666"
      ]
     },
     "execution_count": 26,
     "metadata": {},
     "output_type": "execute_result"
    }
   ],
   "source": [
    "data1['dQ/dV'].max()"
   ]
  },
  {
   "cell_type": "code",
   "execution_count": 27,
   "metadata": {},
   "outputs": [
    {
     "data": {
      "text/plain": [
       "(9758, 19)"
      ]
     },
     "execution_count": 27,
     "metadata": {},
     "output_type": "execute_result"
    }
   ],
   "source": [
    "data1.shape"
   ]
  },
  {
   "cell_type": "code",
   "execution_count": 28,
   "metadata": {},
   "outputs": [
    {
     "data": {
      "text/html": [
       "<div>\n",
       "<style scoped>\n",
       "    .dataframe tbody tr th:only-of-type {\n",
       "        vertical-align: middle;\n",
       "    }\n",
       "\n",
       "    .dataframe tbody tr th {\n",
       "        vertical-align: top;\n",
       "    }\n",
       "\n",
       "    .dataframe thead th {\n",
       "        text-align: right;\n",
       "    }\n",
       "</style>\n",
       "<table border=\"1\" class=\"dataframe\">\n",
       "  <thead>\n",
       "    <tr style=\"text-align: right;\">\n",
       "      <th></th>\n",
       "      <th>Data_Point</th>\n",
       "      <th>Test_Time(s)</th>\n",
       "      <th>Date_Time</th>\n",
       "      <th>Step_Time(s)</th>\n",
       "      <th>Step_Index</th>\n",
       "      <th>Cycle_Index</th>\n",
       "      <th>Current(A)</th>\n",
       "      <th>Voltage(V)</th>\n",
       "      <th>Charge_Capacity(Ah)</th>\n",
       "      <th>Discharge_Capacity(Ah)</th>\n",
       "      <th>Charge_Energy(Wh)</th>\n",
       "      <th>Discharge_Energy(Wh)</th>\n",
       "      <th>dV/dt(V/s)</th>\n",
       "      <th>Internal_Resistance(Ohm)</th>\n",
       "      <th>Is_FC_Data</th>\n",
       "      <th>AC_Impedance(Ohm)</th>\n",
       "      <th>ACI_Phase_Angle(Deg)</th>\n",
       "      <th>dV</th>\n",
       "      <th>dQ/dV</th>\n",
       "    </tr>\n",
       "  </thead>\n",
       "  <tbody>\n",
       "    <tr>\n",
       "      <th>0</th>\n",
       "      <td>3</td>\n",
       "      <td>90.030676</td>\n",
       "      <td>2010-09-27 14:13:48</td>\n",
       "      <td>90.030677</td>\n",
       "      <td>1</td>\n",
       "      <td>1</td>\n",
       "      <td>0.000000</td>\n",
       "      <td>3.451988</td>\n",
       "      <td>0.000000</td>\n",
       "      <td>0.0</td>\n",
       "      <td>0.000000</td>\n",
       "      <td>0.0</td>\n",
       "      <td>0.000000</td>\n",
       "      <td>0.0</td>\n",
       "      <td>0</td>\n",
       "      <td>0</td>\n",
       "      <td>0</td>\n",
       "      <td>0.000162</td>\n",
       "      <td>0.0</td>\n",
       "    </tr>\n",
       "    <tr>\n",
       "      <th>1</th>\n",
       "      <td>5</td>\n",
       "      <td>150.030659</td>\n",
       "      <td>2010-09-27 14:14:48</td>\n",
       "      <td>30.015332</td>\n",
       "      <td>2</td>\n",
       "      <td>1</td>\n",
       "      <td>0.550025</td>\n",
       "      <td>3.584821</td>\n",
       "      <td>0.004585</td>\n",
       "      <td>0.0</td>\n",
       "      <td>0.016314</td>\n",
       "      <td>0.0</td>\n",
       "      <td>0.001264</td>\n",
       "      <td>0.0</td>\n",
       "      <td>0</td>\n",
       "      <td>0</td>\n",
       "      <td>0</td>\n",
       "      <td>0.132833</td>\n",
       "      <td>0.0</td>\n",
       "    </tr>\n",
       "    <tr>\n",
       "      <th>2</th>\n",
       "      <td>6</td>\n",
       "      <td>180.045864</td>\n",
       "      <td>2010-09-27 14:15:18</td>\n",
       "      <td>60.030537</td>\n",
       "      <td>2</td>\n",
       "      <td>1</td>\n",
       "      <td>0.549845</td>\n",
       "      <td>3.625319</td>\n",
       "      <td>0.009170</td>\n",
       "      <td>0.0</td>\n",
       "      <td>0.032848</td>\n",
       "      <td>0.0</td>\n",
       "      <td>0.000972</td>\n",
       "      <td>0.0</td>\n",
       "      <td>0</td>\n",
       "      <td>0</td>\n",
       "      <td>0</td>\n",
       "      <td>0.040498</td>\n",
       "      <td>0.0</td>\n",
       "    </tr>\n",
       "    <tr>\n",
       "      <th>3</th>\n",
       "      <td>7</td>\n",
       "      <td>210.061288</td>\n",
       "      <td>2010-09-27 14:15:48</td>\n",
       "      <td>90.045961</td>\n",
       "      <td>2</td>\n",
       "      <td>1</td>\n",
       "      <td>0.549845</td>\n",
       "      <td>3.658041</td>\n",
       "      <td>0.013755</td>\n",
       "      <td>0.0</td>\n",
       "      <td>0.049547</td>\n",
       "      <td>0.0</td>\n",
       "      <td>0.000778</td>\n",
       "      <td>0.0</td>\n",
       "      <td>0</td>\n",
       "      <td>0</td>\n",
       "      <td>0</td>\n",
       "      <td>0.032722</td>\n",
       "      <td>0.0</td>\n",
       "    </tr>\n",
       "    <tr>\n",
       "      <th>4</th>\n",
       "      <td>8</td>\n",
       "      <td>240.076447</td>\n",
       "      <td>2010-09-27 14:16:18</td>\n",
       "      <td>120.061120</td>\n",
       "      <td>2</td>\n",
       "      <td>1</td>\n",
       "      <td>0.549845</td>\n",
       "      <td>3.685742</td>\n",
       "      <td>0.018340</td>\n",
       "      <td>0.0</td>\n",
       "      <td>0.066384</td>\n",
       "      <td>0.0</td>\n",
       "      <td>0.000680</td>\n",
       "      <td>0.0</td>\n",
       "      <td>0</td>\n",
       "      <td>0</td>\n",
       "      <td>0</td>\n",
       "      <td>0.027701</td>\n",
       "      <td>0.0</td>\n",
       "    </tr>\n",
       "  </tbody>\n",
       "</table>\n",
       "</div>"
      ],
      "text/plain": [
       "   Data_Point  Test_Time(s)           Date_Time  Step_Time(s)  Step_Index  \\\n",
       "0           3     90.030676 2010-09-27 14:13:48     90.030677           1   \n",
       "1           5    150.030659 2010-09-27 14:14:48     30.015332           2   \n",
       "2           6    180.045864 2010-09-27 14:15:18     60.030537           2   \n",
       "3           7    210.061288 2010-09-27 14:15:48     90.045961           2   \n",
       "4           8    240.076447 2010-09-27 14:16:18    120.061120           2   \n",
       "\n",
       "   Cycle_Index  Current(A)  Voltage(V)  Charge_Capacity(Ah)  \\\n",
       "0            1    0.000000    3.451988             0.000000   \n",
       "1            1    0.550025    3.584821             0.004585   \n",
       "2            1    0.549845    3.625319             0.009170   \n",
       "3            1    0.549845    3.658041             0.013755   \n",
       "4            1    0.549845    3.685742             0.018340   \n",
       "\n",
       "   Discharge_Capacity(Ah)  Charge_Energy(Wh)  Discharge_Energy(Wh)  \\\n",
       "0                     0.0           0.000000                   0.0   \n",
       "1                     0.0           0.016314                   0.0   \n",
       "2                     0.0           0.032848                   0.0   \n",
       "3                     0.0           0.049547                   0.0   \n",
       "4                     0.0           0.066384                   0.0   \n",
       "\n",
       "   dV/dt(V/s)  Internal_Resistance(Ohm)  Is_FC_Data  AC_Impedance(Ohm)  \\\n",
       "0    0.000000                       0.0           0                  0   \n",
       "1    0.001264                       0.0           0                  0   \n",
       "2    0.000972                       0.0           0                  0   \n",
       "3    0.000778                       0.0           0                  0   \n",
       "4    0.000680                       0.0           0                  0   \n",
       "\n",
       "   ACI_Phase_Angle(Deg)        dV  dQ/dV  \n",
       "0                     0  0.000162    0.0  \n",
       "1                     0  0.132833    0.0  \n",
       "2                     0  0.040498    0.0  \n",
       "3                     0  0.032722    0.0  \n",
       "4                     0  0.027701    0.0  "
      ]
     },
     "execution_count": 28,
     "metadata": {},
     "output_type": "execute_result"
    }
   ],
   "source": [
    "data1.head()"
   ]
  },
  {
   "cell_type": "markdown",
   "metadata": {},
   "source": [
    "Reindex and calculate dV again "
   ]
  },
  {
   "cell_type": "markdown",
   "metadata": {},
   "source": [
    "### Filter Sav Golay"
   ]
  },
  {
   "cell_type": "code",
   "execution_count": 29,
   "metadata": {},
   "outputs": [
    {
     "data": {
      "text/plain": [
       "count    9758.000000\n",
       "mean        0.000053\n",
       "std         0.027023\n",
       "min        -0.100435\n",
       "25%        -0.002754\n",
       "50%        -0.001296\n",
       "75%         0.002268\n",
       "max         0.432679\n",
       "Name: dV, dtype: float64"
      ]
     },
     "execution_count": 29,
     "metadata": {},
     "output_type": "execute_result"
    }
   ],
   "source": [
    "data1['dV'].describe()"
   ]
  },
  {
   "cell_type": "code",
   "execution_count": 30,
   "metadata": {},
   "outputs": [],
   "source": [
    "unfilt = pd.concat([data1['dQ/dV']])"
   ]
  },
  {
   "cell_type": "code",
   "execution_count": 31,
   "metadata": {},
   "outputs": [],
   "source": [
    "unfiltar = unfilt.values\n",
    "#converts into an array "
   ]
  },
  {
   "cell_type": "code",
   "execution_count": 39,
   "metadata": {},
   "outputs": [],
   "source": [
    "data1['filtered dq/dv'] = scipy.signal.savgol_filter(unfiltar, 17, 3)"
   ]
  },
  {
   "cell_type": "code",
   "execution_count": 40,
   "metadata": {},
   "outputs": [],
   "source": [
    "data1.head(500);"
   ]
  },
  {
   "cell_type": "code",
   "execution_count": 41,
   "metadata": {},
   "outputs": [
    {
     "data": {
      "image/png": "[encoded data removed]",
      "text/plain": [
       "<matplotlib.figure.Figure at 0x180843bdd30>"
      ]
     },
     "metadata": {},
     "output_type": "display_data"
    }
   ],
   "source": [
    "df1 = pd.DataFrame() \n",
    "for i in range(1,len(data1)):\n",
    "    if data1.loc[i, ('Cycle_Index')] == 6:\n",
    "        df1 = df1.append(data1.loc[i])\n",
    "        \n",
    "fig = plt.figure(figsize=(10, 10), facecolor='w', edgecolor='k')\n",
    "myplot = plt.plot(df1['Voltage(V)'], df1['filtered dq/dv'])"
   ]
  },
  {
   "cell_type": "code",
   "execution_count": null,
   "metadata": {},
   "outputs": [],
   "source": []
  },
  {
   "cell_type": "markdown",
   "metadata": {},
   "source": [
    "### Separate by Cycle"
   ]
  },
  {
   "cell_type": "code",
   "execution_count": 35,
   "metadata": {},
   "outputs": [
    {
     "data": {
      "text/plain": [
       "23"
      ]
     },
     "execution_count": 35,
     "metadata": {},
     "output_type": "execute_result"
    }
   ],
   "source": [
    "data1['Cycle_Index'].max()"
   ]
  },
  {
   "cell_type": "code",
   "execution_count": 36,
   "metadata": {},
   "outputs": [],
   "source": [
    "gb = data1.groupby(by = ['Cycle_Index'])"
   ]
  },
  {
   "cell_type": "code",
   "execution_count": 37,
   "metadata": {},
   "outputs": [
    {
     "name": "stdout",
     "output_type": "stream",
     "text": [
      "<pandas.core.groupby.DataFrameGroupBy object at 0x00000180842A30F0>\n"
     ]
    }
   ],
   "source": [
    "print(gb)"
   ]
  },
  {
   "cell_type": "code",
   "execution_count": 38,
   "metadata": {},
   "outputs": [
    {
     "name": "stdout",
     "output_type": "stream",
     "text": [
      "1\n",
      "2\n",
      "3\n",
      "4\n",
      "5\n",
      "6\n",
      "7\n",
      "8\n",
      "9\n",
      "10\n",
      "11\n",
      "12\n",
      "13\n",
      "14\n",
      "15\n",
      "16\n",
      "17\n",
      "18\n",
      "19\n",
      "20\n",
      "21\n",
      "22\n",
      "23\n"
     ]
    }
   ],
   "source": [
    "for i in range(1, data1['Cycle_Index'].max() + 1):\n",
    "    print(i)\n",
    "    "
   ]
  },
  {
   "cell_type": "code",
   "execution_count": null,
   "metadata": {},
   "outputs": [],
   "source": []
  }
 ],
 "metadata": {
  "kernelspec": {
   "display_name": "Python 3",
   "language": "python",
   "name": "python3"
  },
  "language_info": {
   "codemirror_mode": {
    "name": "ipython",
    "version": 3
   },
   "file_extension": ".py",
   "mimetype": "text/x-python",
   "name": "python",
   "nbconvert_exporter": "python",
   "pygments_lexer": "ipython3",
   "version": "3.6.3"
  }
 },
 "nbformat": 4,
 "nbformat_minor": 2
}
