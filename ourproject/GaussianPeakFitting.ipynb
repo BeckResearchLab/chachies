{
 "cells": [
  {
   "cell_type": "markdown",
   "metadata": {},
   "source": [
    "### This notebook's purpose is to get the CALCE data in a workable format (in a dataframe, cleaned, battery type labeled etc.)"
   ]
  },
  {
   "cell_type": "markdown",
   "metadata": {},
   "source": [
    "### Goals: (Add to this)\n",
    "1. Get files from CALCE website into dataframe(s)\n",
    "2. Add label for every cycle which battery this data came from \n",
    "3. Find/Remove empty cells  (delete the whole row or should we do interpolation?) (Might not even have empty cells)\n"
   ]
  },
  {
   "cell_type": "markdown",
   "metadata": {},
   "source": [
    "All CS2 cells underwent the same charging profile which was a standard constant current/constant voltage protocol with a constant current rate of 0.5C until the voltage reached 4.2V and then 4.2V was sustained until the charging current dropped to below 0.05A. Unless specified, the discharge cut off voltage for these batteries was 2.7V. All the CS2 cells were randomly numbered and named accordingly. Name 'CS2_n' was given for the nth numbered CS2 cell. "
   ]
  },
  {
   "cell_type": "markdown",
   "metadata": {},
   "source": [
    "#### Imports:"
   ]
  },
  {
   "cell_type": "code",
   "execution_count": 1,
   "metadata": {},
   "outputs": [],
   "source": [
    "import scipy.io\n",
    "import scipy.signal\n",
    "import os \n",
    "import pandas as pd\n",
    "import zipfile\n",
    "import requests\n",
    "import xlrd\n",
    "import matplotlib\n",
    "import matplotlib.pyplot as plt\n",
    "import numpy as np \n",
    "import seaborn as sns\n",
    "import statistics as stats\n",
    "from math import isclose\n",
    "\n",
    "%matplotlib inline"
   ]
  },
  {
   "cell_type": "markdown",
   "metadata": {},
   "source": [
    "#### Notes:\n",
    "To import .mat files into python:  \n",
    "import scipy.io   \n",
    "mat = scipy.io.loadmat('file.mat')  \n",
    "\n",
    "To unzip files: look at SEDS HW2 (not sure if we will use this)\n"
   ]
  },
  {
   "cell_type": "markdown",
   "metadata": {},
   "source": [
    "#### CS2 data (in excel format*)  \n",
    "Look at CS2 data first. From the website, CS2_'n' was given to the nth numbered CS2 cell (identifies unique cells from eachother). Each cell was cycled multiple times. Excel files are named using the testing dates.  **Were the same cells cycled on different dates or was the continuous cycling data split into multiple excel files?**   \n",
    "\n",
    "*CS2_8 and CS2_21 are in .txt format because they were cycled using a different system."
   ]
  },
  {
   "cell_type": "markdown",
   "metadata": {},
   "source": [
    "Starting with CS2_33, in excel file format"
   ]
  },
  {
   "cell_type": "code",
   "execution_count": 2,
   "metadata": {},
   "outputs": [],
   "source": [
    "data1 = pd.read_excel(\"data/CS2_33/CS2_33_10_04_10.xlsx\", sheet_name= \"Channel_1-006\")\n",
    "#it looks like all of these have the sheet name channel_1-006, not just this specific excel file? \n",
    "#would be nice to create a function to iterate over all the files in a given file and import them, store them in variable. "
   ]
  },
  {
   "cell_type": "code",
   "execution_count": 3,
   "metadata": {},
   "outputs": [
    {
     "data": {
      "text/plain": [
       "23"
      ]
     },
     "execution_count": 3,
     "metadata": {},
     "output_type": "execute_result"
    }
   ],
   "source": [
    "data1['Cycle_Index'].max()\n",
    "#this gives the number of cycles they ran"
   ]
  },
  {
   "cell_type": "code",
   "execution_count": 4,
   "metadata": {},
   "outputs": [],
   "source": [
    "#we will need to clean the data so that dq/dv does not come back with weird data, ie we need to make sure the dq/dv isn't being \n",
    "# calculated between identical voltage values (because then dv = 0)\n",
    "# (dq/dt)/(dv/dt)= dq/dv \n",
    "# (dq/dt) = current \n",
    "\n",
    "\n",
    "# calculate dv, find values close to 0, delete those rows, reindex, calculate dv again, "
   ]
  },
  {
   "cell_type": "markdown",
   "metadata": {},
   "source": [
    "New Column- To calculate dq/dv do discharge/charge capacity/ dv. calculate dv first. Ask robert whether to use discharge or charge capacity to calculate this. or do both and compare. Maybe ask user which capacity to use between discharge and charge - depends on system (i.e. Maccor) , which anode or cathode they are looking at etc. "
   ]
  },
  {
   "cell_type": "code",
   "execution_count": 5,
   "metadata": {},
   "outputs": [],
   "source": [
    "data1['dV'] = None "
   ]
  },
  {
   "cell_type": "code",
   "execution_count": 6,
   "metadata": {},
   "outputs": [
    {
     "data": {
      "text/plain": [
       "3.4519877433776855"
      ]
     },
     "execution_count": 6,
     "metadata": {},
     "output_type": "execute_result"
    }
   ],
   "source": [
    "data1.loc[2, ('Voltage(V)')]"
   ]
  },
  {
   "cell_type": "code",
   "execution_count": 7,
   "metadata": {},
   "outputs": [
    {
     "data": {
      "text/plain": [
       "range(0, 10759)"
      ]
     },
     "execution_count": 7,
     "metadata": {},
     "output_type": "execute_result"
    }
   ],
   "source": [
    "range(len(data1))"
   ]
  },
  {
   "cell_type": "code",
   "execution_count": 8,
   "metadata": {},
   "outputs": [],
   "source": [
    "for i in range(1,len(data1)): \n",
    "    data1.loc[i, ('dV')] = data1.loc[i, ('Voltage(V)')] - data1.loc[i-1, ('Voltage(V)')]\n"
   ]
  },
  {
   "cell_type": "code",
   "execution_count": 9,
   "metadata": {},
   "outputs": [],
   "source": [
    "data1['dQ/dV'] = data1['Discharge_Capacity(Ah)']/data1['dV']"
   ]
  },
  {
   "cell_type": "code",
   "execution_count": 10,
   "metadata": {},
   "outputs": [
    {
     "data": {
      "text/html": [
       "<div>\n",
       "<style scoped>\n",
       "    .dataframe tbody tr th:only-of-type {\n",
       "        vertical-align: middle;\n",
       "    }\n",
       "\n",
       "    .dataframe tbody tr th {\n",
       "        vertical-align: top;\n",
       "    }\n",
       "\n",
       "    .dataframe thead th {\n",
       "        text-align: right;\n",
       "    }\n",
       "</style>\n",
       "<table border=\"1\" class=\"dataframe\">\n",
       "  <thead>\n",
       "    <tr style=\"text-align: right;\">\n",
       "      <th></th>\n",
       "      <th>Data_Point</th>\n",
       "      <th>Test_Time(s)</th>\n",
       "      <th>Date_Time</th>\n",
       "      <th>Step_Time(s)</th>\n",
       "      <th>Step_Index</th>\n",
       "      <th>Cycle_Index</th>\n",
       "      <th>Current(A)</th>\n",
       "      <th>Voltage(V)</th>\n",
       "      <th>Charge_Capacity(Ah)</th>\n",
       "      <th>Discharge_Capacity(Ah)</th>\n",
       "      <th>Charge_Energy(Wh)</th>\n",
       "      <th>Discharge_Energy(Wh)</th>\n",
       "      <th>dV/dt(V/s)</th>\n",
       "      <th>Internal_Resistance(Ohm)</th>\n",
       "      <th>Is_FC_Data</th>\n",
       "      <th>AC_Impedance(Ohm)</th>\n",
       "      <th>ACI_Phase_Angle(Deg)</th>\n",
       "      <th>dV</th>\n",
       "      <th>dQ/dV</th>\n",
       "    </tr>\n",
       "  </thead>\n",
       "  <tbody>\n",
       "    <tr>\n",
       "      <th>0</th>\n",
       "      <td>1</td>\n",
       "      <td>30.000116</td>\n",
       "      <td>2010-09-27 14:12:48</td>\n",
       "      <td>30.000117</td>\n",
       "      <td>1</td>\n",
       "      <td>1</td>\n",
       "      <td>0.000000</td>\n",
       "      <td>3.451826</td>\n",
       "      <td>0.000000</td>\n",
       "      <td>0.0</td>\n",
       "      <td>0.000000</td>\n",
       "      <td>0.0</td>\n",
       "      <td>-0.000032</td>\n",
       "      <td>0.0</td>\n",
       "      <td>0</td>\n",
       "      <td>0</td>\n",
       "      <td>0</td>\n",
       "      <td>None</td>\n",
       "      <td>NaN</td>\n",
       "    </tr>\n",
       "    <tr>\n",
       "      <th>1</th>\n",
       "      <td>2</td>\n",
       "      <td>60.015409</td>\n",
       "      <td>2010-09-27 14:13:18</td>\n",
       "      <td>60.015410</td>\n",
       "      <td>1</td>\n",
       "      <td>1</td>\n",
       "      <td>0.000000</td>\n",
       "      <td>3.451826</td>\n",
       "      <td>0.000000</td>\n",
       "      <td>0.0</td>\n",
       "      <td>0.000000</td>\n",
       "      <td>0.0</td>\n",
       "      <td>0.000000</td>\n",
       "      <td>0.0</td>\n",
       "      <td>0</td>\n",
       "      <td>0</td>\n",
       "      <td>0</td>\n",
       "      <td>0</td>\n",
       "      <td>NaN</td>\n",
       "    </tr>\n",
       "    <tr>\n",
       "      <th>2</th>\n",
       "      <td>3</td>\n",
       "      <td>90.030676</td>\n",
       "      <td>2010-09-27 14:13:48</td>\n",
       "      <td>90.030677</td>\n",
       "      <td>1</td>\n",
       "      <td>1</td>\n",
       "      <td>0.000000</td>\n",
       "      <td>3.451988</td>\n",
       "      <td>0.000000</td>\n",
       "      <td>0.0</td>\n",
       "      <td>0.000000</td>\n",
       "      <td>0.0</td>\n",
       "      <td>0.000000</td>\n",
       "      <td>0.0</td>\n",
       "      <td>0</td>\n",
       "      <td>0</td>\n",
       "      <td>0</td>\n",
       "      <td>0.000161886</td>\n",
       "      <td>0</td>\n",
       "    </tr>\n",
       "    <tr>\n",
       "      <th>3</th>\n",
       "      <td>4</td>\n",
       "      <td>120.014848</td>\n",
       "      <td>2010-09-27 14:14:18</td>\n",
       "      <td>120.014848</td>\n",
       "      <td>1</td>\n",
       "      <td>1</td>\n",
       "      <td>0.000000</td>\n",
       "      <td>3.451826</td>\n",
       "      <td>0.000000</td>\n",
       "      <td>0.0</td>\n",
       "      <td>0.000000</td>\n",
       "      <td>0.0</td>\n",
       "      <td>-0.000032</td>\n",
       "      <td>0.0</td>\n",
       "      <td>0</td>\n",
       "      <td>0</td>\n",
       "      <td>0</td>\n",
       "      <td>-0.000161886</td>\n",
       "      <td>-0</td>\n",
       "    </tr>\n",
       "    <tr>\n",
       "      <th>4</th>\n",
       "      <td>5</td>\n",
       "      <td>150.030659</td>\n",
       "      <td>2010-09-27 14:14:48</td>\n",
       "      <td>30.015332</td>\n",
       "      <td>2</td>\n",
       "      <td>1</td>\n",
       "      <td>0.550025</td>\n",
       "      <td>3.584821</td>\n",
       "      <td>0.004585</td>\n",
       "      <td>0.0</td>\n",
       "      <td>0.016314</td>\n",
       "      <td>0.0</td>\n",
       "      <td>0.001264</td>\n",
       "      <td>0.0</td>\n",
       "      <td>0</td>\n",
       "      <td>0</td>\n",
       "      <td>0</td>\n",
       "      <td>0.132995</td>\n",
       "      <td>0</td>\n",
       "    </tr>\n",
       "  </tbody>\n",
       "</table>\n",
       "</div>"
      ],
      "text/plain": [
       "   Data_Point  Test_Time(s)           Date_Time  Step_Time(s)  Step_Index  \\\n",
       "0           1     30.000116 2010-09-27 14:12:48     30.000117           1   \n",
       "1           2     60.015409 2010-09-27 14:13:18     60.015410           1   \n",
       "2           3     90.030676 2010-09-27 14:13:48     90.030677           1   \n",
       "3           4    120.014848 2010-09-27 14:14:18    120.014848           1   \n",
       "4           5    150.030659 2010-09-27 14:14:48     30.015332           2   \n",
       "\n",
       "   Cycle_Index  Current(A)  Voltage(V)  Charge_Capacity(Ah)  \\\n",
       "0            1    0.000000    3.451826             0.000000   \n",
       "1            1    0.000000    3.451826             0.000000   \n",
       "2            1    0.000000    3.451988             0.000000   \n",
       "3            1    0.000000    3.451826             0.000000   \n",
       "4            1    0.550025    3.584821             0.004585   \n",
       "\n",
       "   Discharge_Capacity(Ah)  Charge_Energy(Wh)  Discharge_Energy(Wh)  \\\n",
       "0                     0.0           0.000000                   0.0   \n",
       "1                     0.0           0.000000                   0.0   \n",
       "2                     0.0           0.000000                   0.0   \n",
       "3                     0.0           0.000000                   0.0   \n",
       "4                     0.0           0.016314                   0.0   \n",
       "\n",
       "   dV/dt(V/s)  Internal_Resistance(Ohm)  Is_FC_Data  AC_Impedance(Ohm)  \\\n",
       "0   -0.000032                       0.0           0                  0   \n",
       "1    0.000000                       0.0           0                  0   \n",
       "2    0.000000                       0.0           0                  0   \n",
       "3   -0.000032                       0.0           0                  0   \n",
       "4    0.001264                       0.0           0                  0   \n",
       "\n",
       "   ACI_Phase_Angle(Deg)           dV dQ/dV  \n",
       "0                     0         None   NaN  \n",
       "1                     0            0   NaN  \n",
       "2                     0  0.000161886     0  \n",
       "3                     0 -0.000161886    -0  \n",
       "4                     0     0.132995     0  "
      ]
     },
     "execution_count": 10,
     "metadata": {},
     "output_type": "execute_result"
    }
   ],
   "source": [
    "data1.head()"
   ]
  },
  {
   "cell_type": "code",
   "execution_count": 11,
   "metadata": {},
   "outputs": [],
   "source": [
    "data1 = data1.replace([np.inf, -np.inf], np.nan).dropna(subset=['dQ/dV'])"
   ]
  },
  {
   "cell_type": "code",
   "execution_count": 12,
   "metadata": {},
   "outputs": [],
   "source": [
    "data1 = data1.reset_index(drop = True)"
   ]
  },
  {
   "cell_type": "code",
   "execution_count": 13,
   "metadata": {},
   "outputs": [
    {
     "data": {
      "text/plain": [
       "113.589882961996"
      ]
     },
     "execution_count": 13,
     "metadata": {},
     "output_type": "execute_result"
    }
   ],
   "source": [
    "data1['dQ/dV'].mean()"
   ]
  },
  {
   "cell_type": "code",
   "execution_count": 14,
   "metadata": {},
   "outputs": [
    {
     "data": {
      "image/png": "[encoded data removed]",
      "text/plain": [
       "<matplotlib.figure.Figure at 0x19361c202e8>"
      ]
     },
     "metadata": {},
     "output_type": "display_data"
    }
   ],
   "source": [
    "df1 = pd.DataFrame() \n",
    "for i in range(1,len(data1)):\n",
    "    if data1.loc[i, ('Cycle_Index')] == 7:\n",
    "        df1 = df1.append(data1.loc[i])\n",
    "        \n",
    "fig = plt.figure(figsize=(10, 10), facecolor='w', edgecolor='k')\n",
    "myplot = plt.plot(df1['Voltage(V)'], df1['dQ/dV'])"
   ]
  },
  {
   "cell_type": "code",
   "execution_count": 15,
   "metadata": {},
   "outputs": [],
   "source": [
    "for i in range(1,len(data1)):\n",
    "    if isclose(data1.loc[i, ('dV')], 0, abs_tol = 10**-3):\n",
    "        data1 = data1.drop(index = i)\n",
    "#drop rows if dv is about 0, this will clean up the data points around V = 4.2V (since they are holding it at 4.2V for a while)\n",
    "#have to recalculate the dv after this I think "
   ]
  },
  {
   "cell_type": "code",
   "execution_count": 16,
   "metadata": {},
   "outputs": [
    {
     "data": {
      "text/plain": [
       "9758"
      ]
     },
     "execution_count": 16,
     "metadata": {},
     "output_type": "execute_result"
    }
   ],
   "source": [
    "len(data1)"
   ]
  },
  {
   "cell_type": "code",
   "execution_count": 17,
   "metadata": {},
   "outputs": [],
   "source": [
    "data1 = data1.reset_index(drop = True)"
   ]
  },
  {
   "cell_type": "code",
   "execution_count": 18,
   "metadata": {},
   "outputs": [],
   "source": [
    "#recalculating dv after dropping rows\n",
    "for i in range(1,len(data1)): \n",
    "    data1.loc[i, ('dV')] = data1.loc[i, ('Voltage(V)')] - data1.loc[i-1, ('Voltage(V)')]\n"
   ]
  },
  {
   "cell_type": "code",
   "execution_count": 19,
   "metadata": {},
   "outputs": [],
   "source": [
    "#recalculate dq/dv  \n",
    "data1['dQ/dV'] = data1['Discharge_Capacity(Ah)']/data1['dV']"
   ]
  },
  {
   "cell_type": "code",
   "execution_count": 20,
   "metadata": {},
   "outputs": [
    {
     "data": {
      "image/png": "[encoded data removed]",
      "text/plain": [
       "<matplotlib.figure.Figure at 0x19361c70160>"
      ]
     },
     "metadata": {},
     "output_type": "display_data"
    }
   ],
   "source": [
    "df1 = pd.DataFrame() \n",
    "for i in range(1,len(data1)):\n",
    "    if data1.loc[i, ('Cycle_Index')] == 7:\n",
    "        df1 = df1.append(data1.loc[i])\n",
    "        \n",
    "fig = plt.figure(figsize=(10, 10), facecolor='w', edgecolor='k')\n",
    "myplot = plt.plot(df1['Voltage(V)'], df1['dQ/dV'])"
   ]
  },
  {
   "cell_type": "code",
   "execution_count": 21,
   "metadata": {},
   "outputs": [],
   "source": [
    "#data1['dQ/dV-discharge cap'] = data1['Discharge_Capacity(Ah)']/data1['dV']"
   ]
  },
  {
   "cell_type": "code",
   "execution_count": 22,
   "metadata": {},
   "outputs": [],
   "source": [
    "#data1['dQ/dV-charge cap'] = data1['Charge_Capacity(Ah)']/data1['dV']"
   ]
  },
  {
   "cell_type": "code",
   "execution_count": null,
   "metadata": {},
   "outputs": [],
   "source": []
  },
  {
   "cell_type": "markdown",
   "metadata": {},
   "source": [
    "Drop Rows With N/A or infinity in dq/dv-discharge cap row. First replace inf values for N/a values so can use dropna"
   ]
  },
  {
   "cell_type": "code",
   "execution_count": 23,
   "metadata": {},
   "outputs": [],
   "source": [
    "#data1.replace([np.inf, -np.inf], np.nan)"
   ]
  },
  {
   "cell_type": "code",
   "execution_count": 24,
   "metadata": {},
   "outputs": [],
   "source": [
    "data1 = data1.replace([np.inf, -np.inf], np.nan).dropna(subset=[\"dQ/dV\"])"
   ]
  },
  {
   "cell_type": "code",
   "execution_count": 25,
   "metadata": {},
   "outputs": [],
   "source": [
    "#data1.dropna(subset=['dQ/dV-discharge cap'], inplace= True)"
   ]
  },
  {
   "cell_type": "code",
   "execution_count": 26,
   "metadata": {},
   "outputs": [
    {
     "data": {
      "text/plain": [
       "41913.563841084666"
      ]
     },
     "execution_count": 26,
     "metadata": {},
     "output_type": "execute_result"
    }
   ],
   "source": [
    "data1['dQ/dV'].max()"
   ]
  },
  {
   "cell_type": "code",
   "execution_count": 27,
   "metadata": {},
   "outputs": [
    {
     "data": {
      "text/plain": [
       "(9758, 19)"
      ]
     },
     "execution_count": 27,
     "metadata": {},
     "output_type": "execute_result"
    }
   ],
   "source": [
    "\n",
    "data1.shape"
   ]
  },
  {
   "cell_type": "code",
   "execution_count": 28,
   "metadata": {},
   "outputs": [
    {
     "data": {
      "text/html": [
       "<div>\n",
       "<style scoped>\n",
       "    .dataframe tbody tr th:only-of-type {\n",
       "        vertical-align: middle;\n",
       "    }\n",
       "\n",
       "    .dataframe tbody tr th {\n",
       "        vertical-align: top;\n",
       "    }\n",
       "\n",
       "    .dataframe thead th {\n",
       "        text-align: right;\n",
       "    }\n",
       "</style>\n",
       "<table border=\"1\" class=\"dataframe\">\n",
       "  <thead>\n",
       "    <tr style=\"text-align: right;\">\n",
       "      <th></th>\n",
       "      <th>Data_Point</th>\n",
       "      <th>Test_Time(s)</th>\n",
       "      <th>Date_Time</th>\n",
       "      <th>Step_Time(s)</th>\n",
       "      <th>Step_Index</th>\n",
       "      <th>Cycle_Index</th>\n",
       "      <th>Current(A)</th>\n",
       "      <th>Voltage(V)</th>\n",
       "      <th>Charge_Capacity(Ah)</th>\n",
       "      <th>Discharge_Capacity(Ah)</th>\n",
       "      <th>Charge_Energy(Wh)</th>\n",
       "      <th>Discharge_Energy(Wh)</th>\n",
       "      <th>dV/dt(V/s)</th>\n",
       "      <th>Internal_Resistance(Ohm)</th>\n",
       "      <th>Is_FC_Data</th>\n",
       "      <th>AC_Impedance(Ohm)</th>\n",
       "      <th>ACI_Phase_Angle(Deg)</th>\n",
       "      <th>dV</th>\n",
       "      <th>dQ/dV</th>\n",
       "    </tr>\n",
       "  </thead>\n",
       "  <tbody>\n",
       "    <tr>\n",
       "      <th>0</th>\n",
       "      <td>3</td>\n",
       "      <td>90.030676</td>\n",
       "      <td>2010-09-27 14:13:48</td>\n",
       "      <td>90.030677</td>\n",
       "      <td>1</td>\n",
       "      <td>1</td>\n",
       "      <td>0.000000</td>\n",
       "      <td>3.451988</td>\n",
       "      <td>0.000000</td>\n",
       "      <td>0.0</td>\n",
       "      <td>0.000000</td>\n",
       "      <td>0.0</td>\n",
       "      <td>0.000000</td>\n",
       "      <td>0.0</td>\n",
       "      <td>0</td>\n",
       "      <td>0</td>\n",
       "      <td>0</td>\n",
       "      <td>0.000162</td>\n",
       "      <td>0.0</td>\n",
       "    </tr>\n",
       "    <tr>\n",
       "      <th>1</th>\n",
       "      <td>5</td>\n",
       "      <td>150.030659</td>\n",
       "      <td>2010-09-27 14:14:48</td>\n",
       "      <td>30.015332</td>\n",
       "      <td>2</td>\n",
       "      <td>1</td>\n",
       "      <td>0.550025</td>\n",
       "      <td>3.584821</td>\n",
       "      <td>0.004585</td>\n",
       "      <td>0.0</td>\n",
       "      <td>0.016314</td>\n",
       "      <td>0.0</td>\n",
       "      <td>0.001264</td>\n",
       "      <td>0.0</td>\n",
       "      <td>0</td>\n",
       "      <td>0</td>\n",
       "      <td>0</td>\n",
       "      <td>0.132833</td>\n",
       "      <td>0.0</td>\n",
       "    </tr>\n",
       "    <tr>\n",
       "      <th>2</th>\n",
       "      <td>6</td>\n",
       "      <td>180.045864</td>\n",
       "      <td>2010-09-27 14:15:18</td>\n",
       "      <td>60.030537</td>\n",
       "      <td>2</td>\n",
       "      <td>1</td>\n",
       "      <td>0.549845</td>\n",
       "      <td>3.625319</td>\n",
       "      <td>0.009170</td>\n",
       "      <td>0.0</td>\n",
       "      <td>0.032848</td>\n",
       "      <td>0.0</td>\n",
       "      <td>0.000972</td>\n",
       "      <td>0.0</td>\n",
       "      <td>0</td>\n",
       "      <td>0</td>\n",
       "      <td>0</td>\n",
       "      <td>0.040498</td>\n",
       "      <td>0.0</td>\n",
       "    </tr>\n",
       "    <tr>\n",
       "      <th>3</th>\n",
       "      <td>7</td>\n",
       "      <td>210.061288</td>\n",
       "      <td>2010-09-27 14:15:48</td>\n",
       "      <td>90.045961</td>\n",
       "      <td>2</td>\n",
       "      <td>1</td>\n",
       "      <td>0.549845</td>\n",
       "      <td>3.658041</td>\n",
       "      <td>0.013755</td>\n",
       "      <td>0.0</td>\n",
       "      <td>0.049547</td>\n",
       "      <td>0.0</td>\n",
       "      <td>0.000778</td>\n",
       "      <td>0.0</td>\n",
       "      <td>0</td>\n",
       "      <td>0</td>\n",
       "      <td>0</td>\n",
       "      <td>0.032722</td>\n",
       "      <td>0.0</td>\n",
       "    </tr>\n",
       "    <tr>\n",
       "      <th>4</th>\n",
       "      <td>8</td>\n",
       "      <td>240.076447</td>\n",
       "      <td>2010-09-27 14:16:18</td>\n",
       "      <td>120.061120</td>\n",
       "      <td>2</td>\n",
       "      <td>1</td>\n",
       "      <td>0.549845</td>\n",
       "      <td>3.685742</td>\n",
       "      <td>0.018340</td>\n",
       "      <td>0.0</td>\n",
       "      <td>0.066384</td>\n",
       "      <td>0.0</td>\n",
       "      <td>0.000680</td>\n",
       "      <td>0.0</td>\n",
       "      <td>0</td>\n",
       "      <td>0</td>\n",
       "      <td>0</td>\n",
       "      <td>0.027701</td>\n",
       "      <td>0.0</td>\n",
       "    </tr>\n",
       "  </tbody>\n",
       "</table>\n",
       "</div>"
      ],
      "text/plain": [
       "   Data_Point  Test_Time(s)           Date_Time  Step_Time(s)  Step_Index  \\\n",
       "0           3     90.030676 2010-09-27 14:13:48     90.030677           1   \n",
       "1           5    150.030659 2010-09-27 14:14:48     30.015332           2   \n",
       "2           6    180.045864 2010-09-27 14:15:18     60.030537           2   \n",
       "3           7    210.061288 2010-09-27 14:15:48     90.045961           2   \n",
       "4           8    240.076447 2010-09-27 14:16:18    120.061120           2   \n",
       "\n",
       "   Cycle_Index  Current(A)  Voltage(V)  Charge_Capacity(Ah)  \\\n",
       "0            1    0.000000    3.451988             0.000000   \n",
       "1            1    0.550025    3.584821             0.004585   \n",
       "2            1    0.549845    3.625319             0.009170   \n",
       "3            1    0.549845    3.658041             0.013755   \n",
       "4            1    0.549845    3.685742             0.018340   \n",
       "\n",
       "   Discharge_Capacity(Ah)  Charge_Energy(Wh)  Discharge_Energy(Wh)  \\\n",
       "0                     0.0           0.000000                   0.0   \n",
       "1                     0.0           0.016314                   0.0   \n",
       "2                     0.0           0.032848                   0.0   \n",
       "3                     0.0           0.049547                   0.0   \n",
       "4                     0.0           0.066384                   0.0   \n",
       "\n",
       "   dV/dt(V/s)  Internal_Resistance(Ohm)  Is_FC_Data  AC_Impedance(Ohm)  \\\n",
       "0    0.000000                       0.0           0                  0   \n",
       "1    0.001264                       0.0           0                  0   \n",
       "2    0.000972                       0.0           0                  0   \n",
       "3    0.000778                       0.0           0                  0   \n",
       "4    0.000680                       0.0           0                  0   \n",
       "\n",
       "   ACI_Phase_Angle(Deg)        dV  dQ/dV  \n",
       "0                     0  0.000162    0.0  \n",
       "1                     0  0.132833    0.0  \n",
       "2                     0  0.040498    0.0  \n",
       "3                     0  0.032722    0.0  \n",
       "4                     0  0.027701    0.0  "
      ]
     },
     "execution_count": 28,
     "metadata": {},
     "output_type": "execute_result"
    }
   ],
   "source": [
    "data1.head()"
   ]
  },
  {
   "cell_type": "markdown",
   "metadata": {},
   "source": [
    "Reindex and calculate dV again "
   ]
  },
  {
   "cell_type": "markdown",
   "metadata": {},
   "source": [
    "### Filter Sav Golay"
   ]
  },
  {
   "cell_type": "code",
   "execution_count": 29,
   "metadata": {},
   "outputs": [
    {
     "data": {
      "text/plain": [
       "count    9758.000000\n",
       "mean        0.000053\n",
       "std         0.027023\n",
       "min        -0.100435\n",
       "25%        -0.002754\n",
       "50%        -0.001296\n",
       "75%         0.002268\n",
       "max         0.432679\n",
       "Name: dV, dtype: float64"
      ]
     },
     "execution_count": 29,
     "metadata": {},
     "output_type": "execute_result"
    }
   ],
   "source": [
    "data1['dV'].describe()"
   ]
  },
  {
   "cell_type": "code",
   "execution_count": 30,
   "metadata": {},
   "outputs": [],
   "source": [
    "unfilt = pd.concat([data1['dQ/dV']])"
   ]
  },
  {
   "cell_type": "code",
   "execution_count": 31,
   "metadata": {},
   "outputs": [],
   "source": [
    "unfiltar = unfilt.values\n",
    "#converts into an array "
   ]
  },
  {
   "cell_type": "code",
   "execution_count": 32,
   "metadata": {},
   "outputs": [],
   "source": [
    "data1['filtered dq/dv'] = scipy.signal.savgol_filter(unfiltar, 19, 3)"
   ]
  },
  {
   "cell_type": "code",
   "execution_count": 33,
   "metadata": {},
   "outputs": [],
   "source": [
    "data1.head(500);"
   ]
  },
  {
   "cell_type": "code",
   "execution_count": 34,
   "metadata": {},
   "outputs": [
    {
     "data": {
      "image/png": "[encoded data removed]",
      "text/plain": [
       "<matplotlib.figure.Figure at 0x19361ecb2e8>"
      ]
     },
     "metadata": {},
     "output_type": "display_data"
    }
   ],
   "source": [
    "df1 = pd.DataFrame() \n",
    "for i in range(1,len(data1)):\n",
    "    if data1.loc[i, ('Cycle_Index')] == 6:\n",
    "        df1 = df1.append(data1.loc[i])\n",
    "        \n",
    "fig = plt.figure(figsize=(10, 10), facecolor='w', edgecolor='k')\n",
    "myplot = plt.plot(df1['Voltage(V)'], df1['filtered dq/dv'])"
   ]
  },
  {
   "cell_type": "code",
   "execution_count": 35,
   "metadata": {},
   "outputs": [
    {
     "data": {
      "text/html": [
       "<div>\n",
       "<style scoped>\n",
       "    .dataframe tbody tr th:only-of-type {\n",
       "        vertical-align: middle;\n",
       "    }\n",
       "\n",
       "    .dataframe tbody tr th {\n",
       "        vertical-align: top;\n",
       "    }\n",
       "\n",
       "    .dataframe thead th {\n",
       "        text-align: right;\n",
       "    }\n",
       "</style>\n",
       "<table border=\"1\" class=\"dataframe\">\n",
       "  <thead>\n",
       "    <tr style=\"text-align: right;\">\n",
       "      <th></th>\n",
       "      <th>ACI_Phase_Angle(Deg)</th>\n",
       "      <th>AC_Impedance(Ohm)</th>\n",
       "      <th>Charge_Capacity(Ah)</th>\n",
       "      <th>Charge_Energy(Wh)</th>\n",
       "      <th>Current(A)</th>\n",
       "      <th>Cycle_Index</th>\n",
       "      <th>Data_Point</th>\n",
       "      <th>Date_Time</th>\n",
       "      <th>Discharge_Capacity(Ah)</th>\n",
       "      <th>Discharge_Energy(Wh)</th>\n",
       "      <th>Internal_Resistance(Ohm)</th>\n",
       "      <th>Is_FC_Data</th>\n",
       "      <th>Step_Index</th>\n",
       "      <th>Step_Time(s)</th>\n",
       "      <th>Test_Time(s)</th>\n",
       "      <th>Voltage(V)</th>\n",
       "      <th>dQ/dV</th>\n",
       "      <th>dV</th>\n",
       "      <th>dV/dt(V/s)</th>\n",
       "      <th>filtered dq/dv</th>\n",
       "    </tr>\n",
       "  </thead>\n",
       "  <tbody>\n",
       "    <tr>\n",
       "      <th>2151</th>\n",
       "      <td>0.0</td>\n",
       "      <td>0.0</td>\n",
       "      <td>5.296682</td>\n",
       "      <td>21.022661</td>\n",
       "      <td>0.000000</td>\n",
       "      <td>6.0</td>\n",
       "      <td>2369.0</td>\n",
       "      <td>2010-09-28 11:35:25</td>\n",
       "      <td>5.305244</td>\n",
       "      <td>19.85983</td>\n",
       "      <td>0.094247</td>\n",
       "      <td>0.0</td>\n",
       "      <td>1.0</td>\n",
       "      <td>30.015294</td>\n",
       "      <td>76981.647121</td>\n",
       "      <td>3.141126</td>\n",
       "      <td>187.144097</td>\n",
       "      <td>0.028348</td>\n",
       "      <td>0.000583</td>\n",
       "      <td>229.220938</td>\n",
       "    </tr>\n",
       "    <tr>\n",
       "      <th>2152</th>\n",
       "      <td>0.0</td>\n",
       "      <td>0.0</td>\n",
       "      <td>5.296682</td>\n",
       "      <td>21.022661</td>\n",
       "      <td>0.000000</td>\n",
       "      <td>6.0</td>\n",
       "      <td>2370.0</td>\n",
       "      <td>2010-09-28 11:35:55</td>\n",
       "      <td>5.305244</td>\n",
       "      <td>19.85983</td>\n",
       "      <td>0.094247</td>\n",
       "      <td>0.0</td>\n",
       "      <td>1.0</td>\n",
       "      <td>60.030678</td>\n",
       "      <td>77011.662504</td>\n",
       "      <td>3.159431</td>\n",
       "      <td>289.823872</td>\n",
       "      <td>0.018305</td>\n",
       "      <td>0.000421</td>\n",
       "      <td>243.502198</td>\n",
       "    </tr>\n",
       "    <tr>\n",
       "      <th>2153</th>\n",
       "      <td>0.0</td>\n",
       "      <td>0.0</td>\n",
       "      <td>5.296682</td>\n",
       "      <td>21.022661</td>\n",
       "      <td>0.000000</td>\n",
       "      <td>6.0</td>\n",
       "      <td>2371.0</td>\n",
       "      <td>2010-09-28 11:36:25</td>\n",
       "      <td>5.305244</td>\n",
       "      <td>19.85983</td>\n",
       "      <td>0.094247</td>\n",
       "      <td>0.0</td>\n",
       "      <td>1.0</td>\n",
       "      <td>90.045891</td>\n",
       "      <td>77041.677718</td>\n",
       "      <td>3.172714</td>\n",
       "      <td>399.393464</td>\n",
       "      <td>0.013283</td>\n",
       "      <td>0.000292</td>\n",
       "      <td>251.051607</td>\n",
       "    </tr>\n",
       "    <tr>\n",
       "      <th>2154</th>\n",
       "      <td>0.0</td>\n",
       "      <td>0.0</td>\n",
       "      <td>5.296682</td>\n",
       "      <td>21.022661</td>\n",
       "      <td>0.000000</td>\n",
       "      <td>6.0</td>\n",
       "      <td>2372.0</td>\n",
       "      <td>2010-09-28 11:36:55</td>\n",
       "      <td>5.305244</td>\n",
       "      <td>19.85983</td>\n",
       "      <td>0.094247</td>\n",
       "      <td>0.0</td>\n",
       "      <td>1.0</td>\n",
       "      <td>120.014291</td>\n",
       "      <td>77071.646118</td>\n",
       "      <td>3.183244</td>\n",
       "      <td>503.844929</td>\n",
       "      <td>0.010530</td>\n",
       "      <td>0.000259</td>\n",
       "      <td>251.903285</td>\n",
       "    </tr>\n",
       "    <tr>\n",
       "      <th>2155</th>\n",
       "      <td>0.0</td>\n",
       "      <td>0.0</td>\n",
       "      <td>5.301266</td>\n",
       "      <td>21.038016</td>\n",
       "      <td>0.549845</td>\n",
       "      <td>6.0</td>\n",
       "      <td>2373.0</td>\n",
       "      <td>2010-09-28 11:37:25</td>\n",
       "      <td>5.305244</td>\n",
       "      <td>19.85983</td>\n",
       "      <td>0.094247</td>\n",
       "      <td>0.0</td>\n",
       "      <td>2.0</td>\n",
       "      <td>30.015314</td>\n",
       "      <td>77101.663946</td>\n",
       "      <td>3.407440</td>\n",
       "      <td>23.663375</td>\n",
       "      <td>0.224196</td>\n",
       "      <td>0.002624</td>\n",
       "      <td>244.924730</td>\n",
       "    </tr>\n",
       "  </tbody>\n",
       "</table>\n",
       "</div>"
      ],
      "text/plain": [
       "      ACI_Phase_Angle(Deg)  AC_Impedance(Ohm)  Charge_Capacity(Ah)  \\\n",
       "2151                   0.0                0.0             5.296682   \n",
       "2152                   0.0                0.0             5.296682   \n",
       "2153                   0.0                0.0             5.296682   \n",
       "2154                   0.0                0.0             5.296682   \n",
       "2155                   0.0                0.0             5.301266   \n",
       "\n",
       "      Charge_Energy(Wh)  Current(A)  Cycle_Index  Data_Point  \\\n",
       "2151          21.022661    0.000000          6.0      2369.0   \n",
       "2152          21.022661    0.000000          6.0      2370.0   \n",
       "2153          21.022661    0.000000          6.0      2371.0   \n",
       "2154          21.022661    0.000000          6.0      2372.0   \n",
       "2155          21.038016    0.549845          6.0      2373.0   \n",
       "\n",
       "               Date_Time  Discharge_Capacity(Ah)  Discharge_Energy(Wh)  \\\n",
       "2151 2010-09-28 11:35:25                5.305244              19.85983   \n",
       "2152 2010-09-28 11:35:55                5.305244              19.85983   \n",
       "2153 2010-09-28 11:36:25                5.305244              19.85983   \n",
       "2154 2010-09-28 11:36:55                5.305244              19.85983   \n",
       "2155 2010-09-28 11:37:25                5.305244              19.85983   \n",
       "\n",
       "      Internal_Resistance(Ohm)  Is_FC_Data  Step_Index  Step_Time(s)  \\\n",
       "2151                  0.094247         0.0         1.0     30.015294   \n",
       "2152                  0.094247         0.0         1.0     60.030678   \n",
       "2153                  0.094247         0.0         1.0     90.045891   \n",
       "2154                  0.094247         0.0         1.0    120.014291   \n",
       "2155                  0.094247         0.0         2.0     30.015314   \n",
       "\n",
       "      Test_Time(s)  Voltage(V)       dQ/dV        dV  dV/dt(V/s)  \\\n",
       "2151  76981.647121    3.141126  187.144097  0.028348    0.000583   \n",
       "2152  77011.662504    3.159431  289.823872  0.018305    0.000421   \n",
       "2153  77041.677718    3.172714  399.393464  0.013283    0.000292   \n",
       "2154  77071.646118    3.183244  503.844929  0.010530    0.000259   \n",
       "2155  77101.663946    3.407440   23.663375  0.224196    0.002624   \n",
       "\n",
       "      filtered dq/dv  \n",
       "2151      229.220938  \n",
       "2152      243.502198  \n",
       "2153      251.051607  \n",
       "2154      251.903285  \n",
       "2155      244.924730  "
      ]
     },
     "execution_count": 35,
     "metadata": {},
     "output_type": "execute_result"
    }
   ],
   "source": [
    "df1.head()"
   ]
  },
  {
   "cell_type": "code",
   "execution_count": 36,
   "metadata": {},
   "outputs": [
    {
     "data": {
      "image/png": "[encoded data removed]",
      "text/plain": [
       "<matplotlib.figure.Figure at 0x19361c8cc88>"
      ]
     },
     "metadata": {},
     "output_type": "display_data"
    }
   ],
   "source": [
    "dftop = pd.DataFrame()\n",
    "dftop = df1[df1['filtered dq/dv'] > 0].head(len(dftop.index)-6)\n",
    "dftop = dftop.reset_index(drop=True)\n",
    "\n",
    "fig = plt.figure(figsize=(10, 10), facecolor='w', edgecolor='k')\n",
    "myplot = plt.plot(dftop['Voltage(V)'], dftop['filtered dq/dv'])"
   ]
  },
  {
   "cell_type": "code",
   "execution_count": 37,
   "metadata": {},
   "outputs": [],
   "source": [
    "sigx = pd.to_numeric(dftop['Voltage(V)'])\n",
    "sigy = pd.to_numeric(dftop['filtered dq/dv'])"
   ]
  },
  {
   "cell_type": "markdown",
   "metadata": {},
   "source": [
    "### PeakUtils"
   ]
  },
  {
   "cell_type": "code",
   "execution_count": 39,
   "metadata": {},
   "outputs": [
    {
     "data": {
      "text/plain": [
       "[<matplotlib.lines.Line2D at 0x19361435518>]"
      ]
     },
     "execution_count": 39,
     "metadata": {},
     "output_type": "execute_result"
    },
    {
     "data": {
      "image/png": "[encoded data removed]",
      "text/plain": [
       "<matplotlib.figure.Figure at 0x193619a0eb8>"
      ]
     },
     "metadata": {},
     "output_type": "display_data"
    }
   ],
   "source": [
    "import peakutils\n",
    "i = peakutils.indexes(sigy, thres=1000/max(sigy), min_dist=20)\n",
    "\n",
    "fig = plt.figure(figsize=(10, 10), facecolor='w', edgecolor='k')\n",
    "plt.plot(dftop['Voltage(V)'], dftop['filtered dq/dv'])\n",
    "plt.plot(dftop.loc[i, 'Voltage(V)'], dftop.loc[i, 'filtered dq/dv'], 'o')"
   ]
  },
  {
   "cell_type": "markdown",
   "metadata": {},
   "source": [
    "Very Meh. I don't like that this one exclusively relies on amplitude. Gonna look for other packages."
   ]
  },
  {
   "cell_type": "markdown",
   "metadata": {},
   "source": [
    "### Octave"
   ]
  },
  {
   "cell_type": "code",
   "execution_count": 39,
   "metadata": {},
   "outputs": [
    {
     "ename": "OSError",
     "evalue": "Octave Executable not found, please add to path or set\"OCTAVE_EXECUTABLE\" environment variable",
     "output_type": "error",
     "traceback": [
      "\u001b[1;31m---------------------------------------------------------------------------\u001b[0m",
      "\u001b[1;31mOSError\u001b[0m                                   Traceback (most recent call last)",
      "\u001b[1;32m<ipython-input-39-6f204d1d1695>\u001b[0m in \u001b[0;36m<module>\u001b[1;34m()\u001b[0m\n\u001b[1;32m----> 1\u001b[1;33m \u001b[1;32mimport\u001b[0m \u001b[0moct2py\u001b[0m\u001b[1;33m\u001b[0m\u001b[0m\n\u001b[0m\u001b[0;32m      2\u001b[0m \u001b[1;33m\u001b[0m\u001b[0m\n\u001b[0;32m      3\u001b[0m \u001b[0moctave\u001b[0m\u001b[1;33m.\u001b[0m\u001b[0meval\u001b[0m\u001b[1;33m(\u001b[0m\u001b[1;34m\"pkg load signal\"\u001b[0m\u001b[1;33m)\u001b[0m\u001b[1;33m\u001b[0m\u001b[0m\n\u001b[0;32m      4\u001b[0m \u001b[1;33m(\u001b[0m\u001b[0mpeaks\u001b[0m\u001b[1;33m,\u001b[0m \u001b[0mi\u001b[0m\u001b[1;33m)\u001b[0m \u001b[1;33m=\u001b[0m \u001b[0moctave\u001b[0m\u001b[1;33m.\u001b[0m\u001b[0mfindpeaks\u001b[0m\u001b[1;33m(\u001b[0m\u001b[0msigy\u001b[0m\u001b[1;33m,\u001b[0m \u001b[1;34m'DoubleSided'\u001b[0m\u001b[1;33m,\u001b[0m \u001b[1;34m'MinPeakHeight'\u001b[0m\u001b[1;33m,\u001b[0m \u001b[1;36m0.04\u001b[0m\u001b[1;33m,\u001b[0m \u001b[1;34m'MinPeakDistance'\u001b[0m\u001b[1;33m,\u001b[0m \u001b[1;36m100\u001b[0m\u001b[1;33m,\u001b[0m \u001b[1;34m'MinPeakWidth'\u001b[0m\u001b[1;33m,\u001b[0m \u001b[1;36m0\u001b[0m\u001b[1;33m)\u001b[0m\u001b[1;33m\u001b[0m\u001b[0m\n",
      "\u001b[1;32mc:\\python\\lib\\site-packages\\oct2py\\__init__.py\u001b[0m in \u001b[0;36m<module>\u001b[1;34m()\u001b[0m\n\u001b[0;32m     36\u001b[0m \u001b[1;33m\u001b[0m\u001b[0m\n\u001b[0;32m     37\u001b[0m \u001b[1;32mtry\u001b[0m\u001b[1;33m:\u001b[0m\u001b[1;33m\u001b[0m\u001b[0m\n\u001b[1;32m---> 38\u001b[1;33m     \u001b[0moctave\u001b[0m \u001b[1;33m=\u001b[0m \u001b[0mOct2Py\u001b[0m\u001b[1;33m(\u001b[0m\u001b[1;33m)\u001b[0m\u001b[1;33m\u001b[0m\u001b[0m\n\u001b[0m\u001b[0;32m     39\u001b[0m \u001b[1;32mexcept\u001b[0m \u001b[0mOct2PyError\u001b[0m \u001b[1;32mas\u001b[0m \u001b[0me\u001b[0m\u001b[1;33m:\u001b[0m\u001b[1;33m\u001b[0m\u001b[0m\n\u001b[0;32m     40\u001b[0m     \u001b[0mprint\u001b[0m\u001b[1;33m(\u001b[0m\u001b[0me\u001b[0m\u001b[1;33m)\u001b[0m\u001b[1;33m\u001b[0m\u001b[0m\n",
      "\u001b[1;32mc:\\python\\lib\\site-packages\\oct2py\\core.py\u001b[0m in \u001b[0;36m__init__\u001b[1;34m(self, executable, logger, timeout, oned_as, temp_dir, convert_to_float)\u001b[0m\n\u001b[0;32m     71\u001b[0m         \u001b[0mself\u001b[0m\u001b[1;33m.\u001b[0m\u001b[0m_user_classes\u001b[0m \u001b[1;33m=\u001b[0m \u001b[0mdict\u001b[0m\u001b[1;33m(\u001b[0m\u001b[1;33m)\u001b[0m\u001b[1;33m\u001b[0m\u001b[0m\n\u001b[0;32m     72\u001b[0m         \u001b[0mself\u001b[0m\u001b[1;33m.\u001b[0m\u001b[0m_function_ptrs\u001b[0m \u001b[1;33m=\u001b[0m \u001b[0mdict\u001b[0m\u001b[1;33m(\u001b[0m\u001b[1;33m)\u001b[0m\u001b[1;33m\u001b[0m\u001b[0m\n\u001b[1;32m---> 73\u001b[1;33m         \u001b[0mself\u001b[0m\u001b[1;33m.\u001b[0m\u001b[0mrestart\u001b[0m\u001b[1;33m(\u001b[0m\u001b[1;33m)\u001b[0m\u001b[1;33m\u001b[0m\u001b[0m\n\u001b[0m\u001b[0;32m     74\u001b[0m \u001b[1;33m\u001b[0m\u001b[0m\n\u001b[0;32m     75\u001b[0m     \u001b[1;33m@\u001b[0m\u001b[0mproperty\u001b[0m\u001b[1;33m\u001b[0m\u001b[0m\n",
      "\u001b[1;32mc:\\python\\lib\\site-packages\\oct2py\\core.py\u001b[0m in \u001b[0;36mrestart\u001b[1;34m(self)\u001b[0m\n\u001b[0;32m    506\u001b[0m \u001b[1;33m\u001b[0m\u001b[0m\n\u001b[0;32m    507\u001b[0m         self._engine = OctaveEngine(stdin_handler=self._handle_stdin,\n\u001b[1;32m--> 508\u001b[1;33m                                     logger=self.logger)\n\u001b[0m\u001b[0;32m    509\u001b[0m \u001b[1;33m\u001b[0m\u001b[0m\n\u001b[0;32m    510\u001b[0m         \u001b[1;31m# Add local Octave scripts.\u001b[0m\u001b[1;33m\u001b[0m\u001b[1;33m\u001b[0m\u001b[0m\n",
      "\u001b[1;32mc:\\python\\lib\\site-packages\\octave_kernel\\kernel.py\u001b[0m in \u001b[0;36m__init__\u001b[1;34m(self, error_handler, stream_handler, stdin_handler, plot_settings, logger)\u001b[0m\n\u001b[0;32m    155\u001b[0m                  logger=None):\n\u001b[0;32m    156\u001b[0m         \u001b[0mself\u001b[0m\u001b[1;33m.\u001b[0m\u001b[0mlogger\u001b[0m \u001b[1;33m=\u001b[0m \u001b[0mlogger\u001b[0m\u001b[1;33m\u001b[0m\u001b[0m\n\u001b[1;32m--> 157\u001b[1;33m         \u001b[0mself\u001b[0m\u001b[1;33m.\u001b[0m\u001b[0mexecutable\u001b[0m \u001b[1;33m=\u001b[0m \u001b[0mself\u001b[0m\u001b[1;33m.\u001b[0m\u001b[0m_get_executable\u001b[0m\u001b[1;33m(\u001b[0m\u001b[1;33m)\u001b[0m\u001b[1;33m\u001b[0m\u001b[0m\n\u001b[0m\u001b[0;32m    158\u001b[0m         \u001b[0mself\u001b[0m\u001b[1;33m.\u001b[0m\u001b[0mrepl\u001b[0m \u001b[1;33m=\u001b[0m \u001b[0mself\u001b[0m\u001b[1;33m.\u001b[0m\u001b[0m_create_repl\u001b[0m\u001b[1;33m(\u001b[0m\u001b[1;33m)\u001b[0m\u001b[1;33m\u001b[0m\u001b[0m\n\u001b[0;32m    159\u001b[0m         \u001b[0mself\u001b[0m\u001b[1;33m.\u001b[0m\u001b[0merror_handler\u001b[0m \u001b[1;33m=\u001b[0m \u001b[0merror_handler\u001b[0m\u001b[1;33m\u001b[0m\u001b[0m\n",
      "\u001b[1;32mc:\\python\\lib\\site-packages\\octave_kernel\\kernel.py\u001b[0m in \u001b[0;36m_get_executable\u001b[1;34m(self)\u001b[0m\n\u001b[0;32m    430\u001b[0m                 msg = ('Octave Executable not found, please add to path or set'\n\u001b[0;32m    431\u001b[0m                        '\"OCTAVE_EXECUTABLE\" environment variable')\n\u001b[1;32m--> 432\u001b[1;33m                 \u001b[1;32mraise\u001b[0m \u001b[0mOSError\u001b[0m\u001b[1;33m(\u001b[0m\u001b[0mmsg\u001b[0m\u001b[1;33m)\u001b[0m\u001b[1;33m\u001b[0m\u001b[0m\n\u001b[0m\u001b[0;32m    433\u001b[0m         \u001b[0mexecutable\u001b[0m \u001b[1;33m=\u001b[0m \u001b[0mexecutable\u001b[0m\u001b[1;33m.\u001b[0m\u001b[0mreplace\u001b[0m\u001b[1;33m(\u001b[0m\u001b[0mos\u001b[0m\u001b[1;33m.\u001b[0m\u001b[0mpath\u001b[0m\u001b[1;33m.\u001b[0m\u001b[0msep\u001b[0m\u001b[1;33m,\u001b[0m \u001b[1;34m'/'\u001b[0m\u001b[1;33m)\u001b[0m\u001b[1;33m\u001b[0m\u001b[0m\n\u001b[0;32m    434\u001b[0m         \u001b[1;32mreturn\u001b[0m \u001b[0mexecutable\u001b[0m\u001b[1;33m\u001b[0m\u001b[0m\n",
      "\u001b[1;31mOSError\u001b[0m: Octave Executable not found, please add to path or set\"OCTAVE_EXECUTABLE\" environment variable"
     ]
    }
   ],
   "source": [
    "import oct2py\n",
    "\n",
    "octave.eval(\"pkg load signal\")\n",
    "(peaks, i) = octave.findpeaks(sigy, 'DoubleSided', 'MinPeakHeight', 0.04, 'MinPeakDistance', 100, 'MinPeakWidth', 0)"
   ]
  },
  {
   "cell_type": "code",
   "execution_count": null,
   "metadata": {},
   "outputs": [],
   "source": [
    "fig = plt.figure(figsize=(10, 10), facecolor='w', edgecolor='k')\n",
    "plt.plot(dftop['Voltage(V)'], dftop['filtered dq/dv'])\n",
    "plt.plot(dftop.loc[i, 'Voltage(V)'], dftop.loc[i, 'filtered dq/dv'], 'o')"
   ]
  },
  {
   "cell_type": "markdown",
   "metadata": {},
   "source": [
    "Octave is dumb. Not python based. Not worth pursuing"
   ]
  },
  {
   "cell_type": "markdown",
   "metadata": {},
   "source": [
    "### Scipy find peaks"
   ]
  },
  {
   "cell_type": "code",
   "execution_count": 72,
   "metadata": {},
   "outputs": [
    {
     "data": {
      "text/plain": [
       "[<matplotlib.lines.Line2D at 0x19369a791d0>]"
      ]
     },
     "execution_count": 72,
     "metadata": {},
     "output_type": "execute_result"
    },
    {
     "data": {
      "image/png": "[encoded data removed]",
      "text/plain": [
       "<matplotlib.figure.Figure at 0x19369c72828>"
      ]
     },
     "metadata": {},
     "output_type": "display_data"
    }
   ],
   "source": [
    "pwid = 8\n",
    "\n",
    "i = scipy.signal.find_peaks_cwt(sigy, pwid+np.zeros(len(sigy)), min_snr=1)\n",
    "\n",
    "fig = plt.figure(figsize=(10, 10), facecolor='w', edgecolor='k')\n",
    "plt.plot(dftop['Voltage(V)'], dftop['filtered dq/dv'])\n",
    "plt.plot(dftop.loc[i, 'Voltage(V)'], dftop.loc[i, 'filtered dq/dv'], 'o')"
   ]
  },
  {
   "cell_type": "markdown",
   "metadata": {},
   "source": [
    "Seems to work! Conclusion: https://blog.ytotech.com/2015/11/01/findpeaks-in-python/ this blogger is an amature and should have read more into scipy. their peak finder works best."
   ]
  },
  {
   "cell_type": "code",
   "execution_count": null,
   "metadata": {},
   "outputs": [],
   "source": []
  },
  {
   "cell_type": "markdown",
   "metadata": {},
   "source": [
    "### Separate by Cycle"
   ]
  },
  {
   "cell_type": "code",
   "execution_count": 35,
   "metadata": {},
   "outputs": [
    {
     "data": {
      "text/plain": [
       "23"
      ]
     },
     "execution_count": 35,
     "metadata": {},
     "output_type": "execute_result"
    }
   ],
   "source": [
    "data1['Cycle_Index'].max()"
   ]
  },
  {
   "cell_type": "code",
   "execution_count": 36,
   "metadata": {},
   "outputs": [],
   "source": [
    "gb = data1.groupby(by = ['Cycle_Index'])"
   ]
  },
  {
   "cell_type": "code",
   "execution_count": 37,
   "metadata": {},
   "outputs": [
    {
     "name": "stdout",
     "output_type": "stream",
     "text": [
      "<pandas.core.groupby.DataFrameGroupBy object at 0x00000180842A30F0>\n"
     ]
    }
   ],
   "source": [
    "print(gb)"
   ]
  },
  {
   "cell_type": "code",
   "execution_count": 38,
   "metadata": {},
   "outputs": [
    {
     "name": "stdout",
     "output_type": "stream",
     "text": [
      "1\n",
      "2\n",
      "3\n",
      "4\n",
      "5\n",
      "6\n",
      "7\n",
      "8\n",
      "9\n",
      "10\n",
      "11\n",
      "12\n",
      "13\n",
      "14\n",
      "15\n",
      "16\n",
      "17\n",
      "18\n",
      "19\n",
      "20\n",
      "21\n",
      "22\n",
      "23\n"
     ]
    }
   ],
   "source": [
    "for i in range(1, data1['Cycle_Index'].max() + 1):\n",
    "    print(i)\n",
    "    "
   ]
  },
  {
   "cell_type": "code",
   "execution_count": null,
   "metadata": {},
   "outputs": [],
   "source": []
  }
 ],
 "metadata": {
  "kernelspec": {
   "display_name": "Python 3",
   "language": "python",
   "name": "python3"
  },
  "language_info": {
   "codemirror_mode": {
    "name": "ipython",
    "version": 3
   },
   "file_extension": ".py",
   "mimetype": "text/x-python",
   "name": "python",
   "nbconvert_exporter": "python",
   "pygments_lexer": "ipython3",
   "version": "3.6.3"
  }
 },
 "nbformat": 4,
 "nbformat_minor": 2
}
