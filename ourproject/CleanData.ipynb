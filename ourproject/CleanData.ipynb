{
 "cells": [
  {
   "cell_type": "markdown",
   "metadata": {},
   "source": [
    "### This notebook's purpose is to get the CALCE data in a workable format (in a dataframe, cleaned, battery type labeled etc.)"
   ]
  },
  {
   "cell_type": "markdown",
   "metadata": {},
   "source": [
    "### Goals: (Add to this)\n",
    "1. Get files from CALCE website into dataframe(s)\n",
    "2. Add label for every cycle which battery this data came from \n",
    "3. Find/Remove empty cells  (delete the whole row or should we do interpolation?) (Might not even have empty cells)\n"
   ]
  },
  {
   "cell_type": "markdown",
   "metadata": {},
   "source": [
    "All CS2 cells underwent the same charging profile which was a standard constant current/constant voltage protocol with a constant current rate of 0.5C until the voltage reached 4.2V and then 4.2V was sustained until the charging current dropped to below 0.05A. Unless specified, the discharge cut off voltage for these batteries was 2.7V. All the CS2 cells were randomly numbered and named accordingly. Name 'CS2_n' was given for the nth numbered CS2 cell. "
   ]
  },
  {
   "cell_type": "markdown",
   "metadata": {},
   "source": [
    "#### Imports:"
   ]
  },
  {
   "cell_type": "code",
   "execution_count": 1,
   "metadata": {},
   "outputs": [],
   "source": [
    "import scipy.io\n",
    "import scipy.signal\n",
    "import os \n",
    "import pandas as pd\n",
    "from pandas import ExcelWriter\n",
    "#also had to pip install openpyxl\n",
    "import requests\n",
    "from math import isclose\n",
    "\n",
    "\n",
    "import matplotlib\n",
    "import matplotlib.pyplot as plt\n",
    "%matplotlib inline"
   ]
  },
  {
   "cell_type": "markdown",
   "metadata": {},
   "source": [
    "#### Notes:\n",
    "To import .mat files into python:  \n",
    "import scipy.io   \n",
    "mat = scipy.io.loadmat('file.mat')  \n",
    "\n",
    "To unzip files: look at SEDS HW2 (not sure if we will use this)\n"
   ]
  },
  {
   "cell_type": "markdown",
   "metadata": {},
   "source": [
    "#### CS2 data (in excel format*)  \n",
    "Look at CS2 data first. From the website, CS2_'n' was given to the nth numbered CS2 cell (identifies unique cells from eachother). Each cell was cycled multiple times. Excel files are named using the testing dates.  **Were the same cells cycled on different dates or was the continuous cycling data split into multiple excel files?**   \n",
    "\n",
    "*CS2_8 and CS2_21 are in .txt format because they were cycled using a different system."
   ]
  },
  {
   "cell_type": "markdown",
   "metadata": {},
   "source": [
    "Starting with CS2_33, in excel file format"
   ]
  },
  {
   "cell_type": "code",
   "execution_count": 51,
   "metadata": {},
   "outputs": [],
   "source": [
    "#also had to pip install openpyxl\n",
    "import glob \n",
    "from math import isclose\n",
    "import os \n",
    "import pandas as pd\n",
    "from pandas import ExcelWriter\n",
    "import requests\n",
    "import scipy.io\n",
    "import scipy.signal\n",
    "\n",
    "### Wrapper Functions below - load_sep_cycles and clean_calc_sep_smooth\n",
    "\n",
    "def load_sep_cycles(getdata_filepath, savedata_filepath):\n",
    "    \"\"\"Get data from a specified filpath, separates out data into cycles and saves those cycles as .xlsx files in specified filepath (must be an existing folder)\"\"\"\n",
    "    dfdict = get_data(getdata_filepath)\n",
    "    for key in dfdict:\n",
    "        all_cycles_df = dfdict[key]\n",
    "        cycle_dict = sep_cycles(all_cycles_df)\n",
    "        battname = key \n",
    "        save_sep_cycles_xlsx(cycle_dict, battname, savedata_filepath) \n",
    "    print('All data separated into cycles and saved')\n",
    "    return \n",
    "\n",
    "def clean_calc_sep_smooth(dataframe, windowlength, polyorder):\n",
    "    \"\"\"Takes one cycle dataframe, calculates dq/dv, cleans the data, separates out charge and discharge, and applies sav-golay filter. Returns two dataframes, one charge and one discharge.\n",
    "    Windowlength and polyorder are for the sav-golay filter.\"\"\"\n",
    "    df1 = calc_dv_dqdv(dataframe)\n",
    "    df2 = drop_0_dv(df1)\n",
    "    charge, discharge = sep_char_dis(df2)\n",
    "    smooth_charge = my_savgolay(charge, windowlength, polyorder)\n",
    "    smooth_discharge = my_savgolay(discharge, windowlength, polyorder)\n",
    "    return smooth_charge, smooth_discharge\n",
    "\n",
    "\n",
    "### Component Functions Below\n",
    "\n",
    "\n",
    "def get_data(filepath): \n",
    "    \"\"\"Imports all data in given path\"\"\"\n",
    "    rootdir = filepath\n",
    "    file_list = [f for f in glob.glob(os.path.join(rootdir,'*.xlsx'))] #iterate through dir to get excel files \n",
    "    \n",
    "    d = {} #initiate dict for data storage\n",
    "    count = 0\n",
    "    for file in file_list:\n",
    "        count += 1\n",
    "        name = os.path.split(file)[1].split('.')[0]\n",
    "        data = pd.read_excel(file,1)\n",
    "        new_set = {name : data}\n",
    "        d.update(new_set)\n",
    "        print(\"adding file \" + str(count) + ' ' + str(name))\n",
    "    return d\n",
    "### There are 23 files in the CS2 directory, so we should have 23 entries in the dictionary - add unit test for this, super EASY check \n",
    "\n",
    "#separate out dataframes into cycles\n",
    "def sep_cycles(dataframe):\n",
    "    \"\"\"This function separates out the cycles in the battery dataframe by grouping by the 'Cycle_Index' column, and putting them in a dictionary. \"\"\"\n",
    "    gb = dataframe.groupby(by = ['Cycle_Index'])\n",
    "    cycle_dict = dict(iter(gb))\n",
    "    return cycle_dict\n",
    "\n",
    "def save_sep_cycles_xlsx(cycle_dict, battname, path_to_folder):\n",
    "    '''This saves the separated out cycles into different excel files, beginning with the battery name. Battname and path to folder must be strings.'''\n",
    "    for i in range(1, len(cycle_dict)):\n",
    "         cycle_dict[i]['Battery_Label'] = battname\n",
    "    for i in range(1,len(cycle_dict)):\n",
    "        writer = ExcelWriter(path_to_folder + battname + 'Cycle' + str(i) + '.xlsx')\n",
    "        cycle_dict[i].to_excel(writer)\n",
    "        writer.save()\n",
    "    return \n",
    "\n",
    "\n",
    "def calc_dv_dqdv(cycle_df):\n",
    "    '''This function calculates the dv and the dq/dv for a dataframe.'''\n",
    "    cycle_df = cycle_df.reset_index(drop = True)\n",
    "    cycle_df['dV'] = None \n",
    "    cycle_df['dQ/dV'] = None \n",
    "    for i in range(1,len(cycle_df)): \n",
    "        cycle_df.loc[i, ('dV')] = cycle_df.loc[i, ('Voltage(V)')] - cycle_df.loc[i-1, ('Voltage(V)')]\n",
    "    #calculate dq/dv based off of discharge capacity - might change this later so user can choose to use charge or discharge cap. \n",
    "    cycle_df['dQ/dV'] = cycle_df['Discharge_Capacity(Ah)']/cycle_df['dV']\n",
    "    return cycle_df\n",
    "\n",
    "def drop_0_dv(cycle_df_dv): \n",
    "    '''Drop rows where dv=0 (or about 0) in a dataframe that has already had dv calculated. Then recalculate dv and calculate dq/dv'''\n",
    "    #this will clean up the data points around V = 4.2V (since they are holding it at 4.2V for a while).\n",
    "    \n",
    "    cycle_df_dv = cycle_df_dv.reset_index(drop = True)\n",
    "    \n",
    "    for i in range(1, len(cycle_df_dv)):\n",
    "        if isclose(cycle_df_dv.loc[i, ('dV')], 0, abs_tol = 10**-3):\n",
    "            cycle_df_dv = cycle_df_dv.drop(index = i)\n",
    "            \n",
    "    cycle_df_dv = cycle_df_dv.reset_index(drop = True)\n",
    "    \n",
    "    while (cycle_df_dv['dV'].max() > 0.1 or cycle_df_dv['dV'].min() < -0.1):\n",
    "        for i in range(1, len(cycle_df_dv)):    \n",
    "            cycle_df_dv.loc[i, ('dV')] = cycle_df_dv.loc[i, ('Voltage(V)')] - cycle_df_dv.loc[i-1, ('Voltage(V)')]\n",
    "            if (cycle_df_dv.loc[i,('dV')] > 0.1 or cycle_df_dv.loc[i,('dV')] < -0.1):\n",
    "                cycle_df_dv = cycle_df_dv.drop(index = i)\n",
    "                if i-1 in cycle_df_dv.index:\n",
    "                    cycle_df_dv = cycle_df_dv.drop(index = i-1) \n",
    "        cycle_df_dv = cycle_df_dv.reset_index(drop = True)  \n",
    "            \n",
    "    \n",
    "    cycle_df_dv = cycle_df_dv.reset_index(drop = True)            \n",
    "    \n",
    "    #recalculating dv after dropping rows\n",
    "    for i in range(1, len(cycle_df_dv)): \n",
    "        cycle_df_dv.loc[i, ('dV')] = cycle_df_dv.loc[i, ('Voltage(V)')] - cycle_df_dv.loc[i-1, ('Voltage(V)')]\n",
    "    #recalculate dq/dv  \n",
    "    cycle_df_dv['dQ/dV'] = cycle_df_dv['Discharge_Capacity(Ah)']/cycle_df_dv['dV']\n",
    "    cycle_df_dv = cycle_df_dv.dropna(subset=['dQ/dV'])\n",
    "    cycle_df_dv = cycle_df_dv.reset_index(drop = True)\n",
    "    return cycle_df_dv  \n",
    "\n",
    "def sep_char_dis(df_dqdv):\n",
    "    '''Takes a dataframe of one cycle with calculated dq/dv and separates into charge and discharge differential capacity curves'''\n",
    "    charge = df_dqdv[df_dqdv['dV'] < 0] \n",
    "    charge = charge.reset_index(drop = True)\n",
    "    discharge = df_dqdv[df_dqdv['dV'] > 0] \n",
    "    discharge = discharge.reset_index(drop = True)\n",
    "    return charge, discharge\n",
    "    \n",
    "def my_savgolay(dataframe, windowlength, polyorder):\n",
    "    \"\"\"Takes battery dataframe with a dQ/dV column and applies a sav_golay filter to it, returning the dataframe with a new column called Smoothed_dQ/dV\"\"\"\n",
    "    unfilt = pd.concat([dataframe['dQ/dV']])\n",
    "    unfiltar = unfilt.values\n",
    "    #converts into an array \n",
    "    dataframe['Smoothed_dQ/dV'] = scipy.signal.savgol_filter(unfiltar, windowlength, polyorder)\n",
    "    #had windowlength = 21 and polyorder = 3 before\n",
    "    return dataframe\n",
    "\n",
    "\n"
   ]
  },
  {
   "cell_type": "code",
   "execution_count": 3,
   "metadata": {},
   "outputs": [
    {
     "name": "stdout",
     "output_type": "stream",
     "text": [
      "adding file 1 CS2_33_10_04_10\n",
      "adding file 2 CS2_33_10_05_10\n",
      "adding file 3 CS2_33_10_15_10\n",
      "adding file 4 CS2_33_10_26_10\n",
      "adding file 5 CS2_33_11_01_10\n",
      "adding file 6 CS2_33_11_10_10\n",
      "adding file 7 CS2_33_11_19_10\n",
      "adding file 8 CS2_33_11_24_10\n",
      "adding file 9 CS2_33_12_08_10\n",
      "adding file 10 CS2_33_12_16_10\n",
      "adding file 11 CS2_33_12_23_10\n",
      "adding file 12 CS2_33_1_10_11\n",
      "adding file 13 CS2_33_1_18_11\n",
      "adding file 14 CS2_33_1_24_11\n",
      "adding file 15 CS2_33_1_28_11\n",
      "adding file 16 CS2_33_2_2_11\n",
      "adding file 17 CS2_33_8_17_10\n",
      "adding file 18 CS2_33_8_18_10\n",
      "adding file 19 CS2_33_8_19_10\n",
      "adding file 20 CS2_33_8_30_10\n",
      "adding file 21 CS2_33_9_17_10\n",
      "adding file 22 CS2_33_9_27_10\n",
      "adding file 23 CS2_33_9_7_10\n",
      "All data separated into cycles and saved\n"
     ]
    }
   ],
   "source": [
    "load_sep_cycles('data/CS2_33/', 'NLT_Test/')"
   ]
  },
  {
   "cell_type": "code",
   "execution_count": 52,
   "metadata": {},
   "outputs": [],
   "source": [
    "mytestdf = pd.read_excel('NLT_Test/NLT_TestSepCycles/CS2_33_1_10_11Cycle15.xlsx')"
   ]
  },
  {
   "cell_type": "code",
   "execution_count": 53,
   "metadata": {},
   "outputs": [
    {
     "data": {
      "text/plain": [
       "(316, 18)"
      ]
     },
     "execution_count": 53,
     "metadata": {},
     "output_type": "execute_result"
    }
   ],
   "source": [
    "mytestdf.shape"
   ]
  },
  {
   "cell_type": "code",
   "execution_count": 56,
   "metadata": {},
   "outputs": [
    {
     "ename": "ValueError",
     "evalue": "If mode is 'interp', window_length must be less than or equal to the size of x.",
     "output_type": "error",
     "traceback": [
      "\u001b[1;31m---------------------------------------------------------------------------\u001b[0m",
      "\u001b[1;31mValueError\u001b[0m                                Traceback (most recent call last)",
      "\u001b[1;32m<ipython-input-56-eae7c9e97ac3>\u001b[0m in \u001b[0;36m<module>\u001b[1;34m()\u001b[0m\n\u001b[1;32m----> 1\u001b[1;33m \u001b[0mcharge\u001b[0m\u001b[1;33m,\u001b[0m \u001b[0mdischarge\u001b[0m \u001b[1;33m=\u001b[0m \u001b[0mclean_calc_sep_smooth\u001b[0m\u001b[1;33m(\u001b[0m\u001b[0mmytestdf\u001b[0m\u001b[1;33m,\u001b[0m \u001b[1;36m21\u001b[0m\u001b[1;33m,\u001b[0m \u001b[1;36m2\u001b[0m\u001b[1;33m)\u001b[0m\u001b[1;33m\u001b[0m\u001b[0m\n\u001b[0m\u001b[0;32m      2\u001b[0m \u001b[0mfig\u001b[0m \u001b[1;33m=\u001b[0m \u001b[0mplt\u001b[0m\u001b[1;33m.\u001b[0m\u001b[0mfigure\u001b[0m\u001b[1;33m(\u001b[0m\u001b[0mfigsize\u001b[0m\u001b[1;33m=\u001b[0m\u001b[1;33m(\u001b[0m\u001b[1;36m10\u001b[0m\u001b[1;33m,\u001b[0m \u001b[1;36m10\u001b[0m\u001b[1;33m)\u001b[0m\u001b[1;33m,\u001b[0m \u001b[0mfacecolor\u001b[0m\u001b[1;33m=\u001b[0m\u001b[1;34m'w'\u001b[0m\u001b[1;33m,\u001b[0m \u001b[0medgecolor\u001b[0m\u001b[1;33m=\u001b[0m\u001b[1;34m'k'\u001b[0m\u001b[1;33m)\u001b[0m\u001b[1;33m\u001b[0m\u001b[0m\n\u001b[0;32m      3\u001b[0m \u001b[0mmyplot\u001b[0m \u001b[1;33m=\u001b[0m \u001b[0mplt\u001b[0m\u001b[1;33m.\u001b[0m\u001b[0mplot\u001b[0m\u001b[1;33m(\u001b[0m\u001b[0mcharge\u001b[0m\u001b[1;33m[\u001b[0m\u001b[1;34m'Voltage(V)'\u001b[0m\u001b[1;33m]\u001b[0m\u001b[1;33m,\u001b[0m \u001b[0mcharge\u001b[0m\u001b[1;33m[\u001b[0m\u001b[1;34m'Smoothed_dQ/dV'\u001b[0m\u001b[1;33m]\u001b[0m\u001b[1;33m)\u001b[0m\u001b[1;33m\u001b[0m\u001b[0m\n",
      "\u001b[1;32m<ipython-input-51-46c1d840896d>\u001b[0m in \u001b[0;36mclean_calc_sep_smooth\u001b[1;34m(dataframe, windowlength, polyorder)\u001b[0m\n\u001b[0;32m     29\u001b[0m     \u001b[0mcharge\u001b[0m\u001b[1;33m,\u001b[0m \u001b[0mdischarge\u001b[0m \u001b[1;33m=\u001b[0m \u001b[0msep_char_dis\u001b[0m\u001b[1;33m(\u001b[0m\u001b[0mdf2\u001b[0m\u001b[1;33m)\u001b[0m\u001b[1;33m\u001b[0m\u001b[0m\n\u001b[0;32m     30\u001b[0m     \u001b[0msmooth_charge\u001b[0m \u001b[1;33m=\u001b[0m \u001b[0mmy_savgolay\u001b[0m\u001b[1;33m(\u001b[0m\u001b[0mcharge\u001b[0m\u001b[1;33m,\u001b[0m \u001b[0mwindowlength\u001b[0m\u001b[1;33m,\u001b[0m \u001b[0mpolyorder\u001b[0m\u001b[1;33m)\u001b[0m\u001b[1;33m\u001b[0m\u001b[0m\n\u001b[1;32m---> 31\u001b[1;33m     \u001b[0msmooth_discharge\u001b[0m \u001b[1;33m=\u001b[0m \u001b[0mmy_savgolay\u001b[0m\u001b[1;33m(\u001b[0m\u001b[0mdischarge\u001b[0m\u001b[1;33m,\u001b[0m \u001b[0mwindowlength\u001b[0m\u001b[1;33m,\u001b[0m \u001b[0mpolyorder\u001b[0m\u001b[1;33m)\u001b[0m\u001b[1;33m\u001b[0m\u001b[0m\n\u001b[0m\u001b[0;32m     32\u001b[0m     \u001b[1;32mreturn\u001b[0m \u001b[0msmooth_charge\u001b[0m\u001b[1;33m,\u001b[0m \u001b[0msmooth_discharge\u001b[0m\u001b[1;33m\u001b[0m\u001b[0m\n\u001b[0;32m     33\u001b[0m \u001b[1;33m\u001b[0m\u001b[0m\n",
      "\u001b[1;32m<ipython-input-51-46c1d840896d>\u001b[0m in \u001b[0;36mmy_savgolay\u001b[1;34m(dataframe, windowlength, polyorder)\u001b[0m\n\u001b[0;32m    128\u001b[0m     \u001b[0munfiltar\u001b[0m \u001b[1;33m=\u001b[0m \u001b[0munfilt\u001b[0m\u001b[1;33m.\u001b[0m\u001b[0mvalues\u001b[0m\u001b[1;33m\u001b[0m\u001b[0m\n\u001b[0;32m    129\u001b[0m     \u001b[1;31m#converts into an array\u001b[0m\u001b[1;33m\u001b[0m\u001b[1;33m\u001b[0m\u001b[0m\n\u001b[1;32m--> 130\u001b[1;33m     \u001b[0mdataframe\u001b[0m\u001b[1;33m[\u001b[0m\u001b[1;34m'Smoothed_dQ/dV'\u001b[0m\u001b[1;33m]\u001b[0m \u001b[1;33m=\u001b[0m \u001b[0mscipy\u001b[0m\u001b[1;33m.\u001b[0m\u001b[0msignal\u001b[0m\u001b[1;33m.\u001b[0m\u001b[0msavgol_filter\u001b[0m\u001b[1;33m(\u001b[0m\u001b[0munfiltar\u001b[0m\u001b[1;33m,\u001b[0m \u001b[0mwindowlength\u001b[0m\u001b[1;33m,\u001b[0m \u001b[0mpolyorder\u001b[0m\u001b[1;33m)\u001b[0m\u001b[1;33m\u001b[0m\u001b[0m\n\u001b[0m\u001b[0;32m    131\u001b[0m     \u001b[1;31m#had windowlength = 21 and polyorder = 3 before\u001b[0m\u001b[1;33m\u001b[0m\u001b[1;33m\u001b[0m\u001b[0m\n\u001b[0;32m    132\u001b[0m     \u001b[1;32mreturn\u001b[0m \u001b[0mdataframe\u001b[0m\u001b[1;33m\u001b[0m\u001b[0m\n",
      "\u001b[1;32m~\\Miniconda3\\lib\\site-packages\\scipy\\signal\\_savitzky_golay.py\u001b[0m in \u001b[0;36msavgol_filter\u001b[1;34m(x, window_length, polyorder, deriv, delta, axis, mode, cval)\u001b[0m\n\u001b[0;32m    335\u001b[0m     \u001b[1;32mif\u001b[0m \u001b[0mmode\u001b[0m \u001b[1;33m==\u001b[0m \u001b[1;34m\"interp\"\u001b[0m\u001b[1;33m:\u001b[0m\u001b[1;33m\u001b[0m\u001b[0m\n\u001b[0;32m    336\u001b[0m         \u001b[1;32mif\u001b[0m \u001b[0mwindow_length\u001b[0m \u001b[1;33m>\u001b[0m \u001b[0mx\u001b[0m\u001b[1;33m.\u001b[0m\u001b[0msize\u001b[0m\u001b[1;33m:\u001b[0m\u001b[1;33m\u001b[0m\u001b[0m\n\u001b[1;32m--> 337\u001b[1;33m             raise ValueError(\"If mode is 'interp', window_length must be less \"\n\u001b[0m\u001b[0;32m    338\u001b[0m                              \"than or equal to the size of x.\")\n\u001b[0;32m    339\u001b[0m \u001b[1;33m\u001b[0m\u001b[0m\n",
      "\u001b[1;31mValueError\u001b[0m: If mode is 'interp', window_length must be less than or equal to the size of x."
     ]
    }
   ],
   "source": [
    "charge, discharge = clean_calc_sep_smooth(mytestdf, 21, 2)\n",
    "fig = plt.figure(figsize=(10, 10), facecolor='w', edgecolor='k')\n",
    "myplot = plt.plot(charge['Voltage(V)'], charge['Smoothed_dQ/dV'])"
   ]
  },
  {
   "cell_type": "code",
   "execution_count": 57,
   "metadata": {},
   "outputs": [
    {
     "data": {
      "text/html": [
       "<div>\n",
       "<style scoped>\n",
       "    .dataframe tbody tr th:only-of-type {\n",
       "        vertical-align: middle;\n",
       "    }\n",
       "\n",
       "    .dataframe tbody tr th {\n",
       "        vertical-align: top;\n",
       "    }\n",
       "\n",
       "    .dataframe thead th {\n",
       "        text-align: right;\n",
       "    }\n",
       "</style>\n",
       "<table border=\"1\" class=\"dataframe\">\n",
       "  <thead>\n",
       "    <tr style=\"text-align: right;\">\n",
       "      <th></th>\n",
       "      <th>Data_Point</th>\n",
       "      <th>Test_Time(s)</th>\n",
       "      <th>Date_Time</th>\n",
       "      <th>Step_Time(s)</th>\n",
       "      <th>Step_Index</th>\n",
       "      <th>Cycle_Index</th>\n",
       "      <th>Current(A)</th>\n",
       "      <th>Voltage(V)</th>\n",
       "      <th>Charge_Capacity(Ah)</th>\n",
       "      <th>Discharge_Capacity(Ah)</th>\n",
       "      <th>...</th>\n",
       "      <th>Discharge_Energy(Wh)</th>\n",
       "      <th>dV/dt(V/s)</th>\n",
       "      <th>Internal_Resistance(Ohm)</th>\n",
       "      <th>Is_FC_Data</th>\n",
       "      <th>AC_Impedance(Ohm)</th>\n",
       "      <th>ACI_Phase_Angle(Deg)</th>\n",
       "      <th>Battery_Label</th>\n",
       "      <th>dV</th>\n",
       "      <th>dQ/dV</th>\n",
       "      <th>Smoothed_dQ/dV</th>\n",
       "    </tr>\n",
       "  </thead>\n",
       "  <tbody>\n",
       "    <tr>\n",
       "      <th>0</th>\n",
       "      <td>6895</td>\n",
       "      <td>226529.965160</td>\n",
       "      <td>2010-09-30 05:08:05</td>\n",
       "      <td>60.030561</td>\n",
       "      <td>3</td>\n",
       "      <td>15</td>\n",
       "      <td>0.000000</td>\n",
       "      <td>4.106434</td>\n",
       "      <td>15.933881</td>\n",
       "      <td>15.001901</td>\n",
       "      <td>...</td>\n",
       "      <td>56.195185</td>\n",
       "      <td>-0.000227</td>\n",
       "      <td>0.094888</td>\n",
       "      <td>0</td>\n",
       "      <td>0</td>\n",
       "      <td>0</td>\n",
       "      <td>CS2_33_10_04_10</td>\n",
       "      <td>-0.0908771</td>\n",
       "      <td>-165.079</td>\n",
       "      <td>-958.843565</td>\n",
       "    </tr>\n",
       "    <tr>\n",
       "      <th>1</th>\n",
       "      <td>6896</td>\n",
       "      <td>226559.980468</td>\n",
       "      <td>2010-09-30 05:08:35</td>\n",
       "      <td>90.045869</td>\n",
       "      <td>3</td>\n",
       "      <td>15</td>\n",
       "      <td>0.000000</td>\n",
       "      <td>4.100602</td>\n",
       "      <td>15.933881</td>\n",
       "      <td>15.001901</td>\n",
       "      <td>...</td>\n",
       "      <td>56.195185</td>\n",
       "      <td>-0.000130</td>\n",
       "      <td>0.094888</td>\n",
       "      <td>0</td>\n",
       "      <td>0</td>\n",
       "      <td>0</td>\n",
       "      <td>CS2_33_10_04_10</td>\n",
       "      <td>-0.00583172</td>\n",
       "      <td>-2572.47</td>\n",
       "      <td>-1307.674477</td>\n",
       "    </tr>\n",
       "    <tr>\n",
       "      <th>2</th>\n",
       "      <td>6922</td>\n",
       "      <td>228998.396371</td>\n",
       "      <td>2010-09-30 05:49:14</td>\n",
       "      <td>60.030543</td>\n",
       "      <td>7</td>\n",
       "      <td>15</td>\n",
       "      <td>-0.550173</td>\n",
       "      <td>4.089425</td>\n",
       "      <td>16.060928</td>\n",
       "      <td>15.011075</td>\n",
       "      <td>...</td>\n",
       "      <td>56.232842</td>\n",
       "      <td>-0.000292</td>\n",
       "      <td>0.092538</td>\n",
       "      <td>0</td>\n",
       "      <td>0</td>\n",
       "      <td>0</td>\n",
       "      <td>CS2_33_10_04_10</td>\n",
       "      <td>-0.0111775</td>\n",
       "      <td>-1342.97</td>\n",
       "      <td>-1634.509378</td>\n",
       "    </tr>\n",
       "    <tr>\n",
       "      <th>3</th>\n",
       "      <td>6923</td>\n",
       "      <td>229028.411676</td>\n",
       "      <td>2010-09-30 05:49:44</td>\n",
       "      <td>90.045848</td>\n",
       "      <td>7</td>\n",
       "      <td>15</td>\n",
       "      <td>-0.550173</td>\n",
       "      <td>4.080191</td>\n",
       "      <td>16.060928</td>\n",
       "      <td>15.015662</td>\n",
       "      <td>...</td>\n",
       "      <td>56.251578</td>\n",
       "      <td>-0.000227</td>\n",
       "      <td>0.092538</td>\n",
       "      <td>0</td>\n",
       "      <td>0</td>\n",
       "      <td>0</td>\n",
       "      <td>CS2_33_10_04_10</td>\n",
       "      <td>-0.00923347</td>\n",
       "      <td>-1626.22</td>\n",
       "      <td>-1939.348267</td>\n",
       "    </tr>\n",
       "    <tr>\n",
       "      <th>4</th>\n",
       "      <td>6924</td>\n",
       "      <td>229058.427068</td>\n",
       "      <td>2010-09-30 05:50:14</td>\n",
       "      <td>120.061240</td>\n",
       "      <td>7</td>\n",
       "      <td>15</td>\n",
       "      <td>-0.550173</td>\n",
       "      <td>4.073063</td>\n",
       "      <td>16.060928</td>\n",
       "      <td>15.020249</td>\n",
       "      <td>...</td>\n",
       "      <td>56.270278</td>\n",
       "      <td>-0.000194</td>\n",
       "      <td>0.092538</td>\n",
       "      <td>0</td>\n",
       "      <td>0</td>\n",
       "      <td>0</td>\n",
       "      <td>CS2_33_10_04_10</td>\n",
       "      <td>-0.00712776</td>\n",
       "      <td>-2107.29</td>\n",
       "      <td>-2222.191145</td>\n",
       "    </tr>\n",
       "  </tbody>\n",
       "</table>\n",
       "<p>5 rows × 21 columns</p>\n",
       "</div>"
      ],
      "text/plain": [
       "   Data_Point   Test_Time(s)           Date_Time  Step_Time(s)  Step_Index  \\\n",
       "0        6895  226529.965160 2010-09-30 05:08:05     60.030561           3   \n",
       "1        6896  226559.980468 2010-09-30 05:08:35     90.045869           3   \n",
       "2        6922  228998.396371 2010-09-30 05:49:14     60.030543           7   \n",
       "3        6923  229028.411676 2010-09-30 05:49:44     90.045848           7   \n",
       "4        6924  229058.427068 2010-09-30 05:50:14    120.061240           7   \n",
       "\n",
       "   Cycle_Index  Current(A)  Voltage(V)  Charge_Capacity(Ah)  \\\n",
       "0           15    0.000000    4.106434            15.933881   \n",
       "1           15    0.000000    4.100602            15.933881   \n",
       "2           15   -0.550173    4.089425            16.060928   \n",
       "3           15   -0.550173    4.080191            16.060928   \n",
       "4           15   -0.550173    4.073063            16.060928   \n",
       "\n",
       "   Discharge_Capacity(Ah)      ...        Discharge_Energy(Wh)  dV/dt(V/s)  \\\n",
       "0               15.001901      ...                   56.195185   -0.000227   \n",
       "1               15.001901      ...                   56.195185   -0.000130   \n",
       "2               15.011075      ...                   56.232842   -0.000292   \n",
       "3               15.015662      ...                   56.251578   -0.000227   \n",
       "4               15.020249      ...                   56.270278   -0.000194   \n",
       "\n",
       "   Internal_Resistance(Ohm)  Is_FC_Data  AC_Impedance(Ohm)  \\\n",
       "0                  0.094888           0                  0   \n",
       "1                  0.094888           0                  0   \n",
       "2                  0.092538           0                  0   \n",
       "3                  0.092538           0                  0   \n",
       "4                  0.092538           0                  0   \n",
       "\n",
       "   ACI_Phase_Angle(Deg)    Battery_Label          dV    dQ/dV Smoothed_dQ/dV  \n",
       "0                     0  CS2_33_10_04_10  -0.0908771 -165.079    -958.843565  \n",
       "1                     0  CS2_33_10_04_10 -0.00583172 -2572.47   -1307.674477  \n",
       "2                     0  CS2_33_10_04_10  -0.0111775 -1342.97   -1634.509378  \n",
       "3                     0  CS2_33_10_04_10 -0.00923347 -1626.22   -1939.348267  \n",
       "4                     0  CS2_33_10_04_10 -0.00712776 -2107.29   -2222.191145  \n",
       "\n",
       "[5 rows x 21 columns]"
      ]
     },
     "execution_count": 57,
     "metadata": {},
     "output_type": "execute_result"
    }
   ],
   "source": [
    "charge.head()"
   ]
  },
  {
   "cell_type": "code",
   "execution_count": null,
   "metadata": {},
   "outputs": [],
   "source": []
  },
  {
   "cell_type": "markdown",
   "metadata": {},
   "source": [
    "### From Robert's Notebook + Sarah's Edits:"
   ]
  },
  {
   "cell_type": "code",
   "execution_count": null,
   "metadata": {},
   "outputs": [],
   "source": [
    "d = get_data('data/CS2_33/')"
   ]
  },
  {
   "cell_type": "code",
   "execution_count": null,
   "metadata": {},
   "outputs": [],
   "source": [
    "data1 = d['CS2_33_10_05_10']"
   ]
  },
  {
   "cell_type": "code",
   "execution_count": null,
   "metadata": {},
   "outputs": [],
   "source": [
    "data1['Cycle_Index'].max()"
   ]
  },
  {
   "cell_type": "code",
   "execution_count": null,
   "metadata": {},
   "outputs": [],
   "source": [
    "#add_label_dv_cols(dictionary = d)"
   ]
  },
  {
   "cell_type": "code",
   "execution_count": null,
   "metadata": {},
   "outputs": [],
   "source": [
    "#separate out dataframes into cycles\n",
    "def sep_cycles(dataframe):\n",
    "    \"\"\"This function separates out the cycles in the battery dataframe by grouping by the 'Cycle_Index' column, and putting them in a dictionary. \"\"\"\n",
    "    gb = dataframe.groupby(by = ['Cycle_Index'])\n",
    "    cycle_dict = dict(iter(gb))\n",
    "    return cycle_dict"
   ]
  },
  {
   "cell_type": "code",
   "execution_count": null,
   "metadata": {},
   "outputs": [],
   "source": [
    "test = sep_cycles(data1)\n",
    "#test is a dictionary of cycles"
   ]
  },
  {
   "cell_type": "code",
   "execution_count": null,
   "metadata": {},
   "outputs": [],
   "source": []
  },
  {
   "cell_type": "code",
   "execution_count": null,
   "metadata": {},
   "outputs": [],
   "source": [
    "\n",
    "#writer = ExcelWriter('NLToutput.xlsx')\n",
    "#test[1].to_excel(writer)\n",
    "#writer.save()"
   ]
  },
  {
   "cell_type": "code",
   "execution_count": null,
   "metadata": {},
   "outputs": [],
   "source": [
    "def save_sep_cycles_xlsx(cycle_dict, battname, path_to_folder):\n",
    "    '''This saves the separated out cycles into different excel files, beginning with the battery name. Battname and path to folder must be strings.'''\n",
    "    for i in range(1, len(cycle_dict)):\n",
    "         cycle_dict[i]['Battery_Label'] = battname\n",
    "    for i in range(1,len(cycle_dict)):\n",
    "        writer = ExcelWriter(path_to_folder + battname + 'Cycle' + str(i) + '.xlsx')\n",
    "        cycle_dict[i].to_excel(writer)\n",
    "        writer.save()\n",
    "    return \n"
   ]
  },
  {
   "cell_type": "code",
   "execution_count": null,
   "metadata": {},
   "outputs": [],
   "source": [
    "#save_sep_cycles_xlsx(test, 'NLTtest2', 'NLT_Test/')"
   ]
  },
  {
   "cell_type": "code",
   "execution_count": null,
   "metadata": {},
   "outputs": [],
   "source": [
    "testdata = pd.read_excel('NLT_Test/CS2_33_10_04_10Cycle14.xlsx')"
   ]
  },
  {
   "cell_type": "code",
   "execution_count": null,
   "metadata": {},
   "outputs": [],
   "source": [
    "testdata.head()"
   ]
  },
  {
   "cell_type": "markdown",
   "metadata": {},
   "source": [
    "### Calculate dV and dq/dv and Clean Data "
   ]
  },
  {
   "cell_type": "code",
   "execution_count": null,
   "metadata": {},
   "outputs": [],
   "source": [
    "def calc_dv_dqdv(cycle_df):\n",
    "    '''This function calculates the dv and the dq/dv for a dataframe.'''\n",
    "    cycle_df = cycle_df.reset_index(drop = True)\n",
    "    cycle_df['dV'] = None \n",
    "    cycle_df['dQ/dV'] = None \n",
    "    for i in range(1,len(cycle_df)): \n",
    "        cycle_df.loc[i, ('dV')] = cycle_df.loc[i, ('Voltage(V)')] - cycle_df.loc[i-1, ('Voltage(V)')]\n",
    "    #calculate dq/dv based off of discharge capacity - might change this later so user can choose to use charge or discharge cap. \n",
    "    cycle_df['dQ/dV'] = cycle_df['Discharge_Capacity(Ah)']/cycle_df['dV']\n",
    "    return cycle_df"
   ]
  },
  {
   "cell_type": "code",
   "execution_count": null,
   "metadata": {},
   "outputs": [],
   "source": [
    "testdata3 = calc_dv_dqdv(testdata)"
   ]
  },
  {
   "cell_type": "code",
   "execution_count": null,
   "metadata": {},
   "outputs": [],
   "source": [
    "testdata3.tail(50)"
   ]
  },
  {
   "cell_type": "code",
   "execution_count": null,
   "metadata": {},
   "outputs": [],
   "source": [
    "480 in testdata3.index"
   ]
  },
  {
   "cell_type": "code",
   "execution_count": null,
   "metadata": {},
   "outputs": [],
   "source": [
    "testdata3['dV'].max() > 0.9"
   ]
  },
  {
   "cell_type": "code",
   "execution_count": null,
   "metadata": {},
   "outputs": [],
   "source": [
    "#testdata2 = testdata2.reset_index(drop = True)"
   ]
  },
  {
   "cell_type": "code",
   "execution_count": null,
   "metadata": {},
   "outputs": [],
   "source": [
    "def drop_0_dv(cycle_df_dv): \n",
    "    '''Drop rows where dv=0 (or about 0) in a dataframe that has already had dv calculated. Then recalculate dv and calculate dq/dv'''\n",
    "    #this will clean up the data points around V = 4.2V (since they are holding it at 4.2V for a while).\n",
    "    \n",
    "    cycle_df_dv = cycle_df_dv.reset_index(drop = True)\n",
    "    \n",
    "    for i in range(1, len(cycle_df_dv)):\n",
    "        if isclose(cycle_df_dv.loc[i, ('dV')], 0, abs_tol = 10**-3):\n",
    "            cycle_df_dv = cycle_df_dv.drop(index = i)\n",
    "            \n",
    "    cycle_df_dv = cycle_df_dv.reset_index(drop = True)\n",
    "    \n",
    "    while (cycle_df_dv['dV'].max() > 0.05 or cycle_df_dv['dV'].min() < -0.05):\n",
    "        for i in range(1, len(cycle_df_dv)):    \n",
    "            if (cycle_df_dv.loc[i,('dV')] > 0.05 or cycle_df_dv.loc[i,('dV')] < -0.05):\n",
    "                cycle_df_dv = cycle_df_dv.drop(index = i)\n",
    "                if i-1 in cycle_df_dv.index:\n",
    "                    cycle_df_dv = cycle_df_dv.drop(index = i-1)\n",
    "    cycle_df_dv = cycle_df_dv.reset_index(drop = True)            \n",
    "    \n",
    "    #recalculating dv after dropping rows\n",
    "    for i in range(1, len(cycle_df_dv)): \n",
    "        cycle_df_dv.loc[i, ('dV')] = cycle_df_dv.loc[i, ('Voltage(V)')] - cycle_df_dv.loc[i-1, ('Voltage(V)')]\n",
    "    #recalculate dq/dv  \n",
    "    cycle_df_dv['dQ/dV'] = cycle_df_dv['Discharge_Capacity(Ah)']/cycle_df_dv['dV']\n",
    "    cycle_df_dv = cycle_df_dv.dropna(subset=['dQ/dV'])\n",
    "    cycle_df_dv = cycle_df_dv.reset_index(drop = True)\n",
    "    return cycle_df_dv  "
   ]
  },
  {
   "cell_type": "code",
   "execution_count": null,
   "metadata": {},
   "outputs": [],
   "source": [
    "data3_again = drop_0_dv(testdata3)"
   ]
  },
  {
   "cell_type": "markdown",
   "metadata": {},
   "source": [
    "### Separate by charge/discharge \n",
    "#### We want to take each cycle as an individual, but we also want to separate into charge+discharge just to do gaussian fitting easier, but still take charge+discharge as one set. So after cycles are separated out to be treated as individuals, we will run above code to smooth, separate them into charge and discharge (could reverse those two steps) and then do gaussian fitting to find peak descriptors. "
   ]
  },
  {
   "cell_type": "code",
   "execution_count": null,
   "metadata": {},
   "outputs": [],
   "source": [
    "data5 = calc_dv_dqdv(data3)"
   ]
  },
  {
   "cell_type": "code",
   "execution_count": null,
   "metadata": {},
   "outputs": [],
   "source": [
    "data6 = drop_0_dv(data5)"
   ]
  },
  {
   "cell_type": "code",
   "execution_count": null,
   "metadata": {},
   "outputs": [],
   "source": [
    "def sep_char_dis(df_dqdv):\n",
    "    '''Takes a dataframe of one cycle with calculated dq/dv and separates into charge and discharge differential capacity curves'''\n",
    "    charge = df_dqdv[df_dqdv['dV'] < 0] \n",
    "    charge = charge.reset_index(drop = True)\n",
    "    discharge = df_dqdv[df_dqdv['dV'] > 0] \n",
    "    discharge = discharge.reset_index(drop = True)\n",
    "    return charge, discharge\n",
    "    "
   ]
  },
  {
   "cell_type": "code",
   "execution_count": null,
   "metadata": {},
   "outputs": [],
   "source": [
    "charge, discharge = sep_char_dis(data6)"
   ]
  },
  {
   "cell_type": "code",
   "execution_count": null,
   "metadata": {},
   "outputs": [],
   "source": [
    "charge.tail(3)"
   ]
  },
  {
   "cell_type": "markdown",
   "metadata": {},
   "source": [
    "### Filter Sav Golay"
   ]
  },
  {
   "cell_type": "code",
   "execution_count": null,
   "metadata": {},
   "outputs": [],
   "source": [
    "fig = plt.figure(figsize=(10, 10), facecolor='w', edgecolor='k')\n",
    "myplot = plt.plot(discharge['Voltage(V)'], discharge['dQ/dV'])"
   ]
  },
  {
   "cell_type": "code",
   "execution_count": null,
   "metadata": {},
   "outputs": [],
   "source": [
    "def my_savgolay(dataframe, windowlength, polyorder):\n",
    "    \"\"\"Takes battery dataframe with a dQ/dV column and applies a sav_golay filter to it, returning the dataframe with a new column called Smoothed_dQ/dV\"\"\"\n",
    "    unfilt = pd.concat([dataframe['dQ/dV']])\n",
    "    unfiltar = unfilt.values\n",
    "    #converts into an array \n",
    "    dataframe['Smoothed_dQ/dV'] = scipy.signal.savgol_filter(unfiltar, windowlength, polyorder)\n",
    "    #had windowlength = 21 and polyorder = 3 before\n",
    "    return dataframe "
   ]
  },
  {
   "cell_type": "code",
   "execution_count": null,
   "metadata": {},
   "outputs": [],
   "source": [
    "data7 = my_savgolay(discharge, 21, 3)"
   ]
  },
  {
   "cell_type": "code",
   "execution_count": null,
   "metadata": {},
   "outputs": [],
   "source": [
    "fig = plt.figure(figsize=(10, 10), facecolor='w', edgecolor='k')\n",
    "myplot = plt.plot(data7['Voltage(V)'], data7['Smoothed_dQ/dV'])"
   ]
  },
  {
   "cell_type": "markdown",
   "metadata": {},
   "source": [
    "### Entire Function "
   ]
  },
  {
   "cell_type": "code",
   "execution_count": null,
   "metadata": {},
   "outputs": [],
   "source": [
    "#imports\n",
    "def load_sep_cycles(getdata_filepath, savedata_filepath):\n",
    "    dfdict = get_data(getdata_filepath)\n",
    "    for key in dfdict:\n",
    "        all_cycles_df = dfdict[key]\n",
    "        cycle_dict = sep_cycles(all_cycles_df)\n",
    "        battname = key \n",
    "        save_sep_cycles_xlsx(cycle_dict, battname, savedata_filepath) \n",
    "    print('All data separated into cycles and saved')\n",
    "    return \n",
    "#download all files from one folder into a dictionary \n",
    "#separate each df in dictionary into cycles & save to excel sheets in new folder - this becomes our raw set of test/train data?\n",
    "\n",
    "def clean_calc_sep_smooth(dataframe, windowlength, polyorder):\n",
    "    \"\"\"Takes one cycle dataframe, calculates dq/dv, cleans the data, separates out charge and discharge, and applies sav-golay filter. Returns two dataframes, one charge and one discharge.\n",
    "    Windowlength and polyorder are for the sav-golay filter.\"\"\"\n",
    "    df1 = calc_dv_dqdv(dataframe)\n",
    "    df2 = drop_0_dv(df1)\n",
    "    charge, discharge = sep_char_dis(df2)\n",
    "    smooth_charge = my_savgolay(charge, windowlength, polyorder)\n",
    "    smooth_discharge = my_savgolay(discharge, windowlength, polyorder)\n",
    "    return smooth_charge, smooth_discharge\n",
    "\n"
   ]
  },
  {
   "cell_type": "code",
   "execution_count": null,
   "metadata": {},
   "outputs": [],
   "source": [
    "load_sep_cycles('data/CS2_33/', 'NLT_Test/')"
   ]
  },
  {
   "cell_type": "code",
   "execution_count": null,
   "metadata": {},
   "outputs": [],
   "source": [
    "nltdf = pd.read_excel('NLT_Test/CS2_33_10_04_10Cycle16.xlsx')"
   ]
  },
  {
   "cell_type": "code",
   "execution_count": null,
   "metadata": {},
   "outputs": [],
   "source": [
    "nltdf.head()"
   ]
  },
  {
   "cell_type": "code",
   "execution_count": null,
   "metadata": {},
   "outputs": [],
   "source": [
    "nltdf2_charge, nltdf2_discharge = clean_calc_sep_smooth(nltdf, 21, 3)"
   ]
  },
  {
   "cell_type": "code",
   "execution_count": null,
   "metadata": {},
   "outputs": [],
   "source": [
    "nltdf2_charge.head()"
   ]
  },
  {
   "cell_type": "markdown",
   "metadata": {},
   "source": [
    "### Plot code"
   ]
  },
  {
   "cell_type": "code",
   "execution_count": null,
   "metadata": {},
   "outputs": [],
   "source": [
    "fig = plt.figure(figsize=(10, 10), facecolor='w', edgecolor='k')\n",
    "myplot = plt.plot(nltdf2_discharge['Voltage(V)'], nltdf2_discharge['Smoothed_dQ/dV'])"
   ]
  }
 ],
 "metadata": {
  "kernelspec": {
   "display_name": "Python 3",
   "language": "python",
   "name": "python3"
  },
  "language_info": {
   "codemirror_mode": {
    "name": "ipython",
    "version": 3
   },
   "file_extension": ".py",
   "mimetype": "text/x-python",
   "name": "python",
   "nbconvert_exporter": "python",
   "pygments_lexer": "ipython3",
   "version": "3.6.3"
  }
 },
 "nbformat": 4,
 "nbformat_minor": 2
}
