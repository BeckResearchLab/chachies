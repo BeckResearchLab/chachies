{
 "cells": [
  {
   "cell_type": "markdown",
   "metadata": {},
   "source": [
    "### This notebook's purpose is to get the CALCE data in a workable format (in a dataframe, cleaned, battery type labeled etc.)"
   ]
  },
  {
   "cell_type": "markdown",
   "metadata": {},
   "source": [
    "### Goals: (Add to this)\n",
    "1. Get files from CALCE website into dataframe(s)\n",
    "2. Add label for every cycle which battery this data came from \n",
    "3. Find/Remove empty cells  (delete the whole row or should we do interpolation?) (Might not even have empty cells)\n"
   ]
  },
  {
   "cell_type": "markdown",
   "metadata": {},
   "source": [
    "All CS2 cells underwent the same charging profile which was a standard constant current/constant voltage protocol with a constant current rate of 0.5C until the voltage reached 4.2V and then 4.2V was sustained until the charging current dropped to below 0.05A. Unless specified, the discharge cut off voltage for these batteries was 2.7V. All the CS2 cells were randomly numbered and named accordingly. Name 'CS2_n' was given for the nth numbered CS2 cell. "
   ]
  },
  {
   "cell_type": "markdown",
   "metadata": {},
   "source": [
    "#### Imports:"
   ]
  },
  {
   "cell_type": "code",
   "execution_count": 2,
   "metadata": {},
   "outputs": [],
   "source": [
    "import scipy.io\n",
    "import scipy.signal\n",
    "import os \n",
    "import pandas as pd\n",
    "import zipfile\n",
    "import requests\n",
    "import xlrd\n",
    "import matplotlib\n",
    "import matplotlib.pyplot as plt\n",
    "import numpy as np \n",
    "import seaborn as sns\n",
    "import statistics as stats\n",
    "from math import isclose\n",
    "from pathlib import Path\n",
    "%matplotlib inline"
   ]
  },
  {
   "cell_type": "markdown",
   "metadata": {},
   "source": [
    "#### Notes:\n",
    "To import .mat files into python:  \n",
    "import scipy.io   \n",
    "mat = scipy.io.loadmat('file.mat')  \n",
    "\n",
    "To unzip files: look at SEDS HW2 (not sure if we will use this)\n"
   ]
  },
  {
   "cell_type": "markdown",
   "metadata": {},
   "source": [
    "#### CS2 data (in excel format*)  \n",
    "Look at CS2 data first. From the website, CS2_'n' was given to the nth numbered CS2 cell (identifies unique cells from eachother). Each cell was cycled multiple times. Excel files are named using the testing dates.  **Were the same cells cycled on different dates or was the continuous cycling data split into multiple excel files?**   \n",
    "\n",
    "*CS2_8 and CS2_21 are in .txt format because they were cycled using a different system."
   ]
  },
  {
   "cell_type": "markdown",
   "metadata": {},
   "source": [
    "Starting with CS2_33, in excel file format"
   ]
  },
  {
   "cell_type": "code",
   "execution_count": null,
   "metadata": {},
   "outputs": [],
   "source": [
    "#data1 = pd.read_excel(\"data/CS2_33/CS2_33_10_04_10.xlsx\", sheet_name= \"Channel_1-006\")\n",
    "\n",
    "#it looks like all of these have the sheet name channel_1-006, not just this specific excel file? \n",
    "#would be nice to create a function to iterate over all the files in a given file and import them, store them in variable. "
   ]
  },
  {
   "cell_type": "code",
   "execution_count": null,
   "metadata": {},
   "outputs": [],
   "source": [
    "#data1['Cycle_Index'].max()\n",
    "\n",
    "#this gives the number of cycles they ran"
   ]
  },
  {
   "cell_type": "code",
   "execution_count": null,
   "metadata": {},
   "outputs": [],
   "source": [
    "#we will need to clean the data so that dq/dv does not come back with weird data, ie we need to make sure the dq/dv isn't being \n",
    "# calculated between identical voltage values (because then dv = 0)\n",
    "# (dq/dt)/(dv/dt)= dq/dv \n",
    "# (dq/dt) = current \n",
    "\n",
    "\n",
    "# calculate dv, find values close to 0, delete those rows, reindex, calculate dv again, "
   ]
  },
  {
   "cell_type": "markdown",
   "metadata": {},
   "source": [
    "### From Robert's Notebook:"
   ]
  },
  {
   "cell_type": "code",
   "execution_count": 4,
   "metadata": {},
   "outputs": [
    {
     "name": "stdout",
     "output_type": "stream",
     "text": [
      "1 CS2_33_10_04_10\n",
      "2 CS2_33_10_05_10\n",
      "3 CS2_33_10_15_10\n",
      "4 CS2_33_10_26_10\n",
      "5 CS2_33_11_01_10\n",
      "6 CS2_33_11_10_10\n",
      "7 CS2_33_11_19_10\n",
      "8 CS2_33_11_24_10\n",
      "9 CS2_33_12_08_10\n",
      "10 CS2_33_12_16_10\n",
      "11 CS2_33_12_23_10\n",
      "12 CS2_33_1_10_11\n",
      "13 CS2_33_1_18_11\n",
      "14 CS2_33_1_24_11\n",
      "15 CS2_33_1_28_11\n",
      "16 CS2_33_2_2_11\n",
      "17 CS2_33_8_17_10\n",
      "18 CS2_33_8_18_10\n",
      "19 CS2_33_8_19_10\n",
      "20 CS2_33_8_30_10\n",
      "21 CS2_33_9_17_10\n",
      "22 CS2_33_9_27_10\n",
      "23 CS2_33_9_7_10\n",
      "Done getting files\n"
     ]
    }
   ],
   "source": [
    "### Point this bad boy at a directory full of Excel spreadsheets. \n",
    "### For each spreadsheet in the directory, it will spit the 2nd sheet's data into a pandas dataframe. \n",
    "### These dataframes go into a dictionary, with each key named \n",
    "### after the original name of the .xlsx spreadsheet.\n",
    "\n",
    "rootdir = Path('data')\n",
    "# Return a list of regular files only, not directories\n",
    "file_list = [f for f in rootdir.glob('**/*') if f.is_file()]\n",
    "### Source: https://stackoverflow.com/questions/19587118/iterating-through-directories-with-python/19587581\n",
    "\n",
    "d = {}\n",
    "count = 0\n",
    "for file in file_list:\n",
    "    count += 1\n",
    "    name = os.path.split(file)[1].split('.')[0] \n",
    "    data = pd.read_excel(file,1)\n",
    "    new_set = {name : data}\n",
    "    d.update(new_set)\n",
    "    print(count, name)\n",
    "print('Done getting files')\n",
    "### There are 23 files in the CS2 directory, so we should have 23 entries in the dictionary"
   ]
  },
  {
   "cell_type": "code",
   "execution_count": 9,
   "metadata": {},
   "outputs": [],
   "source": [
    "data1 = d['CS2_33_10_04_10']"
   ]
  },
  {
   "cell_type": "code",
   "execution_count": 14,
   "metadata": {},
   "outputs": [
    {
     "data": {
      "text/plain": [
       "23"
      ]
     },
     "execution_count": 14,
     "metadata": {},
     "output_type": "execute_result"
    }
   ],
   "source": [
    "data1['Cycle_Index'].max()"
   ]
  },
  {
   "cell_type": "code",
   "execution_count": 26,
   "metadata": {},
   "outputs": [
    {
     "name": "stdout",
     "output_type": "stream",
     "text": [
      "CS2_33_10_04_10\n"
     ]
    },
    {
     "ename": "AttributeError",
     "evalue": "'NoneType' object has no attribute 'reset_index'",
     "output_type": "error",
     "traceback": [
      "\u001b[1;31m---------------------------------------------------------------------------\u001b[0m",
      "\u001b[1;31mAttributeError\u001b[0m                            Traceback (most recent call last)",
      "\u001b[1;32m<ipython-input-26-f305406093d8>\u001b[0m in \u001b[0;36m<module>\u001b[1;34m()\u001b[0m\n\u001b[0;32m     25\u001b[0m     \u001b[1;31m#will need to drope na row, there should only be one.\u001b[0m\u001b[1;33m\u001b[0m\u001b[1;33m\u001b[0m\u001b[0m\n\u001b[0;32m     26\u001b[0m     \u001b[0mdata1\u001b[0m \u001b[1;33m=\u001b[0m \u001b[0mdata1\u001b[0m\u001b[1;33m.\u001b[0m\u001b[0mdropna\u001b[0m\u001b[1;33m(\u001b[0m\u001b[0msubset\u001b[0m\u001b[1;33m=\u001b[0m\u001b[1;33m[\u001b[0m\u001b[1;34m'dQ/dV-dis'\u001b[0m\u001b[1;33m]\u001b[0m\u001b[1;33m,\u001b[0m \u001b[0minplace\u001b[0m\u001b[1;33m=\u001b[0m \u001b[1;32mTrue\u001b[0m\u001b[1;33m)\u001b[0m\u001b[1;33m\u001b[0m\u001b[0m\n\u001b[1;32m---> 27\u001b[1;33m     \u001b[0mdata1\u001b[0m \u001b[1;33m=\u001b[0m \u001b[0mdata1\u001b[0m\u001b[1;33m.\u001b[0m\u001b[0mreset_index\u001b[0m\u001b[1;33m(\u001b[0m\u001b[0mdrop\u001b[0m \u001b[1;33m=\u001b[0m \u001b[1;32mTrue\u001b[0m\u001b[1;33m)\u001b[0m\u001b[1;33m\u001b[0m\u001b[0m\n\u001b[0m\u001b[0;32m     28\u001b[0m     \u001b[1;31m#recalculate dq/dv after dropping n/a row\u001b[0m\u001b[1;33m\u001b[0m\u001b[1;33m\u001b[0m\u001b[0m\n\u001b[0;32m     29\u001b[0m     \u001b[0mdata1\u001b[0m\u001b[1;33m[\u001b[0m\u001b[1;34m'dQ/dV-dis'\u001b[0m\u001b[1;33m]\u001b[0m \u001b[1;33m=\u001b[0m \u001b[0mdata1\u001b[0m\u001b[1;33m[\u001b[0m\u001b[1;34m'Discharge_Capacity(Ah)'\u001b[0m\u001b[1;33m]\u001b[0m\u001b[1;33m/\u001b[0m\u001b[0mdata1\u001b[0m\u001b[1;33m[\u001b[0m\u001b[1;34m'dV'\u001b[0m\u001b[1;33m]\u001b[0m\u001b[1;33m\u001b[0m\u001b[0m\n",
      "\u001b[1;31mAttributeError\u001b[0m: 'NoneType' object has no attribute 'reset_index'"
     ]
    }
   ],
   "source": [
    "#iterate over keys of data, will replace above \"data1 = d['filename'] with data1 = d[keys]\n",
    "for keys in d:\n",
    "    print(keys)\n",
    "    data1 = d[keys]\n",
    "    # add a battery label corresponding to that battery's key. \n",
    "    data1['Battery_Label'] = keys\n",
    "    #creat column labeled 'dV'\n",
    "    data1['dV'] = None \n",
    "    #calculate dV for each data point\n",
    "    for i in range(1,len(data1)): \n",
    "        data1.loc[i, ('dV')] = data1.loc[i, ('Voltage(V)')] - data1.loc[i-1, ('Voltage(V)')]\n",
    "    #calculate dq/dv based off of discharge capacity - might change this later so user can choose to use charge or discharge cap. \n",
    "    data1['dQ/dV-dis'] = data1['Discharge_Capacity(Ah)']/data1['dV']\n",
    "    #drop rows if dv is about 0, this will clean up the data points around V = 4.2V (since they are holding it at 4.2V for a while)\n",
    "    for i in range(1,len(data1)):\n",
    "        if isclose(data1.loc[i, ('dV')], 0, abs_tol = 10**-3):\n",
    "            data1 = data1.drop(index = i)\n",
    "    #reset index\n",
    "    data1 = data1.reset_index(drop = True)\n",
    "    #recalculating dv after dropping rows\n",
    "    for i in range(1,len(data1)): \n",
    "        data1.loc[i, ('dV')] = data1.loc[i, ('Voltage(V)')] - data1.loc[i-1, ('Voltage(V)')]\n",
    "    #recalculate dq/dv  \n",
    "    data1['dQ/dV-dis'] = data1['Discharge_Capacity(Ah)']/data1['dV']\n",
    "    #will need to drope na row, there should only be one. \n",
    "    data1 = data1.dropna(subset=['dQ/dV-dis'], inplace= True)\n",
    "    data1 = data1.reset_index(drop = True)\n",
    "    #recalculate dq/dv after dropping n/a row\n",
    "    data1['dQ/dV-dis'] = data1['Discharge_Capacity(Ah)']/data1['dV']\n",
    "    \n",
    "        \n",
    "    gb = data1.groupby(by = ['Cycle_Index'])\n",
    "    \n",
    "    for name, group in gb:\n",
    "        print(name) \n",
    "        #print(group)\n",
    "        \n",
    "        \n",
    "        \n",
    "        \n",
    "        #grab group, grab discharge/charge, smooth data, grab descriptors, put into a new data frame with battery type, descriptors.\n",
    "        #this will be the dataframe we use for the ML \n",
    "        \n",
    "        \n",
    "    \n",
    "   "
   ]
  },
  {
   "cell_type": "code",
   "execution_count": 24,
   "metadata": {},
   "outputs": [
    {
     "data": {
      "text/html": [
       "<div>\n",
       "<style scoped>\n",
       "    .dataframe tbody tr th:only-of-type {\n",
       "        vertical-align: middle;\n",
       "    }\n",
       "\n",
       "    .dataframe tbody tr th {\n",
       "        vertical-align: top;\n",
       "    }\n",
       "\n",
       "    .dataframe thead th {\n",
       "        text-align: right;\n",
       "    }\n",
       "</style>\n",
       "<table border=\"1\" class=\"dataframe\">\n",
       "  <thead>\n",
       "    <tr style=\"text-align: right;\">\n",
       "      <th></th>\n",
       "      <th>Data_Point</th>\n",
       "      <th>Test_Time(s)</th>\n",
       "      <th>Date_Time</th>\n",
       "      <th>Step_Time(s)</th>\n",
       "      <th>Step_Index</th>\n",
       "      <th>Cycle_Index</th>\n",
       "      <th>Current(A)</th>\n",
       "      <th>Voltage(V)</th>\n",
       "      <th>Charge_Capacity(Ah)</th>\n",
       "      <th>Discharge_Capacity(Ah)</th>\n",
       "      <th>...</th>\n",
       "      <th>Discharge_Energy(Wh)</th>\n",
       "      <th>dV/dt(V/s)</th>\n",
       "      <th>Internal_Resistance(Ohm)</th>\n",
       "      <th>Is_FC_Data</th>\n",
       "      <th>AC_Impedance(Ohm)</th>\n",
       "      <th>ACI_Phase_Angle(Deg)</th>\n",
       "      <th>Battery Label</th>\n",
       "      <th>Battery_Label</th>\n",
       "      <th>dV</th>\n",
       "      <th>dQ/dV-dis</th>\n",
       "    </tr>\n",
       "  </thead>\n",
       "  <tbody>\n",
       "    <tr>\n",
       "      <th>0</th>\n",
       "      <td>1</td>\n",
       "      <td>30.000116</td>\n",
       "      <td>2010-09-27 14:12:48</td>\n",
       "      <td>30.000117</td>\n",
       "      <td>1</td>\n",
       "      <td>1</td>\n",
       "      <td>0.000000</td>\n",
       "      <td>3.451826</td>\n",
       "      <td>0.000000</td>\n",
       "      <td>0.0</td>\n",
       "      <td>...</td>\n",
       "      <td>0.0</td>\n",
       "      <td>-0.000032</td>\n",
       "      <td>0.0</td>\n",
       "      <td>0</td>\n",
       "      <td>0</td>\n",
       "      <td>0</td>\n",
       "      <td>1</td>\n",
       "      <td>CS2_33_10_04_10</td>\n",
       "      <td>None</td>\n",
       "      <td>NaN</td>\n",
       "    </tr>\n",
       "    <tr>\n",
       "      <th>1</th>\n",
       "      <td>2</td>\n",
       "      <td>60.015409</td>\n",
       "      <td>2010-09-27 14:13:18</td>\n",
       "      <td>60.015410</td>\n",
       "      <td>1</td>\n",
       "      <td>1</td>\n",
       "      <td>0.000000</td>\n",
       "      <td>3.451826</td>\n",
       "      <td>0.000000</td>\n",
       "      <td>0.0</td>\n",
       "      <td>...</td>\n",
       "      <td>0.0</td>\n",
       "      <td>0.000000</td>\n",
       "      <td>0.0</td>\n",
       "      <td>0</td>\n",
       "      <td>0</td>\n",
       "      <td>0</td>\n",
       "      <td>1</td>\n",
       "      <td>CS2_33_10_04_10</td>\n",
       "      <td>0</td>\n",
       "      <td>NaN</td>\n",
       "    </tr>\n",
       "    <tr>\n",
       "      <th>2</th>\n",
       "      <td>3</td>\n",
       "      <td>90.030676</td>\n",
       "      <td>2010-09-27 14:13:48</td>\n",
       "      <td>90.030677</td>\n",
       "      <td>1</td>\n",
       "      <td>1</td>\n",
       "      <td>0.000000</td>\n",
       "      <td>3.451988</td>\n",
       "      <td>0.000000</td>\n",
       "      <td>0.0</td>\n",
       "      <td>...</td>\n",
       "      <td>0.0</td>\n",
       "      <td>0.000000</td>\n",
       "      <td>0.0</td>\n",
       "      <td>0</td>\n",
       "      <td>0</td>\n",
       "      <td>0</td>\n",
       "      <td>1</td>\n",
       "      <td>CS2_33_10_04_10</td>\n",
       "      <td>0.000161886</td>\n",
       "      <td>0</td>\n",
       "    </tr>\n",
       "    <tr>\n",
       "      <th>3</th>\n",
       "      <td>4</td>\n",
       "      <td>120.014848</td>\n",
       "      <td>2010-09-27 14:14:18</td>\n",
       "      <td>120.014848</td>\n",
       "      <td>1</td>\n",
       "      <td>1</td>\n",
       "      <td>0.000000</td>\n",
       "      <td>3.451826</td>\n",
       "      <td>0.000000</td>\n",
       "      <td>0.0</td>\n",
       "      <td>...</td>\n",
       "      <td>0.0</td>\n",
       "      <td>-0.000032</td>\n",
       "      <td>0.0</td>\n",
       "      <td>0</td>\n",
       "      <td>0</td>\n",
       "      <td>0</td>\n",
       "      <td>1</td>\n",
       "      <td>CS2_33_10_04_10</td>\n",
       "      <td>-0.000161886</td>\n",
       "      <td>-0</td>\n",
       "    </tr>\n",
       "    <tr>\n",
       "      <th>4</th>\n",
       "      <td>5</td>\n",
       "      <td>150.030659</td>\n",
       "      <td>2010-09-27 14:14:48</td>\n",
       "      <td>30.015332</td>\n",
       "      <td>2</td>\n",
       "      <td>1</td>\n",
       "      <td>0.550025</td>\n",
       "      <td>3.584821</td>\n",
       "      <td>0.004585</td>\n",
       "      <td>0.0</td>\n",
       "      <td>...</td>\n",
       "      <td>0.0</td>\n",
       "      <td>0.001264</td>\n",
       "      <td>0.0</td>\n",
       "      <td>0</td>\n",
       "      <td>0</td>\n",
       "      <td>0</td>\n",
       "      <td>1</td>\n",
       "      <td>CS2_33_10_04_10</td>\n",
       "      <td>0.132995</td>\n",
       "      <td>0</td>\n",
       "    </tr>\n",
       "  </tbody>\n",
       "</table>\n",
       "<p>5 rows × 21 columns</p>\n",
       "</div>"
      ],
      "text/plain": [
       "   Data_Point  Test_Time(s)           Date_Time  Step_Time(s)  Step_Index  \\\n",
       "0           1     30.000116 2010-09-27 14:12:48     30.000117           1   \n",
       "1           2     60.015409 2010-09-27 14:13:18     60.015410           1   \n",
       "2           3     90.030676 2010-09-27 14:13:48     90.030677           1   \n",
       "3           4    120.014848 2010-09-27 14:14:18    120.014848           1   \n",
       "4           5    150.030659 2010-09-27 14:14:48     30.015332           2   \n",
       "\n",
       "   Cycle_Index  Current(A)  Voltage(V)  Charge_Capacity(Ah)  \\\n",
       "0            1    0.000000    3.451826             0.000000   \n",
       "1            1    0.000000    3.451826             0.000000   \n",
       "2            1    0.000000    3.451988             0.000000   \n",
       "3            1    0.000000    3.451826             0.000000   \n",
       "4            1    0.550025    3.584821             0.004585   \n",
       "\n",
       "   Discharge_Capacity(Ah)    ...     Discharge_Energy(Wh)  dV/dt(V/s)  \\\n",
       "0                     0.0    ...                      0.0   -0.000032   \n",
       "1                     0.0    ...                      0.0    0.000000   \n",
       "2                     0.0    ...                      0.0    0.000000   \n",
       "3                     0.0    ...                      0.0   -0.000032   \n",
       "4                     0.0    ...                      0.0    0.001264   \n",
       "\n",
       "   Internal_Resistance(Ohm)  Is_FC_Data  AC_Impedance(Ohm)  \\\n",
       "0                       0.0           0                  0   \n",
       "1                       0.0           0                  0   \n",
       "2                       0.0           0                  0   \n",
       "3                       0.0           0                  0   \n",
       "4                       0.0           0                  0   \n",
       "\n",
       "   ACI_Phase_Angle(Deg)  Battery Label    Battery_Label           dV dQ/dV-dis  \n",
       "0                     0              1  CS2_33_10_04_10         None       NaN  \n",
       "1                     0              1  CS2_33_10_04_10            0       NaN  \n",
       "2                     0              1  CS2_33_10_04_10  0.000161886         0  \n",
       "3                     0              1  CS2_33_10_04_10 -0.000161886        -0  \n",
       "4                     0              1  CS2_33_10_04_10     0.132995         0  \n",
       "\n",
       "[5 rows x 21 columns]"
      ]
     },
     "execution_count": 24,
     "metadata": {},
     "output_type": "execute_result"
    }
   ],
   "source": [
    "d['CS2_33_10_04_10'].head()"
   ]
  },
  {
   "cell_type": "markdown",
   "metadata": {},
   "source": [
    "### Grab individual cycles to run above code on: \n",
    "#### Should label type of battery in column for each cycle somehow so we can relate individual cycles back to type of battery"
   ]
  },
  {
   "cell_type": "code",
   "execution_count": 11,
   "metadata": {},
   "outputs": [
    {
     "data": {
      "text/plain": [
       "23"
      ]
     },
     "execution_count": 11,
     "metadata": {},
     "output_type": "execute_result"
    }
   ],
   "source": [
    "data1['Cycle_Index'].max()\n",
    "#this gives number of cycles in a given set "
   ]
  },
  {
   "cell_type": "code",
   "execution_count": null,
   "metadata": {},
   "outputs": [],
   "source": [
    "gb = data1.groupby(by = ['Cycle_Index'])"
   ]
  },
  {
   "cell_type": "code",
   "execution_count": null,
   "metadata": {},
   "outputs": [],
   "source": [
    "for name, group in gb: \n",
    "    print(name)\n",
    "    #want to use this logic to put individual cycles into individual dataframes. How should we store these? \n"
   ]
  },
  {
   "cell_type": "code",
   "execution_count": null,
   "metadata": {},
   "outputs": [],
   "source": [
    "for name, group in gb:\n",
    "    print(name)\n",
    "    print(group)"
   ]
  },
  {
   "cell_type": "code",
   "execution_count": null,
   "metadata": {},
   "outputs": [],
   "source": [
    "for i in range(1, data1['Cycle_Index'].max() + 1):\n",
    "    print(i)\n",
    "    "
   ]
  },
  {
   "cell_type": "markdown",
   "metadata": {},
   "source": [
    "### Separate by charge/discharge \n",
    "#### We want to take each cycle as an individual, but we also want to separate into charge+discharge just to do gaussian fitting easier, but still take charge+discharge as one set. So after cycles are separated out to be treated as individuals, we will run above code to smooth, separate them into charge and discharge (could reverse those two steps) and then do gaussian fitting to find peak descriptors. "
   ]
  },
  {
   "cell_type": "code",
   "execution_count": null,
   "metadata": {},
   "outputs": [],
   "source": []
  },
  {
   "cell_type": "markdown",
   "metadata": {},
   "source": [
    "New Column- To calculate dq/dv do discharge/charge capacity/ dv. calculate dv first. Ask robert whether to use discharge or charge capacity to calculate this. or do both and compare. Maybe ask user which capacity to use between discharge and charge - depends on system (i.e. Maccor) , which anode or cathode they are looking at etc. "
   ]
  },
  {
   "cell_type": "code",
   "execution_count": null,
   "metadata": {},
   "outputs": [],
   "source": [
    "data1['dV'] = None "
   ]
  },
  {
   "cell_type": "code",
   "execution_count": null,
   "metadata": {},
   "outputs": [],
   "source": [
    "data1.loc[2, ('Voltage(V)')]"
   ]
  },
  {
   "cell_type": "code",
   "execution_count": null,
   "metadata": {},
   "outputs": [],
   "source": [
    "range(len(data1))"
   ]
  },
  {
   "cell_type": "code",
   "execution_count": null,
   "metadata": {},
   "outputs": [],
   "source": [
    "for i in range(1,len(data1)): \n",
    "    data1.loc[i, ('dV')] = data1.loc[i, ('Voltage(V)')] - data1.loc[i-1, ('Voltage(V)')]\n"
   ]
  },
  {
   "cell_type": "code",
   "execution_count": null,
   "metadata": {},
   "outputs": [],
   "source": [
    "data1['dQ/dV-dis'] = data1['Discharge_Capacity(Ah)']/data1['dV']"
   ]
  },
  {
   "cell_type": "code",
   "execution_count": null,
   "metadata": {},
   "outputs": [],
   "source": [
    "#data1 = data1.replace([np.inf, -np.inf], np.nan).dropna(subset=['dQ/dV-dis'])"
   ]
  },
  {
   "cell_type": "code",
   "execution_count": null,
   "metadata": {},
   "outputs": [],
   "source": [
    "#data1 = data1.reset_index(drop = True)"
   ]
  },
  {
   "cell_type": "code",
   "execution_count": null,
   "metadata": {},
   "outputs": [],
   "source": [
    "data1['dQ/dV-dis'].mean()"
   ]
  },
  {
   "cell_type": "code",
   "execution_count": null,
   "metadata": {},
   "outputs": [],
   "source": [
    "df1 = pd.DataFrame() \n",
    "for i in range(1,len(data1)):\n",
    "    if data1.loc[i, ('Cycle_Index')] == 7:\n",
    "        df1 = df1.append(data1.loc[i])\n",
    "        \n",
    "fig = plt.figure(figsize=(10, 10), facecolor='w', edgecolor='k')\n",
    "myplot = plt.plot(df1['Voltage(V)'], df1['dQ/dV-dis'])"
   ]
  },
  {
   "cell_type": "code",
   "execution_count": null,
   "metadata": {},
   "outputs": [],
   "source": [
    "for i in range(1,len(data1)):\n",
    "    if isclose(data1.loc[i, ('dV')], 0, abs_tol = 10**-3):\n",
    "        data1 = data1.drop(index = i)\n",
    "#drop rows if dv is about 0, this will clean up the data points around V = 4.2V (since they are holding it at 4.2V for a while)\n",
    "#have to recalculate the dv after this I think "
   ]
  },
  {
   "cell_type": "code",
   "execution_count": null,
   "metadata": {},
   "outputs": [],
   "source": [
    "len(data1)"
   ]
  },
  {
   "cell_type": "code",
   "execution_count": null,
   "metadata": {},
   "outputs": [],
   "source": [
    "data1 = data1.reset_index(drop = True)"
   ]
  },
  {
   "cell_type": "code",
   "execution_count": null,
   "metadata": {},
   "outputs": [],
   "source": [
    "#recalculating dv after dropping rows\n",
    "for i in range(1,len(data1)): \n",
    "    data1.loc[i, ('dV')] = data1.loc[i, ('Voltage(V)')] - data1.loc[i-1, ('Voltage(V)')]\n"
   ]
  },
  {
   "cell_type": "code",
   "execution_count": null,
   "metadata": {},
   "outputs": [],
   "source": [
    "#recalculate dq/dv  \n",
    "data1['dQ/dV-dis'] = data1['Discharge_Capacity(Ah)']/data1['dV']"
   ]
  },
  {
   "cell_type": "code",
   "execution_count": null,
   "metadata": {},
   "outputs": [],
   "source": [
    "df1 = pd.DataFrame() \n",
    "for i in range(1,len(data1)):\n",
    "    if data1.loc[i, ('Cycle_Index')] == 7:\n",
    "        df1 = df1.append(data1.loc[i])\n",
    "        \n",
    "fig = plt.figure(figsize=(10, 10), facecolor='w', edgecolor='k')\n",
    "myplot = plt.plot(df1['Voltage(V)'], df1['dQ/dV-dis'])"
   ]
  },
  {
   "cell_type": "code",
   "execution_count": null,
   "metadata": {},
   "outputs": [],
   "source": [
    "data1['dQ/dV-char'] = data1['Charge_Capacity(Ah)']/data1['dV']"
   ]
  },
  {
   "cell_type": "code",
   "execution_count": null,
   "metadata": {},
   "outputs": [],
   "source": [
    "df1 = pd.DataFrame() \n",
    "for i in range(1,len(data1)):\n",
    "    if data1.loc[i, ('Cycle_Index')] == 7:\n",
    "        df1 = df1.append(data1.loc[i])\n",
    "        \n",
    "fig = plt.figure(figsize=(10, 10), facecolor='w', edgecolor='k')\n",
    "myplot = plt.plot(df1['Voltage(V)'], df1['dQ/dV-char'])\n",
    "# This is to see if using the charging capacity looks any different than using the discharging capacity. Look very similar. "
   ]
  },
  {
   "cell_type": "code",
   "execution_count": null,
   "metadata": {},
   "outputs": [],
   "source": [
    "data1['dQ/dV-dis'].max()"
   ]
  },
  {
   "cell_type": "code",
   "execution_count": null,
   "metadata": {},
   "outputs": [],
   "source": [
    "data1['dQ/dV-dis'].min()"
   ]
  },
  {
   "cell_type": "code",
   "execution_count": null,
   "metadata": {},
   "outputs": [],
   "source": [
    "data1['dQ/dV-char'].max()"
   ]
  },
  {
   "cell_type": "code",
   "execution_count": null,
   "metadata": {},
   "outputs": [],
   "source": [
    "data1['dQ/dV-char'].min()"
   ]
  },
  {
   "cell_type": "code",
   "execution_count": null,
   "metadata": {},
   "outputs": [],
   "source": [
    "data1.shape"
   ]
  },
  {
   "cell_type": "markdown",
   "metadata": {},
   "source": [
    "Drop Rows With N/A in dq/dv-discharge cap row. First replace inf values for N/a values so can use dropna"
   ]
  },
  {
   "cell_type": "code",
   "execution_count": null,
   "metadata": {},
   "outputs": [],
   "source": [
    "#will need to drope na row, there should only be one. \n",
    "data1.dropna(subset=['dQ/dV-dis'], inplace= True)"
   ]
  },
  {
   "cell_type": "code",
   "execution_count": null,
   "metadata": {},
   "outputs": [],
   "source": [
    "data1.shape"
   ]
  },
  {
   "cell_type": "code",
   "execution_count": null,
   "metadata": {},
   "outputs": [],
   "source": [
    "data1 = data1.reset_index(drop = True)"
   ]
  },
  {
   "cell_type": "code",
   "execution_count": null,
   "metadata": {},
   "outputs": [],
   "source": [
    "#recalculate dq/dv after dropping n/a row\n",
    "data1['dQ/dV-dis'] = data1['Discharge_Capacity(Ah)']/data1['dV']"
   ]
  },
  {
   "cell_type": "markdown",
   "metadata": {},
   "source": [
    "Reindex and calculate dV again "
   ]
  },
  {
   "cell_type": "code",
   "execution_count": null,
   "metadata": {},
   "outputs": [],
   "source": [
    "df1 = pd.DataFrame() \n",
    "for i in range(1,len(data1)):\n",
    "    if data1.loc[i, ('Cycle_Index')] == 7:\n",
    "        df1 = df1.append(data1.loc[i])\n",
    "        \n",
    "fig = plt.figure(figsize=(10, 10), facecolor='w', edgecolor='k')\n",
    "myplot = plt.plot(df1['Voltage(V)'], df1['dQ/dV-dis'])\n",
    " "
   ]
  },
  {
   "cell_type": "markdown",
   "metadata": {},
   "source": [
    "### Filter Sav Golay"
   ]
  },
  {
   "cell_type": "code",
   "execution_count": null,
   "metadata": {},
   "outputs": [],
   "source": [
    "data1['dV'].describe()"
   ]
  },
  {
   "cell_type": "code",
   "execution_count": null,
   "metadata": {},
   "outputs": [],
   "source": [
    "unfilt = pd.concat([data1['dQ/dV-dis']])"
   ]
  },
  {
   "cell_type": "code",
   "execution_count": null,
   "metadata": {},
   "outputs": [],
   "source": [
    "unfiltar = unfilt.values\n",
    "#converts into an array "
   ]
  },
  {
   "cell_type": "code",
   "execution_count": null,
   "metadata": {},
   "outputs": [],
   "source": [
    "data1['filtered dq/dv'] = scipy.signal.savgol_filter(unfiltar, 21, 3)"
   ]
  },
  {
   "cell_type": "code",
   "execution_count": null,
   "metadata": {},
   "outputs": [],
   "source": [
    "df1 = pd.DataFrame() \n",
    "for i in range(1,len(data1)):\n",
    "    if data1.loc[i, ('Cycle_Index')] == 6:\n",
    "        df1 = df1.append(data1.loc[i])\n",
    "        \n",
    "fig = plt.figure(figsize=(10, 10), facecolor='w', edgecolor='k')\n",
    "myplot = plt.plot(df1['Voltage(V)'], df1['filtered dq/dv'])"
   ]
  }
 ],
 "metadata": {
  "kernelspec": {
   "display_name": "Python 3",
   "language": "python",
   "name": "python3"
  },
  "language_info": {
   "codemirror_mode": {
    "name": "ipython",
    "version": 3
   },
   "file_extension": ".py",
   "mimetype": "text/x-python",
   "name": "python",
   "nbconvert_exporter": "python",
   "pygments_lexer": "ipython3",
   "version": "3.6.3"
  }
 },
 "nbformat": 4,
 "nbformat_minor": 2
}
