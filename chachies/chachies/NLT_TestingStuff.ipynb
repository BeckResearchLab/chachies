{
 "cells": [
  {
   "cell_type": "code",
   "execution_count": 1,
   "metadata": {},
   "outputs": [],
   "source": [
    "import chachifuncs\n",
    "from chachifuncs import load_sep_cycles, clean_calc_sep_smooth\n",
    "from chachifuncs import calc_dv_dqdv, drop_0_dv\n",
    "import matplotlib\n",
    "import matplotlib.pyplot as plt\n",
    "import pandas as pd\n",
    "%matplotlib inline"
   ]
  },
  {
   "cell_type": "code",
   "execution_count": 2,
   "metadata": {},
   "outputs": [
    {
     "name": "stdout",
     "output_type": "stream",
     "text": [
      "adding file 1 CS2_33_1_24_11\n",
      "All data separated into cycles and saved\n"
     ]
    }
   ],
   "source": [
    "load_sep_cycles('NLT_Test/NLT_TestSource/', 'NLT_Test/NLT_TestSepCycles/')\n",
    "# I had to make this first directory (source) just as a small set of the data to test this code on, and then had to make a \n",
    "#directory for where I wanted my cycles to be stored in once they were seperated out. This code takes a while to run. "
   ]
  },
  {
   "cell_type": "code",
   "execution_count": null,
   "metadata": {},
   "outputs": [],
   "source": [
    "#clean sep cycles, append charge + discharge +plot"
   ]
  },
  {
   "cell_type": "code",
   "execution_count": null,
   "metadata": {},
   "outputs": [],
   "source": [
    "#apply clean func to all in folder\n",
    "    #append discharge +charge , save sep cycles in clean cycles\n",
    "\n",
    "# for all cycles in clean cycles \n",
    "    #append cycles beginning with same name "
   ]
  },
  {
   "cell_type": "code",
   "execution_count": 5,
   "metadata": {},
   "outputs": [],
   "source": [
    "import glob \n",
    "import os\n",
    "from pandas import ExcelWriter\n",
    "\n",
    "def get_clean_cycles(import_filepath, save_filepath): \n",
    "    \"\"\"Imports all separated out cycles in given path and cleans them and saves them in the specified filepath\"\"\"\n",
    "    rootdir = import_filepath\n",
    "    file_list = [f for f in glob.glob(os.path.join(rootdir,'*.xlsx'))] #iterate through dir to get excel files \n",
    "    d = {} #initiate dict for data storage\n",
    "    count = 0\n",
    "    for file in file_list:\n",
    "        count += 1\n",
    "        name = os.path.split(file)[1].split('.')[0]\n",
    "        data = pd.read_excel(file)\n",
    "        charge, discharge = clean_calc_sep_smooth(data, 21, 3)\n",
    "        clean_data = charge.append(discharge)\n",
    "        clean_cycle = {name : clean_data}\n",
    "        d.update(clean_cycle)\n",
    "        print(\"adding file to dictionary\" + str(count) + ' ' + str(name))\n",
    "    for key in d:\n",
    "        clean_cycle_df = d[key]\n",
    "        cyclename = key \n",
    "        writer = ExcelWriter(save_filepath + cyclename + 'Clean'+ '.xlsx')\n",
    "        clean_cycle_df.to_excel(writer)\n",
    "        writer.save()\n",
    "       # save_sep_cycles_xlsx(d, cyclename, save_filepath) \n",
    "    print('All cycles cleaned and saved in folder.')\n",
    "    return "
   ]
  },
  {
   "cell_type": "code",
   "execution_count": 6,
   "metadata": {},
   "outputs": [
    {
     "name": "stdout",
     "output_type": "stream",
     "text": [
      "adding file to dictionary1 CS2_33_1_24_11-Cycle1\n",
      "adding file to dictionary2 CS2_33_1_24_11-Cycle10\n",
      "adding file to dictionary3 CS2_33_1_24_11-Cycle11\n",
      "adding file to dictionary4 CS2_33_1_24_11-Cycle12\n",
      "adding file to dictionary5 CS2_33_1_24_11-Cycle13\n",
      "adding file to dictionary6 CS2_33_1_24_11-Cycle14\n",
      "adding file to dictionary7 CS2_33_1_24_11-Cycle15\n",
      "adding file to dictionary8 CS2_33_1_24_11-Cycle16\n",
      "adding file to dictionary9 CS2_33_1_24_11-Cycle17\n",
      "adding file to dictionary10 CS2_33_1_24_11-Cycle18\n",
      "adding file to dictionary11 CS2_33_1_24_11-Cycle19\n",
      "adding file to dictionary12 CS2_33_1_24_11-Cycle2\n",
      "adding file to dictionary13 CS2_33_1_24_11-Cycle20\n",
      "adding file to dictionary14 CS2_33_1_24_11-Cycle21\n",
      "adding file to dictionary15 CS2_33_1_24_11-Cycle22\n",
      "adding file to dictionary16 CS2_33_1_24_11-Cycle23\n",
      "adding file to dictionary17 CS2_33_1_24_11-Cycle24\n",
      "adding file to dictionary18 CS2_33_1_24_11-Cycle25\n",
      "adding file to dictionary19 CS2_33_1_24_11-Cycle26\n",
      "adding file to dictionary20 CS2_33_1_24_11-Cycle27\n",
      "adding file to dictionary21 CS2_33_1_24_11-Cycle28\n",
      "adding file to dictionary22 CS2_33_1_24_11-Cycle29\n",
      "adding file to dictionary23 CS2_33_1_24_11-Cycle3\n",
      "adding file to dictionary24 CS2_33_1_24_11-Cycle30\n",
      "adding file to dictionary25 CS2_33_1_24_11-Cycle31\n",
      "adding file to dictionary26 CS2_33_1_24_11-Cycle32\n",
      "adding file to dictionary27 CS2_33_1_24_11-Cycle33\n",
      "adding file to dictionary28 CS2_33_1_24_11-Cycle34\n",
      "adding file to dictionary29 CS2_33_1_24_11-Cycle35\n",
      "adding file to dictionary30 CS2_33_1_24_11-Cycle36\n",
      "adding file to dictionary31 CS2_33_1_24_11-Cycle37\n",
      "adding file to dictionary32 CS2_33_1_24_11-Cycle38\n",
      "adding file to dictionary33 CS2_33_1_24_11-Cycle39\n",
      "adding file to dictionary34 CS2_33_1_24_11-Cycle4\n",
      "adding file to dictionary35 CS2_33_1_24_11-Cycle40\n",
      "adding file to dictionary36 CS2_33_1_24_11-Cycle41\n",
      "adding file to dictionary37 CS2_33_1_24_11-Cycle42\n",
      "adding file to dictionary38 CS2_33_1_24_11-Cycle43\n",
      "adding file to dictionary39 CS2_33_1_24_11-Cycle44\n",
      "adding file to dictionary40 CS2_33_1_24_11-Cycle45\n",
      "adding file to dictionary41 CS2_33_1_24_11-Cycle46\n",
      "adding file to dictionary42 CS2_33_1_24_11-Cycle47\n",
      "adding file to dictionary43 CS2_33_1_24_11-Cycle48\n",
      "adding file to dictionary44 CS2_33_1_24_11-Cycle49\n",
      "adding file to dictionary45 CS2_33_1_24_11-Cycle5\n",
      "adding file to dictionary46 CS2_33_1_24_11-Cycle6\n",
      "adding file to dictionary47 CS2_33_1_24_11-Cycle7\n",
      "adding file to dictionary48 CS2_33_1_24_11-Cycle8\n",
      "adding file to dictionary49 CS2_33_1_24_11-Cycle9\n",
      "All cycles cleaned and saved in folder.\n"
     ]
    }
   ],
   "source": [
    "get_clean_cycles('NLT_Test/NLT_TestSepCycles/', 'NLT_Test/NLT_TestCleanCycles/')"
   ]
  },
  {
   "cell_type": "code",
   "execution_count": 16,
   "metadata": {},
   "outputs": [
    {
     "name": "stdout",
     "output_type": "stream",
     "text": [
      "['a', 'b', 'c', 'x']\n"
     ]
    }
   ],
   "source": [
    "mylist = ['a', 'b', 'c']\n",
    "if 'x' not in mylist:\n",
    "    mylist.append('x')\n",
    "print(mylist)  "
   ]
  },
  {
   "cell_type": "code",
   "execution_count": null,
   "metadata": {},
   "outputs": [],
   "source": [
    "def get_clean_sets(import_filepath, save_filepath): \n",
    "    \"\"\"Imports all clean cycles of data from import path and appends them into complete sets of battery data, saved into save_filepath\"\"\"\n",
    "    rootdir = import_filepath\n",
    "    file_list = [f for f in glob.glob(os.path.join(rootdir,'*.xlsx'))] #iterate through dir to get excel files \n",
    "    d = {} #initiate dict for data storage\n",
    "    count = 0\n",
    "    list_bats = [] \n",
    "    for file in file_list:\n",
    "        count += 1\n",
    "        name = os.path.split(file)[1].split('.')[0]\n",
    "        batname = name.split('-')[0]\n",
    "        if batname not in list_bats:\n",
    "            list_bats.append(batname)\n",
    "        else: None \n",
    "       \n",
    "    #for each list: \n",
    "            # for names in list\n",
    "                #run all load excel, append df, return df  \n",
    "        \n",
    "        \n",
    "        data = pd.read_excel(file)\n",
    "        charge, discharge = clean_calc_sep_smooth(data, 21, 3)\n",
    "        clean_data = charge.append(discharge)\n",
    "        clean_cycle = {name : clean_data}\n",
    "        d.update(clean_cycle)\n",
    "        print(\"adding file to dictionary\" + str(count) + ' ' + str(name))\n",
    "    for key in d:\n",
    "        clean_cycle_df = d[key]\n",
    "        cyclename = key \n",
    "        writer = ExcelWriter(save_filepath + cyclename + '.xlsx')\n",
    "        clean_cycle_df.to_excel(writer)\n",
    "        writer.save()\n",
    "       # save_sep_cycles_xlsx(d, cyclename, save_filepath) \n",
    "    print('All cycles cleaned and saved in folder.')\n",
    "    return "
   ]
  },
  {
   "cell_type": "code",
   "execution_count": null,
   "metadata": {},
   "outputs": [],
   "source": [
    "name = os.path.split('NLT_Test/NLT_TestSepCycles/3_4_14_1C_CycleCycle12.xlsx')[1].split('.')[0]"
   ]
  },
  {
   "cell_type": "code",
   "execution_count": 9,
   "metadata": {},
   "outputs": [
    {
     "name": "stdout",
     "output_type": "stream",
     "text": [
      "3_4_14_1C_Cycle\n",
      "3_4_14_1C_Cycle-Cycle12\n"
     ]
    }
   ],
   "source": [
    "name = os.path.split('NLT_Test/NLT_TestSepCycles/3_4_14_1C_Cycle-Cycle12.xlsx')[1].split('.')[0]\n",
    "batname = name.split('-')[0]\n",
    "print(batname)\n",
    "print(name)"
   ]
  },
  {
   "cell_type": "code",
   "execution_count": null,
   "metadata": {},
   "outputs": [],
   "source": [
    "testdf = pd.read_excel('NLT_Test/NLT_TestSepCycles/3_4_14_1C_CycleCycle12.xlsx')\n",
    "#just picked a random one out of the separated out cycles"
   ]
  },
  {
   "cell_type": "code",
   "execution_count": null,
   "metadata": {},
   "outputs": [],
   "source": [
    "testdf2 = calc_dv_dqdv(testdf)"
   ]
  },
  {
   "cell_type": "code",
   "execution_count": null,
   "metadata": {},
   "outputs": [],
   "source": [
    "testdf.shape"
   ]
  },
  {
   "cell_type": "code",
   "execution_count": null,
   "metadata": {},
   "outputs": [],
   "source": [
    "charge, discharge = clean_calc_sep_smooth(testdf, 21, 3)"
   ]
  },
  {
   "cell_type": "code",
   "execution_count": null,
   "metadata": {},
   "outputs": [],
   "source": [
    "cleancyc = charge.append(discharge)"
   ]
  },
  {
   "cell_type": "code",
   "execution_count": null,
   "metadata": {},
   "outputs": [],
   "source": [
    "fig = plt.figure(figsize=(10, 10), facecolor='w', edgecolor='k')\n",
    "myplot = plt.plot(testdf2['Voltage(V)'], testdf2['dQ/dV'])\n",
    "plt.ylim(-20000, 20000)"
   ]
  },
  {
   "cell_type": "code",
   "execution_count": null,
   "metadata": {},
   "outputs": [],
   "source": [
    "testdf2['dV'].max()"
   ]
  },
  {
   "cell_type": "code",
   "execution_count": null,
   "metadata": {},
   "outputs": [],
   "source": [
    "discharge.head()"
   ]
  },
  {
   "cell_type": "code",
   "execution_count": null,
   "metadata": {},
   "outputs": [],
   "source": [
    "fig = plt.figure(figsize=(10, 10), facecolor='w', edgecolor='k')\n",
    "myplot = plt.plot(discharge['Voltage(V)'], discharge['Smoothed_dQ/dV'])"
   ]
  },
  {
   "cell_type": "code",
   "execution_count": null,
   "metadata": {},
   "outputs": [],
   "source": [
    "fig = plt.figure(figsize=(10, 10), facecolor='w', edgecolor='k')\n",
    "myplot = plt.plot(charge['Voltage(V)'], charge['Smoothed_dQ/dV'])"
   ]
  },
  {
   "cell_type": "code",
   "execution_count": null,
   "metadata": {},
   "outputs": [],
   "source": []
  }
 ],
 "metadata": {
  "kernelspec": {
   "display_name": "Python 3",
   "language": "python",
   "name": "python3"
  },
  "language_info": {
   "codemirror_mode": {
    "name": "ipython",
    "version": 3
   },
   "file_extension": ".py",
   "mimetype": "text/x-python",
   "name": "python",
   "nbconvert_exporter": "python",
   "pygments_lexer": "ipython3",
   "version": "3.6.3"
  }
 },
 "nbformat": 4,
 "nbformat_minor": 2
}
