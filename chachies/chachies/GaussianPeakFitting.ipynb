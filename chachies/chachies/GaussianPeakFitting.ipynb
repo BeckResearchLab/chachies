{
 "cells": [
  {
   "cell_type": "markdown",
   "metadata": {},
   "source": [
    "### This notebook's purpose is to get the CALCE data in a workable format (in a dataframe, cleaned, battery type labeled etc.)"
   ]
  },
  {
   "cell_type": "markdown",
   "metadata": {},
   "source": [
    "### Goals: (Add to this)\n",
    "1. Get files from CALCE website into dataframe(s)\n",
    "2. Add label for every cycle which battery this data came from \n",
    "3. Find/Remove empty cells  (delete the whole row or should we do interpolation?) (Might not even have empty cells)\n"
   ]
  },
  {
   "cell_type": "markdown",
   "metadata": {},
   "source": [
    "All CS2 cells underwent the same charging profile which was a standard constant current/constant voltage protocol with a constant current rate of 0.5C until the voltage reached 4.2V and then 4.2V was sustained until the charging current dropped to below 0.05A. Unless specified, the discharge cut off voltage for these batteries was 2.7V. All the CS2 cells were randomly numbered and named accordingly. Name 'CS2_n' was given for the nth numbered CS2 cell. "
   ]
  },
  {
   "cell_type": "markdown",
   "metadata": {},
   "source": [
    "#### Imports:"
   ]
  },
  {
   "cell_type": "code",
   "execution_count": 1,
   "metadata": {},
   "outputs": [],
   "source": [
    "import scipy.io\n",
    "import scipy.signal\n",
    "import os \n",
    "import pandas as pd\n",
    "import zipfile\n",
    "import requests\n",
    "import xlrd\n",
    "import matplotlib\n",
    "import matplotlib.pyplot as plt\n",
    "import numpy as np \n",
    "import seaborn as sns\n",
    "import statistics as stats\n",
    "from math import isclose\n",
    "from sklearn import mixture\n",
    "\n",
    "%matplotlib inline"
   ]
  },
  {
   "cell_type": "markdown",
   "metadata": {},
   "source": [
    "#### Notes:\n",
    "To import .mat files into python:  \n",
    "import scipy.io   \n",
    "mat = scipy.io.loadmat('file.mat')  \n",
    "\n",
    "To unzip files: look at SEDS HW2 (not sure if we will use this)\n"
   ]
  },
  {
   "cell_type": "markdown",
   "metadata": {},
   "source": [
    "#### CS2 data (in excel format*)  \n",
    "Look at CS2 data first. From the website, CS2_'n' was given to the nth numbered CS2 cell (identifies unique cells from eachother). Each cell was cycled multiple times. Excel files are named using the testing dates.  **Were the same cells cycled on different dates or was the continuous cycling data split into multiple excel files?**   \n",
    "\n",
    "*CS2_8 and CS2_21 are in .txt format because they were cycled using a different system."
   ]
  },
  {
   "cell_type": "markdown",
   "metadata": {},
   "source": [
    "Starting with CS2_33, in excel file format"
   ]
  },
  {
   "cell_type": "code",
   "execution_count": 2,
   "metadata": {},
   "outputs": [],
   "source": [
    "data1 = pd.read_excel(\"data/CS2_33/CS2_33_10_04_10.xlsx\", sheet_name= \"Channel_1-006\")\n",
    "#it looks like all of these have the sheet name channel_1-006, not just this specific excel file? \n",
    "#would be nice to create a function to iterate over all the files in a given file and import them, store them in variable. "
   ]
  },
  {
   "cell_type": "code",
   "execution_count": 3,
   "metadata": {},
   "outputs": [
    {
     "data": {
      "text/plain": [
       "23"
      ]
     },
     "execution_count": 3,
     "metadata": {},
     "output_type": "execute_result"
    }
   ],
   "source": [
    "data1['Cycle_Index'].max()\n",
    "#this gives the number of cycles they ran"
   ]
  },
  {
   "cell_type": "code",
   "execution_count": 4,
   "metadata": {},
   "outputs": [],
   "source": [
    "#we will need to clean the data so that dq/dv does not come back with weird data, ie we need to make sure the dq/dv isn't being \n",
    "# calculated between identical voltage values (because then dv = 0)\n",
    "# (dq/dt)/(dv/dt)= dq/dv \n",
    "# (dq/dt) = current \n",
    "\n",
    "\n",
    "# calculate dv, find values close to 0, delete those rows, reindex, calculate dv again, "
   ]
  },
  {
   "cell_type": "markdown",
   "metadata": {},
   "source": [
    "New Column- To calculate dq/dv do discharge/charge capacity/ dv. calculate dv first. Ask robert whether to use discharge or charge capacity to calculate this. or do both and compare. Maybe ask user which capacity to use between discharge and charge - depends on system (i.e. Maccor) , which anode or cathode they are looking at etc. "
   ]
  },
  {
   "cell_type": "code",
   "execution_count": 5,
   "metadata": {},
   "outputs": [],
   "source": [
    "data1['dV'] = None "
   ]
  },
  {
   "cell_type": "code",
   "execution_count": 6,
   "metadata": {},
   "outputs": [
    {
     "data": {
      "text/plain": [
       "3.4519877433776855"
      ]
     },
     "execution_count": 6,
     "metadata": {},
     "output_type": "execute_result"
    }
   ],
   "source": [
    "data1.loc[2, ('Voltage(V)')]"
   ]
  },
  {
   "cell_type": "code",
   "execution_count": 7,
   "metadata": {},
   "outputs": [
    {
     "data": {
      "text/plain": [
       "range(0, 10759)"
      ]
     },
     "execution_count": 7,
     "metadata": {},
     "output_type": "execute_result"
    }
   ],
   "source": [
    "range(len(data1))"
   ]
  },
  {
   "cell_type": "code",
   "execution_count": 8,
   "metadata": {},
   "outputs": [],
   "source": [
    "for i in range(1,len(data1)): \n",
    "    data1.loc[i, ('dV')] = data1.loc[i, ('Voltage(V)')] - data1.loc[i-1, ('Voltage(V)')]\n"
   ]
  },
  {
   "cell_type": "code",
   "execution_count": 9,
   "metadata": {},
   "outputs": [],
   "source": [
    "data1['dQ/dV'] = data1['Discharge_Capacity(Ah)']/data1['dV']"
   ]
  },
  {
   "cell_type": "code",
   "execution_count": 10,
   "metadata": {},
   "outputs": [
    {
     "data": {
      "text/html": [
       "<div>\n",
       "<style scoped>\n",
       "    .dataframe tbody tr th:only-of-type {\n",
       "        vertical-align: middle;\n",
       "    }\n",
       "\n",
       "    .dataframe tbody tr th {\n",
       "        vertical-align: top;\n",
       "    }\n",
       "\n",
       "    .dataframe thead th {\n",
       "        text-align: right;\n",
       "    }\n",
       "</style>\n",
       "<table border=\"1\" class=\"dataframe\">\n",
       "  <thead>\n",
       "    <tr style=\"text-align: right;\">\n",
       "      <th></th>\n",
       "      <th>Data_Point</th>\n",
       "      <th>Test_Time(s)</th>\n",
       "      <th>Date_Time</th>\n",
       "      <th>Step_Time(s)</th>\n",
       "      <th>Step_Index</th>\n",
       "      <th>Cycle_Index</th>\n",
       "      <th>Current(A)</th>\n",
       "      <th>Voltage(V)</th>\n",
       "      <th>Charge_Capacity(Ah)</th>\n",
       "      <th>Discharge_Capacity(Ah)</th>\n",
       "      <th>Charge_Energy(Wh)</th>\n",
       "      <th>Discharge_Energy(Wh)</th>\n",
       "      <th>dV/dt(V/s)</th>\n",
       "      <th>Internal_Resistance(Ohm)</th>\n",
       "      <th>Is_FC_Data</th>\n",
       "      <th>AC_Impedance(Ohm)</th>\n",
       "      <th>ACI_Phase_Angle(Deg)</th>\n",
       "      <th>dV</th>\n",
       "      <th>dQ/dV</th>\n",
       "    </tr>\n",
       "  </thead>\n",
       "  <tbody>\n",
       "    <tr>\n",
       "      <th>0</th>\n",
       "      <td>1</td>\n",
       "      <td>30.000116</td>\n",
       "      <td>2010-09-27 14:12:48</td>\n",
       "      <td>30.000117</td>\n",
       "      <td>1</td>\n",
       "      <td>1</td>\n",
       "      <td>0.000000</td>\n",
       "      <td>3.451826</td>\n",
       "      <td>0.000000</td>\n",
       "      <td>0.0</td>\n",
       "      <td>0.000000</td>\n",
       "      <td>0.0</td>\n",
       "      <td>-0.000032</td>\n",
       "      <td>0.0</td>\n",
       "      <td>0</td>\n",
       "      <td>0</td>\n",
       "      <td>0</td>\n",
       "      <td>None</td>\n",
       "      <td>NaN</td>\n",
       "    </tr>\n",
       "    <tr>\n",
       "      <th>1</th>\n",
       "      <td>2</td>\n",
       "      <td>60.015409</td>\n",
       "      <td>2010-09-27 14:13:18</td>\n",
       "      <td>60.015410</td>\n",
       "      <td>1</td>\n",
       "      <td>1</td>\n",
       "      <td>0.000000</td>\n",
       "      <td>3.451826</td>\n",
       "      <td>0.000000</td>\n",
       "      <td>0.0</td>\n",
       "      <td>0.000000</td>\n",
       "      <td>0.0</td>\n",
       "      <td>0.000000</td>\n",
       "      <td>0.0</td>\n",
       "      <td>0</td>\n",
       "      <td>0</td>\n",
       "      <td>0</td>\n",
       "      <td>0</td>\n",
       "      <td>NaN</td>\n",
       "    </tr>\n",
       "    <tr>\n",
       "      <th>2</th>\n",
       "      <td>3</td>\n",
       "      <td>90.030676</td>\n",
       "      <td>2010-09-27 14:13:48</td>\n",
       "      <td>90.030677</td>\n",
       "      <td>1</td>\n",
       "      <td>1</td>\n",
       "      <td>0.000000</td>\n",
       "      <td>3.451988</td>\n",
       "      <td>0.000000</td>\n",
       "      <td>0.0</td>\n",
       "      <td>0.000000</td>\n",
       "      <td>0.0</td>\n",
       "      <td>0.000000</td>\n",
       "      <td>0.0</td>\n",
       "      <td>0</td>\n",
       "      <td>0</td>\n",
       "      <td>0</td>\n",
       "      <td>0.000161886</td>\n",
       "      <td>0</td>\n",
       "    </tr>\n",
       "    <tr>\n",
       "      <th>3</th>\n",
       "      <td>4</td>\n",
       "      <td>120.014848</td>\n",
       "      <td>2010-09-27 14:14:18</td>\n",
       "      <td>120.014848</td>\n",
       "      <td>1</td>\n",
       "      <td>1</td>\n",
       "      <td>0.000000</td>\n",
       "      <td>3.451826</td>\n",
       "      <td>0.000000</td>\n",
       "      <td>0.0</td>\n",
       "      <td>0.000000</td>\n",
       "      <td>0.0</td>\n",
       "      <td>-0.000032</td>\n",
       "      <td>0.0</td>\n",
       "      <td>0</td>\n",
       "      <td>0</td>\n",
       "      <td>0</td>\n",
       "      <td>-0.000161886</td>\n",
       "      <td>-0</td>\n",
       "    </tr>\n",
       "    <tr>\n",
       "      <th>4</th>\n",
       "      <td>5</td>\n",
       "      <td>150.030659</td>\n",
       "      <td>2010-09-27 14:14:48</td>\n",
       "      <td>30.015332</td>\n",
       "      <td>2</td>\n",
       "      <td>1</td>\n",
       "      <td>0.550025</td>\n",
       "      <td>3.584821</td>\n",
       "      <td>0.004585</td>\n",
       "      <td>0.0</td>\n",
       "      <td>0.016314</td>\n",
       "      <td>0.0</td>\n",
       "      <td>0.001264</td>\n",
       "      <td>0.0</td>\n",
       "      <td>0</td>\n",
       "      <td>0</td>\n",
       "      <td>0</td>\n",
       "      <td>0.132995</td>\n",
       "      <td>0</td>\n",
       "    </tr>\n",
       "  </tbody>\n",
       "</table>\n",
       "</div>"
      ],
      "text/plain": [
       "   Data_Point  Test_Time(s)           Date_Time  Step_Time(s)  Step_Index  \\\n",
       "0           1     30.000116 2010-09-27 14:12:48     30.000117           1   \n",
       "1           2     60.015409 2010-09-27 14:13:18     60.015410           1   \n",
       "2           3     90.030676 2010-09-27 14:13:48     90.030677           1   \n",
       "3           4    120.014848 2010-09-27 14:14:18    120.014848           1   \n",
       "4           5    150.030659 2010-09-27 14:14:48     30.015332           2   \n",
       "\n",
       "   Cycle_Index  Current(A)  Voltage(V)  Charge_Capacity(Ah)  \\\n",
       "0            1    0.000000    3.451826             0.000000   \n",
       "1            1    0.000000    3.451826             0.000000   \n",
       "2            1    0.000000    3.451988             0.000000   \n",
       "3            1    0.000000    3.451826             0.000000   \n",
       "4            1    0.550025    3.584821             0.004585   \n",
       "\n",
       "   Discharge_Capacity(Ah)  Charge_Energy(Wh)  Discharge_Energy(Wh)  \\\n",
       "0                     0.0           0.000000                   0.0   \n",
       "1                     0.0           0.000000                   0.0   \n",
       "2                     0.0           0.000000                   0.0   \n",
       "3                     0.0           0.000000                   0.0   \n",
       "4                     0.0           0.016314                   0.0   \n",
       "\n",
       "   dV/dt(V/s)  Internal_Resistance(Ohm)  Is_FC_Data  AC_Impedance(Ohm)  \\\n",
       "0   -0.000032                       0.0           0                  0   \n",
       "1    0.000000                       0.0           0                  0   \n",
       "2    0.000000                       0.0           0                  0   \n",
       "3   -0.000032                       0.0           0                  0   \n",
       "4    0.001264                       0.0           0                  0   \n",
       "\n",
       "   ACI_Phase_Angle(Deg)           dV dQ/dV  \n",
       "0                     0         None   NaN  \n",
       "1                     0            0   NaN  \n",
       "2                     0  0.000161886     0  \n",
       "3                     0 -0.000161886    -0  \n",
       "4                     0     0.132995     0  "
      ]
     },
     "execution_count": 10,
     "metadata": {},
     "output_type": "execute_result"
    }
   ],
   "source": [
    "data1.head()"
   ]
  },
  {
   "cell_type": "code",
   "execution_count": 11,
   "metadata": {},
   "outputs": [],
   "source": [
    "data1 = data1.replace([np.inf, -np.inf], np.nan).dropna(subset=['dQ/dV'])"
   ]
  },
  {
   "cell_type": "code",
   "execution_count": 12,
   "metadata": {},
   "outputs": [],
   "source": [
    "data1 = data1.reset_index(drop = True)"
   ]
  },
  {
   "cell_type": "code",
   "execution_count": 13,
   "metadata": {},
   "outputs": [
    {
     "data": {
      "text/plain": [
       "113.589882961996"
      ]
     },
     "execution_count": 13,
     "metadata": {},
     "output_type": "execute_result"
    }
   ],
   "source": [
    "data1['dQ/dV'].mean()"
   ]
  },
  {
   "cell_type": "code",
   "execution_count": 14,
   "metadata": {},
   "outputs": [
    {
     "data": {
      "image/png": "[encoded data removed]",
      "text/plain": [
       "<matplotlib.figure.Figure at 0x2b8d5521048>"
      ]
     },
     "metadata": {},
     "output_type": "display_data"
    }
   ],
   "source": [
    "df1 = pd.DataFrame() \n",
    "for i in range(1,len(data1)):\n",
    "    if data1.loc[i, ('Cycle_Index')] == 7:\n",
    "        df1 = df1.append(data1.loc[i])\n",
    "        \n",
    "fig = plt.figure(figsize=(10, 10), facecolor='w', edgecolor='k')\n",
    "myplot = plt.plot(df1['Voltage(V)'], df1['dQ/dV'])"
   ]
  },
  {
   "cell_type": "code",
   "execution_count": 15,
   "metadata": {},
   "outputs": [],
   "source": [
    "for i in range(1,len(data1)):\n",
    "    if isclose(data1.loc[i, ('dV')], 0, abs_tol = 10**-3):\n",
    "        data1 = data1.drop(index = i)\n",
    "#drop rows if dv is about 0, this will clean up the data points around V = 4.2V (since they are holding it at 4.2V for a while)\n",
    "#have to recalculate the dv after this I think "
   ]
  },
  {
   "cell_type": "code",
   "execution_count": 16,
   "metadata": {},
   "outputs": [
    {
     "data": {
      "text/plain": [
       "9758"
      ]
     },
     "execution_count": 16,
     "metadata": {},
     "output_type": "execute_result"
    }
   ],
   "source": [
    "len(data1)"
   ]
  },
  {
   "cell_type": "code",
   "execution_count": 17,
   "metadata": {},
   "outputs": [],
   "source": [
    "data1 = data1.reset_index(drop = True)"
   ]
  },
  {
   "cell_type": "code",
   "execution_count": 18,
   "metadata": {},
   "outputs": [],
   "source": [
    "#recalculating dv after dropping rows\n",
    "for i in range(1,len(data1)): \n",
    "    data1.loc[i, ('dV')] = data1.loc[i, ('Voltage(V)')] - data1.loc[i-1, ('Voltage(V)')]\n"
   ]
  },
  {
   "cell_type": "code",
   "execution_count": 19,
   "metadata": {},
   "outputs": [],
   "source": [
    "#recalculate dq/dv  \n",
    "data1['dQ/dV'] = data1['Discharge_Capacity(Ah)']/data1['dV']"
   ]
  },
  {
   "cell_type": "code",
   "execution_count": 20,
   "metadata": {},
   "outputs": [
    {
     "data": {
      "image/png": "[encoded data removed]",
      "text/plain": [
       "<matplotlib.figure.Figure at 0x2b8d5533080>"
      ]
     },
     "metadata": {},
     "output_type": "display_data"
    }
   ],
   "source": [
    "df1 = pd.DataFrame() \n",
    "for i in range(1,len(data1)):\n",
    "    if data1.loc[i, ('Cycle_Index')] == 7:\n",
    "        df1 = df1.append(data1.loc[i])\n",
    "        \n",
    "fig = plt.figure(figsize=(10, 10), facecolor='w', edgecolor='k')\n",
    "myplot = plt.plot(df1['Voltage(V)'], df1['dQ/dV'])"
   ]
  },
  {
   "cell_type": "code",
   "execution_count": 21,
   "metadata": {},
   "outputs": [],
   "source": [
    "#data1['dQ/dV-discharge cap'] = data1['Discharge_Capacity(Ah)']/data1['dV']"
   ]
  },
  {
   "cell_type": "code",
   "execution_count": 22,
   "metadata": {},
   "outputs": [],
   "source": [
    "#data1['dQ/dV-charge cap'] = data1['Charge_Capacity(Ah)']/data1['dV']"
   ]
  },
  {
   "cell_type": "code",
   "execution_count": null,
   "metadata": {},
   "outputs": [],
   "source": []
  },
  {
   "cell_type": "markdown",
   "metadata": {},
   "source": [
    "Drop Rows With N/A or infinity in dq/dv-discharge cap row. First replace inf values for N/a values so can use dropna"
   ]
  },
  {
   "cell_type": "code",
   "execution_count": 23,
   "metadata": {},
   "outputs": [],
   "source": [
    "#data1.replace([np.inf, -np.inf], np.nan)"
   ]
  },
  {
   "cell_type": "code",
   "execution_count": 24,
   "metadata": {},
   "outputs": [],
   "source": [
    "data1 = data1.replace([np.inf, -np.inf], np.nan).dropna(subset=[\"dQ/dV\"])"
   ]
  },
  {
   "cell_type": "code",
   "execution_count": 25,
   "metadata": {},
   "outputs": [],
   "source": [
    "#data1.dropna(subset=['dQ/dV-discharge cap'], inplace= True)"
   ]
  },
  {
   "cell_type": "code",
   "execution_count": 26,
   "metadata": {},
   "outputs": [
    {
     "data": {
      "text/plain": [
       "41913.563841084666"
      ]
     },
     "execution_count": 26,
     "metadata": {},
     "output_type": "execute_result"
    }
   ],
   "source": [
    "data1['dQ/dV'].max()"
   ]
  },
  {
   "cell_type": "code",
   "execution_count": 27,
   "metadata": {},
   "outputs": [
    {
     "data": {
      "text/plain": [
       "(9758, 19)"
      ]
     },
     "execution_count": 27,
     "metadata": {},
     "output_type": "execute_result"
    }
   ],
   "source": [
    "\n",
    "data1.shape"
   ]
  },
  {
   "cell_type": "code",
   "execution_count": 28,
   "metadata": {},
   "outputs": [
    {
     "data": {
      "text/html": [
       "<div>\n",
       "<style scoped>\n",
       "    .dataframe tbody tr th:only-of-type {\n",
       "        vertical-align: middle;\n",
       "    }\n",
       "\n",
       "    .dataframe tbody tr th {\n",
       "        vertical-align: top;\n",
       "    }\n",
       "\n",
       "    .dataframe thead th {\n",
       "        text-align: right;\n",
       "    }\n",
       "</style>\n",
       "<table border=\"1\" class=\"dataframe\">\n",
       "  <thead>\n",
       "    <tr style=\"text-align: right;\">\n",
       "      <th></th>\n",
       "      <th>Data_Point</th>\n",
       "      <th>Test_Time(s)</th>\n",
       "      <th>Date_Time</th>\n",
       "      <th>Step_Time(s)</th>\n",
       "      <th>Step_Index</th>\n",
       "      <th>Cycle_Index</th>\n",
       "      <th>Current(A)</th>\n",
       "      <th>Voltage(V)</th>\n",
       "      <th>Charge_Capacity(Ah)</th>\n",
       "      <th>Discharge_Capacity(Ah)</th>\n",
       "      <th>Charge_Energy(Wh)</th>\n",
       "      <th>Discharge_Energy(Wh)</th>\n",
       "      <th>dV/dt(V/s)</th>\n",
       "      <th>Internal_Resistance(Ohm)</th>\n",
       "      <th>Is_FC_Data</th>\n",
       "      <th>AC_Impedance(Ohm)</th>\n",
       "      <th>ACI_Phase_Angle(Deg)</th>\n",
       "      <th>dV</th>\n",
       "      <th>dQ/dV</th>\n",
       "    </tr>\n",
       "  </thead>\n",
       "  <tbody>\n",
       "    <tr>\n",
       "      <th>0</th>\n",
       "      <td>3</td>\n",
       "      <td>90.030676</td>\n",
       "      <td>2010-09-27 14:13:48</td>\n",
       "      <td>90.030677</td>\n",
       "      <td>1</td>\n",
       "      <td>1</td>\n",
       "      <td>0.000000</td>\n",
       "      <td>3.451988</td>\n",
       "      <td>0.000000</td>\n",
       "      <td>0.0</td>\n",
       "      <td>0.000000</td>\n",
       "      <td>0.0</td>\n",
       "      <td>0.000000</td>\n",
       "      <td>0.0</td>\n",
       "      <td>0</td>\n",
       "      <td>0</td>\n",
       "      <td>0</td>\n",
       "      <td>0.000162</td>\n",
       "      <td>0.0</td>\n",
       "    </tr>\n",
       "    <tr>\n",
       "      <th>1</th>\n",
       "      <td>5</td>\n",
       "      <td>150.030659</td>\n",
       "      <td>2010-09-27 14:14:48</td>\n",
       "      <td>30.015332</td>\n",
       "      <td>2</td>\n",
       "      <td>1</td>\n",
       "      <td>0.550025</td>\n",
       "      <td>3.584821</td>\n",
       "      <td>0.004585</td>\n",
       "      <td>0.0</td>\n",
       "      <td>0.016314</td>\n",
       "      <td>0.0</td>\n",
       "      <td>0.001264</td>\n",
       "      <td>0.0</td>\n",
       "      <td>0</td>\n",
       "      <td>0</td>\n",
       "      <td>0</td>\n",
       "      <td>0.132833</td>\n",
       "      <td>0.0</td>\n",
       "    </tr>\n",
       "    <tr>\n",
       "      <th>2</th>\n",
       "      <td>6</td>\n",
       "      <td>180.045864</td>\n",
       "      <td>2010-09-27 14:15:18</td>\n",
       "      <td>60.030537</td>\n",
       "      <td>2</td>\n",
       "      <td>1</td>\n",
       "      <td>0.549845</td>\n",
       "      <td>3.625319</td>\n",
       "      <td>0.009170</td>\n",
       "      <td>0.0</td>\n",
       "      <td>0.032848</td>\n",
       "      <td>0.0</td>\n",
       "      <td>0.000972</td>\n",
       "      <td>0.0</td>\n",
       "      <td>0</td>\n",
       "      <td>0</td>\n",
       "      <td>0</td>\n",
       "      <td>0.040498</td>\n",
       "      <td>0.0</td>\n",
       "    </tr>\n",
       "    <tr>\n",
       "      <th>3</th>\n",
       "      <td>7</td>\n",
       "      <td>210.061288</td>\n",
       "      <td>2010-09-27 14:15:48</td>\n",
       "      <td>90.045961</td>\n",
       "      <td>2</td>\n",
       "      <td>1</td>\n",
       "      <td>0.549845</td>\n",
       "      <td>3.658041</td>\n",
       "      <td>0.013755</td>\n",
       "      <td>0.0</td>\n",
       "      <td>0.049547</td>\n",
       "      <td>0.0</td>\n",
       "      <td>0.000778</td>\n",
       "      <td>0.0</td>\n",
       "      <td>0</td>\n",
       "      <td>0</td>\n",
       "      <td>0</td>\n",
       "      <td>0.032722</td>\n",
       "      <td>0.0</td>\n",
       "    </tr>\n",
       "    <tr>\n",
       "      <th>4</th>\n",
       "      <td>8</td>\n",
       "      <td>240.076447</td>\n",
       "      <td>2010-09-27 14:16:18</td>\n",
       "      <td>120.061120</td>\n",
       "      <td>2</td>\n",
       "      <td>1</td>\n",
       "      <td>0.549845</td>\n",
       "      <td>3.685742</td>\n",
       "      <td>0.018340</td>\n",
       "      <td>0.0</td>\n",
       "      <td>0.066384</td>\n",
       "      <td>0.0</td>\n",
       "      <td>0.000680</td>\n",
       "      <td>0.0</td>\n",
       "      <td>0</td>\n",
       "      <td>0</td>\n",
       "      <td>0</td>\n",
       "      <td>0.027701</td>\n",
       "      <td>0.0</td>\n",
       "    </tr>\n",
       "  </tbody>\n",
       "</table>\n",
       "</div>"
      ],
      "text/plain": [
       "   Data_Point  Test_Time(s)           Date_Time  Step_Time(s)  Step_Index  \\\n",
       "0           3     90.030676 2010-09-27 14:13:48     90.030677           1   \n",
       "1           5    150.030659 2010-09-27 14:14:48     30.015332           2   \n",
       "2           6    180.045864 2010-09-27 14:15:18     60.030537           2   \n",
       "3           7    210.061288 2010-09-27 14:15:48     90.045961           2   \n",
       "4           8    240.076447 2010-09-27 14:16:18    120.061120           2   \n",
       "\n",
       "   Cycle_Index  Current(A)  Voltage(V)  Charge_Capacity(Ah)  \\\n",
       "0            1    0.000000    3.451988             0.000000   \n",
       "1            1    0.550025    3.584821             0.004585   \n",
       "2            1    0.549845    3.625319             0.009170   \n",
       "3            1    0.549845    3.658041             0.013755   \n",
       "4            1    0.549845    3.685742             0.018340   \n",
       "\n",
       "   Discharge_Capacity(Ah)  Charge_Energy(Wh)  Discharge_Energy(Wh)  \\\n",
       "0                     0.0           0.000000                   0.0   \n",
       "1                     0.0           0.016314                   0.0   \n",
       "2                     0.0           0.032848                   0.0   \n",
       "3                     0.0           0.049547                   0.0   \n",
       "4                     0.0           0.066384                   0.0   \n",
       "\n",
       "   dV/dt(V/s)  Internal_Resistance(Ohm)  Is_FC_Data  AC_Impedance(Ohm)  \\\n",
       "0    0.000000                       0.0           0                  0   \n",
       "1    0.001264                       0.0           0                  0   \n",
       "2    0.000972                       0.0           0                  0   \n",
       "3    0.000778                       0.0           0                  0   \n",
       "4    0.000680                       0.0           0                  0   \n",
       "\n",
       "   ACI_Phase_Angle(Deg)        dV  dQ/dV  \n",
       "0                     0  0.000162    0.0  \n",
       "1                     0  0.132833    0.0  \n",
       "2                     0  0.040498    0.0  \n",
       "3                     0  0.032722    0.0  \n",
       "4                     0  0.027701    0.0  "
      ]
     },
     "execution_count": 28,
     "metadata": {},
     "output_type": "execute_result"
    }
   ],
   "source": [
    "data1.head()"
   ]
  },
  {
   "cell_type": "markdown",
   "metadata": {},
   "source": [
    "Reindex and calculate dV again "
   ]
  },
  {
   "cell_type": "markdown",
   "metadata": {},
   "source": [
    "### Filter Sav Golay"
   ]
  },
  {
   "cell_type": "code",
   "execution_count": 29,
   "metadata": {},
   "outputs": [
    {
     "data": {
      "text/plain": [
       "count    9758.000000\n",
       "mean        0.000053\n",
       "std         0.027023\n",
       "min        -0.100435\n",
       "25%        -0.002754\n",
       "50%        -0.001296\n",
       "75%         0.002268\n",
       "max         0.432679\n",
       "Name: dV, dtype: float64"
      ]
     },
     "execution_count": 29,
     "metadata": {},
     "output_type": "execute_result"
    }
   ],
   "source": [
    "data1['dV'].describe()"
   ]
  },
  {
   "cell_type": "code",
   "execution_count": 30,
   "metadata": {},
   "outputs": [],
   "source": [
    "unfilt = pd.concat([data1['dQ/dV']])"
   ]
  },
  {
   "cell_type": "code",
   "execution_count": 31,
   "metadata": {},
   "outputs": [],
   "source": [
    "unfiltar = unfilt.values\n",
    "#converts into an array "
   ]
  },
  {
   "cell_type": "code",
   "execution_count": 32,
   "metadata": {},
   "outputs": [],
   "source": [
    "data1['filtered dq/dv'] = scipy.signal.savgol_filter(unfiltar, 19, 3)"
   ]
  },
  {
   "cell_type": "code",
   "execution_count": 33,
   "metadata": {},
   "outputs": [],
   "source": [
    "data1.head(500);"
   ]
  },
  {
   "cell_type": "code",
   "execution_count": 34,
   "metadata": {},
   "outputs": [
    {
     "data": {
      "image/png": "[encoded data removed]",
      "text/plain": [
       "<matplotlib.figure.Figure at 0x2b8d5bbb278>"
      ]
     },
     "metadata": {},
     "output_type": "display_data"
    }
   ],
   "source": [
    "df1 = pd.DataFrame() \n",
    "for i in range(1,len(data1)):\n",
    "    if data1.loc[i, ('Cycle_Index')] == 6:\n",
    "        df1 = df1.append(data1.loc[i])\n",
    "        \n",
    "fig = plt.figure(figsize=(10, 10), facecolor='w', edgecolor='k')\n",
    "myplot = plt.plot(df1['Voltage(V)'], df1['filtered dq/dv'])"
   ]
  },
  {
   "cell_type": "code",
   "execution_count": 35,
   "metadata": {},
   "outputs": [
    {
     "data": {
      "text/html": [
       "<div>\n",
       "<style scoped>\n",
       "    .dataframe tbody tr th:only-of-type {\n",
       "        vertical-align: middle;\n",
       "    }\n",
       "\n",
       "    .dataframe tbody tr th {\n",
       "        vertical-align: top;\n",
       "    }\n",
       "\n",
       "    .dataframe thead th {\n",
       "        text-align: right;\n",
       "    }\n",
       "</style>\n",
       "<table border=\"1\" class=\"dataframe\">\n",
       "  <thead>\n",
       "    <tr style=\"text-align: right;\">\n",
       "      <th></th>\n",
       "      <th>ACI_Phase_Angle(Deg)</th>\n",
       "      <th>AC_Impedance(Ohm)</th>\n",
       "      <th>Charge_Capacity(Ah)</th>\n",
       "      <th>Charge_Energy(Wh)</th>\n",
       "      <th>Current(A)</th>\n",
       "      <th>Cycle_Index</th>\n",
       "      <th>Data_Point</th>\n",
       "      <th>Date_Time</th>\n",
       "      <th>Discharge_Capacity(Ah)</th>\n",
       "      <th>Discharge_Energy(Wh)</th>\n",
       "      <th>Internal_Resistance(Ohm)</th>\n",
       "      <th>Is_FC_Data</th>\n",
       "      <th>Step_Index</th>\n",
       "      <th>Step_Time(s)</th>\n",
       "      <th>Test_Time(s)</th>\n",
       "      <th>Voltage(V)</th>\n",
       "      <th>dQ/dV</th>\n",
       "      <th>dV</th>\n",
       "      <th>dV/dt(V/s)</th>\n",
       "      <th>filtered dq/dv</th>\n",
       "    </tr>\n",
       "  </thead>\n",
       "  <tbody>\n",
       "    <tr>\n",
       "      <th>2151</th>\n",
       "      <td>0.0</td>\n",
       "      <td>0.0</td>\n",
       "      <td>5.296682</td>\n",
       "      <td>21.022661</td>\n",
       "      <td>0.000000</td>\n",
       "      <td>6.0</td>\n",
       "      <td>2369.0</td>\n",
       "      <td>2010-09-28 11:35:25</td>\n",
       "      <td>5.305244</td>\n",
       "      <td>19.85983</td>\n",
       "      <td>0.094247</td>\n",
       "      <td>0.0</td>\n",
       "      <td>1.0</td>\n",
       "      <td>30.015294</td>\n",
       "      <td>76981.647121</td>\n",
       "      <td>3.141126</td>\n",
       "      <td>187.144097</td>\n",
       "      <td>0.028348</td>\n",
       "      <td>0.000583</td>\n",
       "      <td>229.220938</td>\n",
       "    </tr>\n",
       "    <tr>\n",
       "      <th>2152</th>\n",
       "      <td>0.0</td>\n",
       "      <td>0.0</td>\n",
       "      <td>5.296682</td>\n",
       "      <td>21.022661</td>\n",
       "      <td>0.000000</td>\n",
       "      <td>6.0</td>\n",
       "      <td>2370.0</td>\n",
       "      <td>2010-09-28 11:35:55</td>\n",
       "      <td>5.305244</td>\n",
       "      <td>19.85983</td>\n",
       "      <td>0.094247</td>\n",
       "      <td>0.0</td>\n",
       "      <td>1.0</td>\n",
       "      <td>60.030678</td>\n",
       "      <td>77011.662504</td>\n",
       "      <td>3.159431</td>\n",
       "      <td>289.823872</td>\n",
       "      <td>0.018305</td>\n",
       "      <td>0.000421</td>\n",
       "      <td>243.502198</td>\n",
       "    </tr>\n",
       "    <tr>\n",
       "      <th>2153</th>\n",
       "      <td>0.0</td>\n",
       "      <td>0.0</td>\n",
       "      <td>5.296682</td>\n",
       "      <td>21.022661</td>\n",
       "      <td>0.000000</td>\n",
       "      <td>6.0</td>\n",
       "      <td>2371.0</td>\n",
       "      <td>2010-09-28 11:36:25</td>\n",
       "      <td>5.305244</td>\n",
       "      <td>19.85983</td>\n",
       "      <td>0.094247</td>\n",
       "      <td>0.0</td>\n",
       "      <td>1.0</td>\n",
       "      <td>90.045891</td>\n",
       "      <td>77041.677718</td>\n",
       "      <td>3.172714</td>\n",
       "      <td>399.393464</td>\n",
       "      <td>0.013283</td>\n",
       "      <td>0.000292</td>\n",
       "      <td>251.051607</td>\n",
       "    </tr>\n",
       "    <tr>\n",
       "      <th>2154</th>\n",
       "      <td>0.0</td>\n",
       "      <td>0.0</td>\n",
       "      <td>5.296682</td>\n",
       "      <td>21.022661</td>\n",
       "      <td>0.000000</td>\n",
       "      <td>6.0</td>\n",
       "      <td>2372.0</td>\n",
       "      <td>2010-09-28 11:36:55</td>\n",
       "      <td>5.305244</td>\n",
       "      <td>19.85983</td>\n",
       "      <td>0.094247</td>\n",
       "      <td>0.0</td>\n",
       "      <td>1.0</td>\n",
       "      <td>120.014291</td>\n",
       "      <td>77071.646118</td>\n",
       "      <td>3.183244</td>\n",
       "      <td>503.844929</td>\n",
       "      <td>0.010530</td>\n",
       "      <td>0.000259</td>\n",
       "      <td>251.903285</td>\n",
       "    </tr>\n",
       "    <tr>\n",
       "      <th>2155</th>\n",
       "      <td>0.0</td>\n",
       "      <td>0.0</td>\n",
       "      <td>5.301266</td>\n",
       "      <td>21.038016</td>\n",
       "      <td>0.549845</td>\n",
       "      <td>6.0</td>\n",
       "      <td>2373.0</td>\n",
       "      <td>2010-09-28 11:37:25</td>\n",
       "      <td>5.305244</td>\n",
       "      <td>19.85983</td>\n",
       "      <td>0.094247</td>\n",
       "      <td>0.0</td>\n",
       "      <td>2.0</td>\n",
       "      <td>30.015314</td>\n",
       "      <td>77101.663946</td>\n",
       "      <td>3.407440</td>\n",
       "      <td>23.663375</td>\n",
       "      <td>0.224196</td>\n",
       "      <td>0.002624</td>\n",
       "      <td>244.924730</td>\n",
       "    </tr>\n",
       "  </tbody>\n",
       "</table>\n",
       "</div>"
      ],
      "text/plain": [
       "      ACI_Phase_Angle(Deg)  AC_Impedance(Ohm)  Charge_Capacity(Ah)  \\\n",
       "2151                   0.0                0.0             5.296682   \n",
       "2152                   0.0                0.0             5.296682   \n",
       "2153                   0.0                0.0             5.296682   \n",
       "2154                   0.0                0.0             5.296682   \n",
       "2155                   0.0                0.0             5.301266   \n",
       "\n",
       "      Charge_Energy(Wh)  Current(A)  Cycle_Index  Data_Point  \\\n",
       "2151          21.022661    0.000000          6.0      2369.0   \n",
       "2152          21.022661    0.000000          6.0      2370.0   \n",
       "2153          21.022661    0.000000          6.0      2371.0   \n",
       "2154          21.022661    0.000000          6.0      2372.0   \n",
       "2155          21.038016    0.549845          6.0      2373.0   \n",
       "\n",
       "               Date_Time  Discharge_Capacity(Ah)  Discharge_Energy(Wh)  \\\n",
       "2151 2010-09-28 11:35:25                5.305244              19.85983   \n",
       "2152 2010-09-28 11:35:55                5.305244              19.85983   \n",
       "2153 2010-09-28 11:36:25                5.305244              19.85983   \n",
       "2154 2010-09-28 11:36:55                5.305244              19.85983   \n",
       "2155 2010-09-28 11:37:25                5.305244              19.85983   \n",
       "\n",
       "      Internal_Resistance(Ohm)  Is_FC_Data  Step_Index  Step_Time(s)  \\\n",
       "2151                  0.094247         0.0         1.0     30.015294   \n",
       "2152                  0.094247         0.0         1.0     60.030678   \n",
       "2153                  0.094247         0.0         1.0     90.045891   \n",
       "2154                  0.094247         0.0         1.0    120.014291   \n",
       "2155                  0.094247         0.0         2.0     30.015314   \n",
       "\n",
       "      Test_Time(s)  Voltage(V)       dQ/dV        dV  dV/dt(V/s)  \\\n",
       "2151  76981.647121    3.141126  187.144097  0.028348    0.000583   \n",
       "2152  77011.662504    3.159431  289.823872  0.018305    0.000421   \n",
       "2153  77041.677718    3.172714  399.393464  0.013283    0.000292   \n",
       "2154  77071.646118    3.183244  503.844929  0.010530    0.000259   \n",
       "2155  77101.663946    3.407440   23.663375  0.224196    0.002624   \n",
       "\n",
       "      filtered dq/dv  \n",
       "2151      229.220938  \n",
       "2152      243.502198  \n",
       "2153      251.051607  \n",
       "2154      251.903285  \n",
       "2155      244.924730  "
      ]
     },
     "execution_count": 35,
     "metadata": {},
     "output_type": "execute_result"
    }
   ],
   "source": [
    "df1.head()"
   ]
  },
  {
   "cell_type": "code",
   "execution_count": 35,
   "metadata": {},
   "outputs": [
    {
     "data": {
      "image/png": "[encoded data removed]",
      "text/plain": [
       "<matplotlib.figure.Figure at 0x2b8d5bb3940>"
      ]
     },
     "metadata": {},
     "output_type": "display_data"
    }
   ],
   "source": [
    "dftop = pd.DataFrame()\n",
    "dftop = df1[df1['filtered dq/dv'] > 0].head(len(dftop.index)-6)\n",
    "dftop = dftop.reset_index(drop=True)\n",
    "\n",
    "fig = plt.figure(figsize=(10, 10), facecolor='w', edgecolor='k')\n",
    "myplot = plt.plot(dftop['Voltage(V)'], dftop['filtered dq/dv'])"
   ]
  },
  {
   "cell_type": "code",
   "execution_count": 36,
   "metadata": {},
   "outputs": [],
   "source": [
    "sigx = pd.to_numeric(dftop['Voltage(V)'])\n",
    "sigy = pd.to_numeric(dftop['filtered dq/dv'])"
   ]
  },
  {
   "cell_type": "markdown",
   "metadata": {},
   "source": [
    "### PeakUtils"
   ]
  },
  {
   "cell_type": "code",
   "execution_count": 39,
   "metadata": {},
   "outputs": [
    {
     "data": {
      "text/plain": [
       "[<matplotlib.lines.Line2D at 0x19361435518>]"
      ]
     },
     "execution_count": 39,
     "metadata": {},
     "output_type": "execute_result"
    },
    {
     "data": {
      "image/png": "[encoded data removed]",
      "text/plain": [
       "<matplotlib.figure.Figure at 0x193619a0eb8>"
      ]
     },
     "metadata": {},
     "output_type": "display_data"
    }
   ],
   "source": [
    "import peakutils\n",
    "i = peakutils.indexes(sigy, thres=1000/max(sigy), min_dist=20)\n",
    "\n",
    "fig = plt.figure(figsize=(10, 10), facecolor='w', edgecolor='k')\n",
    "plt.plot(dftop['Voltage(V)'], dftop['filtered dq/dv'])\n",
    "plt.plot(dftop.loc[i, 'Voltage(V)'], dftop.loc[i, 'filtered dq/dv'], 'o')"
   ]
  },
  {
   "cell_type": "markdown",
   "metadata": {},
   "source": [
    "Very Meh. I don't like that this one exclusively relies on amplitude. Gonna look for other packages."
   ]
  },
  {
   "cell_type": "markdown",
   "metadata": {},
   "source": [
    "### Octave"
   ]
  },
  {
   "cell_type": "code",
   "execution_count": 39,
   "metadata": {},
   "outputs": [
    {
     "ename": "OSError",
     "evalue": "Octave Executable not found, please add to path or set\"OCTAVE_EXECUTABLE\" environment variable",
     "output_type": "error",
     "traceback": [
      "\u001b[1;31m---------------------------------------------------------------------------\u001b[0m",
      "\u001b[1;31mOSError\u001b[0m                                   Traceback (most recent call last)",
      "\u001b[1;32m<ipython-input-39-6f204d1d1695>\u001b[0m in \u001b[0;36m<module>\u001b[1;34m()\u001b[0m\n\u001b[1;32m----> 1\u001b[1;33m \u001b[1;32mimport\u001b[0m \u001b[0moct2py\u001b[0m\u001b[1;33m\u001b[0m\u001b[0m\n\u001b[0m\u001b[0;32m      2\u001b[0m \u001b[1;33m\u001b[0m\u001b[0m\n\u001b[0;32m      3\u001b[0m \u001b[0moctave\u001b[0m\u001b[1;33m.\u001b[0m\u001b[0meval\u001b[0m\u001b[1;33m(\u001b[0m\u001b[1;34m\"pkg load signal\"\u001b[0m\u001b[1;33m)\u001b[0m\u001b[1;33m\u001b[0m\u001b[0m\n\u001b[0;32m      4\u001b[0m \u001b[1;33m(\u001b[0m\u001b[0mpeaks\u001b[0m\u001b[1;33m,\u001b[0m \u001b[0mi\u001b[0m\u001b[1;33m)\u001b[0m \u001b[1;33m=\u001b[0m \u001b[0moctave\u001b[0m\u001b[1;33m.\u001b[0m\u001b[0mfindpeaks\u001b[0m\u001b[1;33m(\u001b[0m\u001b[0msigy\u001b[0m\u001b[1;33m,\u001b[0m \u001b[1;34m'DoubleSided'\u001b[0m\u001b[1;33m,\u001b[0m \u001b[1;34m'MinPeakHeight'\u001b[0m\u001b[1;33m,\u001b[0m \u001b[1;36m0.04\u001b[0m\u001b[1;33m,\u001b[0m \u001b[1;34m'MinPeakDistance'\u001b[0m\u001b[1;33m,\u001b[0m \u001b[1;36m100\u001b[0m\u001b[1;33m,\u001b[0m \u001b[1;34m'MinPeakWidth'\u001b[0m\u001b[1;33m,\u001b[0m \u001b[1;36m0\u001b[0m\u001b[1;33m)\u001b[0m\u001b[1;33m\u001b[0m\u001b[0m\n",
      "\u001b[1;32mc:\\python\\lib\\site-packages\\oct2py\\__init__.py\u001b[0m in \u001b[0;36m<module>\u001b[1;34m()\u001b[0m\n\u001b[0;32m     36\u001b[0m \u001b[1;33m\u001b[0m\u001b[0m\n\u001b[0;32m     37\u001b[0m \u001b[1;32mtry\u001b[0m\u001b[1;33m:\u001b[0m\u001b[1;33m\u001b[0m\u001b[0m\n\u001b[1;32m---> 38\u001b[1;33m     \u001b[0moctave\u001b[0m \u001b[1;33m=\u001b[0m \u001b[0mOct2Py\u001b[0m\u001b[1;33m(\u001b[0m\u001b[1;33m)\u001b[0m\u001b[1;33m\u001b[0m\u001b[0m\n\u001b[0m\u001b[0;32m     39\u001b[0m \u001b[1;32mexcept\u001b[0m \u001b[0mOct2PyError\u001b[0m \u001b[1;32mas\u001b[0m \u001b[0me\u001b[0m\u001b[1;33m:\u001b[0m\u001b[1;33m\u001b[0m\u001b[0m\n\u001b[0;32m     40\u001b[0m     \u001b[0mprint\u001b[0m\u001b[1;33m(\u001b[0m\u001b[0me\u001b[0m\u001b[1;33m)\u001b[0m\u001b[1;33m\u001b[0m\u001b[0m\n",
      "\u001b[1;32mc:\\python\\lib\\site-packages\\oct2py\\core.py\u001b[0m in \u001b[0;36m__init__\u001b[1;34m(self, executable, logger, timeout, oned_as, temp_dir, convert_to_float)\u001b[0m\n\u001b[0;32m     71\u001b[0m         \u001b[0mself\u001b[0m\u001b[1;33m.\u001b[0m\u001b[0m_user_classes\u001b[0m \u001b[1;33m=\u001b[0m \u001b[0mdict\u001b[0m\u001b[1;33m(\u001b[0m\u001b[1;33m)\u001b[0m\u001b[1;33m\u001b[0m\u001b[0m\n\u001b[0;32m     72\u001b[0m         \u001b[0mself\u001b[0m\u001b[1;33m.\u001b[0m\u001b[0m_function_ptrs\u001b[0m \u001b[1;33m=\u001b[0m \u001b[0mdict\u001b[0m\u001b[1;33m(\u001b[0m\u001b[1;33m)\u001b[0m\u001b[1;33m\u001b[0m\u001b[0m\n\u001b[1;32m---> 73\u001b[1;33m         \u001b[0mself\u001b[0m\u001b[1;33m.\u001b[0m\u001b[0mrestart\u001b[0m\u001b[1;33m(\u001b[0m\u001b[1;33m)\u001b[0m\u001b[1;33m\u001b[0m\u001b[0m\n\u001b[0m\u001b[0;32m     74\u001b[0m \u001b[1;33m\u001b[0m\u001b[0m\n\u001b[0;32m     75\u001b[0m     \u001b[1;33m@\u001b[0m\u001b[0mproperty\u001b[0m\u001b[1;33m\u001b[0m\u001b[0m\n",
      "\u001b[1;32mc:\\python\\lib\\site-packages\\oct2py\\core.py\u001b[0m in \u001b[0;36mrestart\u001b[1;34m(self)\u001b[0m\n\u001b[0;32m    506\u001b[0m \u001b[1;33m\u001b[0m\u001b[0m\n\u001b[0;32m    507\u001b[0m         self._engine = OctaveEngine(stdin_handler=self._handle_stdin,\n\u001b[1;32m--> 508\u001b[1;33m                                     logger=self.logger)\n\u001b[0m\u001b[0;32m    509\u001b[0m \u001b[1;33m\u001b[0m\u001b[0m\n\u001b[0;32m    510\u001b[0m         \u001b[1;31m# Add local Octave scripts.\u001b[0m\u001b[1;33m\u001b[0m\u001b[1;33m\u001b[0m\u001b[0m\n",
      "\u001b[1;32mc:\\python\\lib\\site-packages\\octave_kernel\\kernel.py\u001b[0m in \u001b[0;36m__init__\u001b[1;34m(self, error_handler, stream_handler, stdin_handler, plot_settings, logger)\u001b[0m\n\u001b[0;32m    155\u001b[0m                  logger=None):\n\u001b[0;32m    156\u001b[0m         \u001b[0mself\u001b[0m\u001b[1;33m.\u001b[0m\u001b[0mlogger\u001b[0m \u001b[1;33m=\u001b[0m \u001b[0mlogger\u001b[0m\u001b[1;33m\u001b[0m\u001b[0m\n\u001b[1;32m--> 157\u001b[1;33m         \u001b[0mself\u001b[0m\u001b[1;33m.\u001b[0m\u001b[0mexecutable\u001b[0m \u001b[1;33m=\u001b[0m \u001b[0mself\u001b[0m\u001b[1;33m.\u001b[0m\u001b[0m_get_executable\u001b[0m\u001b[1;33m(\u001b[0m\u001b[1;33m)\u001b[0m\u001b[1;33m\u001b[0m\u001b[0m\n\u001b[0m\u001b[0;32m    158\u001b[0m         \u001b[0mself\u001b[0m\u001b[1;33m.\u001b[0m\u001b[0mrepl\u001b[0m \u001b[1;33m=\u001b[0m \u001b[0mself\u001b[0m\u001b[1;33m.\u001b[0m\u001b[0m_create_repl\u001b[0m\u001b[1;33m(\u001b[0m\u001b[1;33m)\u001b[0m\u001b[1;33m\u001b[0m\u001b[0m\n\u001b[0;32m    159\u001b[0m         \u001b[0mself\u001b[0m\u001b[1;33m.\u001b[0m\u001b[0merror_handler\u001b[0m \u001b[1;33m=\u001b[0m \u001b[0merror_handler\u001b[0m\u001b[1;33m\u001b[0m\u001b[0m\n",
      "\u001b[1;32mc:\\python\\lib\\site-packages\\octave_kernel\\kernel.py\u001b[0m in \u001b[0;36m_get_executable\u001b[1;34m(self)\u001b[0m\n\u001b[0;32m    430\u001b[0m                 msg = ('Octave Executable not found, please add to path or set'\n\u001b[0;32m    431\u001b[0m                        '\"OCTAVE_EXECUTABLE\" environment variable')\n\u001b[1;32m--> 432\u001b[1;33m                 \u001b[1;32mraise\u001b[0m \u001b[0mOSError\u001b[0m\u001b[1;33m(\u001b[0m\u001b[0mmsg\u001b[0m\u001b[1;33m)\u001b[0m\u001b[1;33m\u001b[0m\u001b[0m\n\u001b[0m\u001b[0;32m    433\u001b[0m         \u001b[0mexecutable\u001b[0m \u001b[1;33m=\u001b[0m \u001b[0mexecutable\u001b[0m\u001b[1;33m.\u001b[0m\u001b[0mreplace\u001b[0m\u001b[1;33m(\u001b[0m\u001b[0mos\u001b[0m\u001b[1;33m.\u001b[0m\u001b[0mpath\u001b[0m\u001b[1;33m.\u001b[0m\u001b[0msep\u001b[0m\u001b[1;33m,\u001b[0m \u001b[1;34m'/'\u001b[0m\u001b[1;33m)\u001b[0m\u001b[1;33m\u001b[0m\u001b[0m\n\u001b[0;32m    434\u001b[0m         \u001b[1;32mreturn\u001b[0m \u001b[0mexecutable\u001b[0m\u001b[1;33m\u001b[0m\u001b[0m\n",
      "\u001b[1;31mOSError\u001b[0m: Octave Executable not found, please add to path or set\"OCTAVE_EXECUTABLE\" environment variable"
     ]
    }
   ],
   "source": [
    "import oct2py\n",
    "\n",
    "octave.eval(\"pkg load signal\")\n",
    "(peaks, i) = octave.findpeaks(sigy, 'DoubleSided', 'MinPeakHeight', 0.04, 'MinPeakDistance', 100, 'MinPeakWidth', 0)"
   ]
  },
  {
   "cell_type": "code",
   "execution_count": null,
   "metadata": {},
   "outputs": [],
   "source": [
    "fig = plt.figure(figsize=(10, 10), facecolor='w', edgecolor='k')\n",
    "plt.plot(dftop['Voltage(V)'], dftop['filtered dq/dv'])\n",
    "plt.plot(dftop.loc[i, 'Voltage(V)'], dftop.loc[i, 'filtered dq/dv'], 'o')"
   ]
  },
  {
   "cell_type": "markdown",
   "metadata": {},
   "source": [
    "Octave is dumb. Not python based. Not worth pursuing"
   ]
  },
  {
   "cell_type": "markdown",
   "metadata": {},
   "source": [
    "### Scipy find peaks"
   ]
  },
  {
   "cell_type": "code",
   "execution_count": 38,
   "metadata": {
    "scrolled": true
   },
   "outputs": [
    {
     "data": {
      "text/plain": [
       "[<matplotlib.lines.Line2D at 0x1181a8d9160>]"
      ]
     },
     "execution_count": 38,
     "metadata": {},
     "output_type": "execute_result"
    },
    {
     "data": {
      "image/png": "[encoded data removed]",
      "text/plain": [
       "<matplotlib.figure.Figure at 0x1181ab3bef0>"
      ]
     },
     "metadata": {},
     "output_type": "display_data"
    }
   ],
   "source": [
    "pwid = 8\n",
    "\n",
    "i = scipy.signal.find_peaks_cwt(sigy, pwid+np.zeros(len(sigy)), min_snr=1)\n",
    "\n",
    "fig = plt.figure(figsize=(10, 10), facecolor='w', edgecolor='k')\n",
    "plt.plot(dftop['Voltage(V)'], dftop['filtered dq/dv'])\n",
    "plt.plot(dftop.loc[i, 'Voltage(V)'], dftop.loc[i, 'filtered dq/dv'], 'o')"
   ]
  },
  {
   "cell_type": "code",
   "execution_count": null,
   "metadata": {},
   "outputs": [],
   "source": [
    "#------------------------------------------------------------\n",
    "# Learn the best-fit GMM models\n",
    "#  Here we'll use GMM in the standard way: the fit() method\n",
    "#  uses an Expectation-Maximization approach to find the best\n",
    "#  mixture of Gaussians for the data\n",
    "\n",
    "# fit models with 1-10 components\n",
    "N = np.arange(1, 11)\n",
    "models = [None for i in range(len(N))]\n",
    "\n",
    "for i in range(len(N)):\n",
    "    models[i] = GMM(N[i]).fit(X)\n",
    "\n",
    "# compute the AIC and the BIC\n",
    "AIC = [m.aic(X) for m in models]\n",
    "BIC = [m.bic(X) for m in models]\n",
    "\n",
    "#------------------------------------------------------------\n",
    "# Plot the results\n",
    "#  We'll use three panels:\n",
    "#   1) data + best-fit mixture\n",
    "#   2) AIC and BIC vs number of components\n",
    "#   3) probability that a point came from each component\n",
    "\n",
    "fig = plt.figure(figsize=(5, 1.7))\n",
    "fig.subplots_adjust(left=0.12, right=0.97,\n",
    "                    bottom=0.21, top=0.9, wspace=0.5)\n",
    "\n",
    "\n",
    "# plot 1: data + best-fit mixture\n",
    "ax = fig.add_subplot(131)\n",
    "M_best = models[np.argmin(AIC)]\n",
    "\n",
    "x = np.linspace(-6, 6, 1000)\n",
    "logprob, responsibilities = M_best.predict(x.reshape(-1,1))\n",
    "pdf = np.exp(logprob)\n",
    "pdf_individual = responsibilities * pdf[:, np.newaxis]\n",
    "\n",
    "ax.hist(X, 30, normed=True, histtype='stepfilled', alpha=0.4)\n",
    "ax.plot(x, pdf, '-k')\n",
    "ax.plot(x, pdf_individual, '--k')\n",
    "ax.text(0.04, 0.96, \"Best-fit Mixture\",\n",
    "        ha='left', va='top', transform=ax.transAxes)\n",
    "ax.set_xlabel('$x$')\n",
    "ax.set_ylabel('$p(x)$')\n",
    "\n",
    "\n",
    "# plot 2: AIC and BIC\n",
    "ax = fig.add_subplot(132)\n",
    "ax.plot(N, AIC, '-k', label='AIC')\n",
    "ax.plot(N, BIC, '--k', label='BIC')\n",
    "ax.set_xlabel('n. components')\n",
    "ax.set_ylabel('information criterion')\n",
    "ax.legend(loc=2)\n",
    "\n",
    "\n",
    "# plot 3: posterior probabilities for each component\n",
    "ax = fig.add_subplot(133)\n",
    "\n",
    "p = M_best.predict_proba(x)\n",
    "p = p[:, (1, 0, 2)]  # rearrange order so the plot looks better\n",
    "p = p.cumsum(1).T\n",
    "\n",
    "ax.fill_between(x, 0, p[0], color='gray', alpha=0.3)\n",
    "ax.fill_between(x, p[0], p[1], color='gray', alpha=0.5)\n",
    "ax.fill_between(x, p[1], 1, color='gray', alpha=0.7)\n",
    "ax.set_xlim(-6, 6)\n",
    "ax.set_ylim(0, 1)\n",
    "ax.set_xlabel('$x$')\n",
    "ax.set_ylabel(r'$p({\\rm class}|x)$')\n",
    "\n",
    "ax.text(-5, 0.3, 'class 1', rotation='vertical')\n",
    "ax.text(0, 0.5, 'class 2', rotation='vertical')\n",
    "ax.text(3, 0.3, 'class 3', rotation='vertical')\n",
    "\n",
    "plt.show()"
   ]
  },
  {
   "cell_type": "markdown",
   "metadata": {},
   "source": [
    "From stack overflow https://stackoverflow.com/questions/43386493/what-is-the-correct-way-to-fit-a-gaussian-mixture-model-to-single-feature-data/43387278"
   ]
  },
  {
   "cell_type": "code",
   "execution_count": 51,
   "metadata": {},
   "outputs": [
    {
     "data": {
      "text/plain": [
       "[<matplotlib.lines.Line2D at 0x1181b0a7f28>]"
      ]
     },
     "execution_count": 51,
     "metadata": {},
     "output_type": "execute_result"
    },
    {
     "data": {
      "image/png": "[encoded data removed]",
      "text/plain": [
       "<matplotlib.figure.Figure at 0x118203bae48>"
      ]
     },
     "metadata": {},
     "output_type": "display_data"
    }
   ],
   "source": [
    "data = [0.0, 7000.0, 0.0, 7000.0, -400.0, 0.0, 7000.0, -400.0, -7400.0, 7000.0, -400.0, -7000.0, -7000.0, 0.0, 0.0, 0.0, -7000.0, 7000.0, 7000.0, 7000.0, 0.0, -7000.0, 6600.0, -7400.0, -400.0, 6600.0, -400.0, -400.0, 6600.0, 6600.0, 6600.0, 7000.0, 6600.0, -7000.0, 0.0, 0.0, -7000.0, -7400.0, 6600.0, -400.0, 7000.0, -7000.0, -7000.0, 0.0, 0.0, -400.0, -7000.0, -7000.0, 7000.0, 7000.0, 0.0, -7000.0, 0.0, 0.0, 6600.0, 6600.0, 6600.0, -7400.0, -400.0, -2000.0, -7000.0, -400.0, -7400.0, 7000.0, 0.0, -7000.0, -7000.0, 0.0, -400.0, -7400.0, -7400.0, 0.0, 0.0, 0.0, -400.0, -400.0, -400.0, -400.0, 6600.0, 0.0, -400.0, 0.0, 0.0, 0.0, 0.0, 0.0, 0.0, 0.0, 0.0, -400.0, -400.0, 0.0, 0.0, -400.0, -400.0, 0.0, -400.0, 0.0, -400.0]\n",
    "\n",
    "data = np.array(data).reshape(-1,1)\n",
    "clf = mixture.GaussianMixture(n_components=2, covariance_type='full')\n",
    "clf.fit(data)\n",
    "\n",
    "x = np.array(np.linspace(-8000,8000,32000)).reshape(-1,1)\n",
    "y = clf.score_samples(x)\n",
    "\n",
    "plt.plot(x, y)"
   ]
  },
  {
   "cell_type": "markdown",
   "metadata": {},
   "source": [
    "Attempt at making a samplable inverse_CDF from the dqdv data"
   ]
  },
  {
   "cell_type": "code",
   "execution_count": 91,
   "metadata": {},
   "outputs": [
    {
     "data": {
      "text/plain": [
       "0       229.220938\n",
       "1       243.502198\n",
       "2       251.051607\n",
       "3       251.903285\n",
       "4       244.924730\n",
       "5       228.715599\n",
       "6       199.977733\n",
       "7       143.031422\n",
       "8        62.760263\n",
       "9        42.558968\n",
       "10       44.967569\n",
       "11      124.180506\n",
       "12      262.717732\n",
       "13      508.664966\n",
       "14      723.245902\n",
       "15      950.723259\n",
       "16     1233.520522\n",
       "17     1487.507525\n",
       "18     1737.263786\n",
       "19     1984.322875\n",
       "20     2190.866943\n",
       "21     2376.598690\n",
       "22     2515.663578\n",
       "23     2600.218946\n",
       "24     2633.908652\n",
       "25     2609.383600\n",
       "26     2536.576275\n",
       "27     2463.474190\n",
       "28     2422.445109\n",
       "29     2399.920702\n",
       "          ...     \n",
       "165    1768.870421\n",
       "166    1759.525029\n",
       "167    1744.456457\n",
       "168    1736.825934\n",
       "169    1714.668866\n",
       "170    1697.901103\n",
       "171    1694.875616\n",
       "172    1668.915145\n",
       "173    1665.107601\n",
       "174    1641.027312\n",
       "175    1630.852241\n",
       "176    1604.446393\n",
       "177    1592.022181\n",
       "178    1584.090730\n",
       "179    1567.422536\n",
       "180    1547.935005\n",
       "181    1534.404724\n",
       "182    1527.870989\n",
       "183    1511.791790\n",
       "184    1502.519676\n",
       "185    1494.400214\n",
       "186    1577.846984\n",
       "187    1628.330408\n",
       "188    1646.501329\n",
       "189    1607.601394\n",
       "190    1404.424838\n",
       "191    1239.928581\n",
       "192    1238.094334\n",
       "193     846.882267\n",
       "194     494.710569\n",
       "Name: filtered dq/dv, Length: 195, dtype: float64"
      ]
     },
     "execution_count": 91,
     "metadata": {},
     "output_type": "execute_result"
    }
   ],
   "source": [
    "sigy"
   ]
  },
  {
   "cell_type": "code",
   "execution_count": 37,
   "metadata": {},
   "outputs": [],
   "source": [
    "def inverse_CDF(sigy,edge):\n",
    "    sigy = sigy.as_matrix()\n",
    "    edge = edge.as_matrix()\n",
    "    his = sigy[:-1]\n",
    "    \n",
    "    cdf_bins = np.cumsum(his * np.diff(edge))\n",
    "    print(type(cdf_bins))\n",
    "    cdf_bins = np.insert(cdf_bins, 0, 0)\n",
    "\n",
    "    cdf_bins = cdf_bins/cdf_bins[-1]\n",
    "    \n",
    "    cdf = scipy.interpolate.interp1d(edge, cdf_bins)\n",
    "    inv_cdf = scipy.interpolate.interp1d(cdf_bins, edge)\n",
    "\n",
    "    return [cdf,inv_cdf]"
   ]
  },
  {
   "cell_type": "code",
   "execution_count": 38,
   "metadata": {},
   "outputs": [
    {
     "name": "stdout",
     "output_type": "stream",
     "text": [
      "<class 'numpy.ndarray'>\n"
     ]
    },
    {
     "data": {
      "text/plain": [
       "[<matplotlib.lines.Line2D at 0x2b8d54b90f0>]"
      ]
     },
     "execution_count": 38,
     "metadata": {},
     "output_type": "execute_result"
    },
    {
     "data": {
      "image/png": "[encoded data removed]",
      "text/plain": [
       "<matplotlib.figure.Figure at 0x2b8d5b0e358>"
      ]
     },
     "metadata": {},
     "output_type": "display_data"
    }
   ],
   "source": [
    "[cdf, inv_cdf] = inverse_CDF(sigy, sigx)\n",
    "x = np.linspace(np.min(sigx.as_matrix()), np.max(sigx.as_matrix()), num=100)\n",
    "plt.plot(x, cdf(x))"
   ]
  },
  {
   "cell_type": "code",
   "execution_count": 39,
   "metadata": {
    "scrolled": true
   },
   "outputs": [
    {
     "data": {
      "text/plain": [
       "[<matplotlib.lines.Line2D at 0x2b8d57ae208>]"
      ]
     },
     "execution_count": 39,
     "metadata": {},
     "output_type": "execute_result"
    },
    {
     "data": {
      "image/png": "[encoded data removed]",
      "text/plain": [
       "<matplotlib.figure.Figure at 0x2b8d5ae74a8>"
      ]
     },
     "metadata": {},
     "output_type": "display_data"
    }
   ],
   "source": [
    "zero2one = np.linspace(0, .9999, num=100)\n",
    "plt.plot(zero2one, inv_cdf(zero2one))"
   ]
  },
  {
   "cell_type": "code",
   "execution_count": 40,
   "metadata": {
    "scrolled": true
   },
   "outputs": [
    {
     "data": {
      "text/plain": [
       "(array([ 203.,  211.,  239.,  200.,  240.,  270.,  214.,  226.,  219.,\n",
       "         246.,  263.,  227.,  249.,  243.,  241.,  265.,  230.,  223.,\n",
       "         247.,  279.,  268.,  222.,  239.,  239.,  241.,  243.,  251.,\n",
       "         222.,  229.,  251.,  233.,  234.,  237.,  230.,  234.,  218.,\n",
       "         212.,  211.,  167.,  186.,  193.,  176.,  148.,  153.,  132.,\n",
       "          65.,   56.,   55.,   40.,   45.,   48.,   49.,   42.,  133.,\n",
       "         108.,  261.,  324.,  478.,  681.,  851., 1566., 2444., 2343.,\n",
       "        2092., 1879., 1607., 1665., 1695., 1816., 2557., 3276., 2860.,\n",
       "        2626., 3828., 3667., 3384., 3175., 2975., 2679., 2563., 2467.,\n",
       "        2381., 2290., 2206., 2152., 2085., 1902., 1931., 1856., 1790.,\n",
       "        1687., 1647., 1617., 1571., 1415., 1508., 1407., 1528., 1503.,\n",
       "        1020.]),\n",
       " array([3.14113242, 3.15172164, 3.16231085, 3.17290007, 3.18348929,\n",
       "        3.1940785 , 3.20466772, 3.21525694, 3.22584615, 3.23643537,\n",
       "        3.24702458, 3.2576138 , 3.26820302, 3.27879223, 3.28938145,\n",
       "        3.29997067, 3.31055988, 3.3211491 , 3.33173831, 3.34232753,\n",
       "        3.35291675, 3.36350596, 3.37409518, 3.3846844 , 3.39527361,\n",
       "        3.40586283, 3.41645204, 3.42704126, 3.43763048, 3.44821969,\n",
       "        3.45880891, 3.46939812, 3.47998734, 3.49057656, 3.50116577,\n",
       "        3.51175499, 3.52234421, 3.53293342, 3.54352264, 3.55411185,\n",
       "        3.56470107, 3.57529029, 3.5858795 , 3.59646872, 3.60705794,\n",
       "        3.61764715, 3.62823637, 3.63882558, 3.6494148 , 3.66000402,\n",
       "        3.67059323, 3.68118245, 3.69177167, 3.70236088, 3.7129501 ,\n",
       "        3.72353931, 3.73412853, 3.74471775, 3.75530696, 3.76589618,\n",
       "        3.77648539, 3.78707461, 3.79766383, 3.80825304, 3.81884226,\n",
       "        3.82943148, 3.84002069, 3.85060991, 3.86119912, 3.87178834,\n",
       "        3.88237756, 3.89296677, 3.90355599, 3.91414521, 3.92473442,\n",
       "        3.93532364, 3.94591285, 3.95650207, 3.96709129, 3.9776805 ,\n",
       "        3.98826972, 3.99885894, 4.00944815, 4.02003737, 4.03062658,\n",
       "        4.0412158 , 4.05180502, 4.06239423, 4.07298345, 4.08357266,\n",
       "        4.09416188, 4.1047511 , 4.11534031, 4.12592953, 4.13651875,\n",
       "        4.14710796, 4.15769718, 4.16828639, 4.17887561, 4.18946483,\n",
       "        4.20005404]),\n",
       " <a list of 100 Patch objects>)"
      ]
     },
     "execution_count": 40,
     "metadata": {},
     "output_type": "execute_result"
    },
    {
     "data": {
      "image/png": "[encoded data removed]",
      "text/plain": [
       "<matplotlib.figure.Figure at 0x2b8d57b7358>"
      ]
     },
     "metadata": {},
     "output_type": "display_data"
    }
   ],
   "source": [
    "sample = inv_cdf(np.random.rand(100000))\n",
    "plt.hist(sample, bins = 100)"
   ]
  },
  {
   "cell_type": "markdown",
   "metadata": {},
   "source": [
    "## Actual Gaussian Mixture Model Stuff"
   ]
  },
  {
   "cell_type": "code",
   "execution_count": 46,
   "metadata": {},
   "outputs": [
    {
     "data": {
      "text/plain": [
       "[<matplotlib.lines.Line2D at 0x2b8d5d0d748>]"
      ]
     },
     "execution_count": 46,
     "metadata": {},
     "output_type": "execute_result"
    },
    {
     "data": {
      "image/png": "[encoded data removed]",
      "text/plain": [
       "<matplotlib.figure.Figure at 0x2b8d59c0908>"
      ]
     },
     "metadata": {},
     "output_type": "display_data"
    }
   ],
   "source": [
    "clf = mixture.GaussianMixture(n_components=100, covariance_type='full')\n",
    "clf.fit(sample.reshape(-1,1))\n",
    "\n",
    "x = np.linspace(np.min(sigx.as_matrix()), np.max(sigx.as_matrix()), num=100).reshape(-1,1)\n",
    "y = clf.score_samples(x)\n",
    "\n",
    "pdf = np.exp(y)\n",
    "\n",
    "plt.plot(x, pdf*1600)\n",
    "plt.plot(dftop['Voltage(V)'], dftop['filtered dq/dv'])\n"
   ]
  },
  {
   "cell_type": "code",
   "execution_count": 153,
   "metadata": {},
   "outputs": [
    {
     "data": {
      "text/plain": [
       "array([[1.13828283e-44, 1.81251587e-66, 1.00000000e+00, 2.39056503e-56],\n",
       "       [2.56055077e-43, 4.88609770e-65, 1.00000000e+00, 6.70947948e-55],\n",
       "       [5.50501611e-42, 1.27503736e-63, 1.00000000e+00, 1.80877459e-53],\n",
       "       [1.13116457e-40, 3.22080256e-62, 1.00000000e+00, 4.68368220e-52],\n",
       "       [2.22144205e-39, 7.87563772e-61, 1.00000000e+00, 1.16492440e-50],\n",
       "       [4.16952116e-38, 1.86417977e-59, 1.00000000e+00, 2.78301418e-49],\n",
       "       [7.47961720e-37, 4.27140039e-58, 1.00000000e+00, 6.38616959e-48],\n",
       "       [1.28237357e-35, 9.47399624e-57, 1.00000000e+00, 1.40757916e-46],\n",
       "       [2.10131781e-34, 2.03411998e-55, 1.00000000e+00, 2.97997459e-45],\n",
       "       [3.29087147e-33, 4.22766296e-54, 1.00000000e+00, 6.05981893e-44],\n",
       "       [4.92574695e-32, 8.50559266e-53, 1.00000000e+00, 1.18362488e-42],\n",
       "       [7.04652944e-31, 1.65649159e-51, 1.00000000e+00, 2.22062833e-41],\n",
       "       [9.63430611e-30, 3.12287302e-50, 1.00000000e+00, 4.00170453e-40],\n",
       "       [1.25894747e-28, 5.69901561e-49, 1.00000000e+00, 6.92662242e-39],\n",
       "       [1.57230491e-27, 1.00675965e-47, 1.00000000e+00, 1.15160983e-37],\n",
       "       [1.87675652e-26, 1.72159974e-46, 1.00000000e+00, 1.83906281e-36],\n",
       "       [2.14102180e-25, 2.84983035e-45, 1.00000000e+00, 2.82094822e-35],\n",
       "       [2.33440521e-24, 4.56652942e-44, 1.00000000e+00, 4.15624385e-34],\n",
       "       [2.43261508e-23, 7.08327243e-43, 1.00000000e+00, 5.88185451e-33],\n",
       "       [2.42277198e-22, 1.06356017e-41, 1.00000000e+00, 7.99530227e-32],\n",
       "       [2.30618258e-21, 1.54586162e-40, 1.00000000e+00, 1.04390950e-30],\n",
       "       [2.09805480e-20, 2.17500168e-39, 1.00000000e+00, 1.30917639e-29],\n",
       "       [1.82423996e-19, 2.96229983e-38, 1.00000000e+00, 1.57703318e-28],\n",
       "       [1.51596474e-18, 3.90551996e-37, 1.00000000e+00, 1.82469739e-27],\n",
       "       [1.20403256e-17, 4.98435703e-36, 1.00000000e+00, 2.02790788e-26],\n",
       "       [9.13964570e-17, 6.15771887e-35, 1.00000000e+00, 2.16477592e-25],\n",
       "       [6.63074743e-16, 7.36395294e-34, 1.00000000e+00, 2.21965268e-24],\n",
       "       [4.59766800e-15, 8.52476830e-33, 1.00000000e+00, 2.18607196e-23],\n",
       "       [3.04687562e-14, 9.55288602e-32, 1.00000000e+00, 2.06800334e-22],\n",
       "       [1.92980684e-13, 1.03625596e-30, 1.00000000e+00, 1.87908043e-21],\n",
       "       [1.16819395e-12, 1.08812783e-29, 1.00000000e+00, 1.64001136e-20],\n",
       "       [6.75862052e-12, 1.10604610e-28, 1.00000000e+00, 1.37485119e-19],\n",
       "       [3.73717271e-11, 1.08829585e-27, 1.00000000e+00, 1.10706185e-18],\n",
       "       [1.97501442e-10, 1.03657600e-26, 1.00000000e+00, 8.56239837e-18],\n",
       "       [9.97560788e-10, 9.55731183e-26, 9.99999999e-01, 6.36101362e-17],\n",
       "       [4.81560065e-09, 8.53003466e-25, 9.99999995e-01, 4.53904588e-16],\n",
       "       [2.22179277e-08, 7.36963981e-24, 9.99999978e-01, 3.11107274e-15],\n",
       "       [9.79712403e-08, 6.16342529e-23, 9.99999902e-01, 2.04815626e-14],\n",
       "       [4.12891133e-07, 4.98974485e-22, 9.99999587e-01, 1.29515950e-13],\n",
       "       [1.66308366e-06, 3.91034043e-21, 9.99998337e-01, 7.86665982e-13],\n",
       "       [6.40225721e-06, 2.96640001e-20, 9.99993598e-01, 4.58947832e-12],\n",
       "       [2.35553057e-05, 2.17831109e-19, 9.99976445e-01, 2.57180618e-11],\n",
       "       [8.28262647e-05, 1.54836102e-18, 9.99917174e-01, 1.38421072e-10],\n",
       "       [2.78310911e-04, 1.06523596e-17, 9.99721688e-01, 7.15507786e-10],\n",
       "       [8.93412464e-04, 7.09116291e-17, 9.99106584e-01, 3.55100669e-09],\n",
       "       [2.73766723e-03, 4.56388212e-16, 9.97262316e-01, 1.69067780e-08],\n",
       "       [7.99024725e-03, 2.83361419e-15, 9.92009676e-01, 7.70524542e-08],\n",
       "       [2.20881294e-02, 1.68773639e-14, 9.77911536e-01, 3.34269395e-07],\n",
       "       [5.70808275e-02, 9.51786522e-14, 9.42917810e-01, 1.36240025e-06],\n",
       "       [1.34247626e-01, 4.94763843e-13, 8.65747295e-01, 5.07882444e-06],\n",
       "       [2.75161578e-01, 2.27017645e-12, 7.24821840e-01, 1.65825709e-05],\n",
       "       [4.70390255e-01, 8.79931892e-12, 5.29564362e-01, 4.53832121e-05],\n",
       "       [6.65078927e-01, 2.85707266e-11, 3.34817833e-01, 1.03240072e-04],\n",
       "       [8.09197009e-01, 8.08533762e-11, 1.90599881e-01, 2.03110762e-04],\n",
       "       [8.96285545e-01, 2.10971850e-10, 1.03348865e-01, 3.65589715e-04],\n",
       "       [9.43638203e-01, 5.29976115e-10, 5.57331775e-02, 6.28618788e-04],\n",
       "       [9.68291892e-01, 1.31422032e-09, 3.06493703e-02, 1.05873619e-03],\n",
       "       [9.80822095e-01, 3.25837946e-09, 1.74088658e-02, 1.76903604e-03],\n",
       "       [9.86773581e-01, 8.12675007e-09, 1.02759203e-02, 2.95049094e-03],\n",
       "       [9.88753561e-01, 2.04462590e-08, 6.32080301e-03, 4.92561565e-03],\n",
       "       [9.87705645e-01, 5.19419413e-08, 4.05555892e-03, 8.23874458e-03],\n",
       "       [9.83481344e-01, 1.33217122e-07, 2.71385283e-03, 1.38046700e-02],\n",
       "       [9.74963813e-01, 3.44527691e-07, 1.89174962e-03, 2.31440924e-02],\n",
       "       [9.59899947e-01, 8.96275976e-07, 1.37029515e-03, 3.87288619e-02],\n",
       "       [9.34562692e-01, 2.33530073e-06, 1.02699325e-03, 6.44079792e-02],\n",
       "       [8.93494387e-01, 6.05178133e-06, 7.90824251e-04, 1.05708737e-01],\n",
       "       [8.29959395e-01, 1.54327636e-05, 6.19058940e-04, 1.69406113e-01],\n",
       "       [7.38215657e-01, 3.81684044e-05, 4.85515851e-04, 2.61260659e-01],\n",
       "       [6.18255841e-01, 9.00246232e-05, 3.75138294e-04, 3.81278996e-01],\n",
       "       [4.80537878e-01, 1.99586645e-04, 2.81456842e-04, 5.18981079e-01],\n",
       "       [3.44518640e-01, 4.13395532e-04, 2.03805512e-04, 6.54864159e-01],\n",
       "       [2.29027032e-01, 8.04132172e-04, 1.43174926e-04, 7.70025661e-01],\n",
       "       [1.43105972e-01, 1.48910227e-03, 9.89174707e-05, 8.55306008e-01],\n",
       "       [8.53996257e-02, 2.66739447e-03, 6.82911205e-05, 9.11864689e-01],\n",
       "       [4.93408614e-02, 4.68533829e-03, 4.77601881e-05, 9.45926040e-01],\n",
       "       [2.78653121e-02, 8.14778424e-03, 3.41611314e-05, 9.63952743e-01],\n",
       "       [1.54686448e-02, 1.41061239e-02, 2.51297193e-05, 9.70400102e-01],\n",
       "       [8.45912458e-03, 2.43668339e-02, 1.90539855e-05, 9.67154988e-01],\n",
       "       [4.55302577e-03, 4.19595170e-02, 1.48779659e-05, 9.53472579e-01],\n",
       "       [2.40179396e-03, 7.17234625e-02, 1.19129754e-05, 9.25862831e-01],\n",
       "       [1.23128096e-03, 1.20674700e-01, 9.69930714e-06, 8.78084320e-01],\n",
       "       [6.05069187e-04, 1.97122454e-01, 7.92037302e-06, 8.02264557e-01],\n",
       "       [2.79693246e-04, 3.06777478e-01, 6.36557491e-06, 6.92936463e-01],\n",
       "       [1.19138560e-04, 4.45597464e-01, 4.93265861e-06, 5.54278465e-01],\n",
       "       [4.60855578e-05, 5.95309095e-01, 3.63182257e-06, 4.04641187e-01],\n",
       "       [1.61706583e-05, 7.30686550e-01, 2.53791189e-06, 2.69294742e-01],\n",
       "       [5.21277266e-06, 8.34519280e-01, 1.70476568e-06, 1.65473803e-01],\n",
       "       [1.57409162e-06, 9.04274345e-01, 1.12235691e-06, 9.57229588e-02],\n",
       "       [4.53517082e-07, 9.46901714e-01, 7.37662495e-07, 5.30970947e-02],\n",
       "       [1.26384410e-07, 9.71369012e-01, 4.90657721e-07, 2.86303708e-02],\n",
       "       [3.43689094e-08, 9.84859805e-01, 3.33219160e-07, 1.51398276e-02],\n",
       "       [9.16839764e-09, 9.92106875e-01, 2.32270865e-07, 7.89288342e-03],\n",
       "       [2.40640910e-09, 9.95931052e-01, 1.66673228e-07, 4.06877929e-03],\n",
       "       [6.22448996e-10, 9.97922495e-01, 1.23325603e-07, 2.07738132e-03],\n",
       "       [1.58810198e-10, 9.98948491e-01, 9.41757219e-08, 1.05141453e-03],\n",
       "       [3.99848889e-11, 9.99472161e-01, 7.42549758e-08, 5.27764252e-04],\n",
       "       [9.93716455e-12, 9.99737143e-01, 6.04671152e-08, 2.62797001e-04],\n",
       "       [2.43799758e-12, 9.99870121e-01, 5.08598579e-08, 1.29828607e-04],\n",
       "       [5.90522723e-13, 9.99936318e-01, 4.41897549e-08, 6.36382600e-05],\n",
       "       [1.41216995e-13, 9.99969009e-01, 3.96618580e-08, 3.09512764e-05]])"
      ]
     },
     "execution_count": 153,
     "metadata": {},
     "output_type": "execute_result"
    }
   ],
   "source": [
    "clf.predict_proba(x)"
   ]
  },
  {
   "cell_type": "markdown",
   "metadata": {},
   "source": [
    "### Separate by Cycle"
   ]
  },
  {
   "cell_type": "code",
   "execution_count": 35,
   "metadata": {},
   "outputs": [
    {
     "data": {
      "text/plain": [
       "23"
      ]
     },
     "execution_count": 35,
     "metadata": {},
     "output_type": "execute_result"
    }
   ],
   "source": [
    "data1['Cycle_Index'].max()"
   ]
  },
  {
   "cell_type": "code",
   "execution_count": 36,
   "metadata": {},
   "outputs": [],
   "source": [
    "gb = data1.groupby(by = ['Cycle_Index'])"
   ]
  },
  {
   "cell_type": "code",
   "execution_count": 37,
   "metadata": {},
   "outputs": [
    {
     "name": "stdout",
     "output_type": "stream",
     "text": [
      "<pandas.core.groupby.DataFrameGroupBy object at 0x00000180842A30F0>\n"
     ]
    }
   ],
   "source": [
    "print(gb)"
   ]
  },
  {
   "cell_type": "code",
   "execution_count": 38,
   "metadata": {},
   "outputs": [
    {
     "name": "stdout",
     "output_type": "stream",
     "text": [
      "1\n",
      "2\n",
      "3\n",
      "4\n",
      "5\n",
      "6\n",
      "7\n",
      "8\n",
      "9\n",
      "10\n",
      "11\n",
      "12\n",
      "13\n",
      "14\n",
      "15\n",
      "16\n",
      "17\n",
      "18\n",
      "19\n",
      "20\n",
      "21\n",
      "22\n",
      "23\n"
     ]
    }
   ],
   "source": [
    "for i in range(1, data1['Cycle_Index'].max() + 1):\n",
    "    print(i)\n",
    "    "
   ]
  },
  {
   "cell_type": "code",
   "execution_count": null,
   "metadata": {},
   "outputs": [],
   "source": []
  }
 ],
 "metadata": {
  "kernelspec": {
   "display_name": "Python 3",
   "language": "python",
   "name": "python3"
  },
  "language_info": {
   "codemirror_mode": {
    "name": "ipython",
    "version": 3
   },
   "file_extension": ".py",
   "mimetype": "text/x-python",
   "name": "python",
   "nbconvert_exporter": "python",
   "pygments_lexer": "ipython3",
   "version": "3.6.3"
  }
 },
 "nbformat": 4,
 "nbformat_minor": 2
}
