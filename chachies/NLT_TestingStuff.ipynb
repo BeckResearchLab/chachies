{
 "cells": [
  {
   "cell_type": "code",
   "execution_count": 1,
   "metadata": {},
   "outputs": [],
   "source": [
    "import chachifuncs_sepcd\n",
    "from chachifuncs_sepcd import get_all_data\n",
    "from chachifuncs_sepcd import calc_dv_dqdv"
   ]
  },
  {
   "cell_type": "code",
   "execution_count": 2,
   "metadata": {},
   "outputs": [
    {
     "name": "stdout",
     "output_type": "stream",
     "text": [
      "All data separated into cycles and saved in folder \"data/Separated_Cycles\". \n",
      "All cycles cleaned and saved in folder \"data/Clean_Separated_Cycles\".\n",
      "All clean cycles recombined and saved in folder \"data/Clean_Whole_Sets\".\n"
     ]
    }
   ],
   "source": [
    "get_all_data('data/TestData/')"
   ]
  },
  {
   "cell_type": "code",
   "execution_count": 3,
   "metadata": {},
   "outputs": [],
   "source": [
    "#import os \n",
    "#import pandas as pd"
   ]
  },
  {
   "cell_type": "code",
   "execution_count": 4,
   "metadata": {},
   "outputs": [],
   "source": [
    "#name = os.path.split('data/TestData/7_3_13_1C_Cycle.xlsx')[1].split('.')[0]\n",
    "#name2 = os.path.split('data/TestData/7_3_13_1C_Cycle.xlsx')[1]\n",
    "#data = pd.read_excel('data/TestData/7_3_13_1C_Cycle.xlsx', 1)\n",
    "#data.head()"
   ]
  },
  {
   "cell_type": "code",
   "execution_count": 5,
   "metadata": {},
   "outputs": [],
   "source": [
    "import pandas as pd\n",
    "import matplotlib\n",
    "import matplotlib.pyplot as plt\n"
   ]
  },
  {
   "cell_type": "code",
   "execution_count": 6,
   "metadata": {
    "scrolled": true
   },
   "outputs": [
    {
     "data": {
      "image/png": "[encoded data removed]",
      "text/plain": [
       "<matplotlib.figure.Figure at 0x16a2f26a6d8>"
      ]
     },
     "metadata": {},
     "output_type": "display_data"
    }
   ],
   "source": [
    "testdf = pd.read_excel('data/Clean_Separated_Cycles/7_3_13_1C_Cycle-Cycle5Clean.xlsx')\n",
    "fig1 = plt.figure(figsize = (10,10), facecolor = 'w', edgecolor= 'k')\n",
    "myplot = plt.plot(testdf['Voltage(V)'], testdf['dQ/dV'])\n",
    "myplot2 = plt.plot(testdf['Voltage(V)'], testdf['Smoothed_dQ/dV'])\n",
    "#plt.ylim(-10, 10)"
   ]
  },
  {
   "cell_type": "code",
   "execution_count": null,
   "metadata": {},
   "outputs": [],
   "source": []
  }
 ],
 "metadata": {
  "kernelspec": {
   "display_name": "Python 3",
   "language": "python",
   "name": "python3"
  },
  "language_info": {
   "codemirror_mode": {
    "name": "ipython",
    "version": 3
   },
   "file_extension": ".py",
   "mimetype": "text/x-python",
   "name": "python",
   "nbconvert_exporter": "python",
   "pygments_lexer": "ipython3",
   "version": "3.6.3"
  }
 },
 "nbformat": 4,
 "nbformat_minor": 2
}
