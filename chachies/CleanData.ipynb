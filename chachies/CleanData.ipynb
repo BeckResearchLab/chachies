{
 "cells": [
  {
   "cell_type": "markdown",
   "metadata": {},
   "source": [
    "### This notebook's purpose is to get the CALCE data in a workable format (in a dataframe, cleaned, battery type labeled etc.)"
   ]
  },
  {
   "cell_type": "markdown",
   "metadata": {},
   "source": [
    "### Goals: (Add to this)\n",
    "1. Get files from CALCE website into dataframe(s)\n",
    "2. Add label for every cycle which battery this data came from \n",
    "3. Find/Remove empty cells  (delete the whole row or should we do interpolation?) (Might not even have empty cells)\n"
   ]
  },
  {
   "cell_type": "markdown",
   "metadata": {},
   "source": [
    "All CS2 cells underwent the same charging profile which was a standard constant current/constant voltage protocol with a constant current rate of 0.5C until the voltage reached 4.2V and then 4.2V was sustained until the charging current dropped to below 0.05A. Unless specified, the discharge cut off voltage for these batteries was 2.7V. All the CS2 cells were randomly numbered and named accordingly. Name 'CS2_n' was given for the nth numbered CS2 cell. "
   ]
  },
  {
   "cell_type": "markdown",
   "metadata": {},
   "source": [
    "#### Imports:"
   ]
  },
  {
   "cell_type": "code",
   "execution_count": 1,
   "metadata": {},
   "outputs": [],
   "source": [
    "import scipy.io\n",
    "import scipy.signal\n",
    "import os \n",
    "import pandas as pd\n",
    "from pandas import ExcelWriter\n",
    "#also had to pip install openpyxl\n",
    "import requests\n",
    "from math import isclose\n",
    "\n",
    "\n",
    "import matplotlib\n",
    "import matplotlib.pyplot as plt\n",
    "%matplotlib inline"
   ]
  },
  {
   "cell_type": "markdown",
   "metadata": {},
   "source": [
    "#### Notes:\n",
    "To import .mat files into python:  \n",
    "import scipy.io   \n",
    "mat = scipy.io.loadmat('file.mat')  \n",
    "\n",
    "To unzip files: look at SEDS HW2 (not sure if we will use this)\n"
   ]
  },
  {
   "cell_type": "markdown",
   "metadata": {},
   "source": [
    "#### CS2 data (in excel format*)  \n",
    "Look at CS2 data first. From the website, CS2_'n' was given to the nth numbered CS2 cell (identifies unique cells from eachother). Each cell was cycled multiple times. Excel files are named using the testing dates.  **Were the same cells cycled on different dates or was the continuous cycling data split into multiple excel files?**   \n",
    "\n",
    "*CS2_8 and CS2_21 are in .txt format because they were cycled using a different system."
   ]
  },
  {
   "cell_type": "markdown",
   "metadata": {},
   "source": [
    "Starting with CS2_33, in excel file format"
   ]
  },
  {
   "cell_type": "code",
   "execution_count": 4,
   "metadata": {},
   "outputs": [],
   "source": [
    "#also had to pip install openpyxl\n",
    "import glob \n",
    "from math import isclose\n",
    "import os \n",
    "import pandas as pd\n",
    "from pandas import ExcelWriter\n",
    "import requests\n",
    "import scipy.io\n",
    "import scipy.signal\n",
    "\n",
    "### Wrapper Functions below - load_sep_cycles and clean_calc_sep_smooth\n",
    "\n",
    "def load_sep_cycles(getdata_filepath, savedata_filepath):\n",
    "    \"\"\"Get data from a specified filpath, separates out data into cycles and saves those cycles as .xlsx files in specified filepath (must be an existing folder)\"\"\"\n",
    "    dfdict = get_data(getdata_filepath)\n",
    "    for key in dfdict:\n",
    "        all_cycles_df = dfdict[key]\n",
    "        cycle_dict = sep_cycles(all_cycles_df)\n",
    "        battname = key \n",
    "        save_sep_cycles_xlsx(cycle_dict, battname, savedata_filepath) \n",
    "    print('All data separated into cycles and saved')\n",
    "    return \n",
    "\n",
    "def clean_calc_sep_smooth(dataframe, windowlength, polyorder):\n",
    "    \"\"\"Takes one cycle dataframe, calculates dq/dv, cleans the data, separates out charge and discharge, and applies sav-golay filter. Returns two dataframes, one charge and one discharge.\n",
    "    Windowlength and polyorder are for the sav-golay filter.\"\"\"\n",
    "    df1 = calc_dv_dqdv(dataframe)\n",
    "    df2 = drop_0_dv(df1)\n",
    "    charge, discharge = sep_char_dis(df2)\n",
    "    if len(discharge) > windowlength:\n",
    "        smooth_discharge = my_savgolay(discharge, windowlength, polyorder)\n",
    "    else:\n",
    "        discharge['Smoothed_dQ/dV'] = discharge['dQ/dV']\n",
    "        smooth_discharge = discharge\n",
    "    if len(charge) > windowlength: \n",
    "        smooth_charge = my_savgolay(charge, windowlength, polyorder)\n",
    "    else:\n",
    "        charge['Smoothed_dQ/dV'] = charge['dQ/dV']\n",
    "        smooth_charge = charge   \n",
    "    return smooth_charge, smooth_discharge\n",
    "\n",
    "\n",
    "### Component Functions Below\n",
    "\n",
    "\n",
    "def get_data(filepath): \n",
    "    \"\"\"Imports all data in given path\"\"\"\n",
    "    rootdir = filepath\n",
    "    file_list = [f for f in glob.glob(os.path.join(rootdir,'*.xlsx'))] #iterate through dir to get excel files \n",
    "    \n",
    "    d = {} #initiate dict for data storage\n",
    "    count = 0\n",
    "    for file in file_list:\n",
    "        count += 1\n",
    "        name = os.path.split(file)[1].split('.')[0]\n",
    "        data = pd.read_excel(file,1)\n",
    "        new_set = {name : data}\n",
    "        d.update(new_set)\n",
    "        print(\"adding file \" + str(count) + ' ' + str(name))\n",
    "    return d\n",
    "### There are 23 files in the CS2 directory, so we should have 23 entries in the dictionary - add unit test for this, super EASY check \n",
    "\n",
    "#separate out dataframes into cycles\n",
    "def sep_cycles(dataframe):\n",
    "    \"\"\"This function separates out the cycles in the battery dataframe by grouping by the 'Cycle_Index' column, and putting them in a dictionary. \"\"\"\n",
    "    gb = dataframe.groupby(by = ['Cycle_Index'])\n",
    "    cycle_dict = dict(iter(gb))\n",
    "    return cycle_dict\n",
    "\n",
    "def save_sep_cycles_xlsx(cycle_dict, battname, path_to_folder):\n",
    "    '''This saves the separated out cycles into different excel files, beginning with the battery name. Battname and path to folder must be strings.'''\n",
    "    for i in range(1, len(cycle_dict)):\n",
    "         cycle_dict[i]['Battery_Label'] = battname\n",
    "    for i in range(1,len(cycle_dict)):\n",
    "        writer = ExcelWriter(path_to_folder + battname + 'Cycle' + str(i) + '.xlsx')\n",
    "        cycle_dict[i].to_excel(writer)\n",
    "        writer.save()\n",
    "    return \n",
    "\n",
    "\n",
    "def calc_dv_dqdv(cycle_df):\n",
    "    '''This function calculates the dv and the dq/dv for a dataframe.'''\n",
    "    cycle_df = cycle_df.reset_index(drop = True)\n",
    "    cycle_df['dV'] = None \n",
    "    cycle_df['dQ/dV'] = None \n",
    "    for i in range(1,len(cycle_df)): \n",
    "        cycle_df.loc[i, ('dV')] = cycle_df.loc[i, ('Voltage(V)')] - cycle_df.loc[i-1, ('Voltage(V)')]\n",
    "    #calculate dq/dv based off of discharge capacity - might change this later so user can choose to use charge or discharge cap. \n",
    "    cycle_df['dQ/dV'] = cycle_df['Discharge_Capacity(Ah)']/cycle_df['dV']\n",
    "    return cycle_df\n",
    "\n",
    "def drop_0_dv(cycle_df_dv): \n",
    "    '''Drop rows where dv=0 (or about 0) in a dataframe that has already had dv calculated. Then recalculate dv and calculate dq/dv'''\n",
    "    #this will clean up the data points around V = 4.2V (since they are holding it at 4.2V for a while).\n",
    "    cycle_df_dv = cycle_df_dv.reset_index(drop = True)\n",
    "   \n",
    "    cycle_df_dv['dv_close_to_zero'] = None\n",
    "    \n",
    "    for i in range(1, len(cycle_df_dv)):\n",
    "        if isclose(cycle_df_dv.loc[i, ('dV')], 0, abs_tol = 10**-3.5):\n",
    "            cycle_df_dv.loc[i,('dv_close_to_zero')] = False\n",
    "        else:\n",
    "            cycle_df_dv.loc[i,('dv_close_to_zero')]= True   \n",
    "    \n",
    "    \n",
    "    while (False in cycle_df_dv['dv_close_to_zero'].values or cycle_df_dv['dV'].max() > 0.7 or cycle_df_dv['dV'].min() < -0.7): \n",
    "        \n",
    "        cycle_df_dv = cycle_df_dv.reset_index(drop = True)\n",
    "        \n",
    "        for i in range(1, len(cycle_df_dv)):\n",
    "            if isclose(cycle_df_dv.loc[i, ('dV')], 0, abs_tol = 10**-3.5): \n",
    "                cycle_df_dv = cycle_df_dv.drop(index = i)\n",
    "                \n",
    "        cycle_df_dv = cycle_df_dv.reset_index(drop = True)\n",
    "        \n",
    "        for i in range(1, len(cycle_df_dv)):\n",
    "            if (cycle_df_dv.loc[i,('dV')] > 0.7 or cycle_df_dv.loc[i,('dV')] < -0.7):\n",
    "                cycle_df_dv = cycle_df_dv.drop(index = i)       \n",
    "                \n",
    "        cycle_df_dv = cycle_df_dv.reset_index(drop = True)\n",
    "        \n",
    "        for i in range(1, len(cycle_df_dv)): \n",
    "            cycle_df_dv.loc[i, ('dV')] = cycle_df_dv.loc[i, ('Voltage(V)')] - cycle_df_dv.loc[i-1, ('Voltage(V)')] \n",
    "            cycle_df_dv.loc[i, ('d(dq/dv)')] = cycle_df_dv.loc[i, ('dQ/dV')] - cycle_df_dv.loc[i-1, ('dQ/dV')]\n",
    "            if isclose(cycle_df_dv.loc[i, ('dV')], 0, abs_tol = 10**-3.5):\n",
    "                cycle_df_dv.loc[i,('dv_close_to_zero')] = False\n",
    "            else:\n",
    "                cycle_df_dv.loc[i,('dv_close_to_zero')]= True\n",
    "                \n",
    "        cycle_df_dv = cycle_df_dv.reset_index(drop = True)            \n",
    "    \n",
    "    cycle_df_dv = cycle_df_dv.reset_index(drop = True)\n",
    "   \n",
    "    #recalculating dv after dropping rows\n",
    "    for i in range(1, len(cycle_df_dv)): \n",
    "        cycle_df_dv.loc[i, ('dV')] = cycle_df_dv.loc[i, ('Voltage(V)')] - cycle_df_dv.loc[i-1, ('Voltage(V)')]\n",
    "        \n",
    "    #recalculate dq/dv  \n",
    "    cycle_df_dv['dQ/dV'] = cycle_df_dv['Discharge_Capacity(Ah)']/cycle_df_dv['dV']\n",
    "    cycle_df_dv = cycle_df_dv.dropna(subset=['dQ/dV'])\n",
    "    cycle_df_dv = cycle_df_dv.reset_index(drop = True)\n",
    "    cycle_df_dv = cycle_df_dv[:-1]\n",
    "   \n",
    "    cycle_df_dv = cycle_df_dv.reset_index(drop = True)\n",
    "    return cycle_df_dv  \n",
    "\n",
    "def sep_char_dis(df_dqdv):\n",
    "    '''Takes a dataframe of one cycle with calculated dq/dv and separates into charge and discharge differential capacity curves'''\n",
    "    charge = df_dqdv[df_dqdv['dV'] < 0] \n",
    "    charge = charge.reset_index(drop = True)\n",
    "    charge = charge.iloc[6:]\n",
    "    charge = charge.reset_index(drop = True)\n",
    "    discharge = df_dqdv[df_dqdv['dV'] > 0] \n",
    "    discharge = discharge.reset_index(drop = True)\n",
    "    discharge = discharge.iloc[:-2]\n",
    "    discharge = discharge.iloc[2:]\n",
    "    discharge = discharge.reset_index(drop = True)\n",
    "    \n",
    "    return charge, discharge\n",
    "    \n",
    "def my_savgolay(dataframe, windowlength, polyorder):\n",
    "    \"\"\"Takes battery dataframe with a dQ/dV column and applies a sav_golay filter to it, returning the dataframe with a new column called Smoothed_dQ/dV\"\"\"\n",
    "    unfilt = pd.concat([dataframe['dQ/dV']])\n",
    "    unfiltar = unfilt.values\n",
    "    #converts into an array \n",
    "    dataframe['Smoothed_dQ/dV'] = scipy.signal.savgol_filter(unfiltar, windowlength, polyorder)\n",
    "    #had windowlength = 21 and polyorder = 3 before\n",
    "    return dataframe\n",
    "\n",
    "\n"
   ]
  },
  {
   "cell_type": "code",
   "execution_count": 5,
   "metadata": {},
   "outputs": [
    {
     "name": "stdout",
     "output_type": "stream",
     "text": [
      "adding file 1 CS2_33_1_18_11\n",
      "adding file 2 CS2_33_8_17_10\n",
      "adding file 3 CS2_33_12_08_10\n",
      "adding file 4 CS2_33_9_27_10\n",
      "adding file 5 CS2_33_8_30_10\n",
      "adding file 6 CS2_33_1_10_11\n",
      "adding file 7 CS2_33_9_7_10\n",
      "adding file 8 CS2_33_1_24_11\n",
      "adding file 9 CS2_33_10_26_10\n",
      "adding file 10 CS2_33_8_19_10\n",
      "adding file 11 CS2_33_12_16_10\n",
      "adding file 12 CS2_33_10_15_10\n",
      "adding file 13 CS2_33_10_05_10\n",
      "adding file 14 CS2_33_10_04_10\n",
      "adding file 15 CS2_33_2_2_11\n",
      "adding file 16 CS2_33_9_17_10\n",
      "adding file 17 CS2_33_8_18_10\n",
      "adding file 18 CS2_33_1_28_11\n",
      "adding file 19 CS2_33_11_24_10\n",
      "adding file 20 CS2_33_11_10_10\n",
      "adding file 21 CS2_33_12_23_10\n",
      "adding file 22 CS2_33_11_19_10\n",
      "adding file 23 CS2_33_11_01_10\n"
     ]
    },
    {
     "name": "stderr",
     "output_type": "stream",
     "text": [
      "//anaconda/envs/py36/lib/python3.6/site-packages/ipykernel_launcher.py:73: SettingWithCopyWarning: \n",
      "A value is trying to be set on a copy of a slice from a DataFrame.\n",
      "Try using .loc[row_indexer,col_indexer] = value instead\n",
      "\n",
      "See the caveats in the documentation: http://pandas.pydata.org/pandas-docs/stable/indexing.html#indexing-view-versus-copy\n"
     ]
    },
    {
     "name": "stdout",
     "output_type": "stream",
     "text": [
      "All data separated into cycles and saved\n"
     ]
    }
   ],
   "source": [
    "load_sep_cycles('data/CS2_33/', 'NLT_Test/')"
   ]
  },
  {
   "cell_type": "code",
   "execution_count": null,
   "metadata": {},
   "outputs": [],
   "source": [
    "mytestdf = pd.read_excel('NLT_Test/NLT_TestSepCycles/3_4_14_1C_CycleCycle12.xlsx')\n",
    "#still having problems with CS2_33_1_10_11Cycle1.xlsx - guessing all cycle1 discharges will have to be deleted "
   ]
  },
  {
   "cell_type": "code",
   "execution_count": null,
   "metadata": {},
   "outputs": [],
   "source": [
    "len(mytestdf)"
   ]
  },
  {
   "cell_type": "code",
   "execution_count": null,
   "metadata": {},
   "outputs": [],
   "source": [
    "mytestdf2 = calc_dv_dqdv(mytestdf)"
   ]
  },
  {
   "cell_type": "code",
   "execution_count": null,
   "metadata": {},
   "outputs": [],
   "source": [
    "mytestdf2['dV'].mean()"
   ]
  },
  {
   "cell_type": "code",
   "execution_count": null,
   "metadata": {},
   "outputs": [],
   "source": [
    "mytestdf3 = drop_0_dv(mytestdf2)"
   ]
  },
  {
   "cell_type": "code",
   "execution_count": null,
   "metadata": {},
   "outputs": [],
   "source": [
    "mytestdf3.shape"
   ]
  },
  {
   "cell_type": "code",
   "execution_count": null,
   "metadata": {},
   "outputs": [],
   "source": [
    "mytestdf2.head()"
   ]
  },
  {
   "cell_type": "code",
   "execution_count": null,
   "metadata": {},
   "outputs": [],
   "source": [
    "fig1 = plt.figure(figsize = (10,10), facecolor = 'w', edgecolor= 'k')\n",
    "myplot = plt.plot(mytestdf2['Voltage(V)'], mytestdf2['dQ/dV'])\n",
    "plt.ylim(-20000, 20000)"
   ]
  },
  {
   "cell_type": "code",
   "execution_count": null,
   "metadata": {},
   "outputs": [],
   "source": [
    "charge, discharge = clean_calc_sep_smooth(mytestdf, 21, 3)\n",
    "fig = plt.figure(figsize=(10, 10), facecolor='w', edgecolor='k')\n",
    "myplot = plt.plot(charge['Voltage(V)'], charge['Smoothed_dQ/dV'])"
   ]
  },
  {
   "cell_type": "code",
   "execution_count": null,
   "metadata": {},
   "outputs": [],
   "source": [
    "charge['dV'].max()"
   ]
  },
  {
   "cell_type": "code",
   "execution_count": null,
   "metadata": {},
   "outputs": [],
   "source": [
    "fig = plt.figure(figsize=(10, 10), facecolor='w', edgecolor='k')\n",
    "myplot = plt.plot(discharge['Voltage(V)'], discharge['Smoothed_dQ/dV'])"
   ]
  },
  {
   "cell_type": "markdown",
   "metadata": {},
   "source": [
    "### From Robert's Notebook + Sarah's Edits:"
   ]
  },
  {
   "cell_type": "code",
   "execution_count": null,
   "metadata": {},
   "outputs": [],
   "source": [
    "d = get_data('data/CS2_33/')"
   ]
  },
  {
   "cell_type": "code",
   "execution_count": null,
   "metadata": {},
   "outputs": [],
   "source": [
    "data1 = d['CS2_33_10_05_10']"
   ]
  },
  {
   "cell_type": "code",
   "execution_count": null,
   "metadata": {},
   "outputs": [],
   "source": [
    "data1['Cycle_Index'].max()"
   ]
  },
  {
   "cell_type": "code",
   "execution_count": null,
   "metadata": {},
   "outputs": [],
   "source": [
    "#add_label_dv_cols(dictionary = d)"
   ]
  },
  {
   "cell_type": "code",
   "execution_count": null,
   "metadata": {},
   "outputs": [],
   "source": [
    "#separate out dataframes into cycles\n",
    "def sep_cycles(dataframe):\n",
    "    \"\"\"This function separates out the cycles in the battery dataframe by grouping by the 'Cycle_Index' column, and putting them in a dictionary. \"\"\"\n",
    "    gb = dataframe.groupby(by = ['Cycle_Index'])\n",
    "    cycle_dict = dict(iter(gb))\n",
    "    return cycle_dict"
   ]
  },
  {
   "cell_type": "code",
   "execution_count": null,
   "metadata": {},
   "outputs": [],
   "source": [
    "test = sep_cycles(data1)\n",
    "#test is a dictionary of cycles"
   ]
  },
  {
   "cell_type": "code",
   "execution_count": null,
   "metadata": {},
   "outputs": [],
   "source": []
  },
  {
   "cell_type": "code",
   "execution_count": null,
   "metadata": {},
   "outputs": [],
   "source": [
    "\n",
    "#writer = ExcelWriter('NLToutput.xlsx')\n",
    "#test[1].to_excel(writer)\n",
    "#writer.save()"
   ]
  },
  {
   "cell_type": "code",
   "execution_count": null,
   "metadata": {},
   "outputs": [],
   "source": [
    "def save_sep_cycles_xlsx(cycle_dict, battname, path_to_folder):\n",
    "    '''This saves the separated out cycles into different excel files, beginning with the battery name. Battname and path to folder must be strings.'''\n",
    "    for i in range(1, len(cycle_dict)):\n",
    "         cycle_dict[i]['Battery_Label'] = battname\n",
    "    for i in range(1,len(cycle_dict)):\n",
    "        writer = ExcelWriter(path_to_folder + battname + 'Cycle' + str(i) + '.xlsx')\n",
    "        cycle_dict[i].to_excel(writer)\n",
    "        writer.save()\n",
    "    return \n"
   ]
  },
  {
   "cell_type": "code",
   "execution_count": null,
   "metadata": {},
   "outputs": [],
   "source": [
    "#save_sep_cycle s_xlsx(test, 'NLTtest2', 'NLT_Test/')"
   ]
  },
  {
   "cell_type": "code",
   "execution_count": null,
   "metadata": {},
   "outputs": [],
   "source": [
    "testdata = pd.read_excel('NLT_Test/CS2_33_10_04_10Cycle14.xlsx')"
   ]
  },
  {
   "cell_type": "code",
   "execution_count": null,
   "metadata": {},
   "outputs": [],
   "source": [
    "testdata.head()"
   ]
  },
  {
   "cell_type": "markdown",
   "metadata": {},
   "source": [
    "### Calculate dV and dq/dv and Clean Data "
   ]
  },
  {
   "cell_type": "code",
   "execution_count": null,
   "metadata": {},
   "outputs": [],
   "source": [
    "def calc_dv_dqdv(cycle_df):\n",
    "    '''This function calculates the dv and the dq/dv for a dataframe.'''\n",
    "    cycle_df = cycle_df.reset_index(drop = True)\n",
    "    cycle_df['dV'] = None \n",
    "    cycle_df['dQ/dV'] = None \n",
    "    for i in range(1,len(cycle_df)): \n",
    "        cycle_df.loc[i, ('dV')] = cycle_df.loc[i, ('Voltage(V)')] - cycle_df.loc[i-1, ('Voltage(V)')]\n",
    "    #calculate dq/dv based off of discharge capacity - might change this later so user can choose to use charge or discharge cap. \n",
    "    cycle_df['dQ/dV'] = cycle_df['Discharge_Capacity(Ah)']/cycle_df['dV']\n",
    "    return cycle_df"
   ]
  },
  {
   "cell_type": "code",
   "execution_count": null,
   "metadata": {},
   "outputs": [],
   "source": [
    "testdata3 = calc_dv_dqdv(testdata)"
   ]
  },
  {
   "cell_type": "code",
   "execution_count": null,
   "metadata": {},
   "outputs": [],
   "source": [
    "testdata3.tail(50)"
   ]
  },
  {
   "cell_type": "code",
   "execution_count": null,
   "metadata": {},
   "outputs": [],
   "source": [
    "480 in testdata3.index"
   ]
  },
  {
   "cell_type": "code",
   "execution_count": null,
   "metadata": {},
   "outputs": [],
   "source": [
    "testdata3['dV'].max() > 0.9"
   ]
  },
  {
   "cell_type": "code",
   "execution_count": null,
   "metadata": {},
   "outputs": [],
   "source": [
    "#testdata2 = testdata2.reset_index(drop = True)"
   ]
  },
  {
   "cell_type": "code",
   "execution_count": null,
   "metadata": {},
   "outputs": [],
   "source": [
    "def drop_0_dv(cycle_df_dv): \n",
    "    '''Drop rows where dv=0 (or about 0) in a dataframe that has already had dv calculated. Then recalculate dv and calculate dq/dv'''\n",
    "    #this will clean up the data points around V = 4.2V (since they are holding it at 4.2V for a while).\n",
    "    \n",
    "    cycle_df_dv = cycle_df_dv.reset_index(drop = True)\n",
    "    \n",
    "    for i in range(1, len(cycle_df_dv)):\n",
    "        if isclose(cycle_df_dv.loc[i, ('dV')], 0, abs_tol = 10**-3):\n",
    "            cycle_df_dv = cycle_df_dv.drop(index = i)\n",
    "            \n",
    "    cycle_df_dv = cycle_df_dv.reset_index(drop = True)\n",
    "    \n",
    "    while (cycle_df_dv['dV'].max() > 0.05 or cycle_df_dv['dV'].min() < -0.05):\n",
    "        for i in range(1, len(cycle_df_dv)):    \n",
    "            if (cycle_df_dv.loc[i,('dV')] > 0.05 or cycle_df_dv.loc[i,('dV')] < -0.05):\n",
    "                cycle_df_dv = cycle_df_dv.drop(index = i)\n",
    "                if i-1 in cycle_df_dv.index:\n",
    "                    cycle_df_dv = cycle_df_dv.drop(index = i-1)\n",
    "    cycle_df_dv = cycle_df_dv.reset_index(drop = True)            \n",
    "    \n",
    "    #recalculating dv after dropping rows\n",
    "    for i in range(1, len(cycle_df_dv)): \n",
    "        cycle_df_dv.loc[i, ('dV')] = cycle_df_dv.loc[i, ('Voltage(V)')] - cycle_df_dv.loc[i-1, ('Voltage(V)')]\n",
    "    #recalculate dq/dv  \n",
    "    cycle_df_dv['dQ/dV'] = cycle_df_dv['Discharge_Capacity(Ah)']/cycle_df_dv['dV']\n",
    "    cycle_df_dv = cycle_df_dv.dropna(subset=['dQ/dV'])\n",
    "    cycle_df_dv = cycle_df_dv.reset_index(drop = True)\n",
    "    return cycle_df_dv  "
   ]
  },
  {
   "cell_type": "code",
   "execution_count": null,
   "metadata": {},
   "outputs": [],
   "source": [
    "data3_again = drop_0_dv(testdata3)"
   ]
  },
  {
   "cell_type": "markdown",
   "metadata": {},
   "source": [
    "### Separate by charge/discharge \n",
    "#### We want to take each cycle as an individual, but we also want to separate into charge+discharge just to do gaussian fitting easier, but still take charge+discharge as one set. So after cycles are separated out to be treated as individuals, we will run above code to smooth, separate them into charge and discharge (could reverse those two steps) and then do gaussian fitting to find peak descriptors. "
   ]
  },
  {
   "cell_type": "code",
   "execution_count": null,
   "metadata": {},
   "outputs": [],
   "source": [
    "data5 = calc_dv_dqdv(data3)"
   ]
  },
  {
   "cell_type": "code",
   "execution_count": null,
   "metadata": {},
   "outputs": [],
   "source": [
    "data6 = drop_0_dv(data5)"
   ]
  },
  {
   "cell_type": "code",
   "execution_count": null,
   "metadata": {},
   "outputs": [],
   "source": [
    "def sep_char_dis(df_dqdv):\n",
    "    '''Takes a dataframe of one cycle with calculated dq/dv and separates into charge and discharge differential capacity curves'''\n",
    "    charge = df_dqdv[df_dqdv['dV'] < 0] \n",
    "    charge = charge.reset_index(drop = True)\n",
    "    discharge = df_dqdv[df_dqdv['dV'] > 0] \n",
    "    discharge = discharge.reset_index(drop = True)\n",
    "    return charge, discharge\n",
    "    "
   ]
  },
  {
   "cell_type": "code",
   "execution_count": null,
   "metadata": {},
   "outputs": [],
   "source": [
    "charge, discharge = sep_char_dis(data6)"
   ]
  },
  {
   "cell_type": "code",
   "execution_count": null,
   "metadata": {},
   "outputs": [],
   "source": [
    "charge.tail(3)"
   ]
  },
  {
   "cell_type": "markdown",
   "metadata": {},
   "source": [
    "### Filter Sav Golay"
   ]
  },
  {
   "cell_type": "code",
   "execution_count": null,
   "metadata": {},
   "outputs": [],
   "source": [
    "fig = plt.figure(figsize=(10, 10), facecolor='w', edgecolor='k')\n",
    "myplot = plt.plot(discharge['Voltage(V)'], discharge['dQ/dV'])"
   ]
  },
  {
   "cell_type": "code",
   "execution_count": null,
   "metadata": {},
   "outputs": [],
   "source": [
    "def my_savgolay(dataframe, windowlength, polyorder):\n",
    "    \"\"\"Takes battery dataframe with a dQ/dV column and applies a sav_golay filter to it, returning the dataframe with a new column called Smoothed_dQ/dV\"\"\"\n",
    "    unfilt = pd.concat([dataframe['dQ/dV']])\n",
    "    unfiltar = unfilt.values\n",
    "    #converts into an array \n",
    "    dataframe['Smoothed_dQ/dV'] = scipy.signal.savgol_filter(unfiltar, windowlength, polyorder)\n",
    "    #had windowlength = 21 and polyorder = 3 before\n",
    "    return dataframe "
   ]
  },
  {
   "cell_type": "code",
   "execution_count": null,
   "metadata": {},
   "outputs": [],
   "source": [
    "data7 = my_savgolay(discharge, 21, 3)"
   ]
  },
  {
   "cell_type": "code",
   "execution_count": null,
   "metadata": {},
   "outputs": [],
   "source": [
    "fig = plt.figure(figsize=(10, 10), facecolor='w', edgecolor='k')\n",
    "myplot = plt.plot(data7['Voltage(V)'], data7['Smoothed_dQ/dV'])"
   ]
  },
  {
   "cell_type": "markdown",
   "metadata": {},
   "source": [
    "### Entire Function "
   ]
  },
  {
   "cell_type": "code",
   "execution_count": null,
   "metadata": {},
   "outputs": [],
   "source": [
    "#imports\n",
    "def load_sep_cycles(getdata_filepath, savedata_filepath):\n",
    "    dfdict = get_data(getdata_filepath)\n",
    "    for key in dfdict:\n",
    "        all_cycles_df = dfdict[key]\n",
    "        cycle_dict = sep_cycles(all_cycles_df)\n",
    "        battname = key \n",
    "        save_sep_cycles_xlsx(cycle_dict, battname, savedata_filepath) \n",
    "    print('All data separated into cycles and saved')\n",
    "    return \n",
    "#download all files from one folder into a dictionary \n",
    "#separate each df in dictionary into cycles & save to excel sheets in new folder - this becomes our raw set of test/train data?\n",
    "\n",
    "def clean_calc_sep_smooth(dataframe, windowlength, polyorder):\n",
    "    \"\"\"Takes one cycle dataframe, calculates dq/dv, cleans the data, separates out charge and discharge, and applies sav-golay filter. Returns two dataframes, one charge and one discharge.\n",
    "    Windowlength and polyorder are for the sav-golay filter.\"\"\"\n",
    "    df1 = calc_dv_dqdv(dataframe)\n",
    "    df2 = drop_0_dv(df1)\n",
    "    charge, discharge = sep_char_dis(df2)\n",
    "    smooth_charge = my_savgolay(charge, windowlength, polyorder)\n",
    "    smooth_discharge = my_savgolay(discharge, windowlength, polyorder)\n",
    "    return smooth_charge, smooth_discharge\n",
    "\n"
   ]
  },
  {
   "cell_type": "code",
   "execution_count": null,
   "metadata": {},
   "outputs": [],
   "source": [
    "load_sep_cycles('data/CS2_33/', 'NLT_Test/')"
   ]
  },
  {
   "cell_type": "code",
   "execution_count": null,
   "metadata": {},
   "outputs": [],
   "source": [
    "nltdf = pd.read_excel('NLT_Test/CS2_33_10_04_10Cycle16.xlsx')"
   ]
  },
  {
   "cell_type": "code",
   "execution_count": null,
   "metadata": {},
   "outputs": [],
   "source": [
    "nltdf.head()"
   ]
  },
  {
   "cell_type": "code",
   "execution_count": null,
   "metadata": {},
   "outputs": [],
   "source": [
    "nltdf2_charge, nltdf2_discharge = clean_calc_sep_smooth(nltdf, 21, 3)"
   ]
  },
  {
   "cell_type": "code",
   "execution_count": null,
   "metadata": {},
   "outputs": [],
   "source": [
    "nltdf2_charge.head()"
   ]
  },
  {
   "cell_type": "markdown",
   "metadata": {},
   "source": [
    "### Plot code"
   ]
  },
  {
   "cell_type": "code",
   "execution_count": null,
   "metadata": {},
   "outputs": [],
   "source": [
    "fig = plt.figure(figsize=(10, 10), facecolor='w', edgecolor='k')\n",
    "myplot = plt.plot(nltdf2_discharge['Voltage(V)'], nltdf2_discharge['Smoothed_dQ/dV'])"
   ]
  }
 ],
 "metadata": {
  "kernelspec": {
   "display_name": "Python 3",
   "language": "python",
   "name": "python3"
  },
  "language_info": {
   "codemirror_mode": {
    "name": "ipython",
    "version": 3
   },
   "file_extension": ".py",
   "mimetype": "text/x-python",
   "name": "python",
   "nbconvert_exporter": "python",
   "pygments_lexer": "ipython3",
   "version": "3.6.4"
  }
 },
 "nbformat": 4,
 "nbformat_minor": 2
}
