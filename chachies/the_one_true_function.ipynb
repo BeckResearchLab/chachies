{
 "cells": [
  {
   "cell_type": "code",
   "execution_count": 1,
   "metadata": {
    "collapsed": true
   },
   "outputs": [],
   "source": [
    "import glob \n",
    "from math import isclose \n",
    "import os \n",
    "import pandas as pd\n",
    "from pandas import ExcelWriter\n",
    "import requests\n",
    "import scipy.io\n",
    "import scipy.signal\n",
    "import numpy\n",
    "import matplotlib\n",
    "import matplotlib.pyplot as plt\n",
    "% matplotlib inline\n",
    "### added numpy & matplotlibs"
   ]
  },
  {
   "cell_type": "code",
   "execution_count": 2,
   "metadata": {
    "collapsed": true
   },
   "outputs": [],
   "source": [
    "################################\n",
    "### OVERALL Wrapper Function ###\n",
    "################################\n",
    "\n",
    "def get_all_data(path_to_raw_data_folder):\n",
    "    '''Gets all raw data from the specified folder (path_to_raw_data_folder), and then \n",
    "    1. separates it into raw cycles and puts them in a folder (data/Separated_Cycles/)\n",
    "    2. cleans those separated cycles and puts them in a folder (data/Clean_Separated_Cycles/)\n",
    "    3. recombines the cleaned, separated cycles and saves those data sets in a folder (data/Clean_Whole_Sets/)\n",
    "    These folders do not have to have existed previously. '''\n",
    "    if not os.path.exists('data/'):\n",
    "        os.makedirs('data/')\n",
    "    if not os.path.exists('data/Separated_Cycles/'):\n",
    "        os.makedirs('data/Separated_Cycles/')\n",
    "    if not os.path.exists('data/Clean_Separated_Cycles/'):\n",
    "        os.makedirs('data/Clean_Separated_Cycles/')\n",
    "    if not os.path.exists('data/Clean_Whole_Sets/'):\n",
    "        os.makedirs('data/Clean_Whole_Sets/')\n",
    "    load_sep_cycles(path_to_raw_data_folder, 'data/Separated_Cycles/')\n",
    "    get_clean_cycles('data/Separated_Cycles/', 'data/Clean_Separated_Cycles/')\n",
    "    get_clean_sets('data/Clean_Separated_Cycles/', 'data/Clean_Whole_Sets/')\n",
    "    return "
   ]
  },
  {
   "cell_type": "markdown",
   "metadata": {},
   "source": [
    "##### Notes: 'get_all_data' doesn't work if I forget to add the last slash in the path name"
   ]
  },
  {
   "cell_type": "code",
   "execution_count": 3,
   "metadata": {
    "collapsed": true
   },
   "outputs": [],
   "source": [
    "############################\n",
    "### Sub - Wrapper Functions\n",
    "############################\n",
    "\n",
    "def load_sep_cycles(getdata_filepath, savedata_filepath):\n",
    "    \"\"\"Get data from a specified filepath, separates out data into cycles and saves those cycles as .xlsx files in specified filepath (must be an existing folder)\"\"\"\n",
    "    dfdict = get_data(getdata_filepath)\n",
    "    for key in dfdict:\n",
    "        all_cycles_df = dfdict[key]\n",
    "        cycle_dict = sep_cycles(all_cycles_df)\n",
    "        battname = key \n",
    "        save_sep_cycles_xlsx(cycle_dict, battname, savedata_filepath) \n",
    "    print('All data separated into cycles and saved in folder \"data/Separated_Cycles\". ')\n",
    "    return "
   ]
  },
  {
   "cell_type": "markdown",
   "metadata": {},
   "source": [
    "##### ^depends on get_data, sep_cycles, and save_sep_cycles_xlsx"
   ]
  },
  {
   "cell_type": "code",
   "execution_count": 4,
   "metadata": {
    "collapsed": true
   },
   "outputs": [],
   "source": [
    "############################\n",
    "# Component Functions\n",
    "############################\n",
    "\n",
    "def get_data(filepath): \n",
    "    \"\"\"Imports all data in given path\"\"\"\n",
    "    assert type(filepath) == str, 'Input must be a string'\n",
    "    rootdir = filepath\n",
    "    file_list = [f for f in glob.glob(os.path.join(rootdir,'*.xlsx'))] #iterate through dir to get excel files \n",
    "    \n",
    "    d = {} #initiate dict for data storage\n",
    "    count = 0\n",
    "    for file in file_list:\n",
    "        count += 1\n",
    "        name = os.path.split(file)[1].split('.')[0]\n",
    "        data = pd.read_excel(file,1)\n",
    "        new_set = {name : data}\n",
    "        d.update(new_set)\n",
    "       # print(\"adding file \" + str(count) + ' ' + str(name))\n",
    "    return d\n",
    "### ADD UNIT TEST:There are 23 files in the CS2 directory, so we should have 23 entries in the dictionary - add unit test for this, super EASY check \n",
    "\n"
   ]
  },
  {
   "cell_type": "code",
   "execution_count": 5,
   "metadata": {
    "collapsed": true
   },
   "outputs": [],
   "source": [
    "#separate out dataframes into cycles\n",
    "def sep_cycles(dataframe):\n",
    "    \"\"\"This function separates out the cycles in the battery dataframe by grouping by the 'Cycle_Index' column, and putting them in a dictionary. \"\"\"\n",
    "    assert type(dataframe) == pd.DataFrame, 'Input must be a dataframe' \n",
    "    gb = dataframe.groupby(by = ['Cycle_Index'])\n",
    "    cycle_dict = dict(iter(gb))\n",
    "    return cycle_dict"
   ]
  },
  {
   "cell_type": "code",
   "execution_count": 6,
   "metadata": {
    "collapsed": true
   },
   "outputs": [],
   "source": [
    "def save_sep_cycles_xlsx(cycle_dict, battname, path_to_folder):\n",
    "    '''This saves the separated out cycles into different excel files, beginning with the battery name. Battname and path to folder must be strings.'''\n",
    "    for i in range(1, len(cycle_dict)):\n",
    "         cycle_dict[i]['Battery_Label'] = battname\n",
    "    for i in range(1,len(cycle_dict)):\n",
    "        writer = ExcelWriter(path_to_folder + battname + '-'+'Cycle' + str(i) + '.xlsx') \n",
    "        cycle_dict[i].to_excel(writer)\n",
    "        writer.save()\n",
    "    return"
   ]
  },
  {
   "cell_type": "markdown",
   "metadata": {},
   "source": [
    "# Fun bits here"
   ]
  },
  {
   "cell_type": "code",
   "execution_count": 49,
   "metadata": {},
   "outputs": [
    {
     "name": "stdout",
     "output_type": "stream",
     "text": [
      "All data separated into cycles and saved in folder \"data/Separated_Cycles\". \n",
      "All cycles cleaned and saved in folder \"data/Clean_Separated_Cycles\".\n",
      "All clean cycles recombined and saved in folder \"data/Clean_Whole_Sets\".\n"
     ]
    }
   ],
   "source": [
    "get_all_data('data/CS2_33/')"
   ]
  },
  {
   "cell_type": "code",
   "execution_count": 50,
   "metadata": {},
   "outputs": [],
   "source": [
    "asdf = pd.read_excel('data/Clean_Separated_Cycles/CS2_33_10_15_10-Cycle20Clean.xlsx')\n"
   ]
  },
  {
   "cell_type": "code",
   "execution_count": 26,
   "metadata": {},
   "outputs": [
    {
     "data": {
      "text/html": [
       "<div>\n",
       "<style scoped>\n",
       "    .dataframe tbody tr th:only-of-type {\n",
       "        vertical-align: middle;\n",
       "    }\n",
       "\n",
       "    .dataframe tbody tr th {\n",
       "        vertical-align: top;\n",
       "    }\n",
       "\n",
       "    .dataframe thead th {\n",
       "        text-align: right;\n",
       "    }\n",
       "</style>\n",
       "<table border=\"1\" class=\"dataframe\">\n",
       "  <thead>\n",
       "    <tr style=\"text-align: right;\">\n",
       "      <th></th>\n",
       "      <th>Data_Point</th>\n",
       "      <th>Test_Time(s)</th>\n",
       "      <th>Date_Time</th>\n",
       "      <th>Step_Time(s)</th>\n",
       "      <th>Step_Index</th>\n",
       "      <th>Cycle_Index</th>\n",
       "      <th>Current(A)</th>\n",
       "      <th>Voltage(V)</th>\n",
       "      <th>Charge_Capacity(Ah)</th>\n",
       "      <th>Discharge_Capacity(Ah)</th>\n",
       "      <th>...</th>\n",
       "      <th>ACI_Phase_Angle(Deg)</th>\n",
       "      <th>Battery_Label</th>\n",
       "      <th>dV</th>\n",
       "      <th>Discharge_dQ</th>\n",
       "      <th>Charge_dQ</th>\n",
       "      <th>Discharge_dQ/dV</th>\n",
       "      <th>Charge_dQ/dV</th>\n",
       "      <th>dv_close_to_zero</th>\n",
       "      <th>dQ/dV</th>\n",
       "      <th>Smoothed_dQ/dV</th>\n",
       "    </tr>\n",
       "  </thead>\n",
       "  <tbody>\n",
       "    <tr>\n",
       "      <th>0</th>\n",
       "      <td>8744</td>\n",
       "      <td>293048.354950</td>\n",
       "      <td>2010-10-09 19:01:07</td>\n",
       "      <td>30.015223</td>\n",
       "      <td>2</td>\n",
       "      <td>20</td>\n",
       "      <td>0.550025</td>\n",
       "      <td>3.423963</td>\n",
       "      <td>19.211222</td>\n",
       "      <td>20.118757</td>\n",
       "      <td>...</td>\n",
       "      <td>0</td>\n",
       "      <td>CS2_33_10_15_10</td>\n",
       "      <td>0.266800</td>\n",
       "      <td>0.0</td>\n",
       "      <td>0.004585</td>\n",
       "      <td>0.0</td>\n",
       "      <td>0.017184</td>\n",
       "      <td>True</td>\n",
       "      <td>0.017184</td>\n",
       "      <td>-0.040752</td>\n",
       "    </tr>\n",
       "    <tr>\n",
       "      <th>1</th>\n",
       "      <td>8745</td>\n",
       "      <td>293078.372090</td>\n",
       "      <td>2010-10-09 19:01:37</td>\n",
       "      <td>60.032363</td>\n",
       "      <td>2</td>\n",
       "      <td>20</td>\n",
       "      <td>0.549665</td>\n",
       "      <td>3.499127</td>\n",
       "      <td>19.215807</td>\n",
       "      <td>20.118757</td>\n",
       "      <td>...</td>\n",
       "      <td>0</td>\n",
       "      <td>CS2_33_10_15_10</td>\n",
       "      <td>0.075164</td>\n",
       "      <td>0.0</td>\n",
       "      <td>0.004585</td>\n",
       "      <td>0.0</td>\n",
       "      <td>0.061002</td>\n",
       "      <td>True</td>\n",
       "      <td>0.061002</td>\n",
       "      <td>0.077452</td>\n",
       "    </tr>\n",
       "    <tr>\n",
       "      <th>2</th>\n",
       "      <td>8746</td>\n",
       "      <td>293108.385389</td>\n",
       "      <td>2010-10-09 19:02:07</td>\n",
       "      <td>90.045661</td>\n",
       "      <td>2</td>\n",
       "      <td>20</td>\n",
       "      <td>0.549665</td>\n",
       "      <td>3.553719</td>\n",
       "      <td>19.220391</td>\n",
       "      <td>20.118757</td>\n",
       "      <td>...</td>\n",
       "      <td>0</td>\n",
       "      <td>CS2_33_10_15_10</td>\n",
       "      <td>0.054591</td>\n",
       "      <td>0.0</td>\n",
       "      <td>0.004585</td>\n",
       "      <td>0.0</td>\n",
       "      <td>0.083980</td>\n",
       "      <td>True</td>\n",
       "      <td>0.083980</td>\n",
       "      <td>0.139503</td>\n",
       "    </tr>\n",
       "    <tr>\n",
       "      <th>3</th>\n",
       "      <td>8747</td>\n",
       "      <td>293138.400589</td>\n",
       "      <td>2010-10-09 19:02:37</td>\n",
       "      <td>120.060862</td>\n",
       "      <td>2</td>\n",
       "      <td>20</td>\n",
       "      <td>0.549845</td>\n",
       "      <td>3.596646</td>\n",
       "      <td>19.224976</td>\n",
       "      <td>20.118757</td>\n",
       "      <td>...</td>\n",
       "      <td>0</td>\n",
       "      <td>CS2_33_10_15_10</td>\n",
       "      <td>0.042928</td>\n",
       "      <td>0.0</td>\n",
       "      <td>0.004585</td>\n",
       "      <td>0.0</td>\n",
       "      <td>0.106807</td>\n",
       "      <td>True</td>\n",
       "      <td>0.106807</td>\n",
       "      <td>0.160323</td>\n",
       "    </tr>\n",
       "    <tr>\n",
       "      <th>4</th>\n",
       "      <td>8748</td>\n",
       "      <td>293168.415821</td>\n",
       "      <td>2010-10-09 19:03:07</td>\n",
       "      <td>150.076094</td>\n",
       "      <td>2</td>\n",
       "      <td>20</td>\n",
       "      <td>0.550025</td>\n",
       "      <td>3.632123</td>\n",
       "      <td>19.229561</td>\n",
       "      <td>20.118757</td>\n",
       "      <td>...</td>\n",
       "      <td>0</td>\n",
       "      <td>CS2_33_10_15_10</td>\n",
       "      <td>0.035476</td>\n",
       "      <td>0.0</td>\n",
       "      <td>0.004585</td>\n",
       "      <td>0.0</td>\n",
       "      <td>0.129240</td>\n",
       "      <td>True</td>\n",
       "      <td>0.129240</td>\n",
       "      <td>0.154833</td>\n",
       "    </tr>\n",
       "  </tbody>\n",
       "</table>\n",
       "<p>5 rows × 26 columns</p>\n",
       "</div>"
      ],
      "text/plain": [
       "   Data_Point   Test_Time(s)           Date_Time  Step_Time(s)  Step_Index  \\\n",
       "0        8744  293048.354950 2010-10-09 19:01:07     30.015223           2   \n",
       "1        8745  293078.372090 2010-10-09 19:01:37     60.032363           2   \n",
       "2        8746  293108.385389 2010-10-09 19:02:07     90.045661           2   \n",
       "3        8747  293138.400589 2010-10-09 19:02:37    120.060862           2   \n",
       "4        8748  293168.415821 2010-10-09 19:03:07    150.076094           2   \n",
       "\n",
       "   Cycle_Index  Current(A)  Voltage(V)  Charge_Capacity(Ah)  \\\n",
       "0           20    0.550025    3.423963            19.211222   \n",
       "1           20    0.549665    3.499127            19.215807   \n",
       "2           20    0.549665    3.553719            19.220391   \n",
       "3           20    0.549845    3.596646            19.224976   \n",
       "4           20    0.550025    3.632123            19.229561   \n",
       "\n",
       "   Discharge_Capacity(Ah)       ...        ACI_Phase_Angle(Deg)  \\\n",
       "0               20.118757       ...                           0   \n",
       "1               20.118757       ...                           0   \n",
       "2               20.118757       ...                           0   \n",
       "3               20.118757       ...                           0   \n",
       "4               20.118757       ...                           0   \n",
       "\n",
       "     Battery_Label        dV  Discharge_dQ  Charge_dQ  Discharge_dQ/dV  \\\n",
       "0  CS2_33_10_15_10  0.266800           0.0   0.004585              0.0   \n",
       "1  CS2_33_10_15_10  0.075164           0.0   0.004585              0.0   \n",
       "2  CS2_33_10_15_10  0.054591           0.0   0.004585              0.0   \n",
       "3  CS2_33_10_15_10  0.042928           0.0   0.004585              0.0   \n",
       "4  CS2_33_10_15_10  0.035476           0.0   0.004585              0.0   \n",
       "\n",
       "   Charge_dQ/dV dv_close_to_zero     dQ/dV  Smoothed_dQ/dV  \n",
       "0      0.017184             True  0.017184       -0.040752  \n",
       "1      0.061002             True  0.061002        0.077452  \n",
       "2      0.083980             True  0.083980        0.139503  \n",
       "3      0.106807             True  0.106807        0.160323  \n",
       "4      0.129240             True  0.129240        0.154833  \n",
       "\n",
       "[5 rows x 26 columns]"
      ]
     },
     "execution_count": 26,
     "metadata": {},
     "output_type": "execute_result"
    }
   ],
   "source": [
    "asdf.head()"
   ]
  },
  {
   "cell_type": "code",
   "execution_count": 40,
   "metadata": {},
   "outputs": [
    {
     "data": {
      "text/plain": [
       "count    4.390000e+02\n",
       "mean     2.117196e+00\n",
       "std      1.109066e+00\n",
       "min      2.309567e-09\n",
       "25%      1.415246e+00\n",
       "50%      1.886829e+00\n",
       "75%      2.830778e+00\n",
       "max      5.661020e+00\n",
       "Name: dQ/dV, dtype: float64"
      ]
     },
     "execution_count": 40,
     "metadata": {},
     "output_type": "execute_result"
    }
   ],
   "source": [
    "abs(asdf['dQ/dV']).describe()"
   ]
  },
  {
   "cell_type": "code",
   "execution_count": 54,
   "metadata": {},
   "outputs": [
    {
     "data": {
      "image/png": "[encoded data removed]",
      "text/plain": [
       "<Figure size 720x720 with 1 Axes>"
      ]
     },
     "metadata": {},
     "output_type": "display_data"
    }
   ],
   "source": [
    "fig1 = plt.figure(figsize = (10,10), facecolor = 'w', edgecolor = 'k')\n",
    "#myplot = plt.plot(asdf['Data_Point'],asdf['dQ/dV'])\n",
    "myplot = plt.plot(asdf['Voltage(V)'],asdf['dQ/dV'])\n",
    "myplot2 = plt.plot(asdf['Voltage(V)'],asdf['Smoothed_dQ/dV'])"
   ]
  },
  {
   "cell_type": "code",
   "execution_count": 52,
   "metadata": {},
   "outputs": [
    {
     "data": {
      "image/png": "[encoded data removed]",
      "text/plain": [
       "<Figure size 432x288 with 1 Axes>"
      ]
     },
     "metadata": {},
     "output_type": "display_data"
    }
   ],
   "source": [
    "myplot = plt.plot(asdf['Data_Point'],asdf['Voltage(V)'])"
   ]
  },
  {
   "cell_type": "markdown",
   "metadata": {},
   "source": [
    "## this guy  down here  depends on clean_calc_sep_smooth "
   ]
  },
  {
   "cell_type": "code",
   "execution_count": 8,
   "metadata": {
    "collapsed": true
   },
   "outputs": [],
   "source": [
    "def get_clean_cycles(import_filepath, save_filepath): \n",
    "    \"\"\"Imports all separated out cycles in given path and cleans them and saves them in the specified filepath\"\"\"\n",
    "    rootdir = import_filepath\n",
    "    file_list = [f for f in glob.glob(os.path.join(rootdir,'*.xlsx'))] #iterate through dir to get excel files \n",
    "    d = {} #initiate dict for data storage\n",
    "    count = 0\n",
    "    for file in file_list:\n",
    "        count += 1\n",
    "        name = os.path.split(file)[1].split('.')[0]\n",
    "        data = pd.read_excel(file)\n",
    "        charge, discharge = clean_calc_sep_smooth(data, 15, 3)\n",
    "        clean_data = charge.append(discharge)\n",
    "        clean_cycle = {name : clean_data}\n",
    "        d.update(clean_cycle)\n",
    "       # print(\"adding file to dictionary\" + str(count) + ' ' + str(name))\n",
    "    for key in d:\n",
    "        clean_cycle_df = d[key]\n",
    "        cyclename = key \n",
    "        writer = ExcelWriter(save_filepath + cyclename + 'Clean'+ '.xlsx')\n",
    "        clean_cycle_df.to_excel(writer)\n",
    "        writer.save() \n",
    "    print('All cycles cleaned and saved in folder \"data/Clean_Separated_Cycles\".')\n",
    "    return "
   ]
  },
  {
   "cell_type": "code",
   "execution_count": 46,
   "metadata": {
    "collapsed": true
   },
   "outputs": [],
   "source": [
    "def clean_calc_sep_smooth(dataframe, windowlength, polyorder):\n",
    "    \"\"\"Takes one cycle dataframe, calculates dq/dv, cleans the data, separates out charge and discharge, and applies sav-golay filter. Returns two dataframes, one charge and one discharge.\n",
    "    Windowlength and polyorder are for the sav-golay filter.\"\"\"\n",
    "    df1 = calc_dv_dqdv(dataframe)\n",
    "    df2 = drop_0_dv(df1) \n",
    "    \n",
    "    \n",
    "    \n",
    "    charge, discharge = sep_char_dis(df2)\n",
    "    if len(discharge) > windowlength:\n",
    "        smooth_discharge = my_savgolay(discharge, windowlength, polyorder)\n",
    "    else:\n",
    "        discharge['Smoothed_dQ/dV'] = discharge['dQ/dV']\n",
    "        smooth_discharge = discharge\n",
    "    if len(charge) > windowlength: \n",
    "        smooth_charge = my_savgolay(charge, windowlength, polyorder)\n",
    "    else:\n",
    "        charge['Smoothed_dQ/dV'] = charge['dQ/dV']\n",
    "        smooth_charge = charge   \n",
    "    return smooth_charge, smooth_discharge"
   ]
  },
  {
   "cell_type": "markdown",
   "metadata": {},
   "source": [
    "##### depends on calc_dv_dqdv and drop_0_dv and sep_char_dis and my_savgolay"
   ]
  },
  {
   "cell_type": "code",
   "execution_count": 10,
   "metadata": {
    "collapsed": true
   },
   "outputs": [],
   "source": [
    "def calc_dv_dqdv(cycle_df):\n",
    "    \"\"\"This function calculates the dv and the dq/dv for a dataframe.\"\"\"\n",
    "    cycle_df = cycle_df.reset_index(drop = True)\n",
    "    cycle_df['dV'] = None \n",
    "    cycle_df['Discharge_dQ'] = None\n",
    "    cycle_df['Charge_dQ'] = None \n",
    "    cycle_df['Discharge_dQ/dV'] = None\n",
    "    cycle_df['Charge_dQ/dV'] = None  \n",
    "    for i in range(1,len(cycle_df)): \n",
    "        cycle_df.loc[i, ('dV')] = cycle_df.loc[i, ('Voltage(V)')] - cycle_df.loc[i-1, ('Voltage(V)')]  \n",
    "        cycle_df.loc[i, ('Discharge_dQ')] = cycle_df.loc[i, ('Discharge_Capacity(Ah)')] - cycle_df.loc[i-1, ('Discharge_Capacity(Ah)')]\n",
    "        cycle_df.loc[i, ('Charge_dQ')] = cycle_df.loc[i, ('Charge_Capacity(Ah)')] - cycle_df.loc[i-1, ('Charge_Capacity(Ah)')]\n",
    "    #calculate dq/dv based off of discharge capacity - might change this later so user can choose to use charge or discharge cap. \n",
    "    cycle_df['Discharge_dQ/dV'] = cycle_df['Discharge_dQ']/cycle_df['dV']\n",
    "    cycle_df['Charge_dQ/dV'] = cycle_df['Charge_dQ']/cycle_df['dV']\n",
    "    return cycle_df"
   ]
  },
  {
   "cell_type": "markdown",
   "metadata": {},
   "source": [
    "### this looks good as hell up there ^^"
   ]
  },
  {
   "cell_type": "code",
   "execution_count": 34,
   "metadata": {
    "collapsed": true
   },
   "outputs": [],
   "source": [
    "def drop_0_dv(cycle_df_dv): \n",
    "    '''Drop rows where dv=0 (or about 0) in a dataframe that has already had dv calculated. Then recalculate dv and calculate dq/dv'''\n",
    "    #this will clean up the data points around V = 4.2V (since they are holding it at 4.2V for a while).\n",
    "    cycle_df_dv = cycle_df_dv.reset_index(drop = True)\n",
    "   \n",
    "    cycle_df_dv['dv_close_to_zero'] = None\n",
    "    for i in range(1, len(cycle_df_dv)):\n",
    "    \tif isclose(cycle_df_dv.loc[i, ('Current(A)')], 0, abs_tol = 10**-3):\n",
    "    \t\tcycle_df_dv = cycle_df_dv.drop(index = i) \n",
    "\n",
    "    cycle_df_dv = cycle_df_dv.reset_index(drop = True)\t\t\n",
    "\n",
    "    for i in range(1, len(cycle_df_dv)):\n",
    "        if isclose(cycle_df_dv.loc[i, ('dV')], 0, abs_tol = 10**-3.5):\n",
    "            cycle_df_dv.loc[i,('dv_close_to_zero')] = False\n",
    "        else:\n",
    "            cycle_df_dv.loc[i,('dv_close_to_zero')]= True   \n",
    "    \n",
    "    \n",
    "    while (False in cycle_df_dv['dv_close_to_zero'].values or cycle_df_dv['dV'].max() > 0.7 or cycle_df_dv['dV'].min() < -0.7): \n",
    "        \n",
    "        cycle_df_dv = cycle_df_dv.reset_index(drop = True)\n",
    "        \n",
    "        for i in range(1, len(cycle_df_dv)):\n",
    "            if isclose(cycle_df_dv.loc[i, ('dV')], 0, abs_tol = 10**-3.5): \n",
    "                cycle_df_dv = cycle_df_dv.drop(index = i)\n",
    "                \n",
    "        cycle_df_dv = cycle_df_dv.reset_index(drop = True)\n",
    "        \n",
    "        for i in range(1, len(cycle_df_dv)):\n",
    "            if (cycle_df_dv.loc[i,('dV')] > 0.7 or cycle_df_dv.loc[i,('dV')] < -0.7):\n",
    "                cycle_df_dv = cycle_df_dv.drop(index = i)       \n",
    "                \n",
    "        cycle_df_dv = cycle_df_dv.reset_index(drop = True)\n",
    "        \n",
    "        for i in range(1, len(cycle_df_dv)): \n",
    "            cycle_df_dv.loc[i, ('dV')] = cycle_df_dv.loc[i, ('Voltage(V)')] - cycle_df_dv.loc[i-1, ('Voltage(V)')] \n",
    "            if isclose(cycle_df_dv.loc[i, ('dV')], 0, abs_tol = 10**-3.5):\n",
    "                cycle_df_dv.loc[i,('dv_close_to_zero')] = False\n",
    "            else:\n",
    "                cycle_df_dv.loc[i,('dv_close_to_zero')]= True\n",
    "                \n",
    "        cycle_df_dv = cycle_df_dv.reset_index(drop = True)            \n",
    "    \n",
    "    cycle_df_dv = cycle_df_dv.reset_index(drop = True)\n",
    "   \n",
    "    #recalculating dv and dq's after dropping rows\n",
    "    for i in range(1, len(cycle_df_dv)): \n",
    "        cycle_df_dv.loc[i, ('dV')] = cycle_df_dv.loc[i, ('Voltage(V)')] - cycle_df_dv.loc[i-1, ('Voltage(V)')]\n",
    "        cycle_df_dv.loc[i, ('Discharge_dQ')] = cycle_df_dv.loc[i, ('Discharge_Capacity(Ah)')] - cycle_df_dv.loc[i-1, ('Discharge_Capacity(Ah)')]\n",
    "        cycle_df_dv.loc[i, ('Charge_dQ')] = cycle_df_dv.loc[i, ('Charge_Capacity(Ah)')] - cycle_df_dv.loc[i-1, ('Charge_Capacity(Ah)')]\n",
    "    #recalculate dq/dv  \n",
    "    cycle_df_dv['Discharge_dQ/dV'] = cycle_df_dv['Discharge_dQ']/cycle_df_dv['dV']\n",
    "    cycle_df_dv['Charge_dQ/dV'] = cycle_df_dv['Charge_dQ']/cycle_df_dv['dV']\n",
    "    cycle_df_dv = cycle_df_dv.dropna(subset=['Discharge_dQ/dV'])\n",
    "    cycle_df_dv = cycle_df_dv.dropna(subset=['Charge_dQ/dV'])\n",
    "    cycle_df_dv = cycle_df_dv.reset_index(drop = True)\n",
    "   # cycle_df_dv = cycle_df_dv[:-1]\n",
    "\n",
    "    \n",
    "\n",
    "    ###only new part here!!!\n",
    "    \n",
    "    ## Example:\n",
    "    #import numpy\n",
    "    #a = [1, 2, 1, 1, -3, -4, 7, 8, 9, 10, -2, 1, -3, 5, 6, 7, -10]\n",
    "    #zero_crossings = numpy.where(numpy.diff(numpy.sign(a)))[0]\n",
    "    ###Source: https://stackoverflow.com/questions/3843017/efficiently-detect-sign-changes-in-python\n",
    "    \n",
    "    \n",
    "    # Delete the row where the sign of the current switches\n",
    "    switch_cd_index = numpy.where(numpy.diff(numpy.sign(cycle_df_dv['Current(A)'])))\n",
    "    for i in switch_cd_index:\n",
    "        cycle_df_dv = cycle_df_dv.drop(cycle_df_dv.index[i+1])\n",
    "   \n",
    "    #### back to the old stuff\n",
    "\n",
    "    cycle_df_dv = cycle_df_dv.reset_index(drop = True)\n",
    "    return cycle_df_dv "
   ]
  },
  {
   "cell_type": "markdown",
   "metadata": {},
   "source": [
    "### ^ not sure if the new part I added does anything but it doesn't hurt"
   ]
  },
  {
   "cell_type": "code",
   "execution_count": 48,
   "metadata": {
    "collapsed": true
   },
   "outputs": [],
   "source": [
    "def sep_char_dis(df_dqdv):\n",
    "    '''Takes a dataframe of one cycle with calculated dq/dv and separates into charge and discharge differential capacity curves'''\n",
    "    charge = df_dqdv[df_dqdv['dV'] > 0]\n",
    "    charge.is_copy = None\n",
    "    charge['dQ/dV'] = charge['Charge_dQ/dV']\n",
    "    charge = charge.reset_index(drop = True)\n",
    "    \n",
    "    ### nix anything where dq/dv is too small\n",
    "    for i in range(1, len(charge)):\n",
    "        if isclose(charge.loc[i, ['dQ/dV']], 0, abs_tol = 10**-3.5): \n",
    "            charge = charge.drop(index = i)\n",
    "   # charge = charge.iloc[6:] <- not sure what this is all about, but the above new code should do the same thing but better!\n",
    "    charge = charge.reset_index(drop = True)\n",
    "    discharge = df_dqdv[df_dqdv['dV'] < 0] \n",
    "    discharge.is_copy = None \n",
    "    discharge['dQ/dV'] = discharge['Discharge_dQ/dV']\n",
    "    discharge = discharge.reset_index(drop = True)\n",
    "   # discharge = discharge.iloc[:-2]\n",
    "  #  discharge = discharge.iloc[2:]\n",
    "    #discharge = discharge.reset_index(drop = True)\n",
    "    \n",
    "    # same as above - nix anything where dq/dv is too close to 0\n",
    "    #\n",
    "    #\n",
    "    for i in range(1, len(discharge)):\n",
    "        if isclose(discharge.loc[i, ['dQ/dV']], 0, abs_tol = 10**-3.5): \n",
    "            discharge = discharge.drop(index = i)\n",
    "                \n",
    "    discharge = discharge.reset_index(drop = True)\n",
    "    \n",
    "    #\n",
    "    #\n",
    "    \n",
    "    return charge, discharge"
   ]
  },
  {
   "cell_type": "markdown",
   "metadata": {},
   "source": [
    "### ^ these two functions can probably be greatly simplified but aint nobody got time for that"
   ]
  },
  {
   "cell_type": "code",
   "execution_count": 13,
   "metadata": {
    "collapsed": true
   },
   "outputs": [],
   "source": [
    "def my_savgolay(dataframe, windowlength, polyorder):\n",
    "    \"\"\"Takes battery dataframe with a dQ/dV column and applies a sav_golay filter to it, returning the dataframe with a new column called Smoothed_dQ/dV\"\"\"\n",
    "    unfilt = pd.concat([dataframe['dQ/dV']])\n",
    "    unfiltar = unfilt.values\n",
    "    #converts into an array \n",
    "    dataframe['Smoothed_dQ/dV'] = scipy.signal.savgol_filter(unfiltar, windowlength, polyorder)\n",
    "    #had windowlength = 21 and polyorder = 3 before\n",
    "    return dataframe"
   ]
  },
  {
   "cell_type": "code",
   "execution_count": 14,
   "metadata": {
    "collapsed": true
   },
   "outputs": [],
   "source": [
    "def get_clean_sets(import_filepath, save_filepath): \n",
    "    \"\"\"Imports all clean cycles of data from import path and appends them into complete sets of battery data, saved into save_filepath\"\"\"\n",
    "    rootdir = import_filepath\n",
    "    file_list = [f for f in glob.glob(os.path.join(rootdir,'*.xlsx'))] #iterate through dir to get excel files \n",
    "    d = {} #initiate dict for data storage\n",
    "    count = 0\n",
    "    list_bats = [] \n",
    "    for file in file_list:\n",
    "        count += 1\n",
    "        name = os.path.split(file)[1].split('.')[0]\n",
    "        batname = name.split('-')[0]\n",
    "        if batname not in list_bats:\n",
    "            list_bats.append(batname)\n",
    "        else: None  \n",
    "            \n",
    "    set_dict = {}\n",
    "    \n",
    "    for i in range(len(list_bats)): \n",
    "        batID = list_bats[i] \n",
    "        setdf = pd.DataFrame()\n",
    "        for file in file_list:\n",
    "            name = os.path.split(file)[1].split('.')[0]\n",
    "            batname = name.split('-')[0]\n",
    "            if batname == batID:\n",
    "                df = pd.read_excel(file)\n",
    "                setdf = setdf.append(df, ignore_index=True)\n",
    "            else:\n",
    "                None \n",
    "        setdf = setdf.sort_values(['Data_Point'], ascending = True)\n",
    "        newset = {batID : setdf}\n",
    "        set_dict.update(newset) \n",
    "        \n",
    "    for key, value in set_dict.items():\n",
    "        writer = ExcelWriter(save_filepath + key + 'CleanSet'+'.xlsx')\n",
    "        value.to_excel(writer)\n",
    "        writer.save() \n",
    "                \n",
    "    print('All clean cycles recombined and saved in folder \"data/Clean_Whole_Sets\".')\n",
    "    return"
   ]
  }
 ],
 "metadata": {
  "kernelspec": {
   "display_name": "Python 3",
   "language": "python",
   "name": "python3"
  },
  "language_info": {
   "codemirror_mode": {
    "name": "ipython",
    "version": 3
   },
   "file_extension": ".py",
   "mimetype": "text/x-python",
   "name": "python",
   "nbconvert_exporter": "python",
   "pygments_lexer": "ipython3",
   "version": "3.6.2"
  }
 },
 "nbformat": 4,
 "nbformat_minor": 2
}
