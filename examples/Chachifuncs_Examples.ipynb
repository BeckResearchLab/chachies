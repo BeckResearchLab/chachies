{
 "cells": [
  {
   "cell_type": "markdown",
   "metadata": {},
   "source": [
    "# This notebook demonstrates how to use Chachifuncs.py - which is used to clean raw battery data from the CALCE website \n",
    "#### Calce website: https://www.calce.umd.edu/batteries/data.htm"
   ]
  },
  {
   "cell_type": "markdown",
   "metadata": {},
   "source": [
    "### First we import everything we need:"
   ]
  },
  {
   "cell_type": "code",
   "execution_count": 1,
   "metadata": {},
   "outputs": [],
   "source": [
    "import chachifuncs as ccf\n",
    "import pandas as pd\n",
    "import matplotlib \n",
    "import matplotlib.pyplot as plt\n",
    "%matplotlib inline"
   ]
  },
  {
   "cell_type": "markdown",
   "metadata": {},
   "source": [
    "### Then we apply the get_all_data function, which takes raw data and cleans it into forms other components of this package can use. "
   ]
  },
  {
   "cell_type": "markdown",
   "metadata": {},
   "source": [
    "The function 'get_all_data' will take all the raw data from the specified folder within the root directory, separate out cycles and put them in a folder called 'Separated_Cycles', take those separated cycles and calculates dq/dv while simultaneously cleaning the data and saves those clean files in 'Clean_Separated_Cycles'.  \n",
    "  \n",
    "Three print messages should appear while this function is running:  \n",
    "1. All data separated into cycles and saved in folder (specified folder).  \n",
    "2. All cycles cleaned and saved in folder (specified folder).  \n",
    "3. All clean cycles recombined and saved in folder (specifed folder).  "
   ]
  },
  {
   "cell_type": "code",
   "execution_count": 2,
   "metadata": {},
   "outputs": [
    {
     "name": "stdout",
     "output_type": "stream",
     "text": [
      "All data separated into cycles and saved in folder \"data/example_files/Separated_Cycles/\".\n",
      "All cycles cleaned and saved in folder \"data/example_files/Clean_Separated_Cycles/\" .\n",
      "All clean cycles recombined and saved in folder \"data/example_files/Clean_Whole_Sets/\" .\n"
     ]
    }
   ],
   "source": [
    "ccf.get_all_data('data/example_files/', 'Raw_Data_Examples')"
   ]
  },
  {
   "cell_type": "markdown",
   "metadata": {},
   "source": [
    "### Now we can look at the data:"
   ]
  },
  {
   "cell_type": "markdown",
   "metadata": {},
   "source": [
    "If we want to look at the raw data's dq/dv plots, we can apply the calc_dq_dqdv function from ccf, as shown below with one example file of a CS2-type battery (A LiCoO2 cell). "
   ]
  },
  {
   "cell_type": "code",
   "execution_count": 3,
   "metadata": {},
   "outputs": [],
   "source": [
    "raw_data_df = pd.read_excel('data/example_files/Separated_Cycles/CS2_33_10_04_10-Cycle12.xlsx')\n",
    "#we load the file using pd.read_excel. The second argument, 1, indicates the sheet number to use. "
   ]
  },
  {
   "cell_type": "markdown",
   "metadata": {},
   "source": [
    "Looking at the data below using raw_data_df.head(), we can see the columns do not contain any dq/dv data, so we need to calculate it."
   ]
  },
  {
   "cell_type": "code",
   "execution_count": 4,
   "metadata": {
    "scrolled": true
   },
   "outputs": [
    {
     "data": {
      "text/html": [
       "<div>\n",
       "<style scoped>\n",
       "    .dataframe tbody tr th:only-of-type {\n",
       "        vertical-align: middle;\n",
       "    }\n",
       "\n",
       "    .dataframe tbody tr th {\n",
       "        vertical-align: top;\n",
       "    }\n",
       "\n",
       "    .dataframe thead th {\n",
       "        text-align: right;\n",
       "    }\n",
       "</style>\n",
       "<table border=\"1\" class=\"dataframe\">\n",
       "  <thead>\n",
       "    <tr style=\"text-align: right;\">\n",
       "      <th></th>\n",
       "      <th>Data_Point</th>\n",
       "      <th>Test_Time(s)</th>\n",
       "      <th>Date_Time</th>\n",
       "      <th>Step_Time(s)</th>\n",
       "      <th>Step_Index</th>\n",
       "      <th>Cycle_Index</th>\n",
       "      <th>Current(A)</th>\n",
       "      <th>Voltage(V)</th>\n",
       "      <th>Charge_Capacity(Ah)</th>\n",
       "      <th>Discharge_Capacity(Ah)</th>\n",
       "      <th>Charge_Energy(Wh)</th>\n",
       "      <th>Discharge_Energy(Wh)</th>\n",
       "      <th>dV/dt(V/s)</th>\n",
       "      <th>Internal_Resistance(Ohm)</th>\n",
       "      <th>Is_FC_Data</th>\n",
       "      <th>AC_Impedance(Ohm)</th>\n",
       "      <th>ACI_Phase_Angle(Deg)</th>\n",
       "      <th>Battery_Label</th>\n",
       "    </tr>\n",
       "  </thead>\n",
       "  <tbody>\n",
       "    <tr>\n",
       "      <th>5248</th>\n",
       "      <td>5249</td>\n",
       "      <td>172486.987182</td>\n",
       "      <td>2010-09-29 14:07:18</td>\n",
       "      <td>30.015263</td>\n",
       "      <td>1</td>\n",
       "      <td>12</td>\n",
       "      <td>0.0</td>\n",
       "      <td>3.158945</td>\n",
       "      <td>11.764065</td>\n",
       "      <td>11.775178</td>\n",
       "      <td>46.727796</td>\n",
       "      <td>44.102237</td>\n",
       "      <td>0.000583</td>\n",
       "      <td>0.096597</td>\n",
       "      <td>0</td>\n",
       "      <td>0</td>\n",
       "      <td>0</td>\n",
       "      <td>CS2_33_10_04_10</td>\n",
       "    </tr>\n",
       "    <tr>\n",
       "      <th>5249</th>\n",
       "      <td>5250</td>\n",
       "      <td>172517.002454</td>\n",
       "      <td>2010-09-29 14:07:48</td>\n",
       "      <td>60.030535</td>\n",
       "      <td>1</td>\n",
       "      <td>12</td>\n",
       "      <td>0.0</td>\n",
       "      <td>3.176602</td>\n",
       "      <td>11.764065</td>\n",
       "      <td>11.775178</td>\n",
       "      <td>46.727796</td>\n",
       "      <td>44.102237</td>\n",
       "      <td>0.000454</td>\n",
       "      <td>0.096597</td>\n",
       "      <td>0</td>\n",
       "      <td>0</td>\n",
       "      <td>0</td>\n",
       "      <td>CS2_33_10_04_10</td>\n",
       "    </tr>\n",
       "  </tbody>\n",
       "</table>\n",
       "</div>"
      ],
      "text/plain": [
       "      Data_Point   Test_Time(s)           Date_Time  Step_Time(s)  Step_Index  \\\n",
       "5248        5249  172486.987182 2010-09-29 14:07:18     30.015263           1   \n",
       "5249        5250  172517.002454 2010-09-29 14:07:48     60.030535           1   \n",
       "\n",
       "      Cycle_Index  Current(A)  Voltage(V)  Charge_Capacity(Ah)  \\\n",
       "5248           12         0.0    3.158945            11.764065   \n",
       "5249           12         0.0    3.176602            11.764065   \n",
       "\n",
       "      Discharge_Capacity(Ah)  Charge_Energy(Wh)  Discharge_Energy(Wh)  \\\n",
       "5248               11.775178          46.727796             44.102237   \n",
       "5249               11.775178          46.727796             44.102237   \n",
       "\n",
       "      dV/dt(V/s)  Internal_Resistance(Ohm)  Is_FC_Data  AC_Impedance(Ohm)  \\\n",
       "5248    0.000583                  0.096597           0                  0   \n",
       "5249    0.000454                  0.096597           0                  0   \n",
       "\n",
       "      ACI_Phase_Angle(Deg)    Battery_Label  \n",
       "5248                     0  CS2_33_10_04_10  \n",
       "5249                     0  CS2_33_10_04_10  "
      ]
     },
     "execution_count": 4,
     "metadata": {},
     "output_type": "execute_result"
    }
   ],
   "source": [
    "raw_data_df.head(2)"
   ]
  },
  {
   "cell_type": "markdown",
   "metadata": {},
   "source": [
    "Now we can calculate the dq/dv by applying the function calc_dv_dqdv to the dataframe. This function calculates the dV of row $i$ by $Voltage_i$ - $Voltage_{i-1}$. The same method is applied to calculate dQ, using the charge capacity for the charging part of the cycle, and the discharge capacity for the discharging part of  the cycle. Then dQ is divided by dV, yielding dQ/dV. "
   ]
  },
  {
   "cell_type": "code",
   "execution_count": 5,
   "metadata": {},
   "outputs": [],
   "source": [
    "raw_data_dqdv = ccf.calc_dv_dqdv(raw_data_df)"
   ]
  },
  {
   "cell_type": "markdown",
   "metadata": {},
   "source": [
    "Now we have dq/dv values in the dataframe. We can examine the data below:"
   ]
  },
  {
   "cell_type": "code",
   "execution_count": 6,
   "metadata": {
    "scrolled": true
   },
   "outputs": [
    {
     "data": {
      "text/html": [
       "<div>\n",
       "<style scoped>\n",
       "    .dataframe tbody tr th:only-of-type {\n",
       "        vertical-align: middle;\n",
       "    }\n",
       "\n",
       "    .dataframe tbody tr th {\n",
       "        vertical-align: top;\n",
       "    }\n",
       "\n",
       "    .dataframe thead th {\n",
       "        text-align: right;\n",
       "    }\n",
       "</style>\n",
       "<table border=\"1\" class=\"dataframe\">\n",
       "  <thead>\n",
       "    <tr style=\"text-align: right;\">\n",
       "      <th></th>\n",
       "      <th>Data_Point</th>\n",
       "      <th>Test_Time(s)</th>\n",
       "      <th>Date_Time</th>\n",
       "      <th>Step_Time(s)</th>\n",
       "      <th>Step_Index</th>\n",
       "      <th>Cycle_Index</th>\n",
       "      <th>Current(A)</th>\n",
       "      <th>Voltage(V)</th>\n",
       "      <th>Charge_Capacity(Ah)</th>\n",
       "      <th>Discharge_Capacity(Ah)</th>\n",
       "      <th>...</th>\n",
       "      <th>Internal_Resistance(Ohm)</th>\n",
       "      <th>Is_FC_Data</th>\n",
       "      <th>AC_Impedance(Ohm)</th>\n",
       "      <th>ACI_Phase_Angle(Deg)</th>\n",
       "      <th>Battery_Label</th>\n",
       "      <th>dV</th>\n",
       "      <th>Discharge_dQ</th>\n",
       "      <th>Charge_dQ</th>\n",
       "      <th>Discharge_dQ/dV</th>\n",
       "      <th>Charge_dQ/dV</th>\n",
       "    </tr>\n",
       "  </thead>\n",
       "  <tbody>\n",
       "    <tr>\n",
       "      <th>473</th>\n",
       "      <td>5722</td>\n",
       "      <td>188366.489712</td>\n",
       "      <td>2010-09-29 18:31:58</td>\n",
       "      <td>60.015043</td>\n",
       "      <td>8</td>\n",
       "      <td>12</td>\n",
       "      <td>0.000000</td>\n",
       "      <td>3.129462</td>\n",
       "      <td>12.837054</td>\n",
       "      <td>12.848400</td>\n",
       "      <td>...</td>\n",
       "      <td>0.093266</td>\n",
       "      <td>0</td>\n",
       "      <td>0</td>\n",
       "      <td>0</td>\n",
       "      <td>CS2_33_10_04_10</td>\n",
       "      <td>0.429926</td>\n",
       "      <td>0</td>\n",
       "      <td>0</td>\n",
       "      <td>0</td>\n",
       "      <td>0</td>\n",
       "    </tr>\n",
       "    <tr>\n",
       "      <th>474</th>\n",
       "      <td>5723</td>\n",
       "      <td>188366.681704</td>\n",
       "      <td>2010-09-29 18:31:59</td>\n",
       "      <td>0.187550</td>\n",
       "      <td>9</td>\n",
       "      <td>12</td>\n",
       "      <td>0.000106</td>\n",
       "      <td>3.129624</td>\n",
       "      <td>12.837054</td>\n",
       "      <td>12.848400</td>\n",
       "      <td>...</td>\n",
       "      <td>0.095059</td>\n",
       "      <td>0</td>\n",
       "      <td>0</td>\n",
       "      <td>0</td>\n",
       "      <td>CS2_33_10_04_10</td>\n",
       "      <td>0.000161886</td>\n",
       "      <td>0</td>\n",
       "      <td>5.50988e-09</td>\n",
       "      <td>0</td>\n",
       "      <td>3.40355e-05</td>\n",
       "    </tr>\n",
       "    <tr>\n",
       "      <th>475</th>\n",
       "      <td>5724</td>\n",
       "      <td>188371.509702</td>\n",
       "      <td>2010-09-29 18:32:04</td>\n",
       "      <td>5.015548</td>\n",
       "      <td>9</td>\n",
       "      <td>12</td>\n",
       "      <td>-0.002414</td>\n",
       "      <td>3.135780</td>\n",
       "      <td>12.837054</td>\n",
       "      <td>12.848403</td>\n",
       "      <td>...</td>\n",
       "      <td>0.095059</td>\n",
       "      <td>0</td>\n",
       "      <td>0</td>\n",
       "      <td>0</td>\n",
       "      <td>CS2_33_10_04_10</td>\n",
       "      <td>0.00615573</td>\n",
       "      <td>2.99257e-06</td>\n",
       "      <td>9.1622e-10</td>\n",
       "      <td>0.000486144</td>\n",
       "      <td>1.4884e-07</td>\n",
       "    </tr>\n",
       "  </tbody>\n",
       "</table>\n",
       "<p>3 rows × 23 columns</p>\n",
       "</div>"
      ],
      "text/plain": [
       "     Data_Point   Test_Time(s)           Date_Time  Step_Time(s)  Step_Index  \\\n",
       "473        5722  188366.489712 2010-09-29 18:31:58     60.015043           8   \n",
       "474        5723  188366.681704 2010-09-29 18:31:59      0.187550           9   \n",
       "475        5724  188371.509702 2010-09-29 18:32:04      5.015548           9   \n",
       "\n",
       "     Cycle_Index  Current(A)  Voltage(V)  Charge_Capacity(Ah)  \\\n",
       "473           12    0.000000    3.129462            12.837054   \n",
       "474           12    0.000106    3.129624            12.837054   \n",
       "475           12   -0.002414    3.135780            12.837054   \n",
       "\n",
       "     Discharge_Capacity(Ah)     ...       Internal_Resistance(Ohm)  \\\n",
       "473               12.848400     ...                       0.093266   \n",
       "474               12.848400     ...                       0.095059   \n",
       "475               12.848403     ...                       0.095059   \n",
       "\n",
       "     Is_FC_Data  AC_Impedance(Ohm)  ACI_Phase_Angle(Deg)    Battery_Label  \\\n",
       "473           0                  0                     0  CS2_33_10_04_10   \n",
       "474           0                  0                     0  CS2_33_10_04_10   \n",
       "475           0                  0                     0  CS2_33_10_04_10   \n",
       "\n",
       "              dV  Discharge_dQ    Charge_dQ Discharge_dQ/dV Charge_dQ/dV  \n",
       "473     0.429926             0            0               0            0  \n",
       "474  0.000161886             0  5.50988e-09               0  3.40355e-05  \n",
       "475   0.00615573   2.99257e-06   9.1622e-10     0.000486144   1.4884e-07  \n",
       "\n",
       "[3 rows x 23 columns]"
      ]
     },
     "execution_count": 6,
     "metadata": {},
     "output_type": "execute_result"
    }
   ],
   "source": [
    "raw_data_dqdv.tail(3)\n",
    "#We use tail instead of head because the first few dq/dv's are NaN's or 0's. You can look at the head too if you'd like. "
   ]
  },
  {
   "cell_type": "markdown",
   "metadata": {},
   "source": [
    "### Now let's plot the raw dQ/dV data. "
   ]
  },
  {
   "cell_type": "code",
   "execution_count": 7,
   "metadata": {},
   "outputs": [
    {
     "data": {
      "text/plain": [
       "Text(0.5,0,'Voltage(V)')"
      ]
     },
     "execution_count": 7,
     "metadata": {},
     "output_type": "execute_result"
    },
    {
     "data": {
      "image/png": "[encoded data removed]",
      "text/plain": [
       "<matplotlib.figure.Figure at 0x2212f76b128>"
      ]
     },
     "metadata": {},
     "output_type": "display_data"
    }
   ],
   "source": [
    "fig1 = plt.figure(figsize = (8,8), facecolor = 'w', edgecolor= 'k')\n",
    "myplot = plt.plot(raw_data_dqdv['Voltage(V)'], raw_data_dqdv['Charge_dQ/dV'])\n",
    "plt.plot(raw_data_dqdv['Voltage(V)'], raw_data_dqdv['Discharge_dQ/dV'], color = 'red')\n",
    "plt.ylim(-20, 20)\n",
    "plt.ylabel('dQ/dV (C/V)')\n",
    "plt.xlabel('Voltage(V)')"
   ]
  },
  {
   "cell_type": "markdown",
   "metadata": {},
   "source": [
    "### Now lets look at the clean data:"
   ]
  },
  {
   "cell_type": "code",
   "execution_count": 8,
   "metadata": {},
   "outputs": [],
   "source": [
    "clean_cycle_df = pd.read_excel('data/example_files/Clean_Separated_Cycles/CS2_33_10_04_10-Cycle12Clean.xlsx')\n",
    "#We just picked a random cycle. "
   ]
  },
  {
   "cell_type": "code",
   "execution_count": 9,
   "metadata": {
    "scrolled": true
   },
   "outputs": [
    {
     "data": {
      "text/plain": [
       "Text(0.5,0,'Voltage(V)')"
      ]
     },
     "execution_count": 9,
     "metadata": {},
     "output_type": "execute_result"
    },
    {
     "data": {
      "image/png": "[encoded data removed]",
      "text/plain": [
       "<matplotlib.figure.Figure at 0x22135e4abe0>"
      ]
     },
     "metadata": {},
     "output_type": "display_data"
    }
   ],
   "source": [
    "fig1 = plt.figure(figsize = (8,8), facecolor = 'w', edgecolor= 'k')\n",
    "myplot = plt.plot(clean_cycle_df['Voltage(V)'], clean_cycle_df['dQ/dV'])\n",
    "plt.plot(clean_cycle_df['Voltage(V)'], clean_cycle_df['Smoothed_dQ/dV'], c = 'red')\n",
    "plt.ylim(-10, 10)\n",
    "plt.ylabel('dQ/dV (C/V)')\n",
    "plt.xlabel('Voltage(V)')"
   ]
  },
  {
   "cell_type": "markdown",
   "metadata": {},
   "source": [
    "### The recombined clean cycles, saved in 'Clean_Whole_Sets' are used in the DASH app. If we wanted to separated the charge cycles from the discharge cycles, we would use the sep_char_dis function. "
   ]
  },
  {
   "cell_type": "code",
   "execution_count": 10,
   "metadata": {},
   "outputs": [],
   "source": [
    "whole_set_df = pd.read_excel('data/example_files/Clean_Whole_Sets/CS2_33_10_04_10CleanSet.xlsx')"
   ]
  },
  {
   "cell_type": "code",
   "execution_count": 11,
   "metadata": {},
   "outputs": [],
   "source": [
    "charge, discharge = ccf.sep_char_dis(whole_set_df)"
   ]
  },
  {
   "cell_type": "markdown",
   "metadata": {},
   "source": [
    "Now we have two dataframes, charge and discharge, that we can plot separately. "
   ]
  },
  {
   "cell_type": "code",
   "execution_count": 12,
   "metadata": {},
   "outputs": [
    {
     "data": {
      "text/plain": [
       "Text(0.5,0,'Voltage(V)')"
      ]
     },
     "execution_count": 12,
     "metadata": {},
     "output_type": "execute_result"
    },
    {
     "data": {
      "image/png": "[encoded data removed]",
      "text/plain": [
       "<matplotlib.figure.Figure at 0x22134c716a0>"
      ]
     },
     "metadata": {},
     "output_type": "display_data"
    }
   ],
   "source": [
    "cm = plt.get_cmap('hsv')\n",
    "fig1 = plt.figure(figsize = (8,8), facecolor = 'w', edgecolor= 'k')\n",
    "plt.plot(charge['Voltage(V)'], charge['dQ/dV'])\n",
    "plt.plot(charge['Voltage(V)'], charge['Smoothed_dQ/dV'] )\n",
    "plt.ylim(-1, 10)\n",
    "plt.ylabel('dQ/dV (C/V)')\n",
    "plt.xlabel('Voltage(V)')"
   ]
  },
  {
   "cell_type": "code",
   "execution_count": 13,
   "metadata": {},
   "outputs": [
    {
     "data": {
      "text/plain": [
       "Text(0.5,0,'Voltage(V)')"
      ]
     },
     "execution_count": 13,
     "metadata": {},
     "output_type": "execute_result"
    },
    {
     "data": {
      "image/png": "[encoded data removed]",
      "text/plain": [
       "<matplotlib.figure.Figure at 0x22135d51b00>"
      ]
     },
     "metadata": {},
     "output_type": "display_data"
    }
   ],
   "source": [
    "cm = plt.get_cmap('hsv')\n",
    "fig1 = plt.figure(figsize = (8,8), facecolor = 'w', edgecolor= 'k')\n",
    "plt.plot(discharge['Voltage(V)'], discharge['dQ/dV'])\n",
    "plt.plot(discharge['Voltage(V)'], discharge['Smoothed_dQ/dV'] )\n",
    "plt.ylim(-10, 1)\n",
    "plt.ylabel('dQ/dV (C/V)')\n",
    "plt.xlabel('Voltage(V)')"
   ]
  },
  {
   "cell_type": "code",
   "execution_count": null,
   "metadata": {},
   "outputs": [],
   "source": []
  }
 ],
 "metadata": {
  "kernelspec": {
   "display_name": "Python 3",
   "language": "python",
   "name": "python3"
  },
  "language_info": {
   "codemirror_mode": {
    "name": "ipython",
    "version": 3
   },
   "file_extension": ".py",
   "mimetype": "text/x-python",
   "name": "python",
   "nbconvert_exporter": "python",
   "pygments_lexer": "ipython3",
   "version": "3.6.3"
  }
 },
 "nbformat": 4,
 "nbformat_minor": 2
}
