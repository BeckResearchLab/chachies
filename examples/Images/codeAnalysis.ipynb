{
 "cells": [
  {
   "cell_type": "code",
   "execution_count": 1,
   "metadata": {},
   "outputs": [
    {
     "name": "stdout",
     "output_type": "stream",
     "text": [
      "Successfully extracted all battery names for c\n",
      "Fitting battery: CS2_33_10_04_10 c\n",
      "Fitting battery: CS2_33_12_23_10 c\n",
      "Cycle 46 in battery CS2_33_12_23_10 had fewer than 10 datapoints and was removed from the dataset.\n",
      "Successfully extracted all battery names for d\n",
      "Fitting battery: CS2_33_10_04_10 d\n",
      "Fitting battery: CS2_33_12_23_10 d\n",
      "Cycle 46 in battery CS2_33_12_23_10 had fewer than 10 datapoints and was removed from the dataset.\n"
     ]
    }
   ],
   "source": [
    "from pycallgraph import PyCallGraph\n",
    "from pycallgraph.output import GraphvizOutput\n",
    "\n",
    "from descriptors import process\n",
    "from descriptors import fitters\n",
    "graphviz = GraphvizOutput(output_file='filter_none.png')\n",
    "\n",
    "with PyCallGraph(output=graphviz):\n",
    "    process.ML_generate('../NLT_Test/Clean_Separated_Cycles')"
   ]
  },
  {
   "cell_type": "code",
   "execution_count": null,
   "metadata": {},
   "outputs": [],
   "source": []
  }
 ],
 "metadata": {
  "kernelspec": {
   "display_name": "Python 3",
   "language": "python",
   "name": "python3"
  },
  "language_info": {
   "codemirror_mode": {
    "name": "ipython",
    "version": 3
   },
   "file_extension": ".py",
   "mimetype": "text/x-python",
   "name": "python",
   "nbconvert_exporter": "python",
   "pygments_lexer": "ipython3",
   "version": "3.6.3"
  }
 },
 "nbformat": 4,
 "nbformat_minor": 2
}
