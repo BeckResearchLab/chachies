{
 "cells": [
  {
   "cell_type": "code",
   "execution_count": 1,
   "metadata": {},
   "outputs": [],
   "source": [
    "import glob\n",
    "import os\n",
    "import chachifuncs as ccf\n",
    "import descriptors as d\n",
    "import pandas as pd\n",
    "from sklearn import svm\n",
    "from sklearn.model_selection import train_test_split\n",
    "import matplotlib.pyplot as plt \n",
    "import numpy as np\n",
    "from sklearn import linear_model\n",
    "from sklearn import preprocessing\n",
    "from sklearn.feature_selection import VarianceThreshold\n",
    "from sklearn.neighbors.nearest_centroid import NearestCentroid\n",
    "from sklearn.neighbors import NearestNeighbors\n",
    "from sklearn.ensemble import RandomForestClassifier\n",
    "import seaborn as sns\n",
    "import pickle\n",
    "%matplotlib inline"
   ]
  },
  {
   "cell_type": "code",
   "execution_count": 2,
   "metadata": {},
   "outputs": [],
   "source": [
    "k_list = [f for f in glob.glob('data/K_descriptors/*.xlsx')]\n",
    "c_list = [f for f in glob.glob('data/C_descriptors/*.xlsx')]"
   ]
  },
  {
   "cell_type": "code",
   "execution_count": 3,
   "metadata": {},
   "outputs": [],
   "source": [
    "c_data = pd.DataFrame()\n",
    "for each in c_list:\n",
    "    df = pd.read_excel(each)\n",
    "    c_data = c_data.append(df,ignore_index=True)\n",
    "#c_data.shape\n",
    "#remove_n_c = c_data.shape[0]-350\n",
    "\n",
    "#drop_indices = np.random.choice(c_data.index, remove_n_c, replace=False)\n",
    "#c_subset = c_data.drop(drop_indices)\n",
    "#c_subset.shape"
   ]
  },
  {
   "cell_type": "code",
   "execution_count": 4,
   "metadata": {},
   "outputs": [
    {
     "data": {
      "text/plain": [
       "(640, 40)"
      ]
     },
     "execution_count": 4,
     "metadata": {},
     "output_type": "execute_result"
    }
   ],
   "source": [
    "k_data = pd.DataFrame()\n",
    "for each in k_list:\n",
    "    df = pd.read_excel(each)\n",
    "    k_data = k_data.append(df,ignore_index=True)\n",
    "k_data.shape\n",
    "\n",
    "#remove_n_k = k_data.shape[0]-350\n",
    "\n",
    "#drop_indices = np.random.choice(k_data.index, remove_n_k, replace=False)\n",
    "#k_subset = k_data.drop(drop_indices)\n",
    "#k_subset.shape"
   ]
  },
  {
   "cell_type": "code",
   "execution_count": 5,
   "metadata": {},
   "outputs": [],
   "source": [
    "#data = c_subset.append(k_subset)\n",
    "data = c_data.append(k_data)\n",
    "data = data.T.drop_duplicates().T"
   ]
  },
  {
   "cell_type": "code",
   "execution_count": 6,
   "metadata": {},
   "outputs": [
    {
     "data": {
      "text/plain": [
       "array(['LiCoO2', 'LiFePO4'], dtype=object)"
      ]
     },
     "execution_count": 6,
     "metadata": {},
     "output_type": "execute_result"
    }
   ],
   "source": [
    "data = data.reset_index(drop = True)\n",
    "\n",
    "for i in range(len(data)):\n",
    "    if data.loc[i, ('names')].startswith('CS2_33'):\n",
    "        data.loc[i, ('label')] = 'LiCoO2'\n",
    "        data.loc[i, ('lasso')] = 0\n",
    "    else:\n",
    "        data.loc[i,('label')] = 'LiFePO4'\n",
    "        data.loc[i, ('lasso')] = 1\n",
    "\n",
    "data.label.unique()"
   ]
  },
  {
   "cell_type": "code",
   "execution_count": 7,
   "metadata": {},
   "outputs": [
    {
     "name": "stdout",
     "output_type": "stream",
     "text": [
      "Shape of dataset:  (1030, 36)\n"
     ]
    },
    {
     "data": {
      "text/html": [
       "<div>\n",
       "<style scoped>\n",
       "    .dataframe tbody tr th:only-of-type {\n",
       "        vertical-align: middle;\n",
       "    }\n",
       "\n",
       "    .dataframe tbody tr th {\n",
       "        vertical-align: top;\n",
       "    }\n",
       "\n",
       "    .dataframe thead th {\n",
       "        text-align: right;\n",
       "    }\n",
       "</style>\n",
       "<table border=\"1\" class=\"dataframe\">\n",
       "  <thead>\n",
       "    <tr style=\"text-align: right;\">\n",
       "      <th></th>\n",
       "      <th>ch_0</th>\n",
       "      <th>ch_1</th>\n",
       "      <th>ch_2</th>\n",
       "      <th>ch_3</th>\n",
       "      <th>ch_4</th>\n",
       "      <th>ch_5</th>\n",
       "      <th>ch_6</th>\n",
       "      <th>ch_7</th>\n",
       "      <th>ch_8</th>\n",
       "      <th>ch_9</th>\n",
       "      <th>...</th>\n",
       "      <th>dc_8</th>\n",
       "      <th>dc_9</th>\n",
       "      <th>dc_10</th>\n",
       "      <th>dc_11</th>\n",
       "      <th>dc_12</th>\n",
       "      <th>dc_13</th>\n",
       "      <th>dc_14</th>\n",
       "      <th>dc_15</th>\n",
       "      <th>label</th>\n",
       "      <th>lasso</th>\n",
       "    </tr>\n",
       "  </thead>\n",
       "  <tbody>\n",
       "    <tr>\n",
       "      <th>0</th>\n",
       "      <td>216057</td>\n",
       "      <td>-219361</td>\n",
       "      <td>83436.7</td>\n",
       "      <td>-14091.3</td>\n",
       "      <td>3.81096</td>\n",
       "      <td>1.98733</td>\n",
       "      <td>0.0248541</td>\n",
       "      <td>3.90362</td>\n",
       "      <td>3.83951</td>\n",
       "      <td>0.0230099</td>\n",
       "      <td>...</td>\n",
       "      <td>0</td>\n",
       "      <td>0</td>\n",
       "      <td>0</td>\n",
       "      <td>0</td>\n",
       "      <td>0</td>\n",
       "      <td>0</td>\n",
       "      <td>0</td>\n",
       "      <td>0</td>\n",
       "      <td>LiCoO2</td>\n",
       "      <td>0.0</td>\n",
       "    </tr>\n",
       "    <tr>\n",
       "      <th>1</th>\n",
       "      <td>81798</td>\n",
       "      <td>-84121.6</td>\n",
       "      <td>32386.1</td>\n",
       "      <td>-5532.19</td>\n",
       "      <td>3.80934</td>\n",
       "      <td>1.74861</td>\n",
       "      <td>3.33851</td>\n",
       "      <td>3.89844</td>\n",
       "      <td>4.11237</td>\n",
       "      <td>0.0254297</td>\n",
       "      <td>...</td>\n",
       "      <td>0</td>\n",
       "      <td>0</td>\n",
       "      <td>0</td>\n",
       "      <td>0</td>\n",
       "      <td>0</td>\n",
       "      <td>0</td>\n",
       "      <td>0</td>\n",
       "      <td>0</td>\n",
       "      <td>LiCoO2</td>\n",
       "      <td>0.0</td>\n",
       "    </tr>\n",
       "    <tr>\n",
       "      <th>2</th>\n",
       "      <td>69127.1</td>\n",
       "      <td>-71131</td>\n",
       "      <td>27396.5</td>\n",
       "      <td>-4681.17</td>\n",
       "      <td>3.80416</td>\n",
       "      <td>1.77687</td>\n",
       "      <td>0.519043</td>\n",
       "      <td>3.89746</td>\n",
       "      <td>4.08835</td>\n",
       "      <td>0.0258235</td>\n",
       "      <td>...</td>\n",
       "      <td>0</td>\n",
       "      <td>0</td>\n",
       "      <td>0</td>\n",
       "      <td>0</td>\n",
       "      <td>0</td>\n",
       "      <td>0</td>\n",
       "      <td>0</td>\n",
       "      <td>0</td>\n",
       "      <td>LiCoO2</td>\n",
       "      <td>0.0</td>\n",
       "    </tr>\n",
       "    <tr>\n",
       "      <th>3</th>\n",
       "      <td>65078.7</td>\n",
       "      <td>-66829.4</td>\n",
       "      <td>25686.4</td>\n",
       "      <td>-4379.73</td>\n",
       "      <td>3.80788</td>\n",
       "      <td>1.68394</td>\n",
       "      <td>0.325897</td>\n",
       "      <td>3.90346</td>\n",
       "      <td>3.92758</td>\n",
       "      <td>0.0277913</td>\n",
       "      <td>...</td>\n",
       "      <td>0</td>\n",
       "      <td>0</td>\n",
       "      <td>0</td>\n",
       "      <td>0</td>\n",
       "      <td>0</td>\n",
       "      <td>0</td>\n",
       "      <td>0</td>\n",
       "      <td>0</td>\n",
       "      <td>LiCoO2</td>\n",
       "      <td>0.0</td>\n",
       "    </tr>\n",
       "    <tr>\n",
       "      <th>4</th>\n",
       "      <td>97590.8</td>\n",
       "      <td>-100242</td>\n",
       "      <td>38551.1</td>\n",
       "      <td>-6579.07</td>\n",
       "      <td>3.81517</td>\n",
       "      <td>1.62222</td>\n",
       "      <td>70.7299</td>\n",
       "      <td>3.90249</td>\n",
       "      <td>3.97789</td>\n",
       "      <td>0.025399</td>\n",
       "      <td>...</td>\n",
       "      <td>0</td>\n",
       "      <td>0</td>\n",
       "      <td>0</td>\n",
       "      <td>0</td>\n",
       "      <td>0</td>\n",
       "      <td>0</td>\n",
       "      <td>0</td>\n",
       "      <td>0</td>\n",
       "      <td>LiCoO2</td>\n",
       "      <td>0.0</td>\n",
       "    </tr>\n",
       "    <tr>\n",
       "      <th>5</th>\n",
       "      <td>90553.4</td>\n",
       "      <td>-92961.5</td>\n",
       "      <td>35729.2</td>\n",
       "      <td>-6093.47</td>\n",
       "      <td>3.81388</td>\n",
       "      <td>1.62629</td>\n",
       "      <td>87.808</td>\n",
       "      <td>3.90119</td>\n",
       "      <td>4.00304</td>\n",
       "      <td>0.0259246</td>\n",
       "      <td>...</td>\n",
       "      <td>0</td>\n",
       "      <td>0</td>\n",
       "      <td>0</td>\n",
       "      <td>0</td>\n",
       "      <td>0</td>\n",
       "      <td>0</td>\n",
       "      <td>0</td>\n",
       "      <td>0</td>\n",
       "      <td>LiCoO2</td>\n",
       "      <td>0.0</td>\n",
       "    </tr>\n",
       "    <tr>\n",
       "      <th>6</th>\n",
       "      <td>83140.6</td>\n",
       "      <td>-85365.3</td>\n",
       "      <td>32813.8</td>\n",
       "      <td>-5596.76</td>\n",
       "      <td>3.81404</td>\n",
       "      <td>1.60402</td>\n",
       "      <td>0.823952</td>\n",
       "      <td>3.90394</td>\n",
       "      <td>3.94021</td>\n",
       "      <td>0.0275282</td>\n",
       "      <td>...</td>\n",
       "      <td>0</td>\n",
       "      <td>0</td>\n",
       "      <td>0</td>\n",
       "      <td>0</td>\n",
       "      <td>0</td>\n",
       "      <td>0</td>\n",
       "      <td>0</td>\n",
       "      <td>0</td>\n",
       "      <td>LiCoO2</td>\n",
       "      <td>0.0</td>\n",
       "    </tr>\n",
       "    <tr>\n",
       "      <th>7</th>\n",
       "      <td>89571.2</td>\n",
       "      <td>-92052.2</td>\n",
       "      <td>35417.5</td>\n",
       "      <td>-6046.67</td>\n",
       "      <td>3.80999</td>\n",
       "      <td>1.6505</td>\n",
       "      <td>57.4664</td>\n",
       "      <td>3.89714</td>\n",
       "      <td>3.87901</td>\n",
       "      <td>0.0252584</td>\n",
       "      <td>...</td>\n",
       "      <td>0</td>\n",
       "      <td>0</td>\n",
       "      <td>0</td>\n",
       "      <td>0</td>\n",
       "      <td>0</td>\n",
       "      <td>0</td>\n",
       "      <td>0</td>\n",
       "      <td>0</td>\n",
       "      <td>LiCoO2</td>\n",
       "      <td>0.0</td>\n",
       "    </tr>\n",
       "    <tr>\n",
       "      <th>8</th>\n",
       "      <td>79038.8</td>\n",
       "      <td>-81240.1</td>\n",
       "      <td>31259.6</td>\n",
       "      <td>-5336.77</td>\n",
       "      <td>3.80821</td>\n",
       "      <td>1.66692</td>\n",
       "      <td>7.05149</td>\n",
       "      <td>3.89908</td>\n",
       "      <td>3.84626</td>\n",
       "      <td>0.0284289</td>\n",
       "      <td>...</td>\n",
       "      <td>0</td>\n",
       "      <td>0</td>\n",
       "      <td>0</td>\n",
       "      <td>0</td>\n",
       "      <td>0</td>\n",
       "      <td>0</td>\n",
       "      <td>0</td>\n",
       "      <td>0</td>\n",
       "      <td>LiCoO2</td>\n",
       "      <td>0.0</td>\n",
       "    </tr>\n",
       "    <tr>\n",
       "      <th>9</th>\n",
       "      <td>94001.3</td>\n",
       "      <td>-96556.3</td>\n",
       "      <td>37133.1</td>\n",
       "      <td>-6336.83</td>\n",
       "      <td>3.81614</td>\n",
       "      <td>1.62057</td>\n",
       "      <td>7.76953</td>\n",
       "      <td>3.90087</td>\n",
       "      <td>3.84674</td>\n",
       "      <td>0.0249746</td>\n",
       "      <td>...</td>\n",
       "      <td>0</td>\n",
       "      <td>0</td>\n",
       "      <td>0</td>\n",
       "      <td>0</td>\n",
       "      <td>0</td>\n",
       "      <td>0</td>\n",
       "      <td>0</td>\n",
       "      <td>0</td>\n",
       "      <td>LiCoO2</td>\n",
       "      <td>0.0</td>\n",
       "    </tr>\n",
       "  </tbody>\n",
       "</table>\n",
       "<p>10 rows × 36 columns</p>\n",
       "</div>"
      ],
      "text/plain": [
       "      ch_0     ch_1     ch_2     ch_3     ch_4     ch_5       ch_6     ch_7  \\\n",
       "0   216057  -219361  83436.7 -14091.3  3.81096  1.98733  0.0248541  3.90362   \n",
       "1    81798 -84121.6  32386.1 -5532.19  3.80934  1.74861    3.33851  3.89844   \n",
       "2  69127.1   -71131  27396.5 -4681.17  3.80416  1.77687   0.519043  3.89746   \n",
       "3  65078.7 -66829.4  25686.4 -4379.73  3.80788  1.68394   0.325897  3.90346   \n",
       "4  97590.8  -100242  38551.1 -6579.07  3.81517  1.62222    70.7299  3.90249   \n",
       "5  90553.4 -92961.5  35729.2 -6093.47  3.81388  1.62629     87.808  3.90119   \n",
       "6  83140.6 -85365.3  32813.8 -5596.76  3.81404  1.60402   0.823952  3.90394   \n",
       "7  89571.2 -92052.2  35417.5 -6046.67  3.80999   1.6505    57.4664  3.89714   \n",
       "8  79038.8 -81240.1  31259.6 -5336.77  3.80821  1.66692    7.05149  3.89908   \n",
       "9  94001.3 -96556.3  37133.1 -6336.83  3.81614  1.62057    7.76953  3.90087   \n",
       "\n",
       "      ch_8       ch_9  ...  dc_8 dc_9 dc_10 dc_11 dc_12 dc_13 dc_14 dc_15  \\\n",
       "0  3.83951  0.0230099  ...     0    0     0     0     0     0     0     0   \n",
       "1  4.11237  0.0254297  ...     0    0     0     0     0     0     0     0   \n",
       "2  4.08835  0.0258235  ...     0    0     0     0     0     0     0     0   \n",
       "3  3.92758  0.0277913  ...     0    0     0     0     0     0     0     0   \n",
       "4  3.97789   0.025399  ...     0    0     0     0     0     0     0     0   \n",
       "5  4.00304  0.0259246  ...     0    0     0     0     0     0     0     0   \n",
       "6  3.94021  0.0275282  ...     0    0     0     0     0     0     0     0   \n",
       "7  3.87901  0.0252584  ...     0    0     0     0     0     0     0     0   \n",
       "8  3.84626  0.0284289  ...     0    0     0     0     0     0     0     0   \n",
       "9  3.84674  0.0249746  ...     0    0     0     0     0     0     0     0   \n",
       "\n",
       "    label lasso  \n",
       "0  LiCoO2   0.0  \n",
       "1  LiCoO2   0.0  \n",
       "2  LiCoO2   0.0  \n",
       "3  LiCoO2   0.0  \n",
       "4  LiCoO2   0.0  \n",
       "5  LiCoO2   0.0  \n",
       "6  LiCoO2   0.0  \n",
       "7  LiCoO2   0.0  \n",
       "8  LiCoO2   0.0  \n",
       "9  LiCoO2   0.0  \n",
       "\n",
       "[10 rows x 36 columns]"
      ]
     },
     "execution_count": 7,
     "metadata": {},
     "output_type": "execute_result"
    }
   ],
   "source": [
    "print (\"Shape of dataset: \",data.shape) #size of dataset\n",
    "data.head(10) #check "
   ]
  },
  {
   "cell_type": "code",
   "execution_count": 8,
   "metadata": {},
   "outputs": [
    {
     "name": "stdout",
     "output_type": "stream",
     "text": [
      "The following features were found: \n"
     ]
    },
    {
     "data": {
      "text/plain": [
       "['ch_0',\n",
       " 'ch_1',\n",
       " 'ch_2',\n",
       " 'ch_3',\n",
       " 'ch_4',\n",
       " 'ch_5',\n",
       " 'ch_6',\n",
       " 'ch_7',\n",
       " 'ch_8',\n",
       " 'ch_9',\n",
       " 'ch_10',\n",
       " 'ch_11',\n",
       " 'ch_12',\n",
       " 'ch_13',\n",
       " 'ch_14',\n",
       " 'ch_15',\n",
       " 'ch_16',\n",
       " 'names',\n",
       " 'dc_0',\n",
       " 'dc_1',\n",
       " 'dc_2',\n",
       " 'dc_3',\n",
       " 'dc_4',\n",
       " 'dc_5',\n",
       " 'dc_6',\n",
       " 'dc_7',\n",
       " 'dc_8',\n",
       " 'dc_9',\n",
       " 'dc_10',\n",
       " 'dc_11',\n",
       " 'dc_12',\n",
       " 'dc_13',\n",
       " 'dc_14',\n",
       " 'dc_15',\n",
       " 'label',\n",
       " 'lasso']"
      ]
     },
     "execution_count": 8,
     "metadata": {},
     "output_type": "execute_result"
    }
   ],
   "source": [
    "print(\"The following features were found: \") #column names \n",
    "[each for each in data]"
   ]
  },
  {
   "cell_type": "code",
   "execution_count": 9,
   "metadata": {},
   "outputs": [
    {
     "name": "stdout",
     "output_type": "stream",
     "text": [
      "There are 2 unique batteries in this dataset:  ['LiCoO2' 'LiFePO4']\n"
     ]
    }
   ],
   "source": [
    "unique = data['label'].unique()\n",
    "print (\"There are\", len(unique), \"unique batteries in this dataset: \", unique) #how many unique batteries are we looking at "
   ]
  },
  {
   "cell_type": "code",
   "execution_count": 10,
   "metadata": {},
   "outputs": [
    {
     "name": "stdout",
     "output_type": "stream",
     "text": [
      "(824, 36) (206, 36)\n"
     ]
    }
   ],
   "source": [
    "#split up data into test train set 80/20\n",
    "\n",
    "train,test = train_test_split(data, test_size=0.2, random_state=1010)\n",
    "print (train.shape, test.shape)"
   ]
  },
  {
   "cell_type": "code",
   "execution_count": 11,
   "metadata": {},
   "outputs": [],
   "source": [
    "#LASSO \n",
    "#feature selection\n",
    "train_lasso_y = train['lasso']\n",
    "train_lasso_x = train[['ch_4','ch_5','ch_7','ch_8','ch_10','ch_11','dc_4','dc_5','dc_7','dc_10','dc_11']] #all the descriptors\n",
    "test_lasso_y = test['lasso']\n",
    "test_lasso_x = test[['ch_4','ch_5','ch_7','ch_8','ch_10','ch_11','dc_4','dc_5','dc_7','dc_10','dc_11']]\n",
    "#4,5,7,8,10,11\n",
    "\n",
    "train_lasso_x_scaled  = preprocessing.normalize(train_lasso_x, norm='l1')\n",
    "test_lasso_x_scaled  = preprocessing.normalize(test_lasso_x, norm='l1')"
   ]
  },
  {
   "cell_type": "code",
   "execution_count": 12,
   "metadata": {},
   "outputs": [
    {
     "data": {
      "text/plain": [
       "array([-0.        ,  1.80409918, -0.18324826, -0.        , -0.        ,\n",
       "       -0.        , -0.        ,  1.41705721, -0.        ,  0.        ,\n",
       "        0.        ])"
      ]
     },
     "execution_count": 12,
     "metadata": {},
     "output_type": "execute_result"
    }
   ],
   "source": [
    "clf = linear_model.Lasso(alpha=0.004, tol=0.0001 ,max_iter=5000)\n",
    "#clf.fit(train_lasso_x_scaled,train_lasso_y)\n",
    "clf.fit(train_lasso_x_scaled,train_lasso_y)\n",
    "coef = clf.coef_\n",
    "\n",
    "coef\n",
    "#4,5,7,8,10,11\n",
    "#5,7,5"
   ]
  },
  {
   "cell_type": "code",
   "execution_count": 13,
   "metadata": {
    "scrolled": true
   },
   "outputs": [
    {
     "name": "stdout",
     "output_type": "stream",
     "text": [
      "(824,) (824, 3)\n"
     ]
    }
   ],
   "source": [
    "train_y = train['lasso'] #what are we predicting \n",
    "test_y = train['lasso']\n",
    "\n",
    "#train_x = train[['ch_5','ch_7','dc_5']]#,'ch_7','dc_4','dc_7']]\n",
    "#test_x = test[['ch_5','ch_7','dc_5']]#,'ch_7','dc_4','dc_7']]\n",
    "\n",
    "train_x = train[['ch_5','ch_7','dc_5']]#,'ch_7','dc_4','dc_7']]\n",
    "test_x = test[['ch_5','ch_7','dc_5']]#,'ch_7','dc_4','dc_7']]\n",
    "\n",
    "train_x_scaled  = preprocessing.normalize(train_x, norm='l1')\n",
    "test_x_scaled  = preprocessing.normalize(test_x, norm='l1')\n",
    "\n",
    "#train_x_scaled  = preprocessing.scale(train_x)\n",
    "#test_x_scaled  = preprocessing.scale(test_x)\n",
    "\n",
    "\n",
    "print (train_y.shape, train_x.shape) #y should by (datapoints,), x should by (datapoints,descriptors)\n",
    "\n",
    "#break down unique batteris in test.train split "
   ]
  },
  {
   "cell_type": "code",
   "execution_count": 14,
   "metadata": {},
   "outputs": [],
   "source": [
    "#Fit to a logistic Regressor \n",
    "######\n",
    "#lin = linear_model.LogisticRegression()\n",
    "#lin.fit(train_x_scaled,train_y)\n",
    "#coef = lin.coef_\n",
    "#c0,c1,c2,c3,c5,c6,d1,d2,d3,d4,d6\n",
    "#coef\n",
    "\n",
    "#trainpred=lin.predict(train_x) #predict train data \n",
    "#testpred=lin.predict(test_x) "
   ]
  },
  {
   "cell_type": "markdown",
   "metadata": {},
   "source": [
    "clf = NearestCentroid()\n",
    "clf = NearestNeighbors(n_neighbors=2, algorithm='ball_tree').fit(train_x_scaled)"
   ]
  },
  {
   "cell_type": "markdown",
   "metadata": {},
   "source": [
    "clf = RandomForestClassifier(max_depth=2, random_state=0)\n",
    "clf.fit(train_x_scaled, train_y)\n",
    "testpred=clf.predict(train_x_scaled)\n",
    "trainpred=clf.predict(train_x_scaled)"
   ]
  },
  {
   "cell_type": "code",
   "execution_count": 15,
   "metadata": {},
   "outputs": [],
   "source": [
    "nu_svc  = svm.NuSVC(kernel='linear').fit(train_x,train_y)\n",
    "lin_svc = svm.LinearSVC().fit(train_x, train_y)"
   ]
  },
  {
   "cell_type": "code",
   "execution_count": 29,
   "metadata": {},
   "outputs": [],
   "source": [
    "#Support Vector Machine \n",
    "#-->Chosen under the assumption that eventually more batteries will be added with highly dimensional features that \n",
    "# can not be seperated by simple linear or logistic regression models \n",
    "\n",
    "clf = svm.SVC(kernel='linear') #initiate SVM \n",
    "fit = clf.fit(train_x_scaled, train_y) #fit to training data\n",
    "trainpred=clf.predict(train_x_scaled) #predict train data \n",
    "testpred=clf.predict(test_x_scaled)\n"
   ]
  },
  {
   "cell_type": "code",
   "execution_count": 30,
   "metadata": {},
   "outputs": [],
   "source": [
    "trainpred=lin_svc.predict(train_x_scaled) #predict train data \n",
    "testpred=lin_svc.predict(test_x_scaled)"
   ]
  },
  {
   "cell_type": "code",
   "execution_count": 31,
   "metadata": {},
   "outputs": [],
   "source": [
    "def accuracy(test_df,pred_df):\n",
    "    \"\"\"Calculates the amount of data classified correctly\"\"\"\n",
    "    #Input for test_y should be the test dataframe (ex -- see below)\n",
    "    N= len(pred_df)\n",
    "    #print (N) \n",
    "    #print(test_df.names.size)\n",
    "    #print(pred_df.size)\n",
    "    compare = np.array([test_df.label, pred_df]).reshape(N,2)\n",
    "    asses = pd.DataFrame (compare, columns = ['actual','predicted'])\n",
    "    count = 0\n",
    "    correct = 0\n",
    "    for i in range(len(asses)):\n",
    "        if asses.loc[i,('actual')] == asses.loc[i, ('predicted')]:\n",
    "            correct += 1 \n",
    "            count += 1 \n",
    "            asses.loc[i, ('correct')] = 1\n",
    "        else: \n",
    "            count += 1\n",
    "            asses.loc[i, ('correct')] = 0\n",
    "    return (1-correct/count)*100, asses"
   ]
  },
  {
   "cell_type": "code",
   "execution_count": 32,
   "metadata": {},
   "outputs": [
    {
     "name": "stdout",
     "output_type": "stream",
     "text": [
      "Testing error:  20.39 %\n",
      "Training error:  24.03 %\n"
     ]
    }
   ],
   "source": [
    "test_error, test_df,  = accuracy(test,testpred)\n",
    "train_error, train_df,  = accuracy(train,trainpred)\n",
    "print (\"Testing error: \",\"%.2f\" %test_error,\"%\")\n",
    "print (\"Training error: \",\"%.2f\" %train_error,\"%\")"
   ]
  },
  {
   "cell_type": "code",
   "execution_count": null,
   "metadata": {},
   "outputs": [],
   "source": [
    "train_x\n",
    "train_y = train['Label']"
   ]
  },
  {
   "cell_type": "code",
   "execution_count": null,
   "metadata": {},
   "outputs": [],
   "source": [
    "pd_train_y = pd.DataFrame(train['label'])\n",
    "frames = [train_x,pd_train_y]\n",
    "datatot = pd.concat(frames, axis=1, ignore_index = True)\n",
    "datatot.columns = 'ch_5', 'ch_7','dc_5', 'Label'\n",
    "datatot.head()"
   ]
  },
  {
   "cell_type": "code",
   "execution_count": null,
   "metadata": {},
   "outputs": [],
   "source": [
    "#fgframe = plt.figure(figsize=(5,5), facecolor='w', edgecolor='k')\n",
    "#fg = sns.FacetGrid(data, hue='label', size = 15, palette = 'cool')\n",
    "#fg.map(plt.scatter, 'dc_7','ch_4').add_legend()\n"
   ]
  },
  {
   "cell_type": "code",
   "execution_count": null,
   "metadata": {},
   "outputs": [],
   "source": [
    "from mpl_toolkits.mplot3d import Axes3D\n",
    "import matplotlib.pyplot as plt\n",
    "import numpy as np\n",
    "import pylab as pl"
   ]
  },
  {
   "cell_type": "code",
   "execution_count": null,
   "metadata": {},
   "outputs": [],
   "source": [
    "plt.rcParams.update({'font.size':12})\n",
    "\n",
    "colors = ['red', 'blue']\n",
    "datatot = datatot.reset_index(drop = True)\n",
    "for i in range(len(datatot)):\n",
    "    if datatot.loc[i, ('Label')] == 'LiCoO2':\n",
    "        datatot.loc[i, ('Color')] = 'r'\n",
    "    elif datatot.loc[i, ('Label')] == 'LiFePO4':\n",
    "        datatot.loc[i, ('Color')] = 'b'\n",
    "    else: \n",
    "        datatot.loc[i, ('Color')] = 'g'\n",
    "#plt.scatter([datatot['ch_7'], datatot['dc_5'], datatot['ch_5'], c = datatot['Color'])\n",
    "datatot.head()\n",
    "             \n",
    "fig = plt.figure(figsize=(15,9))\n",
    "ax = fig.add_subplot(111)#, projection='3d')\n",
    "ax.scatter(datatot['ch_5'], datatot['ch_7'], c = datatot['Color'])\n",
    "#ax.set_xlabel('Second Peak in Charge Cycle ($Ah/V$)') #ch7\n",
    "ax.set_xlabel('First Peak in Charge Cycle ($Ah/V$)')\n",
    "ax.set_ylabel('Second Peak in Charge Cycle ($Ah/V$)')"
   ]
  },
  {
   "cell_type": "code",
   "execution_count": null,
   "metadata": {},
   "outputs": [],
   "source": [
    "datatot.head()\n",
    "datatot = datatot.reset_index(drop = True)\n",
    "datatot.head()"
   ]
  },
  {
   "cell_type": "code",
   "execution_count": null,
   "metadata": {},
   "outputs": [],
   "source": [
    "pd_train_y = pd.DataFrame(train_y)\n",
    "pd_train_y = pd_train_y.reset_index(drop = True)\n",
    "#pd_train_y['label']"
   ]
  },
  {
   "cell_type": "code",
   "execution_count": null,
   "metadata": {},
   "outputs": [],
   "source": [
    "for i in range(len(pd_train_y)):\n",
    "    #print (i)\n",
    "    if pd_train_y.loc[i,('label')] == 'LiCoO2':\n",
    "        pd_train_y.loc[i,('num')] = 0\n",
    "    else:\n",
    "        pd_train_y.loc[i,('num')] = 1  "
   ]
  },
  {
   "cell_type": "code",
   "execution_count": null,
   "metadata": {},
   "outputs": [],
   "source": [
    "#print(train_y.head())\n",
    "print (pd_train_y.tail())\n",
    "train_x[['ch_5','dc_5']].head()\n",
    "#pd_train_y['num']"
   ]
  },
  {
   "cell_type": "code",
   "execution_count": null,
   "metadata": {},
   "outputs": [],
   "source": [
    "# import some data to play with\n",
    "#iris = datasets.load_iris()\n",
    "X = train_x[['ch_5','dc_5']] # we only take the first two features. We could\n",
    "                     # avoid this ugly slicing by using a two-dim dataset\n",
    "Y = pd_train_y['num']\n",
    "\n",
    "h=.02 # step size in the mesh\n",
    "\n",
    "# we create an instance of SVM and fit out data. We do not scale our\n",
    "# data since we want to plot the support vectors\n",
    "#svc     = svm.SVC(kernel='linear').fit(X, Y)\n",
    "#rbf_svc = svm.SVC(kernel='poly').fit(X, Y)\n",
    "#nu_svc  = svm.NuSVC(kernel='linear').fit(X,Y)\n",
    "#lin_svc = svm.LinearSVC().fit(X, Y)\n",
    "\n",
    "# create a mesh to plot in\n",
    "x_min, x_max = X.min()-1, X.max()+1\n",
    "y_min, y_max = X.min()-1, X.max()+1\n",
    "\n",
    "X.min()[0:3].shape"
   ]
  },
  {
   "cell_type": "code",
   "execution_count": null,
   "metadata": {},
   "outputs": [],
   "source": [
    "# import some data to play with\n",
    "#iris = datasets.load_iris\n",
    "\n",
    "h=.02 # step size in the mesh\n",
    "\n",
    "# we create an instance of SVM and fit out data. We do not scale our\n",
    "# data since we want to plot the support vectors\n",
    "#clf = svm.SVC(kernel='poly', degree = 4) #initiate SVM \n",
    "svm = clf.fit(train_x_scaled, train_y) #fit to training data\n",
    "trainpred=clf.predict(train_x_scaled) #predict train data \n",
    "testpred=clf.predict(test_x_scaled)\n",
    "\n",
    "# create a mesh to plot in\n",
    "x_min, x_max = X.min()[0:1]-1, X.max()[0:1]+1\n",
    "y_min, y_max = X.min()[1:2]-1, X.max()[1:2]+1\n",
    "xx, yy = np.meshgrid(np.arange(x_min[0], x_max[0], h),np.arange(y_min[0], y_max[0], h))\n",
    "\n",
    "# title for the plots\n",
    "#titles = ['SVC with linear kernel',\n",
    "         # 'SVC with polynomial (degree 3) kernel',\n",
    "         # 'NuSVC with linear kernel',\n",
    "         # 'LinearSVC (linear kernel)']\n",
    "\n",
    "\n",
    "#pl.set_cmap(pl.cm.Paired)\n",
    "\n",
    "#for i, clf in enumerate((svc, rbf_svc, nu_svc, lin_svc)):\n",
    "    # Plot the decision boundary. For that, we will asign a color to each\n",
    "    # point in the mesh [x_min, m_max]x[y_min, y_max].\n",
    "pl.set_cmap(pl.cm.Paired)\n",
    "#pl.subplot(2, 2, i+1)\n",
    "Z = clf.predict(np.c_[xx.ravel(), yy.ravel()])\n",
    "#trainpred=clf.predict(train_x_scaled) #predict train data \n",
    "#testpred=clf.predict(test_x_scaled)\n",
    "\n",
    "    # Put the result into a color plot\n",
    "Z = Z.reshape(xx.shape)\n",
    "plt.contourf(xx, yy, Z, cmap='coolwarm')\n",
    "pl.axis('tight')\n",
    "\n",
    "    # Plot also the training points\n",
    "colors = ['red', 'blue']\n",
    "\n",
    "\n",
    "for i in range(len(datatot)):\n",
    "    if datatot.loc[i, ('Label')] == 'LiCoO2':\n",
    "        datatot.loc[i, ('Color')] = 'r'\n",
    "    elif datatot.loc[i, ('Label')] == 'LiFePO4':\n",
    "        datatot.loc[i, ('Color')] = 'b'\n",
    "    else: \n",
    "        datatot.loc[i, ('Color')] = 'g'\n",
    "plt.scatter(train_x_scaled['ch_5'], train_x_scaled['dc_5'], c = datatot['Color'])\n",
    "#plt.scatter(X['ch_5'], X['dc_5'], c='red')\n",
    "\n",
    "#plt.title(titles[i])\n",
    "\n",
    "plt.axis('tight')\n",
    "plt.show()"
   ]
  },
  {
   "cell_type": "code",
   "execution_count": null,
   "metadata": {},
   "outputs": [],
   "source": []
  }
 ],
 "metadata": {
  "kernelspec": {
   "display_name": "Python 3",
   "language": "python",
   "name": "python3"
  },
  "language_info": {
   "codemirror_mode": {
    "name": "ipython",
    "version": 3
   },
   "file_extension": ".py",
   "mimetype": "text/x-python",
   "name": "python",
   "nbconvert_exporter": "python",
   "pygments_lexer": "ipython3",
   "version": "3.6.4"
  }
 },
 "nbformat": 4,
 "nbformat_minor": 2
}
