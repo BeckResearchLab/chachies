{
 "cells": [
  {
   "cell_type": "code",
   "execution_count": 21,
   "metadata": {
    "collapsed": true
   },
   "outputs": [],
   "source": [
    "import chachifuncs\n",
    "#import unittest"
   ]
  },
  {
   "cell_type": "code",
   "execution_count": 22,
   "metadata": {},
   "outputs": [],
   "source": [
    "#class ChachifuncsTestCase(unittest.TestCase):\n",
    "\"\"\"Unit tests for the data cleaning script chachifuncs\"\"\"\n",
    "\"\"\"script: python -m unittest test_chachifuncs.py or python test_chachifuncs.py\"\"\"\n",
    "    \n",
    "def test_get_all_data():\n",
    "    return \n",
    "    \"There better be Excel files in this directory\"\n",
    "        \n",
    "    ###unit test goes here\n",
    "    #return\n",
    "\n",
    "\n",
    "\n",
    "def test_load_sep_cycles():\n",
    "    ###unit test goes here\n",
    "    return\n",
    "\n",
    "def test_clean_calc_sep_smooth():\n",
    "    ###unit test goes here\n",
    "    return\n",
    "\n",
    "def test_get_clean_cycles():\n",
    "    ###unit test goes here\n",
    "    return    \n",
    "\n",
    "def test_get_clean_sets():\n",
    "    ###unit test goes here\n",
    "    return\n",
    "\n",
    "def test_get_data():\n",
    "    ###unit test goes here\n",
    "    return\n",
    "\n",
    "def test_sep_cycles():\n",
    "    ###unit test goes here\n",
    "    return\n",
    "\n",
    "def test_calc_dv_dqdv():\n",
    "    ###unit test goes here\n",
    "    return\n",
    "\n",
    "def test_drop_0_dv():\n",
    "    ###unit test goes here\n",
    "    return None\n",
    "\n",
    "def test_sep_char_dis():\n",
    "    ###unit test goes here\n",
    "    return None\n",
    "\n",
    "def test_my_savgolay():\n",
    "    assert chachifuncs.my_savgolay()\n",
    "\n",
    "    ###unit test goes here\n",
    "    return None\n",
    "\n",
    "#if __name__ = '__main__':\n",
    "#    unittest.main()"
   ]
  },
  {
   "cell_type": "code",
   "execution_count": 25,
   "metadata": {},
   "outputs": [],
   "source": [
    "%%bash\n",
    "#python -m unittest test_chachifuncs.py\n",
    "python test_chachifuncs.py"
   ]
  }
 ],
 "metadata": {
  "kernelspec": {
   "display_name": "Python 3",
   "language": "python",
   "name": "python3"
  },
  "language_info": {
   "codemirror_mode": {
    "name": "ipython",
    "version": 3
   },
   "file_extension": ".py",
   "mimetype": "text/x-python",
   "name": "python",
   "nbconvert_exporter": "python",
   "pygments_lexer": "ipython3",
   "version": "3.6.2"
  }
 },
 "nbformat": 4,
 "nbformat_minor": 2
}
