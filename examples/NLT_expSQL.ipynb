{
 "cells": [
  {
   "cell_type": "code",
   "execution_count": 3,
   "metadata": {},
   "outputs": [],
   "source": [
    "import pandas as pd\n",
    "import pandas.io.sql as pd_sql\n",
    "import sqlite3 as sql"
   ]
  },
  {
   "cell_type": "code",
   "execution_count": null,
   "metadata": {},
   "outputs": [],
   "source": []
  },
  {
   "cell_type": "markdown",
   "metadata": {},
   "source": [
    "### Test Round"
   ]
  },
  {
   "cell_type": "code",
   "execution_count": 4,
   "metadata": {},
   "outputs": [],
   "source": [
    "mydf = pd.DataFrame({'TestData': [1, 2, 3, 4, 5, 6, 7, 8, 9], 'TestData2': ['a', 'b','c','d','e','f','g','h','i']})"
   ]
  },
  {
   "cell_type": "code",
   "execution_count": 5,
   "metadata": {},
   "outputs": [],
   "source": [
    "#create sql_master table\n",
    "con = sql.connect(\"nlt_test.db\")\n",
    "c = con.cursor()\n",
    "mydf = pd.DataFrame({'TestData': [1, 2, 3, 4, 5, 6, 7, 8, 9], 'TestData2': ['a', 'b','c','d','e','f','g','h','i']})\n",
    "mydf.to_sql('my_df', con, if_exists='replace')\n",
    "#my_df is the name of the table within the database\n",
    "\n",
    "con.close()"
   ]
  },
  {
   "cell_type": "code",
   "execution_count": 6,
   "metadata": {},
   "outputs": [],
   "source": [
    "my_df2 = pd.DataFrame({'TestData': ['new1'], 'TestData2': ['new2']})"
   ]
  },
  {
   "cell_type": "code",
   "execution_count": 7,
   "metadata": {},
   "outputs": [],
   "source": [
    "def update_database_test(df, upload_filename):\n",
    "    \"\"\"This adds a new table into the database with the name = upload_filename, and also updates the master table\"\"\"\n",
    "    if df is not None:\n",
    "        con = sql.connect(\"nlt_test.db\")\n",
    "        c = con.cursor()\n",
    "        #add df into sqlite database as table\n",
    "        df.to_sql(upload_filename, con, if_exists=\"replace\")\n",
    "        #add upload data filename in sql_master table\n",
    "        c.execute('''INSERT INTO my_df('TestData', 'TestData2') \n",
    "                     VALUES ('%s', 'Yes')\n",
    "                  ''' % upload_filename)\n",
    "        #the above part updates the master table in the data frame\n",
    "        con.commit()\n",
    "        con.close()\n",
    "        #display table in layout\n",
    "        return df.to_dict('records')\n",
    "    else:\n",
    "        return [{}]"
   ]
  },
  {
   "cell_type": "code",
   "execution_count": 8,
   "metadata": {},
   "outputs": [
    {
     "data": {
      "text/plain": [
       "[{'TestData': 'new1', 'TestData2': 'new2'}]"
      ]
     },
     "execution_count": 8,
     "metadata": {},
     "output_type": "execute_result"
    }
   ],
   "source": [
    "update_database_test(my_df2, 'NLT_test2')"
   ]
  },
  {
   "cell_type": "markdown",
   "metadata": {},
   "source": [
    "### Set up the type of database we would want"
   ]
  },
  {
   "cell_type": "code",
   "execution_count": 13,
   "metadata": {},
   "outputs": [],
   "source": [
    "#create sql_master table - this is only ran once \n",
    "con = sql.connect(\"nlt_test2.db\")\n",
    "c = con.cursor()\n",
    "mydf = pd.DataFrame({'Dataset_Name': ['example'], \n",
    "                     'Raw_Data_Prefix': ['CS2_33_8_17_10'], \n",
    "                     'Cleaned_Data_Prefix':['CS2_33_8_17_10CleanSet'], \n",
    "                     'Cleaned_Cycles_Prefix': ['CS2_33_8_17_10-Cycle'],\n",
    "                     'User_Description': ['example data CS2']})\n",
    "mydf.to_sql('master_table', con, if_exists='replace')\n",
    "#my_df is the name of the table within the database\n",
    "\n",
    "con.close()"
   ]
  },
  {
   "cell_type": "code",
   "execution_count": 51,
   "metadata": {},
   "outputs": [],
   "source": [
    "my_update_dic ={'Dataset_Name': 'example2', \n",
    "                     'Raw_Data_Prefix': 'test', \n",
    "                     'Cleaned_Data_Prefix': 'testCleanSet', \n",
    "                     'Cleaned_Cycles_Prefix': 'test-Cycle',\n",
    "                     'User_Description': 'my test battery'}"
   ]
  },
  {
   "cell_type": "code",
   "execution_count": 52,
   "metadata": {},
   "outputs": [
    {
     "data": {
      "text/plain": [
       "'example2'"
      ]
     },
     "execution_count": 52,
     "metadata": {},
     "output_type": "execute_result"
    }
   ],
   "source": [
    "my_update_dic['Dataset_Name']"
   ]
  },
  {
   "cell_type": "code",
   "execution_count": 57,
   "metadata": {},
   "outputs": [],
   "source": [
    "def update_master_table_test2(update_dic):\n",
    "    \"\"\"This updates the master table in the database based off of the information in the update dictionary\"\"\"\n",
    "    if update_dic is not None:\n",
    "        con = sql.connect(\"nlt_test2.db\")\n",
    "        c = con.cursor()\n",
    "        #add upload data filename in sql_master table\n",
    "        c.execute('''INSERT INTO master_table('Dataset_Name', 'Raw_Data_Prefix','Cleaned_Data_Prefix', 'Cleaned_Cycles_Prefix', 'User_Description') \n",
    "                     VALUES ('%s', '%s', '%s', '%s', '%s')\n",
    "                  ''' % (update_dic['Dataset_Name'], update_dic['Raw_Data_Prefix'], update_dic['Cleaned_Data_Prefix'], update_dic['Cleaned_Cycles_Prefix'], update_dic['User_Description']))\n",
    "        #the above part updates the master table in the data frame\n",
    "        con.commit()\n",
    "        con.close()\n",
    "        #display table in layout\n",
    "        return \n",
    "    else:\n",
    "        return [{}]"
   ]
  },
  {
   "cell_type": "code",
   "execution_count": 59,
   "metadata": {},
   "outputs": [],
   "source": [
    "update_master_table_test2(my_update_dic)"
   ]
  },
  {
   "cell_type": "code",
   "execution_count": 62,
   "metadata": {},
   "outputs": [],
   "source": [
    "def update_database_newtable(df, upload_filename):\n",
    "\n",
    "    #add df into sqlite database as table\n",
    "    con = sql.connect(\"nlt_test2.db\")\n",
    "    c = con.cursor()\n",
    "    df.to_sql(upload_filename, con, if_exists=\"replace\")\n",
    "    return"
   ]
  },
  {
   "cell_type": "code",
   "execution_count": 68,
   "metadata": {},
   "outputs": [],
   "source": [
    "test_df = pd.read_excel('../chachies/data/example_files/Raw_Data_Examples/CS2_33_10_04_10.xlsx', 1)"
   ]
  },
  {
   "cell_type": "code",
   "execution_count": 69,
   "metadata": {},
   "outputs": [
    {
     "data": {
      "text/html": [
       "<div>\n",
       "<style scoped>\n",
       "    .dataframe tbody tr th:only-of-type {\n",
       "        vertical-align: middle;\n",
       "    }\n",
       "\n",
       "    .dataframe tbody tr th {\n",
       "        vertical-align: top;\n",
       "    }\n",
       "\n",
       "    .dataframe thead th {\n",
       "        text-align: right;\n",
       "    }\n",
       "</style>\n",
       "<table border=\"1\" class=\"dataframe\">\n",
       "  <thead>\n",
       "    <tr style=\"text-align: right;\">\n",
       "      <th></th>\n",
       "      <th>Data_Point</th>\n",
       "      <th>Test_Time(s)</th>\n",
       "      <th>Date_Time</th>\n",
       "      <th>Step_Time(s)</th>\n",
       "      <th>Step_Index</th>\n",
       "      <th>Cycle_Index</th>\n",
       "      <th>Current(A)</th>\n",
       "      <th>Voltage(V)</th>\n",
       "      <th>Charge_Capacity(Ah)</th>\n",
       "      <th>Discharge_Capacity(Ah)</th>\n",
       "      <th>Charge_Energy(Wh)</th>\n",
       "      <th>Discharge_Energy(Wh)</th>\n",
       "      <th>dV/dt(V/s)</th>\n",
       "      <th>Internal_Resistance(Ohm)</th>\n",
       "      <th>Is_FC_Data</th>\n",
       "      <th>AC_Impedance(Ohm)</th>\n",
       "      <th>ACI_Phase_Angle(Deg)</th>\n",
       "    </tr>\n",
       "  </thead>\n",
       "  <tbody>\n",
       "    <tr>\n",
       "      <th>0</th>\n",
       "      <td>1</td>\n",
       "      <td>30.000116</td>\n",
       "      <td>2010-09-27 14:12:48</td>\n",
       "      <td>30.000117</td>\n",
       "      <td>1</td>\n",
       "      <td>1</td>\n",
       "      <td>0.000000</td>\n",
       "      <td>3.451826</td>\n",
       "      <td>0.000000</td>\n",
       "      <td>0.0</td>\n",
       "      <td>0.000000</td>\n",
       "      <td>0.0</td>\n",
       "      <td>-0.000032</td>\n",
       "      <td>0.0</td>\n",
       "      <td>0</td>\n",
       "      <td>0</td>\n",
       "      <td>0</td>\n",
       "    </tr>\n",
       "    <tr>\n",
       "      <th>1</th>\n",
       "      <td>2</td>\n",
       "      <td>60.015409</td>\n",
       "      <td>2010-09-27 14:13:18</td>\n",
       "      <td>60.015410</td>\n",
       "      <td>1</td>\n",
       "      <td>1</td>\n",
       "      <td>0.000000</td>\n",
       "      <td>3.451826</td>\n",
       "      <td>0.000000</td>\n",
       "      <td>0.0</td>\n",
       "      <td>0.000000</td>\n",
       "      <td>0.0</td>\n",
       "      <td>0.000000</td>\n",
       "      <td>0.0</td>\n",
       "      <td>0</td>\n",
       "      <td>0</td>\n",
       "      <td>0</td>\n",
       "    </tr>\n",
       "    <tr>\n",
       "      <th>2</th>\n",
       "      <td>3</td>\n",
       "      <td>90.030676</td>\n",
       "      <td>2010-09-27 14:13:48</td>\n",
       "      <td>90.030677</td>\n",
       "      <td>1</td>\n",
       "      <td>1</td>\n",
       "      <td>0.000000</td>\n",
       "      <td>3.451988</td>\n",
       "      <td>0.000000</td>\n",
       "      <td>0.0</td>\n",
       "      <td>0.000000</td>\n",
       "      <td>0.0</td>\n",
       "      <td>0.000000</td>\n",
       "      <td>0.0</td>\n",
       "      <td>0</td>\n",
       "      <td>0</td>\n",
       "      <td>0</td>\n",
       "    </tr>\n",
       "    <tr>\n",
       "      <th>3</th>\n",
       "      <td>4</td>\n",
       "      <td>120.014848</td>\n",
       "      <td>2010-09-27 14:14:18</td>\n",
       "      <td>120.014848</td>\n",
       "      <td>1</td>\n",
       "      <td>1</td>\n",
       "      <td>0.000000</td>\n",
       "      <td>3.451826</td>\n",
       "      <td>0.000000</td>\n",
       "      <td>0.0</td>\n",
       "      <td>0.000000</td>\n",
       "      <td>0.0</td>\n",
       "      <td>-0.000032</td>\n",
       "      <td>0.0</td>\n",
       "      <td>0</td>\n",
       "      <td>0</td>\n",
       "      <td>0</td>\n",
       "    </tr>\n",
       "    <tr>\n",
       "      <th>4</th>\n",
       "      <td>5</td>\n",
       "      <td>150.030659</td>\n",
       "      <td>2010-09-27 14:14:48</td>\n",
       "      <td>30.015332</td>\n",
       "      <td>2</td>\n",
       "      <td>1</td>\n",
       "      <td>0.550025</td>\n",
       "      <td>3.584821</td>\n",
       "      <td>0.004585</td>\n",
       "      <td>0.0</td>\n",
       "      <td>0.016314</td>\n",
       "      <td>0.0</td>\n",
       "      <td>0.001264</td>\n",
       "      <td>0.0</td>\n",
       "      <td>0</td>\n",
       "      <td>0</td>\n",
       "      <td>0</td>\n",
       "    </tr>\n",
       "  </tbody>\n",
       "</table>\n",
       "</div>"
      ],
      "text/plain": [
       "   Data_Point  Test_Time(s)           Date_Time  Step_Time(s)  Step_Index  \\\n",
       "0           1     30.000116 2010-09-27 14:12:48     30.000117           1   \n",
       "1           2     60.015409 2010-09-27 14:13:18     60.015410           1   \n",
       "2           3     90.030676 2010-09-27 14:13:48     90.030677           1   \n",
       "3           4    120.014848 2010-09-27 14:14:18    120.014848           1   \n",
       "4           5    150.030659 2010-09-27 14:14:48     30.015332           2   \n",
       "\n",
       "   Cycle_Index  Current(A)  Voltage(V)  Charge_Capacity(Ah)  \\\n",
       "0            1    0.000000    3.451826             0.000000   \n",
       "1            1    0.000000    3.451826             0.000000   \n",
       "2            1    0.000000    3.451988             0.000000   \n",
       "3            1    0.000000    3.451826             0.000000   \n",
       "4            1    0.550025    3.584821             0.004585   \n",
       "\n",
       "   Discharge_Capacity(Ah)  Charge_Energy(Wh)  Discharge_Energy(Wh)  \\\n",
       "0                     0.0           0.000000                   0.0   \n",
       "1                     0.0           0.000000                   0.0   \n",
       "2                     0.0           0.000000                   0.0   \n",
       "3                     0.0           0.000000                   0.0   \n",
       "4                     0.0           0.016314                   0.0   \n",
       "\n",
       "   dV/dt(V/s)  Internal_Resistance(Ohm)  Is_FC_Data  AC_Impedance(Ohm)  \\\n",
       "0   -0.000032                       0.0           0                  0   \n",
       "1    0.000000                       0.0           0                  0   \n",
       "2    0.000000                       0.0           0                  0   \n",
       "3   -0.000032                       0.0           0                  0   \n",
       "4    0.001264                       0.0           0                  0   \n",
       "\n",
       "   ACI_Phase_Angle(Deg)  \n",
       "0                     0  \n",
       "1                     0  \n",
       "2                     0  \n",
       "3                     0  \n",
       "4                     0  "
      ]
     },
     "execution_count": 69,
     "metadata": {},
     "output_type": "execute_result"
    }
   ],
   "source": [
    "test_df.head()"
   ]
  },
  {
   "cell_type": "code",
   "execution_count": 70,
   "metadata": {},
   "outputs": [],
   "source": [
    "update_database_newtable(test_df, 'CS2_33_10_04_10')"
   ]
  },
  {
   "cell_type": "code",
   "execution_count": null,
   "metadata": {},
   "outputs": [],
   "source": []
  }
 ],
 "metadata": {
  "kernelspec": {
   "display_name": "Python 3",
   "language": "python",
   "name": "python3"
  },
  "language_info": {
   "codemirror_mode": {
    "name": "ipython",
    "version": 3
   },
   "file_extension": ".py",
   "mimetype": "text/x-python",
   "name": "python",
   "nbconvert_exporter": "python",
   "pygments_lexer": "ipython3",
   "version": "3.6.3"
  }
 },
 "nbformat": 4,
 "nbformat_minor": 2
}
